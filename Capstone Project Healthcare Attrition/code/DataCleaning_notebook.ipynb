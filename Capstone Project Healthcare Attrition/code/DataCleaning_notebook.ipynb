{
 "cells": [
  {
   "cell_type": "markdown",
   "id": "71d373b4-cc52-403a-bdbf-a6f846931384",
   "metadata": {
    "id": "71d373b4-cc52-403a-bdbf-a6f846931384"
   },
   "source": [
    "![Medical Match company logo](MedicalMatch.svg)\n",
    "\n",
    "### Problem Statement\n",
    "\n",
    "**Business Context**:\n",
    "\n",
    "RN turnover costs a hospital 56k per nurse. The avgerage annual cost of RN turnover is 4.8M per hospital. For every 20 travel RNs eliminated, the avg hospital can save 2M.\n",
    "\n",
    "MedicalMatch is a medtech startup committed to revolutionizing healthcare staffing. As data scientist on their product solutions team, I am tasked with analyzing healthcare employee attrition data to quantify its financial impact on hospitals and clinics. This analysis will enable the marketing team to craft targeted campaigns promoting MedicalMatch’s innovative staffing solutions.\n",
    "\n",
    "\n",
    "---\n",
    "\n",
    "\n",
    "### Data Dictionary:\n",
    "\n",
    "| Feature                     | Type     | Description                                              |\n",
    "|-----------------------------|----------|----------------------------------------------------------|\n",
    "| **age**                     | *int64*  | 1: >30, 2: 30-34, 3: 35-39, 4: 40-44, 5: 45-49, 6: 50-54, 7: 55-59, 8: 60-64, 9: 65|\n",
    "| **attrition**               | *int64*  | Did the employee leave the hospital 0: No, 1: Yes       |\n",
    "| **distancefromhome**        | *int64*  | Distance from home in minutes                            |\n",
    "| **education**               | *int64*  | 1: High School/GED, 2: Trade/Associate, 3: Bachelor, 4: Master, 5: Doctorate |\n",
    "| **environmentalsatisfaction** | *int64* | 1: Low, 2: Medium, 3: High, 4: Very High                |\n",
    "| **gender**                  | *ogject*  | Female,  Male                                      |\n",
    "| **hourlyrate**              | *float64*| Hourly pay per US BLS May 2024                          |\n",
    "| **jobinvolvement**          | *int64*  | 1: Low, 2: Medium, 3: High, 4: Very High                |\n",
    "| **jobrole**                 | *object* | Current job title                                       |\n",
    "| **jobsatisfaction**         | *int64*  | 1: Low, 2: Medium, 3: High, 4: Very High                |\n",
    "| **maritalstatus**           | *object* | Single, Married, Divorced                               |\n",
    "| **monthlyincome**           | *float64*| Monthly pay per US BLS May 2024                         |\n",
    "| **numcompaniesworked**      | *int64*  | Number of previous jobs                                 |\n",
    "| **overtime**                | *int64*  | Did employee work overtime: No: 0, Yes: 1              |\n",
    "| **percentsalaryhike**       | *int64*  | Percent of raise                                        |\n",
    "| **performancerating**       | *int64*  | 1: Poor, 2: Good, 3: Excellent, 4: Outstanding          |\n",
    "| **relationshipsatisfaction**| *int64*  | 1: Low, 2: Medium, 3: High, 4: Very High                |\n",
    "| **shift**                   | *int64*  | Current shift. 1: 12 hr day, 2: 12 hr night, 3: 8 hr day, 4: 8 hr evening |\n",
    "| **totalworkingyears**       | *int64*  | How many years employee has worked                      |\n",
    "| **trainingtimeslastyear**   | *int64*  | How many training events employee had last year          |\n",
    "| **worklifebalance**         | *int64*  | 1: Poor, 2: Moderate, 3: Good, 4: Excellent            |\n",
    "| **yearsatcompany**          | *int64*  | Total years at current company                          |\n",
    "| **yearsincurrentrole**      | *int64*  | Total years in current role                             |\n",
    "| **yearssincelastpromotion** | *int64*  | Length of time in years since last promotion            |\n",
    "| **yearswithcurrmanager**    | *int64*  | How long employee has been with the same manager        |\n",
    "\n",
    "\n",
    "\n",
    "\n",
    "#### Project Datasets\n",
    "\n",
    "Synthetic data taken from:\n",
    "- https://excelbianalytics.com/wp/downloads-21-sample-csv-files-data-sets-for-testing-till-5-million-records-hr-analytics-for-attrition/ and modified to be applicable to hospital attrition"
   ]
  },
  {
   "cell_type": "code",
   "execution_count": 1,
   "id": "ZJTPYy51JB4K",
   "metadata": {
    "executionInfo": {
     "elapsed": 2338,
     "status": "ok",
     "timestamp": 1716248837504,
     "user": {
      "displayName": "Tanya Seegmiller",
      "userId": "09396795393408040669"
     },
     "user_tz": 360
    },
    "id": "ZJTPYy51JB4K"
   },
   "outputs": [],
   "source": [
    "import numpy as np\n",
    "import pandas as pd\n",
    "import matplotlib.pyplot as plt\n",
    "import seaborn as sns\n",
    "import random"
   ]
  },
  {
   "cell_type": "code",
   "execution_count": 2,
   "id": "m65Cjqzr-8dA",
   "metadata": {
    "colab": {
     "base_uri": "https://localhost:8080/"
    },
    "executionInfo": {
     "elapsed": 52222,
     "status": "ok",
     "timestamp": 1716248889723,
     "user": {
      "displayName": "Tanya Seegmiller",
      "userId": "09396795393408040669"
     },
     "user_tz": 360
    },
    "id": "m65Cjqzr-8dA",
    "outputId": "29d284f6-0803-424d-db7b-ffcd624b6fe9"
   },
   "outputs": [
    {
     "name": "stdout",
     "output_type": "stream",
     "text": [
      "Mounted at /content/drive\n"
     ]
    }
   ],
   "source": [
    "# load drive\n",
    "from google.colab import drive\n",
    "drive.mount('/content/drive')"
   ]
  },
  {
   "cell_type": "code",
   "execution_count": 4,
   "id": "R4tp0wC1_IOE",
   "metadata": {
    "colab": {
     "base_uri": "https://localhost:8080/",
     "height": 308
    },
    "executionInfo": {
     "elapsed": 4237,
     "status": "ok",
     "timestamp": 1716248904057,
     "user": {
      "displayName": "Tanya Seegmiller",
      "userId": "09396795393408040669"
     },
     "user_tz": 360
    },
    "id": "R4tp0wC1_IOE",
    "outputId": "6bb26788-f031-496d-efe2-96fa58972949"
   },
   "outputs": [
    {
     "data": {
      "application/vnd.google.colaboratory.intrinsic+json": {
       "type": "dataframe",
       "variable_name": "health_attr"
      },
      "text/html": [
       "\n",
       "  <div id=\"df-f32db149-1d32-432d-8238-c5703fc6fd01\" class=\"colab-df-container\">\n",
       "    <div>\n",
       "<style scoped>\n",
       "    .dataframe tbody tr th:only-of-type {\n",
       "        vertical-align: middle;\n",
       "    }\n",
       "\n",
       "    .dataframe tbody tr th {\n",
       "        vertical-align: top;\n",
       "    }\n",
       "\n",
       "    .dataframe thead th {\n",
       "        text-align: right;\n",
       "    }\n",
       "</style>\n",
       "<table border=\"1\" class=\"dataframe\">\n",
       "  <thead>\n",
       "    <tr style=\"text-align: right;\">\n",
       "      <th></th>\n",
       "      <th>age</th>\n",
       "      <th>attrition</th>\n",
       "      <th>distancefromhome</th>\n",
       "      <th>education</th>\n",
       "      <th>environmentsatisfaction</th>\n",
       "      <th>gender</th>\n",
       "      <th>hourlyrate</th>\n",
       "      <th>jobinvolvement</th>\n",
       "      <th>jobrole</th>\n",
       "      <th>jobsatisfaction</th>\n",
       "      <th>...</th>\n",
       "      <th>performancerating</th>\n",
       "      <th>relationshipsatisfaction</th>\n",
       "      <th>shift</th>\n",
       "      <th>totalworkingyears</th>\n",
       "      <th>trainingtimeslastyear</th>\n",
       "      <th>worklifebalance</th>\n",
       "      <th>yearsatcompany</th>\n",
       "      <th>yearsincurrentrole</th>\n",
       "      <th>yearssincelastpromotion</th>\n",
       "      <th>yearswithcurrmanager</th>\n",
       "    </tr>\n",
       "  </thead>\n",
       "  <tbody>\n",
       "    <tr>\n",
       "      <th>0</th>\n",
       "      <td>6</td>\n",
       "      <td>0</td>\n",
       "      <td>1</td>\n",
       "      <td>5</td>\n",
       "      <td>3</td>\n",
       "      <td>Female</td>\n",
       "      <td>54.22</td>\n",
       "      <td>4</td>\n",
       "      <td>surgery RN</td>\n",
       "      <td>3</td>\n",
       "      <td>...</td>\n",
       "      <td>3</td>\n",
       "      <td>4</td>\n",
       "      <td>2</td>\n",
       "      <td>9</td>\n",
       "      <td>3</td>\n",
       "      <td>2</td>\n",
       "      <td>23</td>\n",
       "      <td>6</td>\n",
       "      <td>0</td>\n",
       "      <td>2</td>\n",
       "    </tr>\n",
       "    <tr>\n",
       "      <th>1</th>\n",
       "      <td>9</td>\n",
       "      <td>0</td>\n",
       "      <td>47</td>\n",
       "      <td>2</td>\n",
       "      <td>4</td>\n",
       "      <td>Female</td>\n",
       "      <td>16.15</td>\n",
       "      <td>3</td>\n",
       "      <td>CNA</td>\n",
       "      <td>2</td>\n",
       "      <td>...</td>\n",
       "      <td>1</td>\n",
       "      <td>4</td>\n",
       "      <td>4</td>\n",
       "      <td>5</td>\n",
       "      <td>3</td>\n",
       "      <td>4</td>\n",
       "      <td>1</td>\n",
       "      <td>1</td>\n",
       "      <td>1</td>\n",
       "      <td>1</td>\n",
       "    </tr>\n",
       "    <tr>\n",
       "      <th>2</th>\n",
       "      <td>1</td>\n",
       "      <td>0</td>\n",
       "      <td>45</td>\n",
       "      <td>2</td>\n",
       "      <td>3</td>\n",
       "      <td>Male</td>\n",
       "      <td>32.81</td>\n",
       "      <td>1</td>\n",
       "      <td>surgery tech</td>\n",
       "      <td>3</td>\n",
       "      <td>...</td>\n",
       "      <td>3</td>\n",
       "      <td>4</td>\n",
       "      <td>2</td>\n",
       "      <td>10</td>\n",
       "      <td>2</td>\n",
       "      <td>4</td>\n",
       "      <td>4</td>\n",
       "      <td>1</td>\n",
       "      <td>12</td>\n",
       "      <td>10</td>\n",
       "    </tr>\n",
       "    <tr>\n",
       "      <th>3</th>\n",
       "      <td>2</td>\n",
       "      <td>0</td>\n",
       "      <td>2</td>\n",
       "      <td>2</td>\n",
       "      <td>2</td>\n",
       "      <td>Female</td>\n",
       "      <td>39.08</td>\n",
       "      <td>3</td>\n",
       "      <td>ICU nurse</td>\n",
       "      <td>3</td>\n",
       "      <td>...</td>\n",
       "      <td>3</td>\n",
       "      <td>2</td>\n",
       "      <td>3</td>\n",
       "      <td>24</td>\n",
       "      <td>2</td>\n",
       "      <td>3</td>\n",
       "      <td>14</td>\n",
       "      <td>6</td>\n",
       "      <td>6</td>\n",
       "      <td>7</td>\n",
       "    </tr>\n",
       "    <tr>\n",
       "      <th>4</th>\n",
       "      <td>9</td>\n",
       "      <td>0</td>\n",
       "      <td>8</td>\n",
       "      <td>2</td>\n",
       "      <td>4</td>\n",
       "      <td>Male</td>\n",
       "      <td>67.04</td>\n",
       "      <td>3</td>\n",
       "      <td>ICU tech</td>\n",
       "      <td>3</td>\n",
       "      <td>...</td>\n",
       "      <td>4</td>\n",
       "      <td>3</td>\n",
       "      <td>1</td>\n",
       "      <td>15</td>\n",
       "      <td>3</td>\n",
       "      <td>4</td>\n",
       "      <td>6</td>\n",
       "      <td>3</td>\n",
       "      <td>3</td>\n",
       "      <td>7</td>\n",
       "    </tr>\n",
       "  </tbody>\n",
       "</table>\n",
       "<p>5 rows × 25 columns</p>\n",
       "</div>\n",
       "    <div class=\"colab-df-buttons\">\n",
       "\n",
       "  <div class=\"colab-df-container\">\n",
       "    <button class=\"colab-df-convert\" onclick=\"convertToInteractive('df-f32db149-1d32-432d-8238-c5703fc6fd01')\"\n",
       "            title=\"Convert this dataframe to an interactive table.\"\n",
       "            style=\"display:none;\">\n",
       "\n",
       "  <svg xmlns=\"http://www.w3.org/2000/svg\" height=\"24px\" viewBox=\"0 -960 960 960\">\n",
       "    <path d=\"M120-120v-720h720v720H120Zm60-500h600v-160H180v160Zm220 220h160v-160H400v160Zm0 220h160v-160H400v160ZM180-400h160v-160H180v160Zm440 0h160v-160H620v160ZM180-180h160v-160H180v160Zm440 0h160v-160H620v160Z\"/>\n",
       "  </svg>\n",
       "    </button>\n",
       "\n",
       "  <style>\n",
       "    .colab-df-container {\n",
       "      display:flex;\n",
       "      gap: 12px;\n",
       "    }\n",
       "\n",
       "    .colab-df-convert {\n",
       "      background-color: #E8F0FE;\n",
       "      border: none;\n",
       "      border-radius: 50%;\n",
       "      cursor: pointer;\n",
       "      display: none;\n",
       "      fill: #1967D2;\n",
       "      height: 32px;\n",
       "      padding: 0 0 0 0;\n",
       "      width: 32px;\n",
       "    }\n",
       "\n",
       "    .colab-df-convert:hover {\n",
       "      background-color: #E2EBFA;\n",
       "      box-shadow: 0px 1px 2px rgba(60, 64, 67, 0.3), 0px 1px 3px 1px rgba(60, 64, 67, 0.15);\n",
       "      fill: #174EA6;\n",
       "    }\n",
       "\n",
       "    .colab-df-buttons div {\n",
       "      margin-bottom: 4px;\n",
       "    }\n",
       "\n",
       "    [theme=dark] .colab-df-convert {\n",
       "      background-color: #3B4455;\n",
       "      fill: #D2E3FC;\n",
       "    }\n",
       "\n",
       "    [theme=dark] .colab-df-convert:hover {\n",
       "      background-color: #434B5C;\n",
       "      box-shadow: 0px 1px 3px 1px rgba(0, 0, 0, 0.15);\n",
       "      filter: drop-shadow(0px 1px 2px rgba(0, 0, 0, 0.3));\n",
       "      fill: #FFFFFF;\n",
       "    }\n",
       "  </style>\n",
       "\n",
       "    <script>\n",
       "      const buttonEl =\n",
       "        document.querySelector('#df-f32db149-1d32-432d-8238-c5703fc6fd01 button.colab-df-convert');\n",
       "      buttonEl.style.display =\n",
       "        google.colab.kernel.accessAllowed ? 'block' : 'none';\n",
       "\n",
       "      async function convertToInteractive(key) {\n",
       "        const element = document.querySelector('#df-f32db149-1d32-432d-8238-c5703fc6fd01');\n",
       "        const dataTable =\n",
       "          await google.colab.kernel.invokeFunction('convertToInteractive',\n",
       "                                                    [key], {});\n",
       "        if (!dataTable) return;\n",
       "\n",
       "        const docLinkHtml = 'Like what you see? Visit the ' +\n",
       "          '<a target=\"_blank\" href=https://colab.research.google.com/notebooks/data_table.ipynb>data table notebook</a>'\n",
       "          + ' to learn more about interactive tables.';\n",
       "        element.innerHTML = '';\n",
       "        dataTable['output_type'] = 'display_data';\n",
       "        await google.colab.output.renderOutput(dataTable, element);\n",
       "        const docLink = document.createElement('div');\n",
       "        docLink.innerHTML = docLinkHtml;\n",
       "        element.appendChild(docLink);\n",
       "      }\n",
       "    </script>\n",
       "  </div>\n",
       "\n",
       "\n",
       "<div id=\"df-0762fcd3-ce2a-4ad8-92e0-59e81b7673b4\">\n",
       "  <button class=\"colab-df-quickchart\" onclick=\"quickchart('df-0762fcd3-ce2a-4ad8-92e0-59e81b7673b4')\"\n",
       "            title=\"Suggest charts\"\n",
       "            style=\"display:none;\">\n",
       "\n",
       "<svg xmlns=\"http://www.w3.org/2000/svg\" height=\"24px\"viewBox=\"0 0 24 24\"\n",
       "     width=\"24px\">\n",
       "    <g>\n",
       "        <path d=\"M19 3H5c-1.1 0-2 .9-2 2v14c0 1.1.9 2 2 2h14c1.1 0 2-.9 2-2V5c0-1.1-.9-2-2-2zM9 17H7v-7h2v7zm4 0h-2V7h2v10zm4 0h-2v-4h2v4z\"/>\n",
       "    </g>\n",
       "</svg>\n",
       "  </button>\n",
       "\n",
       "<style>\n",
       "  .colab-df-quickchart {\n",
       "      --bg-color: #E8F0FE;\n",
       "      --fill-color: #1967D2;\n",
       "      --hover-bg-color: #E2EBFA;\n",
       "      --hover-fill-color: #174EA6;\n",
       "      --disabled-fill-color: #AAA;\n",
       "      --disabled-bg-color: #DDD;\n",
       "  }\n",
       "\n",
       "  [theme=dark] .colab-df-quickchart {\n",
       "      --bg-color: #3B4455;\n",
       "      --fill-color: #D2E3FC;\n",
       "      --hover-bg-color: #434B5C;\n",
       "      --hover-fill-color: #FFFFFF;\n",
       "      --disabled-bg-color: #3B4455;\n",
       "      --disabled-fill-color: #666;\n",
       "  }\n",
       "\n",
       "  .colab-df-quickchart {\n",
       "    background-color: var(--bg-color);\n",
       "    border: none;\n",
       "    border-radius: 50%;\n",
       "    cursor: pointer;\n",
       "    display: none;\n",
       "    fill: var(--fill-color);\n",
       "    height: 32px;\n",
       "    padding: 0;\n",
       "    width: 32px;\n",
       "  }\n",
       "\n",
       "  .colab-df-quickchart:hover {\n",
       "    background-color: var(--hover-bg-color);\n",
       "    box-shadow: 0 1px 2px rgba(60, 64, 67, 0.3), 0 1px 3px 1px rgba(60, 64, 67, 0.15);\n",
       "    fill: var(--button-hover-fill-color);\n",
       "  }\n",
       "\n",
       "  .colab-df-quickchart-complete:disabled,\n",
       "  .colab-df-quickchart-complete:disabled:hover {\n",
       "    background-color: var(--disabled-bg-color);\n",
       "    fill: var(--disabled-fill-color);\n",
       "    box-shadow: none;\n",
       "  }\n",
       "\n",
       "  .colab-df-spinner {\n",
       "    border: 2px solid var(--fill-color);\n",
       "    border-color: transparent;\n",
       "    border-bottom-color: var(--fill-color);\n",
       "    animation:\n",
       "      spin 1s steps(1) infinite;\n",
       "  }\n",
       "\n",
       "  @keyframes spin {\n",
       "    0% {\n",
       "      border-color: transparent;\n",
       "      border-bottom-color: var(--fill-color);\n",
       "      border-left-color: var(--fill-color);\n",
       "    }\n",
       "    20% {\n",
       "      border-color: transparent;\n",
       "      border-left-color: var(--fill-color);\n",
       "      border-top-color: var(--fill-color);\n",
       "    }\n",
       "    30% {\n",
       "      border-color: transparent;\n",
       "      border-left-color: var(--fill-color);\n",
       "      border-top-color: var(--fill-color);\n",
       "      border-right-color: var(--fill-color);\n",
       "    }\n",
       "    40% {\n",
       "      border-color: transparent;\n",
       "      border-right-color: var(--fill-color);\n",
       "      border-top-color: var(--fill-color);\n",
       "    }\n",
       "    60% {\n",
       "      border-color: transparent;\n",
       "      border-right-color: var(--fill-color);\n",
       "    }\n",
       "    80% {\n",
       "      border-color: transparent;\n",
       "      border-right-color: var(--fill-color);\n",
       "      border-bottom-color: var(--fill-color);\n",
       "    }\n",
       "    90% {\n",
       "      border-color: transparent;\n",
       "      border-bottom-color: var(--fill-color);\n",
       "    }\n",
       "  }\n",
       "</style>\n",
       "\n",
       "  <script>\n",
       "    async function quickchart(key) {\n",
       "      const quickchartButtonEl =\n",
       "        document.querySelector('#' + key + ' button');\n",
       "      quickchartButtonEl.disabled = true;  // To prevent multiple clicks.\n",
       "      quickchartButtonEl.classList.add('colab-df-spinner');\n",
       "      try {\n",
       "        const charts = await google.colab.kernel.invokeFunction(\n",
       "            'suggestCharts', [key], {});\n",
       "      } catch (error) {\n",
       "        console.error('Error during call to suggestCharts:', error);\n",
       "      }\n",
       "      quickchartButtonEl.classList.remove('colab-df-spinner');\n",
       "      quickchartButtonEl.classList.add('colab-df-quickchart-complete');\n",
       "    }\n",
       "    (() => {\n",
       "      let quickchartButtonEl =\n",
       "        document.querySelector('#df-0762fcd3-ce2a-4ad8-92e0-59e81b7673b4 button');\n",
       "      quickchartButtonEl.style.display =\n",
       "        google.colab.kernel.accessAllowed ? 'block' : 'none';\n",
       "    })();\n",
       "  </script>\n",
       "</div>\n",
       "\n",
       "    </div>\n",
       "  </div>\n"
      ],
      "text/plain": [
       "   age  attrition  distancefromhome  education  environmentsatisfaction  \\\n",
       "0    6          0                 1          5                        3   \n",
       "1    9          0                47          2                        4   \n",
       "2    1          0                45          2                        3   \n",
       "3    2          0                 2          2                        2   \n",
       "4    9          0                 8          2                        4   \n",
       "\n",
       "   gender  hourlyrate  jobinvolvement       jobrole  jobsatisfaction  ...  \\\n",
       "0  Female       54.22               4    surgery RN                3  ...   \n",
       "1  Female       16.15               3           CNA                2  ...   \n",
       "2    Male       32.81               1  surgery tech                3  ...   \n",
       "3  Female       39.08               3     ICU nurse                3  ...   \n",
       "4    Male       67.04               3      ICU tech                3  ...   \n",
       "\n",
       "  performancerating  relationshipsatisfaction  shift  totalworkingyears  \\\n",
       "0                 3                         4      2                  9   \n",
       "1                 1                         4      4                  5   \n",
       "2                 3                         4      2                 10   \n",
       "3                 3                         2      3                 24   \n",
       "4                 4                         3      1                 15   \n",
       "\n",
       "   trainingtimeslastyear  worklifebalance  yearsatcompany  yearsincurrentrole  \\\n",
       "0                      3                2              23                   6   \n",
       "1                      3                4               1                   1   \n",
       "2                      2                4               4                   1   \n",
       "3                      2                3              14                   6   \n",
       "4                      3                4               6                   3   \n",
       "\n",
       "   yearssincelastpromotion  yearswithcurrmanager  \n",
       "0                        0                     2  \n",
       "1                        1                     1  \n",
       "2                       12                    10  \n",
       "3                        6                     7  \n",
       "4                        3                     7  \n",
       "\n",
       "[5 rows x 25 columns]"
      ]
     },
     "execution_count": 4,
     "metadata": {},
     "output_type": "execute_result"
    }
   ],
   "source": [
    "# read in csv\n",
    "health_attr = pd.read_csv('/content/drive/MyDrive/DSML/GA_DS/Projects/Project-Capstone/medical match option/data/final-healthcare.csv')\n",
    "health_attr.head()"
   ]
  },
  {
   "cell_type": "code",
   "execution_count": null,
   "id": "4i0PJNfXRYja",
   "metadata": {
    "id": "4i0PJNfXRYja"
   },
   "outputs": [],
   "source": [
    "# drop empoyeecount column\n",
    "# this columns simply says there's 1 employee p/row of data, useless\n",
    "health_attr = health_attr.drop(columns=['employeecount'])"
   ]
  },
  {
   "cell_type": "code",
   "execution_count": null,
   "id": "EKi3vJRjUa6O",
   "metadata": {
    "id": "EKi3vJRjUa6O"
   },
   "outputs": [],
   "source": [
    "# drop joblevel column\n",
    "# NA\n",
    "health_attr = health_attr.drop(columns=['joblevel'])"
   ]
  },
  {
   "cell_type": "code",
   "execution_count": null,
   "id": "0WFSHAxmYKV2",
   "metadata": {
    "id": "0WFSHAxmYKV2"
   },
   "outputs": [],
   "source": [
    "# drop standardhours column\n",
    "# this is indicating 40 hrs p/week and all columns have the same value\n",
    "health_attr = health_attr.drop(columns=['standardhours'])"
   ]
  },
  {
   "cell_type": "code",
   "execution_count": null,
   "id": "_nGsUMB1tnya",
   "metadata": {
    "id": "_nGsUMB1tnya"
   },
   "outputs": [],
   "source": [
    "# drop stockoptionlevel column\n",
    "# not relevent to the healthcare industry\n",
    "health_attr = health_attr.drop(columns=['stockoptionlevel'])"
   ]
  },
  {
   "cell_type": "code",
   "execution_count": null,
   "id": "6T2JLWeOegQ8",
   "metadata": {
    "colab": {
     "base_uri": "https://localhost:8080/"
    },
    "executionInfo": {
     "elapsed": 283,
     "status": "ok",
     "timestamp": 1716090855669,
     "user": {
      "displayName": "Tanya Seegmiller",
      "userId": "09396795393408040669"
     },
     "user_tz": 360
    },
    "id": "6T2JLWeOegQ8",
    "outputId": "4a4293e7-75d4-441c-87e6-f5dd1f583ae2"
   },
   "outputs": [
    {
     "name": "stdout",
     "output_type": "stream",
     "text": [
      "<class 'pandas.core.frame.DataFrame'>\n",
      "RangeIndex: 60000 entries, 0 to 59999\n",
      "Data columns (total 25 columns):\n",
      " #   Column                    Non-Null Count  Dtype  \n",
      "---  ------                    --------------  -----  \n",
      " 0   age                       60000 non-null  int64  \n",
      " 1   attrition                 60000 non-null  int64  \n",
      " 2   distancefromhome          60000 non-null  int64  \n",
      " 3   education                 60000 non-null  int64  \n",
      " 4   environmentsatisfaction   60000 non-null  int64  \n",
      " 5   gender                    60000 non-null  object \n",
      " 6   hourlyrate                60000 non-null  float64\n",
      " 7   jobinvolvement            60000 non-null  int64  \n",
      " 8   jobrole                   60000 non-null  object \n",
      " 9   jobsatisfaction           60000 non-null  int64  \n",
      " 10  maritalstatus             60000 non-null  object \n",
      " 11  monthlyincome             60000 non-null  float64\n",
      " 12  numcompaniesworked        60000 non-null  int64  \n",
      " 13  overtime                  60000 non-null  int64  \n",
      " 14  percentsalaryhike         60000 non-null  int64  \n",
      " 15  performancerating         60000 non-null  int64  \n",
      " 16  relationshipsatisfaction  60000 non-null  int64  \n",
      " 17  shift                     60000 non-null  int64  \n",
      " 18  totalworkingyears         60000 non-null  int64  \n",
      " 19  trainingtimeslastyear     60000 non-null  int64  \n",
      " 20  worklifebalance           60000 non-null  int64  \n",
      " 21  yearsatcompany            60000 non-null  int64  \n",
      " 22  yearsincurrentrole        60000 non-null  int64  \n",
      " 23  yearssincelastpromotion   60000 non-null  int64  \n",
      " 24  yearswithcurrmanager      60000 non-null  int64  \n",
      "dtypes: float64(2), int64(20), object(3)\n",
      "memory usage: 11.4+ MB\n"
     ]
    }
   ],
   "source": [
    "health_attr.info()"
   ]
  },
  {
   "cell_type": "code",
   "execution_count": null,
   "id": "DOkPfsyoig5C",
   "metadata": {
    "colab": {
     "base_uri": "https://localhost:8080/"
    },
    "executionInfo": {
     "elapsed": 285,
     "status": "ok",
     "timestamp": 1716089763576,
     "user": {
      "displayName": "Tanya Seegmiller",
      "userId": "09396795393408040669"
     },
     "user_tz": 360
    },
    "id": "DOkPfsyoig5C",
    "outputId": "b7ede4d7-35cb-43cf-a9af-1614b536ef0c"
   },
   "outputs": [
    {
     "data": {
      "text/plain": [
       "gender\n",
       "Female    40470\n",
       "Male      19530\n",
       "Name: count, dtype: int64"
      ]
     },
     "execution_count": 7,
     "metadata": {},
     "output_type": "execute_result"
    }
   ],
   "source": [
    "# check gender values\n",
    "health_attr['gender'].value_counts()"
   ]
  },
  {
   "cell_type": "markdown",
   "id": "UDOxb6SNqzMt",
   "metadata": {
    "id": "UDOxb6SNqzMt"
   },
   "source": [
    "**Age Values**"
   ]
  },
  {
   "cell_type": "code",
   "execution_count": null,
   "id": "Vz2wOKm3qgji",
   "metadata": {
    "colab": {
     "base_uri": "https://localhost:8080/"
    },
    "executionInfo": {
     "elapsed": 502,
     "status": "ok",
     "timestamp": 1716168592738,
     "user": {
      "displayName": "Tanya Seegmiller",
      "userId": "09396795393408040669"
     },
     "user_tz": 360
    },
    "id": "Vz2wOKm3qgji",
    "outputId": "0c8c3189-acd8-4f67-bcff-1781ceda962f"
   },
   "outputs": [
    {
     "data": {
      "text/plain": [
       "age\n",
       "3    0.142783\n",
       "9    0.139333\n",
       "2    0.136950\n",
       "5    0.116617\n",
       "8    0.115267\n",
       "7    0.112150\n",
       "4    0.111633\n",
       "6    0.086633\n",
       "1    0.038633\n",
       "Name: proportion, dtype: float64"
      ]
     },
     "execution_count": 4,
     "metadata": {},
     "output_type": "execute_result"
    }
   ],
   "source": [
    "health_attr['age'].value_counts(normalize=True)"
   ]
  },
  {
   "cell_type": "markdown",
   "id": "7hCX3gkbQFzy",
   "metadata": {
    "id": "7hCX3gkbQFzy"
   },
   "source": [
    "**Observations:**\n",
    "These values show bias in the dataset as the highest age value is only 59 and 25.8% of all nurses are 60+ yrs old and 32% of doctors are 60+. The accurate age distribution of regustered nurses can be found here: https://bhw.hrsa.gov/data-research/access-data-tools/national-sample-survey-registered-nurses/detailed-description-rn-by-age."
   ]
  },
  {
   "cell_type": "code",
   "execution_count": null,
   "id": "PjAsSWAxc9p-",
   "metadata": {
    "id": "PjAsSWAxc9p-"
   },
   "outputs": [],
   "source": [
    "import random\n",
    "# change age values to map to grouped ages with values from 1-9\n",
    "# see updated data dictionary for the definition of each group\n",
    "\n",
    "# generate random numbers between 1 and 9 (inclusive)\n",
    "generate_random_age = lambda age: random.randint(1, 9)\n",
    "\n",
    "# apply the function to the 'age' column and save the changes back to the original column\n",
    "health_attr['age'] = health_attr['age'].apply(generate_random_age)"
   ]
  },
  {
   "cell_type": "code",
   "execution_count": 5,
   "id": "Upy5mJHndcPF",
   "metadata": {
    "colab": {
     "base_uri": "https://localhost:8080/"
    },
    "executionInfo": {
     "elapsed": 270,
     "status": "ok",
     "timestamp": 1716248916900,
     "user": {
      "displayName": "Tanya Seegmiller",
      "userId": "09396795393408040669"
     },
     "user_tz": 360
    },
    "id": "Upy5mJHndcPF",
    "outputId": "b2787658-7d37-497a-ce0f-c8430c89c507"
   },
   "outputs": [
    {
     "data": {
      "text/plain": [
       "age\n",
       "3    0.142783\n",
       "9    0.139333\n",
       "2    0.136950\n",
       "5    0.116617\n",
       "8    0.115267\n",
       "7    0.112150\n",
       "4    0.111633\n",
       "6    0.086633\n",
       "1    0.038633\n",
       "Name: proportion, dtype: float64"
      ]
     },
     "execution_count": 5,
     "metadata": {},
     "output_type": "execute_result"
    }
   ],
   "source": [
    "# this isn't perfect, but it's better\n",
    "health_attr['age'].value_counts(normalize=True)"
   ]
  },
  {
   "cell_type": "markdown",
   "id": "HN-52UMX1PT7",
   "metadata": {
    "id": "HN-52UMX1PT7"
   },
   "source": [
    "**Attrition value counts**"
   ]
  },
  {
   "cell_type": "code",
   "execution_count": null,
   "id": "_K-PAu_xemAb",
   "metadata": {
    "colab": {
     "base_uri": "https://localhost:8080/"
    },
    "executionInfo": {
     "elapsed": 153,
     "status": "ok",
     "timestamp": 1715789059385,
     "user": {
      "displayName": "Tanya Seegmiller",
      "userId": "09396795393408040669"
     },
     "user_tz": 360
    },
    "id": "_K-PAu_xemAb",
    "outputId": "4ea4b697-8fb4-4fed-8717-ddbe0781a463"
   },
   "outputs": [
    {
     "data": {
      "text/plain": [
       "attrition\n",
       "0    48000\n",
       "1    12000\n",
       "Name: count, dtype: int64"
      ]
     },
     "execution_count": 109,
     "metadata": {},
     "output_type": "execute_result"
    }
   ],
   "source": [
    "# check attrition values\n",
    "health_attr['attrition'].value_counts()"
   ]
  },
  {
   "cell_type": "code",
   "execution_count": null,
   "id": "xlRlvSqXKJlT",
   "metadata": {
    "id": "xlRlvSqXKJlT"
   },
   "outputs": [],
   "source": [
    "# make gender column binary values\n",
    "health_attr['attrition'].replace({'No': 0, 'Yes': 1}, inplace=True)"
   ]
  },
  {
   "cell_type": "code",
   "execution_count": 6,
   "id": "8qSDJyQEANEl",
   "metadata": {
    "colab": {
     "base_uri": "https://localhost:8080/",
     "height": 363
    },
    "executionInfo": {
     "elapsed": 333,
     "status": "ok",
     "timestamp": 1716248931540,
     "user": {
      "displayName": "Tanya Seegmiller",
      "userId": "09396795393408040669"
     },
     "user_tz": 360
    },
    "id": "8qSDJyQEANEl",
    "outputId": "9de853e9-e9d4-4fd4-9dd6-e3b8e5688b81"
   },
   "outputs": [
    {
     "data": {
      "application/vnd.google.colaboratory.intrinsic+json": {
       "summary": "{\n  \"name\": \"percentages\",\n  \"rows\": 9,\n  \"fields\": [\n    {\n      \"column\": \"age\",\n      \"properties\": {\n        \"dtype\": \"number\",\n        \"std\": 2,\n        \"min\": 1,\n        \"max\": 9,\n        \"num_unique_values\": 9,\n        \"samples\": [\n          8,\n          2,\n          6\n        ],\n        \"semantic_type\": \"\",\n        \"description\": \"\"\n      }\n    },\n    {\n      \"column\": 0,\n      \"properties\": {\n        \"dtype\": \"number\",\n        \"std\": 0.8203961490837838,\n        \"min\": 80.39630627164294,\n        \"max\": 83.21829163071614,\n        \"num_unique_values\": 9,\n        \"samples\": [\n          80.65355696934644,\n          81.5869538761105,\n          80.39630627164294\n        ],\n        \"semantic_type\": \"\",\n        \"description\": \"\"\n      }\n    },\n    {\n      \"column\": 1,\n      \"properties\": {\n        \"dtype\": \"number\",\n        \"std\": 0.8203961490837826,\n        \"min\": 16.781708369283866,\n        \"max\": 19.60369372835706,\n        \"num_unique_values\": 9,\n        \"samples\": [\n          19.346443030653557,\n          18.413046123889497,\n          19.60369372835706\n        ],\n        \"semantic_type\": \"\",\n        \"description\": \"\"\n      }\n    }\n  ]\n}",
       "type": "dataframe",
       "variable_name": "percentages"
      },
      "text/html": [
       "\n",
       "  <div id=\"df-eeb87556-0958-424b-86a6-fe8578f44d4e\" class=\"colab-df-container\">\n",
       "    <div>\n",
       "<style scoped>\n",
       "    .dataframe tbody tr th:only-of-type {\n",
       "        vertical-align: middle;\n",
       "    }\n",
       "\n",
       "    .dataframe tbody tr th {\n",
       "        vertical-align: top;\n",
       "    }\n",
       "\n",
       "    .dataframe thead th {\n",
       "        text-align: right;\n",
       "    }\n",
       "</style>\n",
       "<table border=\"1\" class=\"dataframe\">\n",
       "  <thead>\n",
       "    <tr style=\"text-align: right;\">\n",
       "      <th>attrition</th>\n",
       "      <th>0</th>\n",
       "      <th>1</th>\n",
       "    </tr>\n",
       "    <tr>\n",
       "      <th>age</th>\n",
       "      <th></th>\n",
       "      <th></th>\n",
       "    </tr>\n",
       "  </thead>\n",
       "  <tbody>\n",
       "    <tr>\n",
       "      <th>1</th>\n",
       "      <td>83.218292</td>\n",
       "      <td>16.781708</td>\n",
       "    </tr>\n",
       "    <tr>\n",
       "      <th>2</th>\n",
       "      <td>81.586954</td>\n",
       "      <td>18.413046</td>\n",
       "    </tr>\n",
       "    <tr>\n",
       "      <th>3</th>\n",
       "      <td>82.000700</td>\n",
       "      <td>17.999300</td>\n",
       "    </tr>\n",
       "    <tr>\n",
       "      <th>4</th>\n",
       "      <td>81.263064</td>\n",
       "      <td>18.736936</td>\n",
       "    </tr>\n",
       "    <tr>\n",
       "      <th>5</th>\n",
       "      <td>81.563527</td>\n",
       "      <td>18.436473</td>\n",
       "    </tr>\n",
       "    <tr>\n",
       "      <th>6</th>\n",
       "      <td>80.396306</td>\n",
       "      <td>19.603694</td>\n",
       "    </tr>\n",
       "    <tr>\n",
       "      <th>7</th>\n",
       "      <td>81.304800</td>\n",
       "      <td>18.695200</td>\n",
       "    </tr>\n",
       "    <tr>\n",
       "      <th>8</th>\n",
       "      <td>80.653557</td>\n",
       "      <td>19.346443</td>\n",
       "    </tr>\n",
       "    <tr>\n",
       "      <th>9</th>\n",
       "      <td>81.100478</td>\n",
       "      <td>18.899522</td>\n",
       "    </tr>\n",
       "  </tbody>\n",
       "</table>\n",
       "</div>\n",
       "    <div class=\"colab-df-buttons\">\n",
       "\n",
       "  <div class=\"colab-df-container\">\n",
       "    <button class=\"colab-df-convert\" onclick=\"convertToInteractive('df-eeb87556-0958-424b-86a6-fe8578f44d4e')\"\n",
       "            title=\"Convert this dataframe to an interactive table.\"\n",
       "            style=\"display:none;\">\n",
       "\n",
       "  <svg xmlns=\"http://www.w3.org/2000/svg\" height=\"24px\" viewBox=\"0 -960 960 960\">\n",
       "    <path d=\"M120-120v-720h720v720H120Zm60-500h600v-160H180v160Zm220 220h160v-160H400v160Zm0 220h160v-160H400v160ZM180-400h160v-160H180v160Zm440 0h160v-160H620v160ZM180-180h160v-160H180v160Zm440 0h160v-160H620v160Z\"/>\n",
       "  </svg>\n",
       "    </button>\n",
       "\n",
       "  <style>\n",
       "    .colab-df-container {\n",
       "      display:flex;\n",
       "      gap: 12px;\n",
       "    }\n",
       "\n",
       "    .colab-df-convert {\n",
       "      background-color: #E8F0FE;\n",
       "      border: none;\n",
       "      border-radius: 50%;\n",
       "      cursor: pointer;\n",
       "      display: none;\n",
       "      fill: #1967D2;\n",
       "      height: 32px;\n",
       "      padding: 0 0 0 0;\n",
       "      width: 32px;\n",
       "    }\n",
       "\n",
       "    .colab-df-convert:hover {\n",
       "      background-color: #E2EBFA;\n",
       "      box-shadow: 0px 1px 2px rgba(60, 64, 67, 0.3), 0px 1px 3px 1px rgba(60, 64, 67, 0.15);\n",
       "      fill: #174EA6;\n",
       "    }\n",
       "\n",
       "    .colab-df-buttons div {\n",
       "      margin-bottom: 4px;\n",
       "    }\n",
       "\n",
       "    [theme=dark] .colab-df-convert {\n",
       "      background-color: #3B4455;\n",
       "      fill: #D2E3FC;\n",
       "    }\n",
       "\n",
       "    [theme=dark] .colab-df-convert:hover {\n",
       "      background-color: #434B5C;\n",
       "      box-shadow: 0px 1px 3px 1px rgba(0, 0, 0, 0.15);\n",
       "      filter: drop-shadow(0px 1px 2px rgba(0, 0, 0, 0.3));\n",
       "      fill: #FFFFFF;\n",
       "    }\n",
       "  </style>\n",
       "\n",
       "    <script>\n",
       "      const buttonEl =\n",
       "        document.querySelector('#df-eeb87556-0958-424b-86a6-fe8578f44d4e button.colab-df-convert');\n",
       "      buttonEl.style.display =\n",
       "        google.colab.kernel.accessAllowed ? 'block' : 'none';\n",
       "\n",
       "      async function convertToInteractive(key) {\n",
       "        const element = document.querySelector('#df-eeb87556-0958-424b-86a6-fe8578f44d4e');\n",
       "        const dataTable =\n",
       "          await google.colab.kernel.invokeFunction('convertToInteractive',\n",
       "                                                    [key], {});\n",
       "        if (!dataTable) return;\n",
       "\n",
       "        const docLinkHtml = 'Like what you see? Visit the ' +\n",
       "          '<a target=\"_blank\" href=https://colab.research.google.com/notebooks/data_table.ipynb>data table notebook</a>'\n",
       "          + ' to learn more about interactive tables.';\n",
       "        element.innerHTML = '';\n",
       "        dataTable['output_type'] = 'display_data';\n",
       "        await google.colab.output.renderOutput(dataTable, element);\n",
       "        const docLink = document.createElement('div');\n",
       "        docLink.innerHTML = docLinkHtml;\n",
       "        element.appendChild(docLink);\n",
       "      }\n",
       "    </script>\n",
       "  </div>\n",
       "\n",
       "\n",
       "<div id=\"df-3788088a-62a0-487e-bae2-69f3816c1dcb\">\n",
       "  <button class=\"colab-df-quickchart\" onclick=\"quickchart('df-3788088a-62a0-487e-bae2-69f3816c1dcb')\"\n",
       "            title=\"Suggest charts\"\n",
       "            style=\"display:none;\">\n",
       "\n",
       "<svg xmlns=\"http://www.w3.org/2000/svg\" height=\"24px\"viewBox=\"0 0 24 24\"\n",
       "     width=\"24px\">\n",
       "    <g>\n",
       "        <path d=\"M19 3H5c-1.1 0-2 .9-2 2v14c0 1.1.9 2 2 2h14c1.1 0 2-.9 2-2V5c0-1.1-.9-2-2-2zM9 17H7v-7h2v7zm4 0h-2V7h2v10zm4 0h-2v-4h2v4z\"/>\n",
       "    </g>\n",
       "</svg>\n",
       "  </button>\n",
       "\n",
       "<style>\n",
       "  .colab-df-quickchart {\n",
       "      --bg-color: #E8F0FE;\n",
       "      --fill-color: #1967D2;\n",
       "      --hover-bg-color: #E2EBFA;\n",
       "      --hover-fill-color: #174EA6;\n",
       "      --disabled-fill-color: #AAA;\n",
       "      --disabled-bg-color: #DDD;\n",
       "  }\n",
       "\n",
       "  [theme=dark] .colab-df-quickchart {\n",
       "      --bg-color: #3B4455;\n",
       "      --fill-color: #D2E3FC;\n",
       "      --hover-bg-color: #434B5C;\n",
       "      --hover-fill-color: #FFFFFF;\n",
       "      --disabled-bg-color: #3B4455;\n",
       "      --disabled-fill-color: #666;\n",
       "  }\n",
       "\n",
       "  .colab-df-quickchart {\n",
       "    background-color: var(--bg-color);\n",
       "    border: none;\n",
       "    border-radius: 50%;\n",
       "    cursor: pointer;\n",
       "    display: none;\n",
       "    fill: var(--fill-color);\n",
       "    height: 32px;\n",
       "    padding: 0;\n",
       "    width: 32px;\n",
       "  }\n",
       "\n",
       "  .colab-df-quickchart:hover {\n",
       "    background-color: var(--hover-bg-color);\n",
       "    box-shadow: 0 1px 2px rgba(60, 64, 67, 0.3), 0 1px 3px 1px rgba(60, 64, 67, 0.15);\n",
       "    fill: var(--button-hover-fill-color);\n",
       "  }\n",
       "\n",
       "  .colab-df-quickchart-complete:disabled,\n",
       "  .colab-df-quickchart-complete:disabled:hover {\n",
       "    background-color: var(--disabled-bg-color);\n",
       "    fill: var(--disabled-fill-color);\n",
       "    box-shadow: none;\n",
       "  }\n",
       "\n",
       "  .colab-df-spinner {\n",
       "    border: 2px solid var(--fill-color);\n",
       "    border-color: transparent;\n",
       "    border-bottom-color: var(--fill-color);\n",
       "    animation:\n",
       "      spin 1s steps(1) infinite;\n",
       "  }\n",
       "\n",
       "  @keyframes spin {\n",
       "    0% {\n",
       "      border-color: transparent;\n",
       "      border-bottom-color: var(--fill-color);\n",
       "      border-left-color: var(--fill-color);\n",
       "    }\n",
       "    20% {\n",
       "      border-color: transparent;\n",
       "      border-left-color: var(--fill-color);\n",
       "      border-top-color: var(--fill-color);\n",
       "    }\n",
       "    30% {\n",
       "      border-color: transparent;\n",
       "      border-left-color: var(--fill-color);\n",
       "      border-top-color: var(--fill-color);\n",
       "      border-right-color: var(--fill-color);\n",
       "    }\n",
       "    40% {\n",
       "      border-color: transparent;\n",
       "      border-right-color: var(--fill-color);\n",
       "      border-top-color: var(--fill-color);\n",
       "    }\n",
       "    60% {\n",
       "      border-color: transparent;\n",
       "      border-right-color: var(--fill-color);\n",
       "    }\n",
       "    80% {\n",
       "      border-color: transparent;\n",
       "      border-right-color: var(--fill-color);\n",
       "      border-bottom-color: var(--fill-color);\n",
       "    }\n",
       "    90% {\n",
       "      border-color: transparent;\n",
       "      border-bottom-color: var(--fill-color);\n",
       "    }\n",
       "  }\n",
       "</style>\n",
       "\n",
       "  <script>\n",
       "    async function quickchart(key) {\n",
       "      const quickchartButtonEl =\n",
       "        document.querySelector('#' + key + ' button');\n",
       "      quickchartButtonEl.disabled = true;  // To prevent multiple clicks.\n",
       "      quickchartButtonEl.classList.add('colab-df-spinner');\n",
       "      try {\n",
       "        const charts = await google.colab.kernel.invokeFunction(\n",
       "            'suggestCharts', [key], {});\n",
       "      } catch (error) {\n",
       "        console.error('Error during call to suggestCharts:', error);\n",
       "      }\n",
       "      quickchartButtonEl.classList.remove('colab-df-spinner');\n",
       "      quickchartButtonEl.classList.add('colab-df-quickchart-complete');\n",
       "    }\n",
       "    (() => {\n",
       "      let quickchartButtonEl =\n",
       "        document.querySelector('#df-3788088a-62a0-487e-bae2-69f3816c1dcb button');\n",
       "      quickchartButtonEl.style.display =\n",
       "        google.colab.kernel.accessAllowed ? 'block' : 'none';\n",
       "    })();\n",
       "  </script>\n",
       "</div>\n",
       "\n",
       "  <div id=\"id_eee62eb2-d556-4ef2-aecc-f7dac83291f9\">\n",
       "    <style>\n",
       "      .colab-df-generate {\n",
       "        background-color: #E8F0FE;\n",
       "        border: none;\n",
       "        border-radius: 50%;\n",
       "        cursor: pointer;\n",
       "        display: none;\n",
       "        fill: #1967D2;\n",
       "        height: 32px;\n",
       "        padding: 0 0 0 0;\n",
       "        width: 32px;\n",
       "      }\n",
       "\n",
       "      .colab-df-generate:hover {\n",
       "        background-color: #E2EBFA;\n",
       "        box-shadow: 0px 1px 2px rgba(60, 64, 67, 0.3), 0px 1px 3px 1px rgba(60, 64, 67, 0.15);\n",
       "        fill: #174EA6;\n",
       "      }\n",
       "\n",
       "      [theme=dark] .colab-df-generate {\n",
       "        background-color: #3B4455;\n",
       "        fill: #D2E3FC;\n",
       "      }\n",
       "\n",
       "      [theme=dark] .colab-df-generate:hover {\n",
       "        background-color: #434B5C;\n",
       "        box-shadow: 0px 1px 3px 1px rgba(0, 0, 0, 0.15);\n",
       "        filter: drop-shadow(0px 1px 2px rgba(0, 0, 0, 0.3));\n",
       "        fill: #FFFFFF;\n",
       "      }\n",
       "    </style>\n",
       "    <button class=\"colab-df-generate\" onclick=\"generateWithVariable('percentages')\"\n",
       "            title=\"Generate code using this dataframe.\"\n",
       "            style=\"display:none;\">\n",
       "\n",
       "  <svg xmlns=\"http://www.w3.org/2000/svg\" height=\"24px\"viewBox=\"0 0 24 24\"\n",
       "       width=\"24px\">\n",
       "    <path d=\"M7,19H8.4L18.45,9,17,7.55,7,17.6ZM5,21V16.75L18.45,3.32a2,2,0,0,1,2.83,0l1.4,1.43a1.91,1.91,0,0,1,.58,1.4,1.91,1.91,0,0,1-.58,1.4L9.25,21ZM18.45,9,17,7.55Zm-12,3A5.31,5.31,0,0,0,4.9,8.1,5.31,5.31,0,0,0,1,6.5,5.31,5.31,0,0,0,4.9,4.9,5.31,5.31,0,0,0,6.5,1,5.31,5.31,0,0,0,8.1,4.9,5.31,5.31,0,0,0,12,6.5,5.46,5.46,0,0,0,6.5,12Z\"/>\n",
       "  </svg>\n",
       "    </button>\n",
       "    <script>\n",
       "      (() => {\n",
       "      const buttonEl =\n",
       "        document.querySelector('#id_eee62eb2-d556-4ef2-aecc-f7dac83291f9 button.colab-df-generate');\n",
       "      buttonEl.style.display =\n",
       "        google.colab.kernel.accessAllowed ? 'block' : 'none';\n",
       "\n",
       "      buttonEl.onclick = () => {\n",
       "        google.colab.notebook.generateWithVariable('percentages');\n",
       "      }\n",
       "      })();\n",
       "    </script>\n",
       "  </div>\n",
       "\n",
       "    </div>\n",
       "  </div>\n"
      ],
      "text/plain": [
       "attrition          0          1\n",
       "age                            \n",
       "1          83.218292  16.781708\n",
       "2          81.586954  18.413046\n",
       "3          82.000700  17.999300\n",
       "4          81.263064  18.736936\n",
       "5          81.563527  18.436473\n",
       "6          80.396306  19.603694\n",
       "7          81.304800  18.695200\n",
       "8          80.653557  19.346443\n",
       "9          81.100478  18.899522"
      ]
     },
     "execution_count": 6,
     "metadata": {},
     "output_type": "execute_result"
    }
   ],
   "source": [
    "# check the age attrition value ratios\n",
    "counts = health_attr.groupby(['age','attrition']).size().unstack()\n",
    "percentages = counts.div(counts.sum(axis=1), axis=0) * 100\n",
    "percentages"
   ]
  },
  {
   "cell_type": "code",
   "execution_count": 7,
   "id": "hH9XiBQT-4jK",
   "metadata": {
    "colab": {
     "base_uri": "https://localhost:8080/"
    },
    "executionInfo": {
     "elapsed": 365,
     "status": "ok",
     "timestamp": 1716248986702,
     "user": {
      "displayName": "Tanya Seegmiller",
      "userId": "09396795393408040669"
     },
     "user_tz": 360
    },
    "id": "hH9XiBQT-4jK",
    "outputId": "889980f6-cb7d-4049-cbfe-4398ec9c1546"
   },
   "outputs": [
    {
     "name": "stdout",
     "output_type": "stream",
     "text": [
      "age\n",
      "1    0.304573\n",
      "2    0.210904\n",
      "3    0.101903\n",
      "4    0.100926\n",
      "5    0.091897\n",
      "6    0.114852\n",
      "7    0.170902\n",
      "8    0.252892\n",
      "9    0.294976\n",
      "Name: attrition, dtype: float64\n"
     ]
    }
   ],
   "source": [
    "# Fix age/attrition value ratios\n",
    "\n",
    "# desired attrition ratios per age category\n",
    "desired_ratios = {\n",
    "    1: 0.305,\n",
    "    2: 0.211,\n",
    "    3: 0.102,\n",
    "    4: 0.101,\n",
    "    5: 0.092,\n",
    "    6: 0.115,\n",
    "    7: 0.171,\n",
    "    8: 0.253,\n",
    "    9: 0.295\n",
    "}\n",
    "\n",
    "# Function to adjust attrition ratios per age category\n",
    "def adjust_attrition_ratios(df, age_col, attrition_col, desired_ratios):\n",
    "    new_attrition = df[attrition_col].copy()\n",
    "\n",
    "    for age, group in df.groupby(age_col):\n",
    "        current_attrition = group[attrition_col].values\n",
    "        current_count = len(current_attrition)\n",
    "        desired_count = int(current_count * desired_ratios[age])\n",
    "\n",
    "        # Create new attrition values based on the desired ratio\n",
    "        new_attrition_values = np.array([1] * desired_count + [0] * (current_count - desired_count))\n",
    "        np.random.shuffle(new_attrition_values)\n",
    "\n",
    "        # Assign new attrition values to the corresponding indices\n",
    "        new_attrition.loc[group.index] = new_attrition_values\n",
    "\n",
    "    # Assign new attrition values back to the dataframe\n",
    "    df[attrition_col] = new_attrition\n",
    "\n",
    "# Apply the function to adjust attrition ratios\n",
    "adjust_attrition_ratios(health_attr, 'age', 'attrition', desired_ratios)\n",
    "\n",
    "# Verify the new ratios\n",
    "print(health_attr.groupby('age')['attrition'].mean())"
   ]
  },
  {
   "cell_type": "code",
   "execution_count": 8,
   "id": "uiUX2aD8BtXz",
   "metadata": {
    "colab": {
     "base_uri": "https://localhost:8080/",
     "height": 363
    },
    "executionInfo": {
     "elapsed": 272,
     "status": "ok",
     "timestamp": 1716248995375,
     "user": {
      "displayName": "Tanya Seegmiller",
      "userId": "09396795393408040669"
     },
     "user_tz": 360
    },
    "id": "uiUX2aD8BtXz",
    "outputId": "9dfb81ed-6675-4871-b4e4-de58811ab4ed"
   },
   "outputs": [
    {
     "data": {
      "application/vnd.google.colaboratory.intrinsic+json": {
       "summary": "{\n  \"name\": \"percentages\",\n  \"rows\": 9,\n  \"fields\": [\n    {\n      \"column\": \"age\",\n      \"properties\": {\n        \"dtype\": \"number\",\n        \"std\": 2,\n        \"min\": 1,\n        \"max\": 9,\n        \"num_unique_values\": 9,\n        \"samples\": [\n          8,\n          2,\n          6\n        ],\n        \"semantic_type\": \"\",\n        \"description\": \"\"\n      }\n    },\n    {\n      \"column\": 0,\n      \"properties\": {\n        \"dtype\": \"number\",\n        \"std\": 8.615709383056805,\n        \"min\": 69.54270923209663,\n        \"max\": 90.81034729169643,\n        \"num_unique_values\": 9,\n        \"samples\": [\n          74.71081550028919,\n          78.90957770475843,\n          88.5148133897653\n        ],\n        \"semantic_type\": \"\",\n        \"description\": \"\"\n      }\n    },\n    {\n      \"column\": 1,\n      \"properties\": {\n        \"dtype\": \"number\",\n        \"std\": 8.615709383056807,\n        \"min\": 9.189652708303559,\n        \"max\": 30.457290767903366,\n        \"num_unique_values\": 9,\n        \"samples\": [\n          25.289184499710814,\n          21.090422295241574,\n          11.485186610234706\n        ],\n        \"semantic_type\": \"\",\n        \"description\": \"\"\n      }\n    }\n  ]\n}",
       "type": "dataframe",
       "variable_name": "percentages"
      },
      "text/html": [
       "\n",
       "  <div id=\"df-f818ee07-27b4-46ae-8814-f66e55c9c684\" class=\"colab-df-container\">\n",
       "    <div>\n",
       "<style scoped>\n",
       "    .dataframe tbody tr th:only-of-type {\n",
       "        vertical-align: middle;\n",
       "    }\n",
       "\n",
       "    .dataframe tbody tr th {\n",
       "        vertical-align: top;\n",
       "    }\n",
       "\n",
       "    .dataframe thead th {\n",
       "        text-align: right;\n",
       "    }\n",
       "</style>\n",
       "<table border=\"1\" class=\"dataframe\">\n",
       "  <thead>\n",
       "    <tr style=\"text-align: right;\">\n",
       "      <th>attrition</th>\n",
       "      <th>0</th>\n",
       "      <th>1</th>\n",
       "    </tr>\n",
       "    <tr>\n",
       "      <th>age</th>\n",
       "      <th></th>\n",
       "      <th></th>\n",
       "    </tr>\n",
       "  </thead>\n",
       "  <tbody>\n",
       "    <tr>\n",
       "      <th>1</th>\n",
       "      <td>69.542709</td>\n",
       "      <td>30.457291</td>\n",
       "    </tr>\n",
       "    <tr>\n",
       "      <th>2</th>\n",
       "      <td>78.909578</td>\n",
       "      <td>21.090422</td>\n",
       "    </tr>\n",
       "    <tr>\n",
       "      <th>3</th>\n",
       "      <td>89.809735</td>\n",
       "      <td>10.190265</td>\n",
       "    </tr>\n",
       "    <tr>\n",
       "      <th>4</th>\n",
       "      <td>89.907435</td>\n",
       "      <td>10.092565</td>\n",
       "    </tr>\n",
       "    <tr>\n",
       "      <th>5</th>\n",
       "      <td>90.810347</td>\n",
       "      <td>9.189653</td>\n",
       "    </tr>\n",
       "    <tr>\n",
       "      <th>6</th>\n",
       "      <td>88.514813</td>\n",
       "      <td>11.485187</td>\n",
       "    </tr>\n",
       "    <tr>\n",
       "      <th>7</th>\n",
       "      <td>82.909793</td>\n",
       "      <td>17.090207</td>\n",
       "    </tr>\n",
       "    <tr>\n",
       "      <th>8</th>\n",
       "      <td>74.710816</td>\n",
       "      <td>25.289184</td>\n",
       "    </tr>\n",
       "    <tr>\n",
       "      <th>9</th>\n",
       "      <td>70.502392</td>\n",
       "      <td>29.497608</td>\n",
       "    </tr>\n",
       "  </tbody>\n",
       "</table>\n",
       "</div>\n",
       "    <div class=\"colab-df-buttons\">\n",
       "\n",
       "  <div class=\"colab-df-container\">\n",
       "    <button class=\"colab-df-convert\" onclick=\"convertToInteractive('df-f818ee07-27b4-46ae-8814-f66e55c9c684')\"\n",
       "            title=\"Convert this dataframe to an interactive table.\"\n",
       "            style=\"display:none;\">\n",
       "\n",
       "  <svg xmlns=\"http://www.w3.org/2000/svg\" height=\"24px\" viewBox=\"0 -960 960 960\">\n",
       "    <path d=\"M120-120v-720h720v720H120Zm60-500h600v-160H180v160Zm220 220h160v-160H400v160Zm0 220h160v-160H400v160ZM180-400h160v-160H180v160Zm440 0h160v-160H620v160ZM180-180h160v-160H180v160Zm440 0h160v-160H620v160Z\"/>\n",
       "  </svg>\n",
       "    </button>\n",
       "\n",
       "  <style>\n",
       "    .colab-df-container {\n",
       "      display:flex;\n",
       "      gap: 12px;\n",
       "    }\n",
       "\n",
       "    .colab-df-convert {\n",
       "      background-color: #E8F0FE;\n",
       "      border: none;\n",
       "      border-radius: 50%;\n",
       "      cursor: pointer;\n",
       "      display: none;\n",
       "      fill: #1967D2;\n",
       "      height: 32px;\n",
       "      padding: 0 0 0 0;\n",
       "      width: 32px;\n",
       "    }\n",
       "\n",
       "    .colab-df-convert:hover {\n",
       "      background-color: #E2EBFA;\n",
       "      box-shadow: 0px 1px 2px rgba(60, 64, 67, 0.3), 0px 1px 3px 1px rgba(60, 64, 67, 0.15);\n",
       "      fill: #174EA6;\n",
       "    }\n",
       "\n",
       "    .colab-df-buttons div {\n",
       "      margin-bottom: 4px;\n",
       "    }\n",
       "\n",
       "    [theme=dark] .colab-df-convert {\n",
       "      background-color: #3B4455;\n",
       "      fill: #D2E3FC;\n",
       "    }\n",
       "\n",
       "    [theme=dark] .colab-df-convert:hover {\n",
       "      background-color: #434B5C;\n",
       "      box-shadow: 0px 1px 3px 1px rgba(0, 0, 0, 0.15);\n",
       "      filter: drop-shadow(0px 1px 2px rgba(0, 0, 0, 0.3));\n",
       "      fill: #FFFFFF;\n",
       "    }\n",
       "  </style>\n",
       "\n",
       "    <script>\n",
       "      const buttonEl =\n",
       "        document.querySelector('#df-f818ee07-27b4-46ae-8814-f66e55c9c684 button.colab-df-convert');\n",
       "      buttonEl.style.display =\n",
       "        google.colab.kernel.accessAllowed ? 'block' : 'none';\n",
       "\n",
       "      async function convertToInteractive(key) {\n",
       "        const element = document.querySelector('#df-f818ee07-27b4-46ae-8814-f66e55c9c684');\n",
       "        const dataTable =\n",
       "          await google.colab.kernel.invokeFunction('convertToInteractive',\n",
       "                                                    [key], {});\n",
       "        if (!dataTable) return;\n",
       "\n",
       "        const docLinkHtml = 'Like what you see? Visit the ' +\n",
       "          '<a target=\"_blank\" href=https://colab.research.google.com/notebooks/data_table.ipynb>data table notebook</a>'\n",
       "          + ' to learn more about interactive tables.';\n",
       "        element.innerHTML = '';\n",
       "        dataTable['output_type'] = 'display_data';\n",
       "        await google.colab.output.renderOutput(dataTable, element);\n",
       "        const docLink = document.createElement('div');\n",
       "        docLink.innerHTML = docLinkHtml;\n",
       "        element.appendChild(docLink);\n",
       "      }\n",
       "    </script>\n",
       "  </div>\n",
       "\n",
       "\n",
       "<div id=\"df-7dc6142e-ae40-47d5-b62c-59cf879e2ef3\">\n",
       "  <button class=\"colab-df-quickchart\" onclick=\"quickchart('df-7dc6142e-ae40-47d5-b62c-59cf879e2ef3')\"\n",
       "            title=\"Suggest charts\"\n",
       "            style=\"display:none;\">\n",
       "\n",
       "<svg xmlns=\"http://www.w3.org/2000/svg\" height=\"24px\"viewBox=\"0 0 24 24\"\n",
       "     width=\"24px\">\n",
       "    <g>\n",
       "        <path d=\"M19 3H5c-1.1 0-2 .9-2 2v14c0 1.1.9 2 2 2h14c1.1 0 2-.9 2-2V5c0-1.1-.9-2-2-2zM9 17H7v-7h2v7zm4 0h-2V7h2v10zm4 0h-2v-4h2v4z\"/>\n",
       "    </g>\n",
       "</svg>\n",
       "  </button>\n",
       "\n",
       "<style>\n",
       "  .colab-df-quickchart {\n",
       "      --bg-color: #E8F0FE;\n",
       "      --fill-color: #1967D2;\n",
       "      --hover-bg-color: #E2EBFA;\n",
       "      --hover-fill-color: #174EA6;\n",
       "      --disabled-fill-color: #AAA;\n",
       "      --disabled-bg-color: #DDD;\n",
       "  }\n",
       "\n",
       "  [theme=dark] .colab-df-quickchart {\n",
       "      --bg-color: #3B4455;\n",
       "      --fill-color: #D2E3FC;\n",
       "      --hover-bg-color: #434B5C;\n",
       "      --hover-fill-color: #FFFFFF;\n",
       "      --disabled-bg-color: #3B4455;\n",
       "      --disabled-fill-color: #666;\n",
       "  }\n",
       "\n",
       "  .colab-df-quickchart {\n",
       "    background-color: var(--bg-color);\n",
       "    border: none;\n",
       "    border-radius: 50%;\n",
       "    cursor: pointer;\n",
       "    display: none;\n",
       "    fill: var(--fill-color);\n",
       "    height: 32px;\n",
       "    padding: 0;\n",
       "    width: 32px;\n",
       "  }\n",
       "\n",
       "  .colab-df-quickchart:hover {\n",
       "    background-color: var(--hover-bg-color);\n",
       "    box-shadow: 0 1px 2px rgba(60, 64, 67, 0.3), 0 1px 3px 1px rgba(60, 64, 67, 0.15);\n",
       "    fill: var(--button-hover-fill-color);\n",
       "  }\n",
       "\n",
       "  .colab-df-quickchart-complete:disabled,\n",
       "  .colab-df-quickchart-complete:disabled:hover {\n",
       "    background-color: var(--disabled-bg-color);\n",
       "    fill: var(--disabled-fill-color);\n",
       "    box-shadow: none;\n",
       "  }\n",
       "\n",
       "  .colab-df-spinner {\n",
       "    border: 2px solid var(--fill-color);\n",
       "    border-color: transparent;\n",
       "    border-bottom-color: var(--fill-color);\n",
       "    animation:\n",
       "      spin 1s steps(1) infinite;\n",
       "  }\n",
       "\n",
       "  @keyframes spin {\n",
       "    0% {\n",
       "      border-color: transparent;\n",
       "      border-bottom-color: var(--fill-color);\n",
       "      border-left-color: var(--fill-color);\n",
       "    }\n",
       "    20% {\n",
       "      border-color: transparent;\n",
       "      border-left-color: var(--fill-color);\n",
       "      border-top-color: var(--fill-color);\n",
       "    }\n",
       "    30% {\n",
       "      border-color: transparent;\n",
       "      border-left-color: var(--fill-color);\n",
       "      border-top-color: var(--fill-color);\n",
       "      border-right-color: var(--fill-color);\n",
       "    }\n",
       "    40% {\n",
       "      border-color: transparent;\n",
       "      border-right-color: var(--fill-color);\n",
       "      border-top-color: var(--fill-color);\n",
       "    }\n",
       "    60% {\n",
       "      border-color: transparent;\n",
       "      border-right-color: var(--fill-color);\n",
       "    }\n",
       "    80% {\n",
       "      border-color: transparent;\n",
       "      border-right-color: var(--fill-color);\n",
       "      border-bottom-color: var(--fill-color);\n",
       "    }\n",
       "    90% {\n",
       "      border-color: transparent;\n",
       "      border-bottom-color: var(--fill-color);\n",
       "    }\n",
       "  }\n",
       "</style>\n",
       "\n",
       "  <script>\n",
       "    async function quickchart(key) {\n",
       "      const quickchartButtonEl =\n",
       "        document.querySelector('#' + key + ' button');\n",
       "      quickchartButtonEl.disabled = true;  // To prevent multiple clicks.\n",
       "      quickchartButtonEl.classList.add('colab-df-spinner');\n",
       "      try {\n",
       "        const charts = await google.colab.kernel.invokeFunction(\n",
       "            'suggestCharts', [key], {});\n",
       "      } catch (error) {\n",
       "        console.error('Error during call to suggestCharts:', error);\n",
       "      }\n",
       "      quickchartButtonEl.classList.remove('colab-df-spinner');\n",
       "      quickchartButtonEl.classList.add('colab-df-quickchart-complete');\n",
       "    }\n",
       "    (() => {\n",
       "      let quickchartButtonEl =\n",
       "        document.querySelector('#df-7dc6142e-ae40-47d5-b62c-59cf879e2ef3 button');\n",
       "      quickchartButtonEl.style.display =\n",
       "        google.colab.kernel.accessAllowed ? 'block' : 'none';\n",
       "    })();\n",
       "  </script>\n",
       "</div>\n",
       "\n",
       "  <div id=\"id_cb10da41-24ce-4f86-b22d-0b2ca19b7a5d\">\n",
       "    <style>\n",
       "      .colab-df-generate {\n",
       "        background-color: #E8F0FE;\n",
       "        border: none;\n",
       "        border-radius: 50%;\n",
       "        cursor: pointer;\n",
       "        display: none;\n",
       "        fill: #1967D2;\n",
       "        height: 32px;\n",
       "        padding: 0 0 0 0;\n",
       "        width: 32px;\n",
       "      }\n",
       "\n",
       "      .colab-df-generate:hover {\n",
       "        background-color: #E2EBFA;\n",
       "        box-shadow: 0px 1px 2px rgba(60, 64, 67, 0.3), 0px 1px 3px 1px rgba(60, 64, 67, 0.15);\n",
       "        fill: #174EA6;\n",
       "      }\n",
       "\n",
       "      [theme=dark] .colab-df-generate {\n",
       "        background-color: #3B4455;\n",
       "        fill: #D2E3FC;\n",
       "      }\n",
       "\n",
       "      [theme=dark] .colab-df-generate:hover {\n",
       "        background-color: #434B5C;\n",
       "        box-shadow: 0px 1px 3px 1px rgba(0, 0, 0, 0.15);\n",
       "        filter: drop-shadow(0px 1px 2px rgba(0, 0, 0, 0.3));\n",
       "        fill: #FFFFFF;\n",
       "      }\n",
       "    </style>\n",
       "    <button class=\"colab-df-generate\" onclick=\"generateWithVariable('percentages')\"\n",
       "            title=\"Generate code using this dataframe.\"\n",
       "            style=\"display:none;\">\n",
       "\n",
       "  <svg xmlns=\"http://www.w3.org/2000/svg\" height=\"24px\"viewBox=\"0 0 24 24\"\n",
       "       width=\"24px\">\n",
       "    <path d=\"M7,19H8.4L18.45,9,17,7.55,7,17.6ZM5,21V16.75L18.45,3.32a2,2,0,0,1,2.83,0l1.4,1.43a1.91,1.91,0,0,1,.58,1.4,1.91,1.91,0,0,1-.58,1.4L9.25,21ZM18.45,9,17,7.55Zm-12,3A5.31,5.31,0,0,0,4.9,8.1,5.31,5.31,0,0,0,1,6.5,5.31,5.31,0,0,0,4.9,4.9,5.31,5.31,0,0,0,6.5,1,5.31,5.31,0,0,0,8.1,4.9,5.31,5.31,0,0,0,12,6.5,5.46,5.46,0,0,0,6.5,12Z\"/>\n",
       "  </svg>\n",
       "    </button>\n",
       "    <script>\n",
       "      (() => {\n",
       "      const buttonEl =\n",
       "        document.querySelector('#id_cb10da41-24ce-4f86-b22d-0b2ca19b7a5d button.colab-df-generate');\n",
       "      buttonEl.style.display =\n",
       "        google.colab.kernel.accessAllowed ? 'block' : 'none';\n",
       "\n",
       "      buttonEl.onclick = () => {\n",
       "        google.colab.notebook.generateWithVariable('percentages');\n",
       "      }\n",
       "      })();\n",
       "    </script>\n",
       "  </div>\n",
       "\n",
       "    </div>\n",
       "  </div>\n"
      ],
      "text/plain": [
       "attrition          0          1\n",
       "age                            \n",
       "1          69.542709  30.457291\n",
       "2          78.909578  21.090422\n",
       "3          89.809735  10.190265\n",
       "4          89.907435  10.092565\n",
       "5          90.810347   9.189653\n",
       "6          88.514813  11.485187\n",
       "7          82.909793  17.090207\n",
       "8          74.710816  25.289184\n",
       "9          70.502392  29.497608"
      ]
     },
     "execution_count": 8,
     "metadata": {},
     "output_type": "execute_result"
    }
   ],
   "source": [
    "# varify the correction\n",
    "counts = health_attr.groupby(['age','attrition']).size().unstack()\n",
    "percentages = counts.div(counts.sum(axis=1), axis=0) * 100\n",
    "percentages"
   ]
  },
  {
   "cell_type": "code",
   "execution_count": null,
   "id": "UsWtK1UY_vXa",
   "metadata": {
    "colab": {
     "base_uri": "https://localhost:8080/"
    },
    "executionInfo": {
     "elapsed": 479,
     "status": "ok",
     "timestamp": 1716158391466,
     "user": {
      "displayName": "Tanya Seegmiller",
      "userId": "09396795393408040669"
     },
     "user_tz": 360
    },
    "id": "UsWtK1UY_vXa",
    "outputId": "e6aa3282-02d0-4c91-b4b5-d13d13e64c0f"
   },
   "outputs": [
    {
     "name": "stdout",
     "output_type": "stream",
     "text": [
      "jobrole\n",
      "CNA             0.409880\n",
      "ED nurse        0.223893\n",
      "ED tech         0.223896\n",
      "ICU Dr          0.075968\n",
      "ICU nurse       0.197120\n",
      "ICU tech        0.193916\n",
      "pharmacist      0.106999\n",
      "surgeon         0.075935\n",
      "surgery RN      0.176362\n",
      "surgery tech    0.176411\n",
      "Name: attrition, dtype: float64\n"
     ]
    }
   ],
   "source": [
    "# desired attrition ratios per job role category\n",
    "# per NSI National Health Care Retention Report\n",
    "desired_attrition_ratios = {\n",
    "    'ICU tech': 0.194,\n",
    "    'ED nurse': 0.224,\n",
    "    'surgery RN': 0.1765,\n",
    "    'ICU Dr': 0.076,\n",
    "    'CNA': 0.41,\n",
    "    'surgeon': 0.076,\n",
    "    'pharmacist': 0.107,\n",
    "    'surgery tech': 0.1765,\n",
    "    'ED tech': 0.224\n",
    "}\n",
    "\n",
    "# Function to adjust attrition ratios per job role category\n",
    "def adjust_attrition_ratios_by_jobrole(df, jobrole_col, attrition_col, desired_ratios):\n",
    "    for jobrole, ratio in desired_ratios.items():\n",
    "        group = df[df[jobrole_col] == jobrole]\n",
    "        current_count = len(group)\n",
    "        desired_count = int(current_count * ratio)\n",
    "\n",
    "        # Current attrition values\n",
    "        current_attrition = group[attrition_col].values\n",
    "\n",
    "        # Create new attrition values based on the desired ratio\n",
    "        new_attrition_values = np.array([1] * desired_count + [0] * (current_count - desired_count))\n",
    "        np.random.shuffle(new_attrition_values)\n",
    "\n",
    "        # Assign new attrition values to the corresponding indices\n",
    "        df.loc[group.index, attrition_col] = new_attrition_values\n",
    "\n",
    "# Apply the function to adjust attrition ratios\n",
    "adjust_attrition_ratios_by_jobrole(health_attr, 'jobrole', 'attrition', desired_attrition_ratios)\n",
    "\n",
    "# Verify the new ratios\n",
    "print(health_attr.groupby('jobrole')['attrition'].mean())"
   ]
  },
  {
   "cell_type": "code",
   "execution_count": null,
   "id": "iqT1e-O6YwGO",
   "metadata": {
    "colab": {
     "base_uri": "https://localhost:8080/"
    },
    "executionInfo": {
     "elapsed": 308,
     "status": "ok",
     "timestamp": 1716182523510,
     "user": {
      "displayName": "Tanya Seegmiller",
      "userId": "09396795393408040669"
     },
     "user_tz": 360
    },
    "id": "iqT1e-O6YwGO",
    "outputId": "50e19125-8c08-4f19-ecb8-38b79d9dd08f"
   },
   "outputs": [
    {
     "name": "stdout",
     "output_type": "stream",
     "text": [
      "education\n",
      "1    0.389931\n",
      "2    0.201988\n",
      "3    0.223955\n",
      "4    0.176324\n",
      "5    0.095984\n",
      "Name: attrition, dtype: float64\n"
     ]
    }
   ],
   "source": [
    "# Define desired attrition ratios per education level\n",
    "desired_attrition_ratios_education = {\n",
    "    1: 0.39,\n",
    "    2: 0.202,\n",
    "    3: 0.224,\n",
    "    4: 0.1765,\n",
    "    5: 0.096\n",
    "}\n",
    "\n",
    "# Function to adjust attrition ratios per education level\n",
    "def adjust_attrition_ratios_by_education(df, education_col, attrition_col, desired_ratios):\n",
    "    for education, ratio in desired_ratios.items():\n",
    "        group = df[df[education_col] == education]\n",
    "        current_count = len(group)\n",
    "        desired_count = int(current_count * ratio)\n",
    "\n",
    "        # Current attrition values\n",
    "        current_attrition = group[attrition_col].values\n",
    "\n",
    "        # Create new attrition values based on the desired ratio\n",
    "        new_attrition_values = np.array([1] * desired_count + [0] * (current_count - desired_count))\n",
    "        np.random.shuffle(new_attrition_values)\n",
    "\n",
    "        # Assign new attrition values to the corresponding indices\n",
    "        df.loc[group.index, attrition_col] = new_attrition_values\n",
    "\n",
    "# Apply the function to adjust attrition ratios by education\n",
    "adjust_attrition_ratios_by_education(health_attr, 'education', 'attrition', desired_attrition_ratios_education)\n",
    "\n",
    "# Verify the new ratios\n",
    "print(health_attr.groupby('education')['attrition'].mean())"
   ]
  },
  {
   "cell_type": "code",
   "execution_count": null,
   "id": "y4TkQ4jtCgJY",
   "metadata": {
    "colab": {
     "base_uri": "https://localhost:8080/"
    },
    "executionInfo": {
     "elapsed": 225,
     "status": "ok",
     "timestamp": 1716165764895,
     "user": {
      "displayName": "Tanya Seegmiller",
      "userId": "09396795393408040669"
     },
     "user_tz": 360
    },
    "id": "y4TkQ4jtCgJY",
    "outputId": "e45344d9-2f80-481c-e9ab-d8ec621ccfc8"
   },
   "outputs": [
    {
     "name": "stdout",
     "output_type": "stream",
     "text": [
      "yearsatcompany\n",
      "1     0.339932\n",
      "2     0.229947\n",
      "3     0.229943\n",
      "4     0.209806\n",
      "5     0.210000\n",
      "6     0.118737\n",
      "7     0.118656\n",
      "8     0.118704\n",
      "9     0.118914\n",
      "10    0.118839\n",
      "11    0.098901\n",
      "12    0.098739\n",
      "13    0.098992\n",
      "14    0.098848\n",
      "15    0.098965\n",
      "16    0.098983\n",
      "17    0.098731\n",
      "18    0.098387\n",
      "19    0.098237\n",
      "20    0.098992\n",
      "21    0.098814\n",
      "22    0.098925\n",
      "23    0.098698\n",
      "24    0.098644\n",
      "25    0.098338\n",
      "26    0.098039\n",
      "27    0.097521\n",
      "28    0.098170\n",
      "29    0.097959\n",
      "30    0.098081\n",
      "31    0.097156\n",
      "32    0.096606\n",
      "33    0.096491\n",
      "34    0.095847\n",
      "35    0.098814\n",
      "36    0.217593\n",
      "37    0.176101\n",
      "38    0.216495\n",
      "39    0.115942\n",
      "40    0.257143\n",
      "Name: attrition, dtype: float64\n"
     ]
    }
   ],
   "source": [
    "# attrition ratios per years at company\n",
    "desired_attrition_ratios_by_years = {\n",
    "    1: 0.34,\n",
    "    2: 0.23,\n",
    "    3: 0.23,\n",
    "    4: 0.21,\n",
    "    5: 0.21,\n",
    "    6: 0.119,\n",
    "    7: 0.119,\n",
    "    8: 0.119,\n",
    "    9: 0.119,\n",
    "    10: 0.119,\n",
    "    11: 0.099,\n",
    "    12: 0.099,\n",
    "    13: 0.099,\n",
    "    14: 0.099,\n",
    "    15: 0.099,\n",
    "    16: 0.099,\n",
    "    17: 0.099,\n",
    "    18: 0.099,\n",
    "    19: 0.099,\n",
    "    20: 0.099,\n",
    "    21: 0.099,\n",
    "    22: 0.099,\n",
    "    23: 0.099,\n",
    "    24: 0.099,\n",
    "    25: 0.099,\n",
    "    26: 0.099,\n",
    "    27: 0.099,\n",
    "    28: 0.099,\n",
    "    29: 0.099,\n",
    "    30: 0.099,\n",
    "    31: 0.099,\n",
    "    32: 0.099,\n",
    "    33: 0.099,\n",
    "    34: 0.099,\n",
    "    35: 0.099\n",
    "    # Add more years as needed\n",
    "}\n",
    "\n",
    "# Function to adjust attrition ratios per years at company\n",
    "def adjust_attrition_ratios_by_years(df, years_col, attrition_col, desired_ratios):\n",
    "    for years, ratio in desired_ratios.items():\n",
    "        group = df[df[years_col] == years]\n",
    "        current_count = len(group)\n",
    "        desired_count = int(current_count * ratio)\n",
    "\n",
    "        # Current attrition values\n",
    "        current_attrition = group[attrition_col].values\n",
    "\n",
    "        # Create new attrition values based on the desired ratio\n",
    "        new_attrition_values = np.array([1] * desired_count + [0] * (current_count - desired_count))\n",
    "        np.random.shuffle(new_attrition_values)\n",
    "\n",
    "        # Assign new attrition values to the corresponding indices\n",
    "        df.loc[group.index, attrition_col] = new_attrition_values\n",
    "\n",
    "# Apply the function to adjust attrition ratios\n",
    "adjust_attrition_ratios_by_years(health_attr, 'yearsatcompany', 'attrition', desired_attrition_ratios_by_years)\n",
    "\n",
    "# Verify the new ratios\n",
    "print(health_attr.groupby('yearsatcompany')['attrition'].mean())"
   ]
  },
  {
   "cell_type": "markdown",
   "id": "-bf3aNocWGS8",
   "metadata": {
    "id": "-bf3aNocWGS8"
   },
   "source": [
    "#### Overtime value counts"
   ]
  },
  {
   "cell_type": "code",
   "execution_count": null,
   "id": "p3qMtqP-WF9J",
   "metadata": {
    "colab": {
     "base_uri": "https://localhost:8080/"
    },
    "executionInfo": {
     "elapsed": 174,
     "status": "ok",
     "timestamp": 1715789068288,
     "user": {
      "displayName": "Tanya Seegmiller",
      "userId": "09396795393408040669"
     },
     "user_tz": 360
    },
    "id": "p3qMtqP-WF9J",
    "outputId": "2f132d15-5892-4f21-ddae-5a2a4c25bea2"
   },
   "outputs": [
    {
     "data": {
      "text/plain": [
       "overtime\n",
       "0    30155\n",
       "1    29845\n",
       "Name: count, dtype: int64"
      ]
     },
     "execution_count": 110,
     "metadata": {},
     "output_type": "execute_result"
    }
   ],
   "source": [
    "# get overtime values\n",
    "health_attr['overtime'].value_counts()"
   ]
  },
  {
   "cell_type": "code",
   "execution_count": null,
   "id": "l3LoquhoWNjl",
   "metadata": {
    "id": "l3LoquhoWNjl"
   },
   "outputs": [],
   "source": [
    "# make overtime column binary values\n",
    "health_attr['overtime'].replace({'No': 0, 'Yes': 1}, inplace=True)"
   ]
  },
  {
   "cell_type": "code",
   "execution_count": null,
   "id": "0KI1fwojWbGW",
   "metadata": {
    "colab": {
     "base_uri": "https://localhost:8080/"
    },
    "executionInfo": {
     "elapsed": 156,
     "status": "ok",
     "timestamp": 1715040018983,
     "user": {
      "displayName": "Tanya Seegmiller",
      "userId": "09396795393408040669"
     },
     "user_tz": 360
    },
    "id": "0KI1fwojWbGW",
    "outputId": "a993d1b9-a229-421e-e083-c49bc30c50e9"
   },
   "outputs": [
    {
     "data": {
      "text/plain": [
       "overtime\n",
       "0    30155\n",
       "1    29845\n",
       "Name: count, dtype: int64"
      ]
     },
     "execution_count": 24,
     "metadata": {},
     "output_type": "execute_result"
    }
   ],
   "source": [
    "# verify correction\n",
    "health_attr['overtime'].value_counts()"
   ]
  },
  {
   "cell_type": "markdown",
   "id": "bGMS3H1G1J6a",
   "metadata": {
    "id": "bGMS3H1G1J6a"
   },
   "source": [
    "#### Shift value counts"
   ]
  },
  {
   "cell_type": "code",
   "execution_count": null,
   "id": "EIefzqQ5sLgM",
   "metadata": {
    "colab": {
     "base_uri": "https://localhost:8080/"
    },
    "executionInfo": {
     "elapsed": 251,
     "status": "ok",
     "timestamp": 1715035670508,
     "user": {
      "displayName": "Tanya Seegmiller",
      "userId": "09396795393408040669"
     },
     "user_tz": 360
    },
    "id": "EIefzqQ5sLgM",
    "outputId": "cdf71e86-1da3-4048-803b-0590facd47d9"
   },
   "outputs": [
    {
     "data": {
      "text/plain": [
       "shift\n",
       "4    15123\n",
       "2    14999\n",
       "3    14985\n",
       "1    14893\n",
       "Name: count, dtype: int64"
      ]
     },
     "execution_count": 11,
     "metadata": {},
     "output_type": "execute_result"
    }
   ],
   "source": [
    "# check shift values\n",
    "health_attr['shift'].value_counts()"
   ]
  },
  {
   "cell_type": "code",
   "execution_count": null,
   "id": "zcSULGlmo6ii",
   "metadata": {
    "colab": {
     "base_uri": "https://localhost:8080/"
    },
    "executionInfo": {
     "elapsed": 185,
     "status": "ok",
     "timestamp": 1714929517252,
     "user": {
      "displayName": "Tanya Seegmiller",
      "userId": "09396795393408040669"
     },
     "user_tz": 360
    },
    "id": "zcSULGlmo6ii",
    "outputId": "3eb4ee9f-c1bf-4cce-a417-4298a1532234"
   },
   "outputs": [
    {
     "data": {
      "text/plain": [
       "education\n",
       "5    27348\n",
       "3    14542\n",
       "4     7875\n",
       "2     5169\n",
       "1     5066\n",
       "Name: count, dtype: int64"
      ]
     },
     "execution_count": 11,
     "metadata": {},
     "output_type": "execute_result"
    }
   ],
   "source": [
    "health_attr['education'].value_counts()"
   ]
  },
  {
   "cell_type": "markdown",
   "id": "FDUZieoQk_do",
   "metadata": {
    "id": "FDUZieoQk_do"
   },
   "source": [
    "**Job role value counts**"
   ]
  },
  {
   "cell_type": "code",
   "execution_count": null,
   "id": "_V0K-v9HfHnE",
   "metadata": {
    "colab": {
     "base_uri": "https://localhost:8080/"
    },
    "executionInfo": {
     "elapsed": 179,
     "status": "ok",
     "timestamp": 1714929520922,
     "user": {
      "displayName": "Tanya Seegmiller",
      "userId": "09396795393408040669"
     },
     "user_tz": 360
    },
    "id": "_V0K-v9HfHnE",
    "outputId": "feffa0b4-5206-420e-f4c8-554a83228476"
   },
   "outputs": [
    {
     "data": {
      "text/plain": [
       "jobrole\n",
       "ED nurse        6119\n",
       "ICU tech        6049\n",
       "ICU nurse       6042\n",
       "ICU Dr          6042\n",
       "CNA             5992\n",
       "surgeon         5992\n",
       "pharmacist      5972\n",
       "surgery RN      5965\n",
       "surgery tech    5918\n",
       "ED tech         5909\n",
       "Name: count, dtype: int64"
      ]
     },
     "execution_count": 12,
     "metadata": {},
     "output_type": "execute_result"
    }
   ],
   "source": [
    "# check jobrole values\n",
    "health_attr['jobrole'].value_counts()"
   ]
  },
  {
   "cell_type": "markdown",
   "id": "JTwTEZ4kq_kw",
   "metadata": {
    "id": "JTwTEZ4kq_kw"
   },
   "source": [
    "### Fix Jobrole Education Ratios"
   ]
  },
  {
   "cell_type": "code",
   "execution_count": null,
   "id": "0aBxBBswpU53",
   "metadata": {
    "id": "0aBxBBswpU53"
   },
   "outputs": [],
   "source": [
    "def assign_education(dataframe, job_role, education_value, education_percentage):\n",
    "    # Get the index of every jobrole for a specific value\n",
    "    index_list = list(dataframe[dataframe['jobrole'] == job_role].index)\n",
    "    random.shuffle(index_list)\n",
    "\n",
    "    # Create a list of education values based on the percentage\n",
    "    num_education_rows = int(len(index_list) * education_percentage)\n",
    "    list_of_education = [education_value] * num_education_rows + [other_value for other_value in range(1, 6) if other_value != education_value]\n",
    "\n",
    "    # Assign education values to corresponding indices\n",
    "    for index, education in zip(index_list, list_of_education):\n",
    "        dataframe.at[index, 'education'] = education\n",
    "\n",
    "    # Calculate the new education ratios\n",
    "    new_education_ratios = dataframe[dataframe['jobrole'] == job_role]['education'].value_counts(normalize=True)\n",
    "    print(\"New education ratios for job role {} and education value {}: {}\".format(job_role, education_value, new_education_ratios))"
   ]
  },
  {
   "cell_type": "markdown",
   "id": "EmFj2u8QrFTr",
   "metadata": {
    "id": "EmFj2u8QrFTr"
   },
   "source": [
    "**Fix ICU RN Education Ratios**"
   ]
  },
  {
   "cell_type": "code",
   "execution_count": null,
   "id": "WIWU5sYhoQqc",
   "metadata": {
    "colab": {
     "base_uri": "https://localhost:8080/"
    },
    "executionInfo": {
     "elapsed": 141,
     "status": "ok",
     "timestamp": 1715981830768,
     "user": {
      "displayName": "Tanya Seegmiller",
      "userId": "09396795393408040669"
     },
     "user_tz": 360
    },
    "id": "WIWU5sYhoQqc",
    "outputId": "863c9b5e-8124-42f1-f956-8f8b26dcab5b"
   },
   "outputs": [
    {
     "name": "stdout",
     "output_type": "stream",
     "text": [
      "New education ratios for job role ICU nurse and education value 3: education\n",
      "3    0.455644\n",
      "2    0.209699\n",
      "4    0.147799\n",
      "1    0.121483\n",
      "5    0.065376\n",
      "Name: proportion, dtype: float64\n"
     ]
    }
   ],
   "source": [
    "# adjust ICU RN education %\n",
    "assign_education(health_attr, 'ICU nurse', 3, 0.10)"
   ]
  },
  {
   "cell_type": "markdown",
   "id": "mKlur1cLrP4s",
   "metadata": {
    "id": "mKlur1cLrP4s"
   },
   "source": [
    "**Fix ED RN Education Ratios**"
   ]
  },
  {
   "cell_type": "code",
   "execution_count": null,
   "id": "2N4gUgBlp2Y_",
   "metadata": {
    "colab": {
     "base_uri": "https://localhost:8080/"
    },
    "executionInfo": {
     "elapsed": 3,
     "status": "ok",
     "timestamp": 1715979921500,
     "user": {
      "displayName": "Tanya Seegmiller",
      "userId": "09396795393408040669"
     },
     "user_tz": 360
    },
    "id": "2N4gUgBlp2Y_",
    "outputId": "584fba73-3b38-4e17-ec78-9eddec9ff7b2"
   },
   "outputs": [
    {
     "name": "stdout",
     "output_type": "stream",
     "text": [
      "New education ratios for job role ED nurse and education value 1: education\n",
      "3    0.437980\n",
      "4    0.207060\n",
      "2    0.205426\n",
      "1    0.082040\n",
      "5    0.067495\n",
      "Name: proportion, dtype: float64\n"
     ]
    }
   ],
   "source": [
    "# adjust ICU RN education %\n",
    "assign_education(health_attr, 'ED nurse', 1, 0.08)"
   ]
  },
  {
   "cell_type": "markdown",
   "id": "5UtaL8iksGgt",
   "metadata": {
    "id": "5UtaL8iksGgt"
   },
   "source": [
    "**Fix Surgery RN Education Ratios**"
   ]
  },
  {
   "cell_type": "code",
   "execution_count": null,
   "id": "_6Y9PvSYsNGl",
   "metadata": {
    "colab": {
     "base_uri": "https://localhost:8080/"
    },
    "executionInfo": {
     "elapsed": 138,
     "status": "ok",
     "timestamp": 1715981796077,
     "user": {
      "displayName": "Tanya Seegmiller",
      "userId": "09396795393408040669"
     },
     "user_tz": 360
    },
    "id": "_6Y9PvSYsNGl",
    "outputId": "53a1237a-581b-42aa-805a-74fda293cdbf"
   },
   "outputs": [
    {
     "name": "stdout",
     "output_type": "stream",
     "text": [
      "New education ratios for job role ED nurse and education value 3: education\n",
      "3    0.437490\n",
      "2    0.290570\n",
      "4    0.143978\n",
      "1    0.091028\n",
      "5    0.036934\n",
      "Name: proportion, dtype: float64\n"
     ]
    }
   ],
   "source": [
    "# adjust ICU RN education %\n",
    "assign_education(health_attr, 'ED nurse', 3, 0.05)"
   ]
  },
  {
   "cell_type": "markdown",
   "id": "urhWKKtjY80z",
   "metadata": {
    "id": "urhWKKtjY80z"
   },
   "source": [
    "**Fix CNA/TECH Education Ratios**"
   ]
  },
  {
   "cell_type": "code",
   "execution_count": null,
   "id": "aF43Mo2ZZD3K",
   "metadata": {
    "colab": {
     "base_uri": "https://localhost:8080/"
    },
    "executionInfo": {
     "elapsed": 187,
     "status": "ok",
     "timestamp": 1715980675757,
     "user": {
      "displayName": "Tanya Seegmiller",
      "userId": "09396795393408040669"
     },
     "user_tz": 360
    },
    "id": "aF43Mo2ZZD3K",
    "outputId": "28028e65-6654-4d90-d669-d87610d60d05"
   },
   "outputs": [
    {
     "name": "stdout",
     "output_type": "stream",
     "text": [
      "New education ratios for job role CNA and education value 2: education\n",
      "2    0.655874\n",
      "1    0.341121\n",
      "5    0.001335\n",
      "4    0.001001\n",
      "3    0.000668\n",
      "Name: proportion, dtype: float64\n"
     ]
    }
   ],
   "source": [
    "# adjust CNA education #\n",
    "assign_education(health_attr, 'CNA', 2, .20)"
   ]
  },
  {
   "cell_type": "code",
   "execution_count": null,
   "id": "lTtklv_Ua0fS",
   "metadata": {
    "colab": {
     "base_uri": "https://localhost:8080/"
    },
    "executionInfo": {
     "elapsed": 118,
     "status": "ok",
     "timestamp": 1715981005915,
     "user": {
      "displayName": "Tanya Seegmiller",
      "userId": "09396795393408040669"
     },
     "user_tz": 360
    },
    "id": "lTtklv_Ua0fS",
    "outputId": "58ad8c1d-c83b-4ffe-c22c-b846fa5a75d6"
   },
   "outputs": [
    {
     "name": "stdout",
     "output_type": "stream",
     "text": [
      "New education ratios for job role surgery tech and education value 1: education\n",
      "2    0.794863\n",
      "1    0.159851\n",
      "3    0.016898\n",
      "4    0.014701\n",
      "5    0.013687\n",
      "Name: proportion, dtype: float64\n"
     ]
    }
   ],
   "source": [
    "# adjust surgery tech education #\n",
    "assign_education(health_attr, 'surgery tech', 1, .10)"
   ]
  },
  {
   "cell_type": "code",
   "execution_count": null,
   "id": "p-G8CqZkbHvL",
   "metadata": {
    "colab": {
     "base_uri": "https://localhost:8080/"
    },
    "executionInfo": {
     "elapsed": 143,
     "status": "ok",
     "timestamp": 1715981110766,
     "user": {
      "displayName": "Tanya Seegmiller",
      "userId": "09396795393408040669"
     },
     "user_tz": 360
    },
    "id": "p-G8CqZkbHvL",
    "outputId": "94ac78fb-8409-46b5-d2af-519cd4b4fb8e"
   },
   "outputs": [
    {
     "name": "stdout",
     "output_type": "stream",
     "text": [
      "New education ratios for job role ICU tech and education value 2: education\n",
      "2    0.813192\n",
      "1    0.100512\n",
      "3    0.035212\n",
      "4    0.030253\n",
      "5    0.020830\n",
      "Name: proportion, dtype: float64\n"
     ]
    }
   ],
   "source": [
    "# adjust ICU tech education #\n",
    "assign_education(health_attr, 'ICU tech', 2, .10)"
   ]
  },
  {
   "cell_type": "code",
   "execution_count": null,
   "id": "c2lh1kwzch4D",
   "metadata": {
    "colab": {
     "base_uri": "https://localhost:8080/"
    },
    "executionInfo": {
     "elapsed": 138,
     "status": "ok",
     "timestamp": 1715981213651,
     "user": {
      "displayName": "Tanya Seegmiller",
      "userId": "09396795393408040669"
     },
     "user_tz": 360
    },
    "id": "c2lh1kwzch4D",
    "outputId": "47dce225-e418-4451-9cd1-2cd34deaed36"
   },
   "outputs": [
    {
     "name": "stdout",
     "output_type": "stream",
     "text": [
      "New education ratios for job role ED tech and education value 4: education\n",
      "2    0.900152\n",
      "1    0.058216\n",
      "4    0.018277\n",
      "5    0.012693\n",
      "3    0.010662\n",
      "Name: proportion, dtype: float64\n"
     ]
    }
   ],
   "source": [
    "# adjust ED tech education #\n",
    "assign_education(health_attr, 'ED tech', 4, .01)"
   ]
  },
  {
   "cell_type": "markdown",
   "id": "Ua_9r410trQ1",
   "metadata": {
    "id": "Ua_9r410trQ1"
   },
   "source": [
    "**Fix Dr Education values**"
   ]
  },
  {
   "cell_type": "code",
   "execution_count": null,
   "id": "nHGePImOtxkv",
   "metadata": {
    "id": "nHGePImOtxkv"
   },
   "outputs": [],
   "source": [
    "# change education values for 'ICU Dr', 'surgeon', 'pharmacist'\n",
    "# Filter rows where jobrole is 'ICU Dr', 'surgeon', or 'pharmacist'\n",
    "filtered_rows = health_attr[health_attr['jobrole'].isin(['ICU Dr', 'surgeon', 'pharmacist'])]\n",
    "\n",
    "# update the 'education' column for the filtered rows to 5\n",
    "health_attr.loc[filtered_rows.index, 'education'] = 5"
   ]
  },
  {
   "cell_type": "markdown",
   "id": "wlCEmHih0lWX",
   "metadata": {
    "id": "wlCEmHih0lWX"
   },
   "source": [
    "### Salary Section"
   ]
  },
  {
   "cell_type": "markdown",
   "id": "-tMH29WAl1kf",
   "metadata": {
    "id": "-tMH29WAl1kf"
   },
   "source": [
    "##### ED nurse pay section"
   ]
  },
  {
   "cell_type": "code",
   "execution_count": null,
   "id": "rhLAm_L4lImr",
   "metadata": {
    "colab": {
     "base_uri": "https://localhost:8080/"
    },
    "executionInfo": {
     "elapsed": 12,
     "status": "ok",
     "timestamp": 1714779400419,
     "user": {
      "displayName": "Tanya Seegmiller",
      "userId": "09396795393408040669"
     },
     "user_tz": 360
    },
    "id": "rhLAm_L4lImr",
    "outputId": "d4fcfd9d-fbb2-453a-b1d2-e3c9f6f82dd1"
   },
   "outputs": [
    {
     "name": "stdout",
     "output_type": "stream",
     "text": [
      "4033.03\n",
      "8495.94\n"
     ]
    }
   ],
   "source": [
    "# what is the monthlyincome of jobroles == ED nurse\n",
    "print(health_attr[health_attr['jobrole'] == 'ED nurse']['monthlyincome'].min())\n",
    "print(health_attr[health_attr['jobrole'] == 'ED nurse']['monthlyincome'].max())"
   ]
  },
  {
   "cell_type": "code",
   "execution_count": null,
   "id": "RI6dj3V4lIjZ",
   "metadata": {
    "colab": {
     "base_uri": "https://localhost:8080/"
    },
    "executionInfo": {
     "elapsed": 10,
     "status": "ok",
     "timestamp": 1714779400419,
     "user": {
      "displayName": "Tanya Seegmiller",
      "userId": "09396795393408040669"
     },
     "user_tz": 360
    },
    "id": "RI6dj3V4lIjZ",
    "outputId": "dda06b94-72de-441d-d6ec-d9bf6e0a7679"
   },
   "outputs": [
    {
     "name": "stdout",
     "output_type": "stream",
     "text": [
      "28.01\n",
      "59.0\n"
     ]
    }
   ],
   "source": [
    "# what is the hourlyrate of jobroles == ED nurse\n",
    "print(health_attr[health_attr['jobrole'] == 'ED nurse']['hourlyrate'].min())\n",
    "print(health_attr[health_attr['jobrole'] == 'ED nurse']['hourlyrate'].max())"
   ]
  },
  {
   "cell_type": "markdown",
   "id": "wIOP7dzWmDOQ",
   "metadata": {
    "id": "wIOP7dzWmDOQ"
   },
   "source": [
    "##### ICU tech pay section"
   ]
  },
  {
   "cell_type": "code",
   "execution_count": null,
   "id": "IsuDo-rqlIfp",
   "metadata": {
    "colab": {
     "base_uri": "https://localhost:8080/"
    },
    "executionInfo": {
     "elapsed": 9,
     "status": "ok",
     "timestamp": 1714779400419,
     "user": {
      "displayName": "Tanya Seegmiller",
      "userId": "09396795393408040669"
     },
     "user_tz": 360
    },
    "id": "IsuDo-rqlIfp",
    "outputId": "1951d15a-97b9-4f9e-870e-50cebfd3246a"
   },
   "outputs": [
    {
     "name": "stdout",
     "output_type": "stream",
     "text": [
      "2670.2\n",
      "13290.93\n"
     ]
    }
   ],
   "source": [
    "# what is the monthlyincome of jobroles == ICU tech\n",
    "print(health_attr[health_attr['jobrole'] == 'ICU tech']['monthlyincome'].min())\n",
    "print(health_attr[health_attr['jobrole'] == 'ICU tech']['monthlyincome'].max())"
   ]
  },
  {
   "cell_type": "code",
   "execution_count": null,
   "id": "688kO0GdlIcJ",
   "metadata": {
    "colab": {
     "base_uri": "https://localhost:8080/"
    },
    "executionInfo": {
     "elapsed": 7,
     "status": "ok",
     "timestamp": 1714779400419,
     "user": {
      "displayName": "Tanya Seegmiller",
      "userId": "09396795393408040669"
     },
     "user_tz": 360
    },
    "id": "688kO0GdlIcJ",
    "outputId": "ffea81f8-77e2-4975-b586-b7ecfa8f6eb8"
   },
   "outputs": [
    {
     "name": "stdout",
     "output_type": "stream",
     "text": [
      "15.39\n",
      "76.68\n"
     ]
    }
   ],
   "source": [
    "# what is the hourlyrate of jobroles == ICU tech\n",
    "print(health_attr[health_attr['jobrole'] == 'ICU tech']['hourlyrate'].min())\n",
    "print(health_attr[health_attr['jobrole'] == 'ICU tech']['hourlyrate'].max())"
   ]
  },
  {
   "cell_type": "markdown",
   "id": "_hJQyhnnoXCC",
   "metadata": {
    "id": "_hJQyhnnoXCC"
   },
   "source": [
    "##### ICU nurse pay section"
   ]
  },
  {
   "cell_type": "code",
   "execution_count": null,
   "id": "pABCTetmlIZF",
   "metadata": {
    "colab": {
     "base_uri": "https://localhost:8080/"
    },
    "executionInfo": {
     "elapsed": 6,
     "status": "ok",
     "timestamp": 1714779400419,
     "user": {
      "displayName": "Tanya Seegmiller",
      "userId": "09396795393408040669"
     },
     "user_tz": 360
    },
    "id": "pABCTetmlIZF",
    "outputId": "d0dcb500-06af-468d-ddcd-88f035127135"
   },
   "outputs": [
    {
     "name": "stdout",
     "output_type": "stream",
     "text": [
      "3941.24\n",
      "10847.83\n"
     ]
    }
   ],
   "source": [
    "# what is the monthlyincome of jobroles == ICU nurse\n",
    "print(health_attr[health_attr['jobrole'] == 'ICU nurse']['monthlyincome'].min())\n",
    "print(health_attr[health_attr['jobrole'] == 'ICU nurse']['monthlyincome'].max())"
   ]
  },
  {
   "cell_type": "code",
   "execution_count": null,
   "id": "wS4n3IaCohPh",
   "metadata": {
    "colab": {
     "base_uri": "https://localhost:8080/"
    },
    "executionInfo": {
     "elapsed": 4,
     "status": "ok",
     "timestamp": 1714779400419,
     "user": {
      "displayName": "Tanya Seegmiller",
      "userId": "09396795393408040669"
     },
     "user_tz": 360
    },
    "id": "wS4n3IaCohPh",
    "outputId": "a87b82df-1f0f-4057-a698-fbc178dcf716"
   },
   "outputs": [
    {
     "name": "stdout",
     "output_type": "stream",
     "text": [
      "27.38\n",
      "75.32\n"
     ]
    }
   ],
   "source": [
    "# what is the hourlyrate of jobroles == ICU nurse\n",
    "print(health_attr[health_attr['jobrole'] == 'ICU nurse']['hourlyrate'].min())\n",
    "print(health_attr[health_attr['jobrole'] == 'ICU nurse']['hourlyrate'].max())"
   ]
  },
  {
   "cell_type": "markdown",
   "id": "aBGlQk5SowLE",
   "metadata": {
    "id": "aBGlQk5SowLE"
   },
   "source": [
    "##### ICU Dr pay section"
   ]
  },
  {
   "cell_type": "code",
   "execution_count": null,
   "id": "_nu1cd5BohM8",
   "metadata": {
    "colab": {
     "base_uri": "https://localhost:8080/"
    },
    "executionInfo": {
     "elapsed": 360,
     "status": "ok",
     "timestamp": 1714779400776,
     "user": {
      "displayName": "Tanya Seegmiller",
      "userId": "09396795393408040669"
     },
     "user_tz": 360
    },
    "id": "_nu1cd5BohM8",
    "outputId": "989b7b71-3ac1-49eb-a0b9-29ee0fcecb62"
   },
   "outputs": [
    {
     "name": "stdout",
     "output_type": "stream",
     "text": [
      "4195.35\n",
      "29002.16\n"
     ]
    }
   ],
   "source": [
    "# what is the monthlyincome of jobroles == ICU dr\n",
    "print(health_attr[health_attr['jobrole'] == 'ICU Dr']['monthlyincome'].min())\n",
    "print(health_attr[health_attr['jobrole'] == 'ICU Dr']['monthlyincome'].max())"
   ]
  },
  {
   "cell_type": "code",
   "execution_count": null,
   "id": "TiuUp-HiohKZ",
   "metadata": {
    "colab": {
     "base_uri": "https://localhost:8080/"
    },
    "executionInfo": {
     "elapsed": 24,
     "status": "ok",
     "timestamp": 1714779400776,
     "user": {
      "displayName": "Tanya Seegmiller",
      "userId": "09396795393408040669"
     },
     "user_tz": 360
    },
    "id": "TiuUp-HiohKZ",
    "outputId": "295cc0f4-9e46-44c0-ff53-4d89885d2139"
   },
   "outputs": [
    {
     "name": "stdout",
     "output_type": "stream",
     "text": [
      "33.72\n",
      "167.35\n"
     ]
    }
   ],
   "source": [
    "# what is the hourlyrate of jobroles == ICU dr\n",
    "print(health_attr[health_attr['jobrole'] == 'ICU Dr']['hourlyrate'].min())\n",
    "print(health_attr[health_attr['jobrole'] == 'ICU Dr']['hourlyrate'].max())"
   ]
  },
  {
   "cell_type": "markdown",
   "id": "k0CYyYkYpPTN",
   "metadata": {
    "id": "k0CYyYkYpPTN"
   },
   "source": [
    "##### CNA pay section"
   ]
  },
  {
   "cell_type": "code",
   "execution_count": null,
   "id": "B1sBALigohHj",
   "metadata": {
    "colab": {
     "base_uri": "https://localhost:8080/"
    },
    "executionInfo": {
     "elapsed": 23,
     "status": "ok",
     "timestamp": 1714779400776,
     "user": {
      "displayName": "Tanya Seegmiller",
      "userId": "09396795393408040669"
     },
     "user_tz": 360
    },
    "id": "B1sBALigohHj",
    "outputId": "aafc49fb-b533-4e82-ca78-6d5edcb88ab2"
   },
   "outputs": [
    {
     "name": "stdout",
     "output_type": "stream",
     "text": [
      "1707.03\n",
      "5227.1\n"
     ]
    }
   ],
   "source": [
    "# what is the monthlyincome of jobroles == CNA\n",
    "print(health_attr[health_attr['jobrole'] == 'CNA']['monthlyincome'].min())\n",
    "print(health_attr[health_attr['jobrole'] == 'CNA']['monthlyincome'].max())"
   ]
  },
  {
   "cell_type": "code",
   "execution_count": null,
   "id": "jl6yOR-eohET",
   "metadata": {
    "colab": {
     "base_uri": "https://localhost:8080/"
    },
    "executionInfo": {
     "elapsed": 22,
     "status": "ok",
     "timestamp": 1714779400776,
     "user": {
      "displayName": "Tanya Seegmiller",
      "userId": "09396795393408040669"
     },
     "user_tz": 360
    },
    "id": "jl6yOR-eohET",
    "outputId": "31b7b916-896d-4684-eaba-033248cc27b7"
   },
   "outputs": [
    {
     "name": "stdout",
     "output_type": "stream",
     "text": [
      "9.86\n",
      "27.7\n"
     ]
    }
   ],
   "source": [
    "# what is the hourlyrate of jobroles == CNA\n",
    "print(health_attr[health_attr['jobrole'] == 'CNA']['hourlyrate'].min())\n",
    "print(health_attr[health_attr['jobrole'] == 'CNA']['hourlyrate'].max())"
   ]
  },
  {
   "cell_type": "markdown",
   "id": "esVdyY0_ta7w",
   "metadata": {
    "id": "esVdyY0_ta7w"
   },
   "source": [
    "##### surgeon pay section"
   ]
  },
  {
   "cell_type": "code",
   "execution_count": null,
   "id": "m_TSpObKohBe",
   "metadata": {
    "colab": {
     "base_uri": "https://localhost:8080/"
    },
    "executionInfo": {
     "elapsed": 21,
     "status": "ok",
     "timestamp": 1714779400776,
     "user": {
      "displayName": "Tanya Seegmiller",
      "userId": "09396795393408040669"
     },
     "user_tz": 360
    },
    "id": "m_TSpObKohBe",
    "outputId": "ec18ebe7-2dcb-4b1a-ce5b-5b6d65eb4f8d"
   },
   "outputs": [
    {
     "name": "stdout",
     "output_type": "stream",
     "text": [
      "17439.27\n",
      "24893.77\n"
     ]
    }
   ],
   "source": [
    "# what is the monthlyincome of jobroles == surgeon\n",
    "print(health_attr[health_attr['jobrole'] == 'surgeon']['monthlyincome'].min())\n",
    "print(health_attr[health_attr['jobrole'] == 'surgeon']['monthlyincome'].max())"
   ]
  },
  {
   "cell_type": "code",
   "execution_count": null,
   "id": "0y7CsFT1og-q",
   "metadata": {
    "colab": {
     "base_uri": "https://localhost:8080/"
    },
    "executionInfo": {
     "elapsed": 19,
     "status": "ok",
     "timestamp": 1714779400776,
     "user": {
      "displayName": "Tanya Seegmiller",
      "userId": "09396795393408040669"
     },
     "user_tz": 360
    },
    "id": "0y7CsFT1og-q",
    "outputId": "1fde5420-0582-410c-97e4-2dee3c834ecf"
   },
   "outputs": [
    {
     "name": "stdout",
     "output_type": "stream",
     "text": [
      "133.02\n",
      "189.98\n"
     ]
    }
   ],
   "source": [
    "# what is the hourlyrate of jobroles == surgeon\n",
    "print(health_attr[health_attr['jobrole'] == 'surgeon']['hourlyrate'].min())\n",
    "print(health_attr[health_attr['jobrole'] == 'surgeon']['hourlyrate'].max())"
   ]
  },
  {
   "cell_type": "markdown",
   "id": "L73626qqtxKR",
   "metadata": {
    "id": "L73626qqtxKR"
   },
   "source": [
    "##### pharmacist pay section"
   ]
  },
  {
   "cell_type": "code",
   "execution_count": null,
   "id": "os_pVAfEtw6D",
   "metadata": {
    "colab": {
     "base_uri": "https://localhost:8080/"
    },
    "executionInfo": {
     "elapsed": 18,
     "status": "ok",
     "timestamp": 1714779400776,
     "user": {
      "displayName": "Tanya Seegmiller",
      "userId": "09396795393408040669"
     },
     "user_tz": 360
    },
    "id": "os_pVAfEtw6D",
    "outputId": "15ddbcc4-e567-462b-c83a-14e00e5d026a"
   },
   "outputs": [
    {
     "name": "stdout",
     "output_type": "stream",
     "text": [
      "7503.81\n",
      "14052.4\n"
     ]
    }
   ],
   "source": [
    "# what is the monthlyincome of jobroles == pharmacist\n",
    "print(health_attr[health_attr['jobrole'] == 'pharmacist']['monthlyincome'].min())\n",
    "print(health_attr[health_attr['jobrole'] == 'pharmacist']['monthlyincome'].max())"
   ]
  },
  {
   "cell_type": "code",
   "execution_count": null,
   "id": "sp0brUyotw3l",
   "metadata": {
    "colab": {
     "base_uri": "https://localhost:8080/"
    },
    "executionInfo": {
     "elapsed": 17,
     "status": "ok",
     "timestamp": 1714779400776,
     "user": {
      "displayName": "Tanya Seegmiller",
      "userId": "09396795393408040669"
     },
     "user_tz": 360
    },
    "id": "sp0brUyotw3l",
    "outputId": "6d167e98-7a53-40a6-c46b-c833e7b0cf17"
   },
   "outputs": [
    {
     "name": "stdout",
     "output_type": "stream",
     "text": [
      "43.28\n",
      "81.08\n"
     ]
    }
   ],
   "source": [
    "# what is the hourlyrate of jobroles == pharmacist\n",
    "print(health_attr[health_attr['jobrole'] == 'pharmacist']['hourlyrate'].min())\n",
    "print(health_attr[health_attr['jobrole'] == 'pharmacist']['hourlyrate'].max())"
   ]
  },
  {
   "cell_type": "markdown",
   "id": "Z0fAbdS4u5-L",
   "metadata": {
    "id": "Z0fAbdS4u5-L"
   },
   "source": [
    "##### surgery RN pay section"
   ]
  },
  {
   "cell_type": "code",
   "execution_count": null,
   "id": "s-qPEc5ztw0q",
   "metadata": {
    "colab": {
     "base_uri": "https://localhost:8080/"
    },
    "executionInfo": {
     "elapsed": 17,
     "status": "ok",
     "timestamp": 1714779400777,
     "user": {
      "displayName": "Tanya Seegmiller",
      "userId": "09396795393408040669"
     },
     "user_tz": 360
    },
    "id": "s-qPEc5ztw0q",
    "outputId": "96742903-1c21-4729-c972-7d96f510d7ae"
   },
   "outputs": [
    {
     "name": "stdout",
     "output_type": "stream",
     "text": [
      "3550.22\n",
      "13726.01\n"
     ]
    }
   ],
   "source": [
    "# what is the monthlyincome of jobroles == surgery RN\n",
    "print(health_attr[health_attr['jobrole'] == 'surgery RN']['monthlyincome'].min())\n",
    "print(health_attr[health_attr['jobrole'] == 'surgery RN']['monthlyincome'].max())"
   ]
  },
  {
   "cell_type": "code",
   "execution_count": null,
   "id": "wmwkh1iptwxm",
   "metadata": {
    "colab": {
     "base_uri": "https://localhost:8080/"
    },
    "executionInfo": {
     "elapsed": 16,
     "status": "ok",
     "timestamp": 1714779400777,
     "user": {
      "displayName": "Tanya Seegmiller",
      "userId": "09396795393408040669"
     },
     "user_tz": 360
    },
    "id": "wmwkh1iptwxm",
    "outputId": "c4d3683d-08d4-413d-a1c3-c0350e1430b0"
   },
   "outputs": [
    {
     "name": "stdout",
     "output_type": "stream",
     "text": [
      "22.13\n",
      "75.86\n"
     ]
    }
   ],
   "source": [
    "# what is the hourlyrate of jobroles == surgery RN\n",
    "print(health_attr[health_attr['jobrole'] == 'surgery RN']['hourlyrate'].min())\n",
    "print(health_attr[health_attr['jobrole'] == 'surgery RN']['hourlyrate'].max())"
   ]
  },
  {
   "cell_type": "markdown",
   "id": "QabpcE2MvH9g",
   "metadata": {
    "id": "QabpcE2MvH9g"
   },
   "source": [
    "##### surgery tech pay section"
   ]
  },
  {
   "cell_type": "code",
   "execution_count": null,
   "id": "oOSrChxLtwvB",
   "metadata": {
    "colab": {
     "base_uri": "https://localhost:8080/"
    },
    "executionInfo": {
     "elapsed": 14,
     "status": "ok",
     "timestamp": 1714779400777,
     "user": {
      "displayName": "Tanya Seegmiller",
      "userId": "09396795393408040669"
     },
     "user_tz": 360
    },
    "id": "oOSrChxLtwvB",
    "outputId": "a985afdc-2257-46bd-a21d-e3b184bb97e0"
   },
   "outputs": [
    {
     "name": "stdout",
     "output_type": "stream",
     "text": [
      "3386.6\n",
      "6926.54\n"
     ]
    }
   ],
   "source": [
    "# what is the monthlyincome of jobroles == surgery tech\n",
    "print(health_attr[health_attr['jobrole'] == 'surgery tech']['monthlyincome'].min())\n",
    "print(health_attr[health_attr['jobrole'] == 'surgery tech']['monthlyincome'].max())"
   ]
  },
  {
   "cell_type": "code",
   "execution_count": null,
   "id": "CIpIAL6gtwsb",
   "metadata": {
    "colab": {
     "base_uri": "https://localhost:8080/"
    },
    "executionInfo": {
     "elapsed": 13,
     "status": "ok",
     "timestamp": 1714779400777,
     "user": {
      "displayName": "Tanya Seegmiller",
      "userId": "09396795393408040669"
     },
     "user_tz": 360
    },
    "id": "CIpIAL6gtwsb",
    "outputId": "a7b3081b-eb75-4dfd-a157-f5f535ab8d94"
   },
   "outputs": [
    {
     "name": "stdout",
     "output_type": "stream",
     "text": [
      "19.55\n",
      "65.86\n"
     ]
    }
   ],
   "source": [
    "# what is the hourlyrate of jobroles == surgery tech\n",
    "print(health_attr[health_attr['jobrole'] == 'surgery tech']['hourlyrate'].min())\n",
    "print(health_attr[health_attr['jobrole'] == 'surgery tech']['hourlyrate'].max())"
   ]
  },
  {
   "cell_type": "markdown",
   "id": "wneZCDEFvcId",
   "metadata": {
    "id": "wneZCDEFvcId"
   },
   "source": [
    "##### ED tech pay section"
   ]
  },
  {
   "cell_type": "code",
   "execution_count": null,
   "id": "W7eK76o-vivy",
   "metadata": {
    "colab": {
     "base_uri": "https://localhost:8080/"
    },
    "executionInfo": {
     "elapsed": 12,
     "status": "ok",
     "timestamp": 1714779400777,
     "user": {
      "displayName": "Tanya Seegmiller",
      "userId": "09396795393408040669"
     },
     "user_tz": 360
    },
    "id": "W7eK76o-vivy",
    "outputId": "77b0e864-3464-4231-f5da-108385fdbaae"
   },
   "outputs": [
    {
     "name": "stdout",
     "output_type": "stream",
     "text": [
      "2112.57\n",
      "10285.73\n"
     ]
    }
   ],
   "source": [
    "# what is the monthlyincome of jobroles == ED tech\n",
    "print(health_attr[health_attr['jobrole'] == 'ED tech']['monthlyincome'].min())\n",
    "print(health_attr[health_attr['jobrole'] == 'ED tech']['monthlyincome'].max())"
   ]
  },
  {
   "cell_type": "code",
   "execution_count": null,
   "id": "xilLHoo7vitM",
   "metadata": {
    "colab": {
     "base_uri": "https://localhost:8080/"
    },
    "executionInfo": {
     "elapsed": 11,
     "status": "ok",
     "timestamp": 1714779400777,
     "user": {
      "displayName": "Tanya Seegmiller",
      "userId": "09396795393408040669"
     },
     "user_tz": 360
    },
    "id": "xilLHoo7vitM",
    "outputId": "182b214b-c728-4f30-9110-2fc13d0db710"
   },
   "outputs": [
    {
     "name": "stdout",
     "output_type": "stream",
     "text": [
      "20.6\n",
      "62.29\n"
     ]
    }
   ],
   "source": [
    "# what is the hourlyrate of jobroles == ED tech\n",
    "print(health_attr[health_attr['jobrole'] == 'ED tech']['hourlyrate'].min())\n",
    "print(health_attr[health_attr['jobrole'] == 'ED tech']['hourlyrate'].max())"
   ]
  },
  {
   "cell_type": "markdown",
   "id": "StxpugCxxGel",
   "metadata": {
    "id": "StxpugCxxGel"
   },
   "source": [
    "### Correcting gender ratios to reflect current trends"
   ]
  },
  {
   "cell_type": "markdown",
   "id": "OZ56XPsM5819",
   "metadata": {
    "id": "OZ56XPsM5819"
   },
   "source": [
    "#### Get Gender Counts"
   ]
  },
  {
   "cell_type": "code",
   "execution_count": null,
   "id": "dT-Jb9J6xFzb",
   "metadata": {
    "id": "dT-Jb9J6xFzb"
   },
   "outputs": [],
   "source": [
    "def get_gender_counts(df, job_role):\n",
    "    \"\"\"\n",
    "    Filter the DataFrame by job role and return the value counts for each gender in that role.\n",
    "\n",
    "    Parameters:\n",
    "    - df (DataFrame): The DataFrame containing the data.\n",
    "    - job_role (str): The job role to filter by.\n",
    "\n",
    "    Returns:\n",
    "    - counts (Series): The value counts for each gender in the specified job role.\n",
    "    \"\"\"\n",
    "    # Filter the DataFrame by job role\n",
    "    filtered_df = df[df['jobrole'] == job_role]\n",
    "\n",
    "    # Get the value counts for each gender\n",
    "    counts = filtered_df['gender'].value_counts(normalize=True)\n",
    "\n",
    "    # Return the value counts\n",
    "    return counts"
   ]
  },
  {
   "cell_type": "code",
   "execution_count": null,
   "id": "mLUbMiNu4Y2o",
   "metadata": {
    "colab": {
     "base_uri": "https://localhost:8080/"
    },
    "executionInfo": {
     "elapsed": 9,
     "status": "ok",
     "timestamp": 1714779400777,
     "user": {
      "displayName": "Tanya Seegmiller",
      "userId": "09396795393408040669"
     },
     "user_tz": 360
    },
    "id": "mLUbMiNu4Y2o",
    "outputId": "882efa27-ea06-4651-a458-ecc92f76b444"
   },
   "outputs": [
    {
     "data": {
      "text/plain": [
       "gender\n",
       "0    0.506951\n",
       "1    0.493049\n",
       "Name: proportion, dtype: float64"
      ]
     },
     "execution_count": 96,
     "metadata": {},
     "output_type": "execute_result"
    }
   ],
   "source": [
    "# Get and print gender counts for the 'ICU nurse' job role\n",
    "get_gender_counts(health_attr, 'ICU nurse')"
   ]
  },
  {
   "cell_type": "code",
   "execution_count": null,
   "id": "uqmTeOrC9G8g",
   "metadata": {
    "colab": {
     "base_uri": "https://localhost:8080/"
    },
    "executionInfo": {
     "elapsed": 8,
     "status": "ok",
     "timestamp": 1714779400777,
     "user": {
      "displayName": "Tanya Seegmiller",
      "userId": "09396795393408040669"
     },
     "user_tz": 360
    },
    "id": "uqmTeOrC9G8g",
    "outputId": "b6e2a48b-0e8a-4db3-a2aa-cb60d85d1010"
   },
   "outputs": [
    {
     "data": {
      "text/plain": [
       "gender\n",
       "1    0.500735\n",
       "0    0.499265\n",
       "Name: proportion, dtype: float64"
      ]
     },
     "execution_count": 97,
     "metadata": {},
     "output_type": "execute_result"
    }
   ],
   "source": [
    "# Get and print gender counts for the 'ED nurse' job role\n",
    "get_gender_counts(health_attr, 'ED nurse')"
   ]
  },
  {
   "cell_type": "code",
   "execution_count": null,
   "id": "Ip7NELiP9y-c",
   "metadata": {
    "colab": {
     "base_uri": "https://localhost:8080/"
    },
    "executionInfo": {
     "elapsed": 7,
     "status": "ok",
     "timestamp": 1714779400777,
     "user": {
      "displayName": "Tanya Seegmiller",
      "userId": "09396795393408040669"
     },
     "user_tz": 360
    },
    "id": "Ip7NELiP9y-c",
    "outputId": "434a710f-0e23-408f-fc4d-477762e1f77c"
   },
   "outputs": [
    {
     "data": {
      "text/plain": [
       "gender\n",
       "0    0.500419\n",
       "1    0.499581\n",
       "Name: proportion, dtype: float64"
      ]
     },
     "execution_count": 98,
     "metadata": {},
     "output_type": "execute_result"
    }
   ],
   "source": [
    "# Get and print gender counts for the 'surgery RN' job role\n",
    "get_gender_counts(health_attr, 'surgery RN')"
   ]
  },
  {
   "cell_type": "code",
   "execution_count": null,
   "id": "Y8T1A-wEwg5L",
   "metadata": {
    "id": "Y8T1A-wEwg5L"
   },
   "outputs": [],
   "source": [
    "# this function calculates based on the gender == 1\n",
    "def assign_gender(dataframe, job_role, gender_percentage):\n",
    "    # Get the index of every jobrole for a specific value\n",
    "    index_list = list(dataframe[dataframe['jobrole'] == job_role].index)\n",
    "    random.shuffle(index_list)\n",
    "\n",
    "    # Create a list of genders based on the percentage\n",
    "    num_zeros = int(len(index_list) * (1 - gender_percentage))\n",
    "    list_of_genders = [0] * num_zeros + [1] * (len(index_list) - num_zeros)\n",
    "\n",
    "    # Assign genders to corresponding indices\n",
    "    for index, gender in zip(index_list, list_of_genders):\n",
    "        dataframe.at[index, 'gender'] = gender\n",
    "\n",
    "    # Calculate the new gender ratios\n",
    "    new_gender_ratios = dataframe[dataframe['jobrole'] == job_role]['gender'].value_counts(normalize=True)\n",
    "    print(\"New gender ratios for job role {}: {}\".format(job_role, new_gender_ratios))"
   ]
  },
  {
   "cell_type": "markdown",
   "id": "Tnvj1R7r5hEX",
   "metadata": {
    "id": "Tnvj1R7r5hEX"
   },
   "source": [
    "#### Fix Nurse Gender Ratios"
   ]
  },
  {
   "cell_type": "code",
   "execution_count": null,
   "id": "TkdpeqcGvGqg",
   "metadata": {
    "colab": {
     "base_uri": "https://localhost:8080/"
    },
    "executionInfo": {
     "elapsed": 1519,
     "status": "ok",
     "timestamp": 1714779720025,
     "user": {
      "displayName": "Tanya Seegmiller",
      "userId": "09396795393408040669"
     },
     "user_tz": 360
    },
    "id": "TkdpeqcGvGqg",
    "outputId": "6cfd9a14-fe11-4542-aac4-44fa112b52c0"
   },
   "outputs": [
    {
     "name": "stdout",
     "output_type": "stream",
     "text": [
      "New gender ratios for job role ED nurse: gender\n",
      "0    0.856349\n",
      "1    0.143651\n",
      "Name: proportion, dtype: float64\n"
     ]
    }
   ],
   "source": [
    "# update ED nurse ratio\n",
    "assign_gender(health_attr, 'ED nurse', 0.14)"
   ]
  },
  {
   "cell_type": "code",
   "execution_count": null,
   "id": "s_rlEPLf0Maf",
   "metadata": {
    "colab": {
     "base_uri": "https://localhost:8080/"
    },
    "executionInfo": {
     "elapsed": 1276,
     "status": "ok",
     "timestamp": 1714779985142,
     "user": {
      "displayName": "Tanya Seegmiller",
      "userId": "09396795393408040669"
     },
     "user_tz": 360
    },
    "id": "s_rlEPLf0Maf",
    "outputId": "a5eb8e37-7513-4b32-ba12-2c09521fa27f"
   },
   "outputs": [
    {
     "name": "stdout",
     "output_type": "stream",
     "text": [
      "New gender ratios for job role ICU nurse: gender\n",
      "0    0.854187\n",
      "1    0.145813\n",
      "Name: proportion, dtype: float64\n"
     ]
    }
   ],
   "source": [
    "# update ICU nurse ratio\n",
    "assign_gender(health_attr, 'ICU nurse', 0.14)"
   ]
  },
  {
   "cell_type": "code",
   "execution_count": null,
   "id": "is6-_UKK0MVW",
   "metadata": {
    "colab": {
     "base_uri": "https://localhost:8080/"
    },
    "executionInfo": {
     "elapsed": 1754,
     "status": "ok",
     "timestamp": 1714780026658,
     "user": {
      "displayName": "Tanya Seegmiller",
      "userId": "09396795393408040669"
     },
     "user_tz": 360
    },
    "id": "is6-_UKK0MVW",
    "outputId": "2b20c5d0-9f6b-4091-bbc8-54968ce357e4"
   },
   "outputs": [
    {
     "name": "stdout",
     "output_type": "stream",
     "text": [
      "New gender ratios for job role surgery RN: gender\n",
      "0    0.85482\n",
      "1    0.14518\n",
      "Name: proportion, dtype: float64\n"
     ]
    }
   ],
   "source": [
    "# update surgery RN ratio\n",
    "assign_gender(health_attr, 'surgery RN', 0.14)"
   ]
  },
  {
   "cell_type": "markdown",
   "id": "s9w6_EP65qr3",
   "metadata": {
    "id": "s9w6_EP65qr3"
   },
   "source": [
    "#### Fix Dr Gender Ratios"
   ]
  },
  {
   "cell_type": "code",
   "execution_count": null,
   "id": "wNE1ANhU0MSF",
   "metadata": {
    "colab": {
     "base_uri": "https://localhost:8080/"
    },
    "executionInfo": {
     "elapsed": 1406,
     "status": "ok",
     "timestamp": 1714780128911,
     "user": {
      "displayName": "Tanya Seegmiller",
      "userId": "09396795393408040669"
     },
     "user_tz": 360
    },
    "id": "wNE1ANhU0MSF",
    "outputId": "b14d42da-459f-4983-e241-5a76ef5c0ca4"
   },
   "outputs": [
    {
     "name": "stdout",
     "output_type": "stream",
     "text": [
      "New gender ratios for job role surgeon: gender\n",
      "1    0.637183\n",
      "0    0.362817\n",
      "Name: proportion, dtype: float64\n"
     ]
    }
   ],
   "source": [
    "# update surgeon ratio\n",
    "assign_gender(health_attr, 'surgeon', 0.63)"
   ]
  },
  {
   "cell_type": "code",
   "execution_count": null,
   "id": "mkYGl9Ho0MPQ",
   "metadata": {
    "colab": {
     "base_uri": "https://localhost:8080/"
    },
    "executionInfo": {
     "elapsed": 1507,
     "status": "ok",
     "timestamp": 1714781131172,
     "user": {
      "displayName": "Tanya Seegmiller",
      "userId": "09396795393408040669"
     },
     "user_tz": 360
    },
    "id": "mkYGl9Ho0MPQ",
    "outputId": "e1d33289-5a2d-4978-a03a-bb05c6d1eac2"
   },
   "outputs": [
    {
     "name": "stdout",
     "output_type": "stream",
     "text": [
      "New gender ratios for job role pharmacist: gender\n",
      "0    0.581547\n",
      "1    0.418453\n",
      "Name: proportion, dtype: float64\n"
     ]
    }
   ],
   "source": [
    "# update pharmacist ratio\n",
    "assign_gender(health_attr, 'pharmacist', 0.41)"
   ]
  },
  {
   "cell_type": "code",
   "execution_count": null,
   "id": "83epRC8m0MMN",
   "metadata": {
    "colab": {
     "base_uri": "https://localhost:8080/"
    },
    "executionInfo": {
     "elapsed": 1301,
     "status": "ok",
     "timestamp": 1714780183895,
     "user": {
      "displayName": "Tanya Seegmiller",
      "userId": "09396795393408040669"
     },
     "user_tz": 360
    },
    "id": "83epRC8m0MMN",
    "outputId": "de3d1de0-949f-48cc-f816-76fbea6ac2d2"
   },
   "outputs": [
    {
     "name": "stdout",
     "output_type": "stream",
     "text": [
      "New gender ratios for job role ICU Dr: gender\n",
      "1    0.638696\n",
      "0    0.361304\n",
      "Name: proportion, dtype: float64\n"
     ]
    }
   ],
   "source": [
    "# update ICU Dr ratio\n",
    "assign_gender(health_attr, 'ICU Dr', 0.63)"
   ]
  },
  {
   "cell_type": "markdown",
   "id": "u-IIFnDZ68g8",
   "metadata": {
    "id": "u-IIFnDZ68g8"
   },
   "source": [
    "#### Fix Technician Gender Ratios"
   ]
  },
  {
   "cell_type": "code",
   "execution_count": null,
   "id": "uxag59cw4YwA",
   "metadata": {
    "colab": {
     "base_uri": "https://localhost:8080/"
    },
    "executionInfo": {
     "elapsed": 2132,
     "status": "ok",
     "timestamp": 1714781238086,
     "user": {
      "displayName": "Tanya Seegmiller",
      "userId": "09396795393408040669"
     },
     "user_tz": 360
    },
    "id": "uxag59cw4YwA",
    "outputId": "c7f1e187-9ac2-41d8-9abc-138fee1c906f"
   },
   "outputs": [
    {
     "name": "stdout",
     "output_type": "stream",
     "text": [
      "New gender ratios for job role ICU tech: gender\n",
      "0    0.672012\n",
      "1    0.327988\n",
      "Name: proportion, dtype: float64\n"
     ]
    }
   ],
   "source": [
    "# update ICU Tech ratio\n",
    "assign_gender(health_attr, 'ICU tech', 0.32)"
   ]
  },
  {
   "cell_type": "code",
   "execution_count": null,
   "id": "CS-ElbyA4Ysv",
   "metadata": {
    "colab": {
     "base_uri": "https://localhost:8080/"
    },
    "executionInfo": {
     "elapsed": 1606,
     "status": "ok",
     "timestamp": 1714781286085,
     "user": {
      "displayName": "Tanya Seegmiller",
      "userId": "09396795393408040669"
     },
     "user_tz": 360
    },
    "id": "CS-ElbyA4Ysv",
    "outputId": "9f8ecf27-cf83-4d41-f396-834313819800"
   },
   "outputs": [
    {
     "name": "stdout",
     "output_type": "stream",
     "text": [
      "New gender ratios for job role ED tech: gender\n",
      "0    0.672872\n",
      "1    0.327128\n",
      "Name: proportion, dtype: float64\n"
     ]
    }
   ],
   "source": [
    "# update ED Tech ratio\n",
    "assign_gender(health_attr, 'ED tech', 0.32)"
   ]
  },
  {
   "cell_type": "code",
   "execution_count": null,
   "id": "5B8ikFMs7gRa",
   "metadata": {
    "colab": {
     "base_uri": "https://localhost:8080/"
    },
    "executionInfo": {
     "elapsed": 1799,
     "status": "ok",
     "timestamp": 1714781325702,
     "user": {
      "displayName": "Tanya Seegmiller",
      "userId": "09396795393408040669"
     },
     "user_tz": 360
    },
    "id": "5B8ikFMs7gRa",
    "outputId": "a031ad1c-c31d-4830-e8d9-012c911e7779"
   },
   "outputs": [
    {
     "name": "stdout",
     "output_type": "stream",
     "text": [
      "New gender ratios for job role surgery tech: gender\n",
      "0    0.674383\n",
      "1    0.325617\n",
      "Name: proportion, dtype: float64\n"
     ]
    }
   ],
   "source": [
    "# update surgery Tech ratio\n",
    "assign_gender(health_attr, 'surgery tech', 0.32)"
   ]
  },
  {
   "cell_type": "markdown",
   "id": "vON7bz7z7uVL",
   "metadata": {
    "id": "vON7bz7z7uVL"
   },
   "source": [
    "#### Fix CNA Gender Ratios"
   ]
  },
  {
   "cell_type": "code",
   "execution_count": null,
   "id": "6ZSSquYG7tvc",
   "metadata": {
    "colab": {
     "base_uri": "https://localhost:8080/"
    },
    "executionInfo": {
     "elapsed": 2718,
     "status": "ok",
     "timestamp": 1714781380203,
     "user": {
      "displayName": "Tanya Seegmiller",
      "userId": "09396795393408040669"
     },
     "user_tz": 360
    },
    "id": "6ZSSquYG7tvc",
    "outputId": "6ead7655-3986-4eac-9f97-5009421d2f81"
   },
   "outputs": [
    {
     "name": "stdout",
     "output_type": "stream",
     "text": [
      "New gender ratios for job role CNA: gender\n",
      "0    0.886348\n",
      "1    0.113652\n",
      "Name: proportion, dtype: float64\n"
     ]
    }
   ],
   "source": [
    "# update CNA ratio\n",
    "assign_gender(health_attr, 'CNA', 0.11)"
   ]
  },
  {
   "cell_type": "code",
   "execution_count": null,
   "id": "To974TWP75VA",
   "metadata": {
    "colab": {
     "base_uri": "https://localhost:8080/"
    },
    "executionInfo": {
     "elapsed": 337,
     "status": "ok",
     "timestamp": 1714781461458,
     "user": {
      "displayName": "Tanya Seegmiller",
      "userId": "09396795393408040669"
     },
     "user_tz": 360
    },
    "id": "To974TWP75VA",
    "outputId": "247de344-99de-46a7-cf14-777c334936da"
   },
   "outputs": [
    {
     "data": {
      "text/plain": [
       "gender\n",
       "0    0.6745\n",
       "1    0.3255\n",
       "Name: proportion, dtype: float64"
      ]
     },
     "execution_count": 125,
     "metadata": {},
     "output_type": "execute_result"
    }
   ],
   "source": [
    "# check gender column value counts\n",
    "health_attr['gender'].value_counts(normalize=True)"
   ]
  },
  {
   "cell_type": "code",
   "execution_count": null,
   "id": "hn3VCLhyRQ0I",
   "metadata": {
    "colab": {
     "base_uri": "https://localhost:8080/"
    },
    "executionInfo": {
     "elapsed": 343,
     "status": "ok",
     "timestamp": 1716095646941,
     "user": {
      "displayName": "Tanya Seegmiller",
      "userId": "09396795393408040669"
     },
     "user_tz": 360
    },
    "id": "hn3VCLhyRQ0I",
    "outputId": "e7ce37a2-f2ad-402b-e613-b2352a1eeb1b"
   },
   "outputs": [
    {
     "name": "stdout",
     "output_type": "stream",
     "text": [
      "   gender  attrition  counts\n",
      "0  Female          0   33367\n",
      "1  Female          1    7103\n",
      "2    Male          0   16077\n",
      "3    Male          1    3453\n"
     ]
    }
   ],
   "source": [
    "# Group by 'gender' and 'attrition', then count the occurrences\n",
    "attrition_counts = health_attr.groupby(['gender', 'attrition']).size().reset_index(name='counts')\n",
    "\n",
    "# Print the resulting DataFrame\n",
    "print(attrition_counts)"
   ]
  },
  {
   "cell_type": "code",
   "execution_count": null,
   "id": "CnrUMwwsRVWc",
   "metadata": {
    "colab": {
     "base_uri": "https://localhost:8080/"
    },
    "executionInfo": {
     "elapsed": 307,
     "status": "ok",
     "timestamp": 1716095650489,
     "user": {
      "displayName": "Tanya Seegmiller",
      "userId": "09396795393408040669"
     },
     "user_tz": 360
    },
    "id": "CnrUMwwsRVWc",
    "outputId": "063f73f7-6b80-4d8f-d721-ffbb1766ddca"
   },
   "outputs": [
    {
     "data": {
      "text/plain": [
       "0    82.448727\n",
       "1    17.551273\n",
       "2    82.319508\n",
       "3    17.680492\n",
       "Name: counts, dtype: float64"
      ]
     },
     "execution_count": 16,
     "metadata": {},
     "output_type": "execute_result"
    }
   ],
   "source": [
    "# Calculate the percentages\n",
    "total_counts = attrition_counts.groupby('gender')['counts'].transform('sum')\n",
    "attrition_counts['counts'] / total_counts * 100"
   ]
  },
  {
   "cell_type": "code",
   "execution_count": null,
   "id": "ccRPXZcuQ3Wv",
   "metadata": {
    "colab": {
     "base_uri": "https://localhost:8080/"
    },
    "executionInfo": {
     "elapsed": 403,
     "status": "ok",
     "timestamp": 1716096526557,
     "user": {
      "displayName": "Tanya Seegmiller",
      "userId": "09396795393408040669"
     },
     "user_tz": 360
    },
    "id": "ccRPXZcuQ3Wv",
    "outputId": "19fe6e55-1a9f-4fa0-b052-8d343193f267"
   },
   "outputs": [
    {
     "name": "stdout",
     "output_type": "stream",
     "text": [
      "gender\n",
      "Female    0.179985\n",
      "Male      0.239990\n",
      "Name: attrition, dtype: float64\n"
     ]
    }
   ],
   "source": [
    "# Define desired attrition ratios per gender category\n",
    "desired_gender_ratios = {\n",
    "    'Male': 0.24,\n",
    "    'Female': 0.18\n",
    "}\n",
    "\n",
    "# Function to adjust attrition ratios per gender category\n",
    "def adjust_attrition_ratios_by_gender(df, gender_col, attrition_col, desired_ratios):\n",
    "    for gender, group in df.groupby(gender_col):\n",
    "        current_count = len(group)\n",
    "        desired_count = int(current_count * desired_ratios[gender])\n",
    "\n",
    "        # Create new attrition values based on the desired ratio\n",
    "        new_attrition_values = np.array([1] * desired_count + [0] * (current_count - desired_count))\n",
    "        np.random.shuffle(new_attrition_values)\n",
    "\n",
    "        # Assign new attrition values to the corresponding indices\n",
    "        df.loc[group.index, attrition_col] = new_attrition_values\n",
    "\n",
    "# Apply the function to adjust attrition ratios\n",
    "adjust_attrition_ratios_by_gender(health_attr, 'gender', 'attrition', desired_gender_ratios)\n",
    "\n",
    "# Verify the new ratios\n",
    "print(health_attr.groupby('gender')['attrition'].mean())"
   ]
  },
  {
   "cell_type": "code",
   "execution_count": null,
   "id": "naqEutGgUm14",
   "metadata": {
    "colab": {
     "base_uri": "https://localhost:8080/"
    },
    "executionInfo": {
     "elapsed": 309,
     "status": "ok",
     "timestamp": 1716096533363,
     "user": {
      "displayName": "Tanya Seegmiller",
      "userId": "09396795393408040669"
     },
     "user_tz": 360
    },
    "id": "naqEutGgUm14",
    "outputId": "e5fb54c0-2340-4c0f-a1e8-d8c022d973ac"
   },
   "outputs": [
    {
     "name": "stdout",
     "output_type": "stream",
     "text": [
      "   gender  attrition  counts  percentage\n",
      "0  Female          0   33186   82.001483\n",
      "1  Female          1    7284   17.998517\n",
      "2    Male          0   14843   76.001024\n",
      "3    Male          1    4687   23.998976\n"
     ]
    }
   ],
   "source": [
    "# Verify the new ratios\n",
    "attrition_counts = health_attr.groupby(['gender', 'attrition']).size().reset_index(name='counts')\n",
    "total_counts = attrition_counts.groupby('gender')['counts'].transform('sum')\n",
    "attrition_counts['percentage'] = attrition_counts['counts'] / total_counts * 100\n",
    "print(attrition_counts)"
   ]
  },
  {
   "cell_type": "markdown",
   "id": "1gVr3kktiTGw",
   "metadata": {
    "id": "1gVr3kktiTGw"
   },
   "source": [
    "#### Marital Status Section"
   ]
  },
  {
   "cell_type": "code",
   "execution_count": null,
   "id": "TJBUk5q7dXJm",
   "metadata": {
    "colab": {
     "base_uri": "https://localhost:8080/"
    },
    "executionInfo": {
     "elapsed": 183,
     "status": "ok",
     "timestamp": 1716101287467,
     "user": {
      "displayName": "Tanya Seegmiller",
      "userId": "09396795393408040669"
     },
     "user_tz": 360
    },
    "id": "TJBUk5q7dXJm",
    "outputId": "eefaaa26-68bf-448e-99dd-e3e27a70371a"
   },
   "outputs": [
    {
     "data": {
      "text/plain": [
       "jobrole       maritalstatus\n",
       "CNA           Married          0.569092\n",
       "              Divorced         0.378338\n",
       "              Single           0.052570\n",
       "ED nurse      Married          0.511848\n",
       "              Divorced         0.405295\n",
       "              Single           0.082857\n",
       "ED tech       Married          0.561178\n",
       "              Divorced         0.386867\n",
       "              Single           0.051955\n",
       "ICU Dr        Married          0.827706\n",
       "              Divorced         0.164019\n",
       "              Single           0.008275\n",
       "ICU nurse     Single           0.343595\n",
       "              Married          0.330851\n",
       "              Divorced         0.325554\n",
       "ICU tech      Married          0.561746\n",
       "              Divorced         0.387337\n",
       "              Single           0.050918\n",
       "pharmacist    Married          0.683691\n",
       "              Divorced         0.282820\n",
       "              Single           0.033490\n",
       "surgeon       Married          0.781709\n",
       "              Divorced         0.206442\n",
       "              Single           0.011849\n",
       "surgery RN    Married          0.512490\n",
       "              Divorced         0.405029\n",
       "              Single           0.082481\n",
       "surgery tech  Married          0.559986\n",
       "              Divorced         0.384927\n",
       "              Single           0.055086\n",
       "Name: proportion, dtype: float64"
      ]
     },
     "execution_count": 39,
     "metadata": {},
     "output_type": "execute_result"
    }
   ],
   "source": [
    "# maritalstatus values for each jobrole type\n",
    "health_attr.groupby('jobrole')['maritalstatus'].value_counts(normalize= True)"
   ]
  },
  {
   "cell_type": "code",
   "execution_count": null,
   "id": "g-Su0Mk6h_uq",
   "metadata": {
    "colab": {
     "base_uri": "https://localhost:8080/"
    },
    "executionInfo": {
     "elapsed": 1356,
     "status": "ok",
     "timestamp": 1716101262136,
     "user": {
      "displayName": "Tanya Seegmiller",
      "userId": "09396795393408040669"
     },
     "user_tz": 360
    },
    "id": "g-Su0Mk6h_uq",
    "outputId": "21be0932-f136-4c97-8be9-659dfbf28f4f"
   },
   "outputs": [
    {
     "name": "stdout",
     "output_type": "stream",
     "text": [
      "jobrole       maritalstatus\n",
      "CNA           Divorced         2267\n",
      "              Married          3410\n",
      "              Single            315\n",
      "ED nurse      Divorced         2480\n",
      "              Married          3132\n",
      "              Single            507\n",
      "ED tech       Divorced         2286\n",
      "              Married          3316\n",
      "              Single            307\n",
      "ICU Dr        Divorced          991\n",
      "              Married          5001\n",
      "              Single             50\n",
      "ICU nurse     Divorced         1967\n",
      "              Married          1999\n",
      "              Single           2076\n",
      "ICU tech      Divorced         2343\n",
      "              Married          3398\n",
      "              Single            308\n",
      "pharmacist    Divorced         1689\n",
      "              Married          4083\n",
      "              Single            200\n",
      "surgeon       Divorced         1237\n",
      "              Married          4684\n",
      "              Single             71\n",
      "surgery RN    Divorced         2416\n",
      "              Married          3057\n",
      "              Single            492\n",
      "surgery tech  Divorced         2278\n",
      "              Married          3314\n",
      "              Single            326\n",
      "dtype: int64\n"
     ]
    }
   ],
   "source": [
    "# Define desired marital status ratios per job role category\n",
    "desired_marital_ratios = {\n",
    "    'ICU tech': {'Divorced': 0.25, 'Married': 0.6, 'Single': 0.15},\n",
    "    'ED nurse': {'Divorced': 0.25, 'Married': 0.6, 'Single': 0.15},\n",
    "    'surgery RN': {'Divorced': 0.25, 'Married': 0.6, 'Single': 0.15},\n",
    "    'ICU Dr': {'Divorced': 0.10, 'Married': 0.85, 'Single': 0.05},\n",
    "    'CNA': {'Divorced': 0.25, 'Married': 0.6, 'Single': 0.15},\n",
    "    'surgeon': {'Divorced': 0.10, 'Married': 0.85, 'Single': 0.05},\n",
    "    'pharmacist': {'Divorced': 0.15, 'Married': 0.74, 'Single': 0.11},\n",
    "    'surgery tech': {'Divorced': 0.25, 'Married': 0.60, 'Single': 0.15},\n",
    "    'ED tech': {'Divorced': 0.25, 'Married': 0.6, 'Single': 0.15}\n",
    "}\n",
    "\n",
    "# Function to adjust marital status ratios per job role category\n",
    "def adjust_marital_ratios_by_jobrole(df, jobrole_col, maritalstatus_col, desired_ratios):\n",
    "    for jobrole, status_ratios in desired_ratios.items():\n",
    "        for maritalstatus, ratio in status_ratios.items():\n",
    "            current_count = len(df[(df[jobrole_col] == jobrole) & (df[maritalstatus_col] == maritalstatus)])\n",
    "            desired_count = int(current_count * ratio)\n",
    "\n",
    "            # Select rows with the specific job role and marital status\n",
    "            rows_to_adjust = df[(df[jobrole_col] == jobrole) & (df[maritalstatus_col] == maritalstatus)].sample(frac=1).index[:current_count - desired_count]\n",
    "\n",
    "            # Set the marital status to the opposite of the desired ratio\n",
    "            df.loc[rows_to_adjust, maritalstatus_col] = np.random.choice([val for val in status_ratios.keys() if val != maritalstatus], size=len(rows_to_adjust))\n",
    "\n",
    "# Apply the function to adjust marital status ratios\n",
    "adjust_marital_ratios_by_jobrole(health_attr, 'jobrole', 'maritalstatus', desired_marital_ratios)\n",
    "\n",
    "# Verify the new ratios\n",
    "print(health_attr.groupby(['jobrole', 'maritalstatus']).size())"
   ]
  },
  {
   "cell_type": "code",
   "execution_count": null,
   "id": "OPZ6KYI5iAMV",
   "metadata": {
    "colab": {
     "base_uri": "https://localhost:8080/"
    },
    "executionInfo": {
     "elapsed": 173,
     "status": "ok",
     "timestamp": 1716101305485,
     "user": {
      "displayName": "Tanya Seegmiller",
      "userId": "09396795393408040669"
     },
     "user_tz": 360
    },
    "id": "OPZ6KYI5iAMV",
    "outputId": "97e56744-4e96-49ea-d3b5-6486d613d5af"
   },
   "outputs": [
    {
     "data": {
      "text/plain": [
       "maritalstatus\n",
       "Married     35394\n",
       "Divorced    19954\n",
       "Single       4652\n",
       "Name: count, dtype: int64"
      ]
     },
     "execution_count": 40,
     "metadata": {},
     "output_type": "execute_result"
    }
   ],
   "source": [
    "# what does the marital status column look like\n",
    "health_attr['maritalstatus'].value_counts()"
   ]
  },
  {
   "cell_type": "code",
   "execution_count": null,
   "id": "MKnhJDKZjJmF",
   "metadata": {
    "colab": {
     "base_uri": "https://localhost:8080/"
    },
    "executionInfo": {
     "elapsed": 169,
     "status": "ok",
     "timestamp": 1716101275534,
     "user": {
      "displayName": "Tanya Seegmiller",
      "userId": "09396795393408040669"
     },
     "user_tz": 360
    },
    "id": "MKnhJDKZjJmF",
    "outputId": "8d0762a8-1402-4276-fc45-bb70c32bd038"
   },
   "outputs": [
    {
     "name": "stdout",
     "output_type": "stream",
     "text": [
      "37.86% of nurses are divorced.\n"
     ]
    }
   ],
   "source": [
    "# what percent of jobrole values of Ed nurse, ICU nurse, surgery RN have maritalstatus == Divorced\n",
    "# checking synthetic data accuracy\n",
    "divorced_nurses = health_attr[(health_attr['jobrole'].isin(['ED nurse', 'ICU nurse', 'surgery RN'])) & (health_attr['maritalstatus'] == 'Divorced')]\n",
    "total_nurses = health_attr[health_attr['jobrole'].isin(['ED nurse', 'ICU nurse', 'surgery RN'])]\n",
    "percent_divorced = (len(divorced_nurses) / len(total_nurses)) * 100\n",
    "print(f\"{percent_divorced:.2f}% of nurses are divorced.\")"
   ]
  },
  {
   "cell_type": "code",
   "execution_count": null,
   "id": "ksye3ScIjJi9",
   "metadata": {
    "colab": {
     "base_uri": "https://localhost:8080/"
    },
    "executionInfo": {
     "elapsed": 156,
     "status": "ok",
     "timestamp": 1716101279202,
     "user": {
      "displayName": "Tanya Seegmiller",
      "userId": "09396795393408040669"
     },
     "user_tz": 360
    },
    "id": "ksye3ScIjJi9",
    "outputId": "c35ad414-69fb-417e-e0dc-73527a29f987"
   },
   "outputs": [
    {
     "name": "stdout",
     "output_type": "stream",
     "text": [
      "21.75% of doctors are divorced.\n"
     ]
    }
   ],
   "source": [
    "# what percent of jobrole values of 'ICU Dr', 'surgeon', 'pharmacist' have maritalstatus  == 'Divorced'\n",
    "# checking synthetic data accuracy\n",
    "divorced_medical_professionals = health_attr[(health_attr['jobrole'].isin(['ICU Dr', 'surgeon', 'pharmacist'])) & (health_attr['maritalstatus'] == 'Divorced')]\n",
    "total_medical_professionals = health_attr[health_attr['jobrole'].isin(['ICU Dr', 'surgeon', 'pharmacist'])]\n",
    "divorced_percent = (len(divorced_medical_professionals) / len(total_medical_professionals)) * 100\n",
    "print(f\"{divorced_percent:.2f}% of doctors are divorced.\")"
   ]
  },
  {
   "cell_type": "markdown",
   "id": "HaMjVlXJuzsm",
   "metadata": {
    "id": "HaMjVlXJuzsm"
   },
   "source": [
    "#### Total Working Years Section"
   ]
  },
  {
   "cell_type": "code",
   "execution_count": null,
   "id": "IZ03HwRLuyIY",
   "metadata": {
    "colab": {
     "base_uri": "https://localhost:8080/"
    },
    "collapsed": true,
    "executionInfo": {
     "elapsed": 157,
     "status": "ok",
     "timestamp": 1715751368485,
     "user": {
      "displayName": "Tanya Seegmiller",
      "userId": "09396795393408040669"
     },
     "user_tz": 360
    },
    "id": "IZ03HwRLuyIY",
    "jupyter": {
     "outputs_hidden": true
    },
    "outputId": "375199c7-2dbd-41a9-bf44-2c03f4f6b980"
   },
   "outputs": [
    {
     "data": {
      "text/plain": [
       "totalworkingyears\n",
       "40    0.026100\n",
       "35    0.026050\n",
       "32    0.025950\n",
       "27    0.025933\n",
       "2     0.025783\n",
       "3     0.025783\n",
       "14    0.025683\n",
       "16    0.025667\n",
       "20    0.025617\n",
       "26    0.025517\n",
       "12    0.025467\n",
       "5     0.025433\n",
       "37    0.025350\n",
       "18    0.025233\n",
       "11    0.025117\n",
       "4     0.025000\n",
       "23    0.025000\n",
       "1     0.025000\n",
       "39    0.024983\n",
       "29    0.024967\n",
       "28    0.024917\n",
       "24    0.024883\n",
       "38    0.024850\n",
       "15    0.024833\n",
       "13    0.024817\n",
       "30    0.024767\n",
       "33    0.024767\n",
       "7     0.024683\n",
       "8     0.024667\n",
       "9     0.024617\n",
       "6     0.024600\n",
       "34    0.024583\n",
       "31    0.024550\n",
       "17    0.024417\n",
       "21    0.024417\n",
       "22    0.024283\n",
       "19    0.024217\n",
       "36    0.023933\n",
       "10    0.023900\n",
       "25    0.023667\n",
       "Name: proportion, dtype: float64"
      ]
     },
     "execution_count": 33,
     "metadata": {},
     "output_type": "execute_result"
    }
   ],
   "source": [
    "health_attr['totalworkingyears'].value_counts(normalize=True)"
   ]
  },
  {
   "cell_type": "code",
   "execution_count": null,
   "id": "tcpeMP9asYBk",
   "metadata": {
    "id": "tcpeMP9asYBk"
   },
   "outputs": [],
   "source": [
    "def adjust_column_ratios(dataframe, column_name, target_value, target_percentage):\n",
    "    # Get the index of all rows in the dataframe\n",
    "    index_list = list(dataframe.index)\n",
    "    random.shuffle(index_list)\n",
    "\n",
    "    # Calculate the number of rows to be adjusted based on the percentage\n",
    "    num_adjusted_rows = int(len(index_list) * target_percentage)\n",
    "\n",
    "    # Create a list of target values based on the percentage\n",
    "    adjusted_values = [target_value] * num_adjusted_rows + \\\n",
    "                      [other_value for other_value in dataframe[column_name].unique() if other_value != target_value]\n",
    "\n",
    "    # Assign adjusted values to corresponding indices\n",
    "    for index, value in zip(index_list[:num_adjusted_rows], adjusted_values):\n",
    "        dataframe.at[index, column_name] = value\n",
    "\n",
    "    # Calculate the new ratios\n",
    "    new_value_ratios = dataframe[column_name].value_counts(normalize=True)\n",
    "    print(\"New value ratios for {} column with target value {}: {}\".format(column_name, target_value, new_value_ratios))"
   ]
  },
  {
   "cell_type": "markdown",
   "id": "yoVPfZKDxxqb",
   "metadata": {
    "id": "yoVPfZKDxxqb"
   },
   "source": [
    "#### Distance From Home Section"
   ]
  },
  {
   "cell_type": "code",
   "execution_count": null,
   "id": "01UBYIudzqFE",
   "metadata": {
    "colab": {
     "base_uri": "https://localhost:8080/"
    },
    "collapsed": true,
    "executionInfo": {
     "elapsed": 154,
     "status": "ok",
     "timestamp": 1715752327211,
     "user": {
      "displayName": "Tanya Seegmiller",
      "userId": "09396795393408040669"
     },
     "user_tz": 360
    },
    "id": "01UBYIudzqFE",
    "jupyter": {
     "outputs_hidden": true
    },
    "outputId": "ee04d102-f65c-4711-e4ad-9fc76d67b1e5"
   },
   "outputs": [
    {
     "data": {
      "text/plain": [
       "distancefromhome\n",
       "25    0.021617\n",
       "24    0.021600\n",
       "32    0.021133\n",
       "34    0.020783\n",
       "18    0.020650\n",
       "13    0.020517\n",
       "21    0.020483\n",
       "20    0.020417\n",
       "27    0.020400\n",
       "40    0.020383\n",
       "10    0.020383\n",
       "41    0.020317\n",
       "19    0.020317\n",
       "28    0.020300\n",
       "30    0.020300\n",
       "1     0.020300\n",
       "42    0.020233\n",
       "22    0.020217\n",
       "48    0.020183\n",
       "12    0.020150\n",
       "23    0.020067\n",
       "14    0.020033\n",
       "16    0.020033\n",
       "15    0.020000\n",
       "50    0.019967\n",
       "26    0.019950\n",
       "29    0.019933\n",
       "35    0.019917\n",
       "31    0.019917\n",
       "47    0.019883\n",
       "39    0.019883\n",
       "3     0.019850\n",
       "6     0.019817\n",
       "44    0.019817\n",
       "7     0.019800\n",
       "49    0.019783\n",
       "38    0.019767\n",
       "43    0.019733\n",
       "8     0.019683\n",
       "11    0.019650\n",
       "2     0.019550\n",
       "5     0.019517\n",
       "33    0.019517\n",
       "46    0.019417\n",
       "9     0.019217\n",
       "37    0.019033\n",
       "45    0.018967\n",
       "4     0.018917\n",
       "36    0.018850\n",
       "17    0.018850\n",
       "Name: proportion, dtype: float64"
      ]
     },
     "execution_count": 61,
     "metadata": {},
     "output_type": "execute_result"
    }
   ],
   "source": [
    "health_attr['distancefromhome'].value_counts(normalize= True)"
   ]
  },
  {
   "cell_type": "code",
   "execution_count": null,
   "id": "xW-fmJSOx01I",
   "metadata": {
    "colab": {
     "base_uri": "https://localhost:8080/"
    },
    "collapsed": true,
    "executionInfo": {
     "elapsed": 323,
     "status": "ok",
     "timestamp": 1715752341730,
     "user": {
      "displayName": "Tanya Seegmiller",
      "userId": "09396795393408040669"
     },
     "user_tz": 360
    },
    "id": "xW-fmJSOx01I",
    "jupyter": {
     "outputs_hidden": true
    },
    "outputId": "5830a5b4-193e-47aa-8204-77f445f1268a"
   },
   "outputs": [
    {
     "name": "stdout",
     "output_type": "stream",
     "text": [
      "New value ratios for distancefromhome column with target value 2: distancefromhome\n",
      "2     0.156750\n",
      "25    0.018800\n",
      "24    0.018667\n",
      "32    0.018433\n",
      "18    0.017850\n",
      "13    0.017850\n",
      "40    0.017717\n",
      "22    0.017650\n",
      "27    0.017633\n",
      "34    0.017583\n",
      "20    0.017567\n",
      "42    0.017567\n",
      "12    0.017517\n",
      "30    0.017500\n",
      "14    0.017483\n",
      "10    0.017467\n",
      "6     0.017400\n",
      "1     0.017400\n",
      "41    0.017383\n",
      "19    0.017367\n",
      "8     0.017367\n",
      "16    0.017367\n",
      "29    0.017267\n",
      "21    0.017267\n",
      "15    0.017267\n",
      "47    0.017233\n",
      "26    0.017200\n",
      "23    0.017167\n",
      "48    0.017150\n",
      "44    0.017150\n",
      "28    0.017083\n",
      "50    0.017067\n",
      "33    0.017050\n",
      "3     0.016967\n",
      "7     0.016967\n",
      "11    0.016933\n",
      "38    0.016933\n",
      "43    0.016883\n",
      "39    0.016883\n",
      "49    0.016767\n",
      "5     0.016733\n",
      "35    0.016733\n",
      "31    0.016717\n",
      "9     0.016633\n",
      "46    0.016500\n",
      "45    0.016450\n",
      "17    0.016267\n",
      "37    0.016233\n",
      "4     0.016150\n",
      "36    0.016033\n",
      "Name: proportion, dtype: float64\n"
     ]
    }
   ],
   "source": [
    "adjust_column_ratios(health_attr, 'distancefromhome', 2, 0.14)"
   ]
  },
  {
   "cell_type": "code",
   "execution_count": null,
   "id": "1XyAakJCx8bg",
   "metadata": {
    "colab": {
     "base_uri": "https://localhost:8080/"
    },
    "collapsed": true,
    "executionInfo": {
     "elapsed": 332,
     "status": "ok",
     "timestamp": 1715752351598,
     "user": {
      "displayName": "Tanya Seegmiller",
      "userId": "09396795393408040669"
     },
     "user_tz": 360
    },
    "id": "1XyAakJCx8bg",
    "jupyter": {
     "outputs_hidden": true
    },
    "outputId": "e70f084c-ef66-4412-c282-919e52c830fb"
   },
   "outputs": [
    {
     "name": "stdout",
     "output_type": "stream",
     "text": [
      "New value ratios for distancefromhome column with target value 1: distancefromhome\n",
      "1     0.154650\n",
      "2     0.135283\n",
      "25    0.016417\n",
      "24    0.015967\n",
      "32    0.015867\n",
      "10    0.015400\n",
      "27    0.015333\n",
      "42    0.015250\n",
      "22    0.015233\n",
      "40    0.015233\n",
      "30    0.015217\n",
      "34    0.015183\n",
      "8     0.015167\n",
      "20    0.015167\n",
      "19    0.015133\n",
      "18    0.015117\n",
      "13    0.015083\n",
      "48    0.015083\n",
      "41    0.015083\n",
      "47    0.015033\n",
      "44    0.015017\n",
      "14    0.014967\n",
      "26    0.014933\n",
      "28    0.014900\n",
      "12    0.014883\n",
      "16    0.014867\n",
      "50    0.014850\n",
      "23    0.014800\n",
      "15    0.014800\n",
      "6     0.014800\n",
      "29    0.014750\n",
      "33    0.014717\n",
      "21    0.014617\n",
      "5     0.014517\n",
      "11    0.014500\n",
      "38    0.014467\n",
      "46    0.014450\n",
      "3     0.014433\n",
      "43    0.014367\n",
      "31    0.014367\n",
      "39    0.014367\n",
      "7     0.014300\n",
      "35    0.014233\n",
      "9     0.014067\n",
      "17    0.013983\n",
      "49    0.013950\n",
      "45    0.013883\n",
      "37    0.013817\n",
      "4     0.013783\n",
      "36    0.013717\n",
      "Name: proportion, dtype: float64\n"
     ]
    }
   ],
   "source": [
    "adjust_column_ratios(health_attr, 'distancefromhome', 1, 0.14)"
   ]
  },
  {
   "cell_type": "code",
   "execution_count": null,
   "id": "ms1ucUCgyALS",
   "metadata": {
    "colab": {
     "base_uri": "https://localhost:8080/"
    },
    "collapsed": true,
    "executionInfo": {
     "elapsed": 299,
     "status": "ok",
     "timestamp": 1715752362193,
     "user": {
      "displayName": "Tanya Seegmiller",
      "userId": "09396795393408040669"
     },
     "user_tz": 360
    },
    "id": "ms1ucUCgyALS",
    "jupyter": {
     "outputs_hidden": true
    },
    "outputId": "1c718204-2e83-4e3d-fc80-aad399d2aa40"
   },
   "outputs": [
    {
     "name": "stdout",
     "output_type": "stream",
     "text": [
      "New value ratios for distancefromhome column with target value 10: distancefromhome\n",
      "1     0.147100\n",
      "2     0.128533\n",
      "10    0.064667\n",
      "25    0.015717\n",
      "32    0.015100\n",
      "24    0.015067\n",
      "27    0.014667\n",
      "20    0.014517\n",
      "42    0.014467\n",
      "14    0.014433\n",
      "22    0.014417\n",
      "48    0.014417\n",
      "41    0.014400\n",
      "30    0.014383\n",
      "8     0.014383\n",
      "13    0.014367\n",
      "47    0.014350\n",
      "44    0.014317\n",
      "34    0.014317\n",
      "40    0.014317\n",
      "18    0.014283\n",
      "19    0.014267\n",
      "28    0.014267\n",
      "12    0.014267\n",
      "15    0.014217\n",
      "29    0.014217\n",
      "26    0.014117\n",
      "16    0.014100\n",
      "50    0.014033\n",
      "6     0.014017\n",
      "23    0.013933\n",
      "33    0.013850\n",
      "21    0.013850\n",
      "46    0.013817\n",
      "5     0.013783\n",
      "38    0.013750\n",
      "11    0.013700\n",
      "43    0.013650\n",
      "3     0.013617\n",
      "39    0.013600\n",
      "31    0.013583\n",
      "7     0.013517\n",
      "9     0.013417\n",
      "35    0.013367\n",
      "17    0.013333\n",
      "37    0.013217\n",
      "49    0.013133\n",
      "45    0.013117\n",
      "4     0.013033\n",
      "36    0.013017\n",
      "Name: proportion, dtype: float64\n"
     ]
    }
   ],
   "source": [
    "adjust_column_ratios(health_attr, 'distancefromhome', 10, 0.05)"
   ]
  },
  {
   "cell_type": "code",
   "execution_count": null,
   "id": "Fe8QTvqjySFc",
   "metadata": {
    "colab": {
     "base_uri": "https://localhost:8080/"
    },
    "collapsed": true,
    "executionInfo": {
     "elapsed": 141,
     "status": "ok",
     "timestamp": 1715752375720,
     "user": {
      "displayName": "Tanya Seegmiller",
      "userId": "09396795393408040669"
     },
     "user_tz": 360
    },
    "id": "Fe8QTvqjySFc",
    "jupyter": {
     "outputs_hidden": true
    },
    "outputId": "da7e7e52-3bc3-4a06-a62f-f063e966faf1"
   },
   "outputs": [
    {
     "name": "stdout",
     "output_type": "stream",
     "text": [
      "New value ratios for distancefromhome column with target value 9: distancefromhome\n",
      "1     0.138917\n",
      "2     0.120483\n",
      "9     0.069600\n",
      "10    0.060350\n",
      "25    0.014800\n",
      "32    0.014283\n",
      "24    0.014150\n",
      "20    0.013833\n",
      "27    0.013783\n",
      "40    0.013767\n",
      "18    0.013717\n",
      "22    0.013700\n",
      "42    0.013700\n",
      "13    0.013683\n",
      "34    0.013667\n",
      "48    0.013600\n",
      "30    0.013600\n",
      "44    0.013550\n",
      "41    0.013533\n",
      "8     0.013517\n",
      "47    0.013517\n",
      "14    0.013450\n",
      "12    0.013417\n",
      "19    0.013400\n",
      "28    0.013383\n",
      "16    0.013333\n",
      "50    0.013300\n",
      "26    0.013283\n",
      "29    0.013283\n",
      "23    0.013267\n",
      "33    0.013233\n",
      "15    0.013233\n",
      "6     0.013100\n",
      "43    0.013083\n",
      "11    0.013083\n",
      "38    0.013050\n",
      "21    0.013033\n",
      "31    0.013000\n",
      "46    0.012983\n",
      "5     0.012967\n",
      "7     0.012933\n",
      "3     0.012767\n",
      "35    0.012717\n",
      "37    0.012617\n",
      "39    0.012567\n",
      "17    0.012550\n",
      "4     0.012417\n",
      "49    0.012367\n",
      "45    0.012233\n",
      "36    0.012200\n",
      "Name: proportion, dtype: float64\n"
     ]
    }
   ],
   "source": [
    "adjust_column_ratios(health_attr, 'distancefromhome', 9, 0.057)"
   ]
  },
  {
   "cell_type": "code",
   "execution_count": null,
   "id": "sg4_nqMAyecR",
   "metadata": {
    "colab": {
     "base_uri": "https://localhost:8080/"
    },
    "collapsed": true,
    "executionInfo": {
     "elapsed": 325,
     "status": "ok",
     "timestamp": 1715752381093,
     "user": {
      "displayName": "Tanya Seegmiller",
      "userId": "09396795393408040669"
     },
     "user_tz": 360
    },
    "id": "sg4_nqMAyecR",
    "jupyter": {
     "outputs_hidden": true
    },
    "outputId": "ccd04eec-3b17-46d8-f85f-390e8dab83d2"
   },
   "outputs": [
    {
     "name": "stdout",
     "output_type": "stream",
     "text": [
      "New value ratios for distancefromhome column with target value 3: distancefromhome\n",
      "1     0.130817\n",
      "2     0.113800\n",
      "3     0.069050\n",
      "9     0.065950\n",
      "10    0.056800\n",
      "25    0.013867\n",
      "32    0.013483\n",
      "24    0.013217\n",
      "20    0.013133\n",
      "18    0.013033\n",
      "34    0.013033\n",
      "42    0.012950\n",
      "40    0.012950\n",
      "48    0.012917\n",
      "44    0.012917\n",
      "13    0.012900\n",
      "27    0.012817\n",
      "47    0.012800\n",
      "30    0.012783\n",
      "22    0.012733\n",
      "12    0.012717\n",
      "50    0.012700\n",
      "14    0.012667\n",
      "19    0.012633\n",
      "15    0.012617\n",
      "16    0.012617\n",
      "33    0.012600\n",
      "28    0.012583\n",
      "41    0.012517\n",
      "26    0.012500\n",
      "23    0.012450\n",
      "6     0.012433\n",
      "29    0.012433\n",
      "8     0.012383\n",
      "11    0.012383\n",
      "31    0.012367\n",
      "38    0.012350\n",
      "43    0.012300\n",
      "7     0.012283\n",
      "5     0.012233\n",
      "46    0.012150\n",
      "21    0.012083\n",
      "35    0.012067\n",
      "37    0.011967\n",
      "39    0.011900\n",
      "4     0.011717\n",
      "17    0.011700\n",
      "49    0.011667\n",
      "36    0.011567\n",
      "45    0.011467\n",
      "Name: proportion, dtype: float64\n"
     ]
    }
   ],
   "source": [
    "adjust_column_ratios(health_attr, 'distancefromhome', 3, 0.057)"
   ]
  },
  {
   "cell_type": "code",
   "execution_count": null,
   "id": "aJGCcZE-ynI_",
   "metadata": {
    "colab": {
     "base_uri": "https://localhost:8080/"
    },
    "collapsed": true,
    "executionInfo": {
     "elapsed": 173,
     "status": "ok",
     "timestamp": 1715752385837,
     "user": {
      "displayName": "Tanya Seegmiller",
      "userId": "09396795393408040669"
     },
     "user_tz": 360
    },
    "id": "aJGCcZE-ynI_",
    "jupyter": {
     "outputs_hidden": true
    },
    "outputId": "50f04b1f-33dc-42c9-cd48-46f609dba7f8"
   },
   "outputs": [
    {
     "name": "stdout",
     "output_type": "stream",
     "text": [
      "New value ratios for distancefromhome column with target value 7: distancefromhome\n",
      "1     0.123433\n",
      "2     0.107617\n",
      "7     0.068600\n",
      "3     0.065017\n",
      "9     0.062583\n",
      "10    0.053567\n",
      "25    0.013000\n",
      "32    0.012600\n",
      "20    0.012333\n",
      "24    0.012300\n",
      "27    0.012267\n",
      "48    0.012250\n",
      "42    0.012217\n",
      "44    0.012183\n",
      "34    0.012183\n",
      "22    0.012117\n",
      "47    0.012100\n",
      "30    0.012067\n",
      "18    0.012050\n",
      "40    0.012050\n",
      "12    0.012017\n",
      "13    0.011983\n",
      "50    0.011950\n",
      "38    0.011917\n",
      "14    0.011867\n",
      "19    0.011867\n",
      "11    0.011850\n",
      "41    0.011850\n",
      "16    0.011833\n",
      "6     0.011817\n",
      "28    0.011767\n",
      "15    0.011767\n",
      "33    0.011767\n",
      "26    0.011733\n",
      "8     0.011717\n",
      "43    0.011700\n",
      "29    0.011683\n",
      "31    0.011617\n",
      "23    0.011617\n",
      "5     0.011550\n",
      "39    0.011483\n",
      "35    0.011400\n",
      "21    0.011383\n",
      "46    0.011350\n",
      "37    0.011283\n",
      "4     0.011033\n",
      "36    0.011017\n",
      "49    0.010983\n",
      "17    0.010883\n",
      "45    0.010783\n",
      "Name: proportion, dtype: float64\n"
     ]
    }
   ],
   "source": [
    "adjust_column_ratios(health_attr, 'distancefromhome', 7, 0.057)"
   ]
  },
  {
   "cell_type": "code",
   "execution_count": null,
   "id": "VaO9Nlp9yzi1",
   "metadata": {
    "colab": {
     "base_uri": "https://localhost:8080/"
    },
    "collapsed": true,
    "executionInfo": {
     "elapsed": 418,
     "status": "ok",
     "timestamp": 1715752459463,
     "user": {
      "displayName": "Tanya Seegmiller",
      "userId": "09396795393408040669"
     },
     "user_tz": 360
    },
    "id": "VaO9Nlp9yzi1",
    "jupyter": {
     "outputs_hidden": true
    },
    "outputId": "0e8ac600-e30c-4338-dbb8-d865047e130f"
   },
   "outputs": [
    {
     "name": "stdout",
     "output_type": "stream",
     "text": [
      "New value ratios for distancefromhome column with target value 16: distancefromhome\n",
      "1     0.114117\n",
      "2     0.099450\n",
      "8     0.063850\n",
      "7     0.063583\n",
      "3     0.060617\n",
      "9     0.057950\n",
      "10    0.049183\n",
      "16    0.030817\n",
      "25    0.012200\n",
      "32    0.012000\n",
      "24    0.011617\n",
      "34    0.011567\n",
      "44    0.011467\n",
      "42    0.011433\n",
      "40    0.011433\n",
      "20    0.011400\n",
      "13    0.011250\n",
      "30    0.011250\n",
      "47    0.011233\n",
      "18    0.011217\n",
      "48    0.011200\n",
      "12    0.011183\n",
      "14    0.011167\n",
      "27    0.011117\n",
      "11    0.011100\n",
      "50    0.011050\n",
      "15    0.011017\n",
      "38    0.011017\n",
      "26    0.011000\n",
      "33    0.010983\n",
      "28    0.010967\n",
      "22    0.010950\n",
      "6     0.010950\n",
      "41    0.010917\n",
      "29    0.010867\n",
      "19    0.010850\n",
      "39    0.010850\n",
      "21    0.010733\n",
      "43    0.010700\n",
      "23    0.010700\n",
      "5     0.010667\n",
      "46    0.010650\n",
      "31    0.010617\n",
      "35    0.010517\n",
      "37    0.010233\n",
      "4     0.010217\n",
      "49    0.010117\n",
      "17    0.010050\n",
      "36    0.010033\n",
      "45    0.009950\n",
      "Name: proportion, dtype: float64\n"
     ]
    }
   ],
   "source": [
    "adjust_column_ratios(health_attr, 'distancefromhome', 16, 0.02)"
   ]
  },
  {
   "cell_type": "code",
   "execution_count": null,
   "id": "_1FIzOe40GYI",
   "metadata": {
    "id": "_1FIzOe40GYI"
   },
   "outputs": [],
   "source": [
    "adjust_column_ratios(health_attr, 'distancefromhome', 8, 0.054)"
   ]
  },
  {
   "cell_type": "markdown",
   "id": "SzC3WnnuyOxD",
   "metadata": {
    "id": "SzC3WnnuyOxD"
   },
   "source": [
    "#### Total Working Years Section"
   ]
  },
  {
   "cell_type": "code",
   "execution_count": null,
   "id": "TepFpd43u-oO",
   "metadata": {
    "colab": {
     "base_uri": "https://localhost:8080/"
    },
    "collapsed": true,
    "executionInfo": {
     "elapsed": 466,
     "status": "ok",
     "timestamp": 1715751438388,
     "user": {
      "displayName": "Tanya Seegmiller",
      "userId": "09396795393408040669"
     },
     "user_tz": 360
    },
    "id": "TepFpd43u-oO",
    "jupyter": {
     "outputs_hidden": true
    },
    "outputId": "07b55b70-423f-4c40-8898-6ec537e3ac54"
   },
   "outputs": [
    {
     "name": "stdout",
     "output_type": "stream",
     "text": [
      "New value ratios for totalworkingyears column with target value 10: totalworkingyears\n",
      "10    0.150683\n",
      "16    0.022767\n",
      "35    0.022667\n",
      "2     0.022667\n",
      "32    0.022650\n",
      "3     0.022617\n",
      "40    0.022550\n",
      "27    0.022417\n",
      "37    0.022350\n",
      "12    0.022317\n",
      "5     0.022117\n",
      "20    0.022083\n",
      "26    0.022067\n",
      "14    0.022067\n",
      "39    0.022000\n",
      "15    0.022000\n",
      "28    0.021833\n",
      "33    0.021800\n",
      "29    0.021717\n",
      "18    0.021683\n",
      "11    0.021667\n",
      "4     0.021667\n",
      "38    0.021650\n",
      "7     0.021633\n",
      "13    0.021617\n",
      "6     0.021567\n",
      "8     0.021517\n",
      "24    0.021500\n",
      "19    0.021500\n",
      "1     0.021467\n",
      "22    0.021367\n",
      "9     0.021250\n",
      "25    0.021233\n",
      "23    0.021217\n",
      "31    0.021200\n",
      "21    0.021183\n",
      "34    0.021150\n",
      "30    0.021067\n",
      "17    0.020983\n",
      "36    0.020517\n",
      "Name: proportion, dtype: float64\n"
     ]
    }
   ],
   "source": [
    "adjust_column_ratios(health_attr, 'totalworkingyears', 10, 0.13)"
   ]
  },
  {
   "cell_type": "code",
   "execution_count": null,
   "id": "i7R-XP0WvHB7",
   "metadata": {
    "colab": {
     "base_uri": "https://localhost:8080/"
    },
    "collapsed": true,
    "executionInfo": {
     "elapsed": 359,
     "status": "ok",
     "timestamp": 1715751445702,
     "user": {
      "displayName": "Tanya Seegmiller",
      "userId": "09396795393408040669"
     },
     "user_tz": 360
    },
    "id": "i7R-XP0WvHB7",
    "jupyter": {
     "outputs_hidden": true
    },
    "outputId": "2cff600f-82ae-4ab7-b732-bb423af6b347"
   },
   "outputs": [
    {
     "name": "stdout",
     "output_type": "stream",
     "text": [
      "New value ratios for totalworkingyears column with target value 6: totalworkingyears\n",
      "10    0.137633\n",
      "6     0.104783\n",
      "35    0.021083\n",
      "16    0.020900\n",
      "40    0.020817\n",
      "32    0.020650\n",
      "27    0.020633\n",
      "37    0.020600\n",
      "3     0.020600\n",
      "12    0.020583\n",
      "2     0.020583\n",
      "14    0.020200\n",
      "26    0.020150\n",
      "39    0.020150\n",
      "20    0.020067\n",
      "7     0.020067\n",
      "28    0.020033\n",
      "11    0.019983\n",
      "15    0.019950\n",
      "13    0.019933\n",
      "19    0.019917\n",
      "4     0.019917\n",
      "5     0.019867\n",
      "8     0.019850\n",
      "33    0.019800\n",
      "29    0.019733\n",
      "18    0.019700\n",
      "22    0.019650\n",
      "24    0.019617\n",
      "25    0.019583\n",
      "23    0.019567\n",
      "38    0.019517\n",
      "34    0.019433\n",
      "1     0.019400\n",
      "9     0.019350\n",
      "30    0.019333\n",
      "31    0.019317\n",
      "21    0.019200\n",
      "17    0.019167\n",
      "36    0.018683\n",
      "Name: proportion, dtype: float64\n"
     ]
    }
   ],
   "source": [
    "adjust_column_ratios(health_attr, 'totalworkingyears', 6, 0.085)"
   ]
  },
  {
   "cell_type": "code",
   "execution_count": null,
   "id": "Nto1rN_FvRRr",
   "metadata": {
    "colab": {
     "base_uri": "https://localhost:8080/"
    },
    "collapsed": true,
    "executionInfo": {
     "elapsed": 331,
     "status": "ok",
     "timestamp": 1715751452773,
     "user": {
      "displayName": "Tanya Seegmiller",
      "userId": "09396795393408040669"
     },
     "user_tz": 360
    },
    "id": "Nto1rN_FvRRr",
    "jupyter": {
     "outputs_hidden": true
    },
    "outputId": "e5f156be-8c78-415c-a85f-a4b9e9aa8648"
   },
   "outputs": [
    {
     "name": "stdout",
     "output_type": "stream",
     "text": [
      "New value ratios for totalworkingyears column with target value 8: totalworkingyears\n",
      "10    0.128650\n",
      "6     0.097850\n",
      "8     0.088683\n",
      "35    0.019783\n",
      "40    0.019417\n",
      "16    0.019367\n",
      "32    0.019233\n",
      "2     0.019217\n",
      "3     0.019117\n",
      "27    0.019117\n",
      "14    0.019117\n",
      "37    0.019067\n",
      "12    0.019017\n",
      "20    0.018883\n",
      "33    0.018700\n",
      "26    0.018650\n",
      "39    0.018617\n",
      "11    0.018600\n",
      "15    0.018583\n",
      "7     0.018583\n",
      "28    0.018500\n",
      "4     0.018483\n",
      "13    0.018400\n",
      "19    0.018383\n",
      "25    0.018350\n",
      "5     0.018283\n",
      "38    0.018150\n",
      "29    0.018150\n",
      "18    0.018150\n",
      "23    0.018133\n",
      "1     0.018117\n",
      "22    0.018100\n",
      "30    0.018083\n",
      "34    0.018017\n",
      "24    0.018017\n",
      "21    0.017967\n",
      "9     0.017867\n",
      "17    0.017767\n",
      "31    0.017667\n",
      "36    0.017167\n",
      "Name: proportion, dtype: float64\n"
     ]
    }
   ],
   "source": [
    "adjust_column_ratios(health_attr, 'totalworkingyears', 8, 0.07)"
   ]
  },
  {
   "cell_type": "code",
   "execution_count": null,
   "id": "fn0Pz8FQvZVg",
   "metadata": {
    "colab": {
     "base_uri": "https://localhost:8080/"
    },
    "collapsed": true,
    "executionInfo": {
     "elapsed": 320,
     "status": "ok",
     "timestamp": 1715751489741,
     "user": {
      "displayName": "Tanya Seegmiller",
      "userId": "09396795393408040669"
     },
     "user_tz": 360
    },
    "id": "fn0Pz8FQvZVg",
    "jupyter": {
     "outputs_hidden": true
    },
    "outputId": "9497cd0b-b6a6-4a54-b45c-3d873cecf0b5"
   },
   "outputs": [
    {
     "name": "stdout",
     "output_type": "stream",
     "text": [
      "New value ratios for totalworkingyears column with target value 9: totalworkingyears\n",
      "10    0.120033\n",
      "6     0.091900\n",
      "8     0.082983\n",
      "9     0.081717\n",
      "35    0.018317\n",
      "16    0.018150\n",
      "40    0.018050\n",
      "27    0.017967\n",
      "2     0.017917\n",
      "12    0.017900\n",
      "32    0.017900\n",
      "3     0.017833\n",
      "14    0.017717\n",
      "37    0.017717\n",
      "15    0.017683\n",
      "39    0.017650\n",
      "26    0.017583\n",
      "20    0.017517\n",
      "7     0.017467\n",
      "28    0.017333\n",
      "11    0.017333\n",
      "4     0.017317\n",
      "13    0.017267\n",
      "33    0.017233\n",
      "19    0.017100\n",
      "22    0.017100\n",
      "5     0.017017\n",
      "25    0.016983\n",
      "29    0.016983\n",
      "1     0.016967\n",
      "30    0.016950\n",
      "18    0.016883\n",
      "17    0.016883\n",
      "34    0.016817\n",
      "38    0.016817\n",
      "23    0.016783\n",
      "21    0.016783\n",
      "24    0.016667\n",
      "31    0.016600\n",
      "36    0.016183\n",
      "Name: proportion, dtype: float64\n"
     ]
    }
   ],
   "source": [
    "adjust_column_ratios(health_attr, 'totalworkingyears', 9, 0.065)"
   ]
  },
  {
   "cell_type": "code",
   "execution_count": null,
   "id": "Ws7t8LfAwotJ",
   "metadata": {
    "colab": {
     "base_uri": "https://localhost:8080/"
    },
    "collapsed": true,
    "executionInfo": {
     "elapsed": 136,
     "status": "ok",
     "timestamp": 1715751535280,
     "user": {
      "displayName": "Tanya Seegmiller",
      "userId": "09396795393408040669"
     },
     "user_tz": 360
    },
    "id": "Ws7t8LfAwotJ",
    "jupyter": {
     "outputs_hidden": true
    },
    "outputId": "904553a5-5bef-4f36-e17a-4c541c186c91"
   },
   "outputs": [
    {
     "name": "stdout",
     "output_type": "stream",
     "text": [
      "New value ratios for totalworkingyears column with target value 5: totalworkingyears\n",
      "10    0.112500\n",
      "6     0.086283\n",
      "8     0.077883\n",
      "9     0.077050\n",
      "5     0.074933\n",
      "35    0.017400\n",
      "40    0.017133\n",
      "12    0.017050\n",
      "16    0.016983\n",
      "2     0.016917\n",
      "27    0.016800\n",
      "39    0.016767\n",
      "20    0.016750\n",
      "14    0.016717\n",
      "3     0.016683\n",
      "32    0.016683\n",
      "26    0.016667\n",
      "15    0.016617\n",
      "37    0.016600\n",
      "7     0.016567\n",
      "13    0.016433\n",
      "33    0.016333\n",
      "11    0.016333\n",
      "22    0.016267\n",
      "28    0.016217\n",
      "25    0.016133\n",
      "4     0.016017\n",
      "19    0.015983\n",
      "23    0.015983\n",
      "1     0.015950\n",
      "30    0.015933\n",
      "29    0.015917\n",
      "17    0.015900\n",
      "34    0.015883\n",
      "18    0.015867\n",
      "38    0.015833\n",
      "31    0.015783\n",
      "24    0.015600\n",
      "21    0.015567\n",
      "36    0.015083\n",
      "Name: proportion, dtype: float64\n"
     ]
    }
   ],
   "source": [
    "adjust_column_ratios(health_attr, 'totalworkingyears', 5, 0.059)"
   ]
  },
  {
   "cell_type": "markdown",
   "id": "sRFbhy9ysQRW",
   "metadata": {
    "id": "sRFbhy9ysQRW"
   },
   "source": [
    "#### Training Times Last Year Section"
   ]
  },
  {
   "cell_type": "code",
   "execution_count": null,
   "id": "aUKOFls0uMn5",
   "metadata": {
    "colab": {
     "base_uri": "https://localhost:8080/"
    },
    "executionInfo": {
     "elapsed": 141,
     "status": "ok",
     "timestamp": 1715750889309,
     "user": {
      "displayName": "Tanya Seegmiller",
      "userId": "09396795393408040669"
     },
     "user_tz": 360
    },
    "id": "aUKOFls0uMn5",
    "outputId": "6e263aad-497f-4b67-916c-8fbdd444b500"
   },
   "outputs": [
    {
     "data": {
      "text/plain": [
       "trainingtimeslastyear\n",
       "2    28173\n",
       "3    16495\n",
       "5     6295\n",
       "4     5956\n",
       "6     1561\n",
       "1     1520\n",
       "Name: count, dtype: int64"
      ]
     },
     "execution_count": 18,
     "metadata": {},
     "output_type": "execute_result"
    }
   ],
   "source": [
    "health_attr['trainingtimeslastyear'].value_counts()"
   ]
  },
  {
   "cell_type": "code",
   "execution_count": null,
   "id": "TVDiEwVEtQVG",
   "metadata": {
    "colab": {
     "base_uri": "https://localhost:8080/"
    },
    "executionInfo": {
     "elapsed": 574,
     "status": "ok",
     "timestamp": 1715750741008,
     "user": {
      "displayName": "Tanya Seegmiller",
      "userId": "09396795393408040669"
     },
     "user_tz": 360
    },
    "id": "TVDiEwVEtQVG",
    "outputId": "22be2c06-ab6d-4a45-e7d1-575ff6b98740"
   },
   "outputs": [
    {
     "name": "stdout",
     "output_type": "stream",
     "text": [
      "New value ratios for trainingtimeslastyear column with target value 3: trainingtimeslastyear\n",
      "3    0.516450\n",
      "2    0.293400\n",
      "1    0.047783\n",
      "5    0.047650\n",
      "4    0.047450\n",
      "6    0.047267\n",
      "Name: proportion, dtype: float64\n"
     ]
    }
   ],
   "source": [
    "adjust_column_ratios(health_attr, 'trainingtimeslastyear', 3, 0.33)"
   ]
  },
  {
   "cell_type": "code",
   "execution_count": null,
   "id": "cqLTk1bZtbCW",
   "metadata": {
    "colab": {
     "base_uri": "https://localhost:8080/"
    },
    "executionInfo": {
     "elapsed": 658,
     "status": "ok",
     "timestamp": 1715750747225,
     "user": {
      "displayName": "Tanya Seegmiller",
      "userId": "09396795393408040669"
     },
     "user_tz": 360
    },
    "id": "cqLTk1bZtbCW",
    "outputId": "d9d73951-68dd-4886-d67b-eb576705fd17"
   },
   "outputs": [
    {
     "name": "stdout",
     "output_type": "stream",
     "text": [
      "New value ratios for trainingtimeslastyear column with target value 2: trainingtimeslastyear\n",
      "2    0.554050\n",
      "3    0.326050\n",
      "4    0.030217\n",
      "6    0.030200\n",
      "1    0.030150\n",
      "5    0.029333\n",
      "Name: proportion, dtype: float64\n"
     ]
    }
   ],
   "source": [
    "adjust_column_ratios(health_attr, 'trainingtimeslastyear', 2, 0.37)"
   ]
  },
  {
   "cell_type": "code",
   "execution_count": null,
   "id": "Ha0XxU3etxW6",
   "metadata": {
    "colab": {
     "base_uri": "https://localhost:8080/"
    },
    "executionInfo": {
     "elapsed": 703,
     "status": "ok",
     "timestamp": 1715750786021,
     "user": {
      "displayName": "Tanya Seegmiller",
      "userId": "09396795393408040669"
     },
     "user_tz": 360
    },
    "id": "Ha0XxU3etxW6",
    "outputId": "d2252da3-3b4a-47a7-a2b6-a2519b95755a"
   },
   "outputs": [
    {
     "name": "stdout",
     "output_type": "stream",
     "text": [
      "New value ratios for trainingtimeslastyear column with target value 4: trainingtimeslastyear\n",
      "2    0.509850\n",
      "3    0.299433\n",
      "4    0.107900\n",
      "6    0.028217\n",
      "1    0.027550\n",
      "5    0.027050\n",
      "Name: proportion, dtype: float64\n"
     ]
    }
   ],
   "source": [
    "adjust_column_ratios(health_attr, 'trainingtimeslastyear', 4, 0.08)"
   ]
  },
  {
   "cell_type": "code",
   "execution_count": null,
   "id": "qz-zPRy9t4To",
   "metadata": {
    "colab": {
     "base_uri": "https://localhost:8080/"
    },
    "executionInfo": {
     "elapsed": 327,
     "status": "ok",
     "timestamp": 1715750805641,
     "user": {
      "displayName": "Tanya Seegmiller",
      "userId": "09396795393408040669"
     },
     "user_tz": 360
    },
    "id": "qz-zPRy9t4To",
    "outputId": "25ec2b16-0421-4932-991f-13a45e150360"
   },
   "outputs": [
    {
     "name": "stdout",
     "output_type": "stream",
     "text": [
      "New value ratios for trainingtimeslastyear column with target value 5: trainingtimeslastyear\n",
      "2    0.469550\n",
      "3    0.274917\n",
      "5    0.104917\n",
      "4    0.099267\n",
      "6    0.026017\n",
      "1    0.025333\n",
      "Name: proportion, dtype: float64\n"
     ]
    }
   ],
   "source": [
    "adjust_column_ratios(health_attr, 'trainingtimeslastyear', 5, 0.08)"
   ]
  },
  {
   "cell_type": "markdown",
   "id": "vcQysLQ5rOJ5",
   "metadata": {
    "id": "vcQysLQ5rOJ5"
   },
   "source": [
    "#### Work Life Balance Section"
   ]
  },
  {
   "cell_type": "code",
   "execution_count": null,
   "id": "AoL83fclrI5H",
   "metadata": {
    "id": "AoL83fclrI5H"
   },
   "outputs": [],
   "source": [
    "# function to adjust df column balance ratios\n",
    "def adjust_balance_ratios(dataframe, balance_value, balance_percentage):\n",
    "    # Get the index of all rows in the dataframe\n",
    "    index_list = list(dataframe.index)\n",
    "    random.shuffle(index_list)\n",
    "\n",
    "    # Calculate the number of rows to be adjusted based on the percentage\n",
    "    num_adjusted_rows = int(len(index_list) * balance_percentage)\n",
    "\n",
    "    # Create a list of work-life balance values based on the percentage\n",
    "    adjusted_values = [balance_value] * num_adjusted_rows + \\\n",
    "                      [other_value for other_value in [1, 2, 3, 4] if other_value != balance_value]\n",
    "\n",
    "    # Assign adjusted work-life balance values to corresponding indices\n",
    "    for index, balance in zip(index_list[:num_adjusted_rows], adjusted_values):\n",
    "        dataframe.at[index, 'worklifebalance'] = balance\n",
    "\n",
    "    # Calculate the new work-life balance ratios\n",
    "    new_balance_ratios = dataframe['worklifebalance'].value_counts(normalize=True)\n",
    "    print(\"New work-life balance ratios for balance value {}: {}\".format(balance_value, new_balance_ratios))"
   ]
  },
  {
   "cell_type": "code",
   "execution_count": null,
   "id": "xskUMhDrr2fR",
   "metadata": {
    "colab": {
     "base_uri": "https://localhost:8080/"
    },
    "executionInfo": {
     "elapsed": 483,
     "status": "ok",
     "timestamp": 1715750274813,
     "user": {
      "displayName": "Tanya Seegmiller",
      "userId": "09396795393408040669"
     },
     "user_tz": 360
    },
    "id": "xskUMhDrr2fR",
    "outputId": "fee66b8d-06b2-4e76-f597-2f2b009dbfa8"
   },
   "outputs": [
    {
     "name": "stdout",
     "output_type": "stream",
     "text": [
      "New work-life balance ratios for balance value 4: worklifebalance\n",
      "3    0.489283\n",
      "2    0.276083\n",
      "4    0.166333\n",
      "1    0.068300\n",
      "Name: proportion, dtype: float64\n"
     ]
    }
   ],
   "source": [
    "adjust_balance_ratios(health_attr, 4, 0.10)"
   ]
  },
  {
   "cell_type": "code",
   "execution_count": null,
   "id": "xNg_EXX0rYJN",
   "metadata": {
    "colab": {
     "base_uri": "https://localhost:8080/"
    },
    "executionInfo": {
     "elapsed": 1385,
     "status": "ok",
     "timestamp": 1715750285295,
     "user": {
      "displayName": "Tanya Seegmiller",
      "userId": "09396795393408040669"
     },
     "user_tz": 360
    },
    "id": "xNg_EXX0rYJN",
    "outputId": "54ee6a71-eb32-49ac-c99f-210fb41f1b56"
   },
   "outputs": [
    {
     "name": "stdout",
     "output_type": "stream",
     "text": [
      "New work-life balance ratios for balance value 3: worklifebalance\n",
      "3    0.799550\n",
      "2    0.107967\n",
      "4    0.065833\n",
      "1    0.026650\n",
      "Name: proportion, dtype: float64\n"
     ]
    }
   ],
   "source": [
    "adjust_balance_ratios(health_attr, 3, 0.61)"
   ]
  },
  {
   "cell_type": "code",
   "execution_count": null,
   "id": "Lh7SudpgrsUZ",
   "metadata": {
    "colab": {
     "base_uri": "https://localhost:8080/"
    },
    "executionInfo": {
     "elapsed": 468,
     "status": "ok",
     "timestamp": 1715750291058,
     "user": {
      "displayName": "Tanya Seegmiller",
      "userId": "09396795393408040669"
     },
     "user_tz": 360
    },
    "id": "Lh7SudpgrsUZ",
    "outputId": "1daed6f6-489f-4320-cfb6-197a54caba0b"
   },
   "outputs": [
    {
     "name": "stdout",
     "output_type": "stream",
     "text": [
      "New work-life balance ratios for balance value 2: worklifebalance\n",
      "3    0.616117\n",
      "2    0.313733\n",
      "4    0.049950\n",
      "1    0.020200\n",
      "Name: proportion, dtype: float64\n"
     ]
    }
   ],
   "source": [
    "adjust_balance_ratios(health_attr, 2, 0.23)"
   ]
  },
  {
   "cell_type": "markdown",
   "id": "1FirAWuH0km9",
   "metadata": {
    "id": "1FirAWuH0km9"
   },
   "source": [
    "#### Age Section"
   ]
  },
  {
   "cell_type": "code",
   "execution_count": null,
   "id": "Ogir3TrI0nCj",
   "metadata": {
    "colab": {
     "base_uri": "https://localhost:8080/"
    },
    "executionInfo": {
     "elapsed": 200,
     "status": "ok",
     "timestamp": 1715794395784,
     "user": {
      "displayName": "Tanya Seegmiller",
      "userId": "09396795393408040669"
     },
     "user_tz": 360
    },
    "id": "Ogir3TrI0nCj",
    "outputId": "7d2bb140-615c-47bf-bb33-0ddd53436334"
   },
   "outputs": [
    {
     "data": {
      "text/plain": [
       "age\n",
       "3    0.142783\n",
       "9    0.139333\n",
       "2    0.136950\n",
       "5    0.116617\n",
       "8    0.115267\n",
       "7    0.112150\n",
       "4    0.111633\n",
       "6    0.086633\n",
       "1    0.038633\n",
       "Name: proportion, dtype: float64"
      ]
     },
     "execution_count": 18,
     "metadata": {},
     "output_type": "execute_result"
    }
   ],
   "source": [
    "health_attr['age'].value_counts(normalize=True)"
   ]
  },
  {
   "cell_type": "code",
   "execution_count": null,
   "id": "iYIt10C50qod",
   "metadata": {
    "colab": {
     "base_uri": "https://localhost:8080/"
    },
    "executionInfo": {
     "elapsed": 367,
     "status": "ok",
     "timestamp": 1715794248785,
     "user": {
      "displayName": "Tanya Seegmiller",
      "userId": "09396795393408040669"
     },
     "user_tz": 360
    },
    "id": "iYIt10C50qod",
    "outputId": "3035545a-56df-47a6-dc80-845416f87fba"
   },
   "outputs": [
    {
     "name": "stdout",
     "output_type": "stream",
     "text": [
      "New value ratios for age column with target value 9: age\n",
      "3    0.145733\n",
      "9    0.142267\n",
      "2    0.139750\n",
      "5    0.118833\n",
      "7    0.114200\n",
      "4    0.114050\n",
      "8    0.097033\n",
      "6    0.088517\n",
      "1    0.039617\n",
      "Name: proportion, dtype: float64\n"
     ]
    }
   ],
   "source": [
    "adjust_column_ratios(health_attr, 'age', 9, 0.04)"
   ]
  },
  {
   "cell_type": "code",
   "execution_count": null,
   "id": "d39mQrBK2VNw",
   "metadata": {
    "colab": {
     "base_uri": "https://localhost:8080/"
    },
    "executionInfo": {
     "elapsed": 208,
     "status": "ok",
     "timestamp": 1715794274301,
     "user": {
      "displayName": "Tanya Seegmiller",
      "userId": "09396795393408040669"
     },
     "user_tz": 360
    },
    "id": "d39mQrBK2VNw",
    "outputId": "c35b769d-3475-4722-8cf0-12ad091e1aef"
   },
   "outputs": [
    {
     "name": "stdout",
     "output_type": "stream",
     "text": [
      "New value ratios for age column with target value 8: age\n",
      "3    0.142783\n",
      "9    0.139333\n",
      "2    0.136950\n",
      "5    0.116617\n",
      "8    0.115267\n",
      "7    0.112150\n",
      "4    0.111633\n",
      "6    0.086633\n",
      "1    0.038633\n",
      "Name: proportion, dtype: float64\n"
     ]
    }
   ],
   "source": [
    "adjust_column_ratios(health_attr, 'age', 8, 0.02)"
   ]
  },
  {
   "cell_type": "code",
   "execution_count": null,
   "id": "qzTdY6lE2e-F",
   "metadata": {
    "colab": {
     "base_uri": "https://localhost:8080/"
    },
    "executionInfo": {
     "elapsed": 196,
     "status": "ok",
     "timestamp": 1715794046819,
     "user": {
      "displayName": "Tanya Seegmiller",
      "userId": "09396795393408040669"
     },
     "user_tz": 360
    },
    "id": "qzTdY6lE2e-F",
    "outputId": "55719a15-71c5-4753-b280-c8b102aea848"
   },
   "outputs": [
    {
     "name": "stdout",
     "output_type": "stream",
     "text": [
      "New value ratios for age column with target value 7: age\n",
      "7    0.206333\n",
      "9    0.186383\n",
      "8    0.180100\n",
      "3    0.085167\n",
      "2    0.080350\n",
      "1    0.072150\n",
      "5    0.070183\n",
      "4    0.065917\n",
      "6    0.053417\n",
      "Name: proportion, dtype: float64\n"
     ]
    }
   ],
   "source": [
    "adjust_column_ratios(health_attr, 'age', 7, 0.12)"
   ]
  },
  {
   "cell_type": "code",
   "execution_count": null,
   "id": "X_C352rK2qhR",
   "metadata": {
    "colab": {
     "base_uri": "https://localhost:8080/"
    },
    "executionInfo": {
     "elapsed": 237,
     "status": "ok",
     "timestamp": 1715794060378,
     "user": {
      "displayName": "Tanya Seegmiller",
      "userId": "09396795393408040669"
     },
     "user_tz": 360
    },
    "id": "X_C352rK2qhR",
    "outputId": "9bb229f4-d4d0-4e29-919b-4484170dc2f4"
   },
   "outputs": [
    {
     "name": "stdout",
     "output_type": "stream",
     "text": [
      "New value ratios for age column with target value 6: age\n",
      "7    0.186367\n",
      "9    0.168583\n",
      "8    0.162967\n",
      "6    0.144817\n",
      "3    0.076533\n",
      "2    0.072450\n",
      "1    0.065300\n",
      "5    0.063600\n",
      "4    0.059383\n",
      "Name: proportion, dtype: float64\n"
     ]
    }
   ],
   "source": [
    "adjust_column_ratios(health_attr, 'age', 6, 0.097)"
   ]
  },
  {
   "cell_type": "code",
   "execution_count": null,
   "id": "Qijh5l5r20YJ",
   "metadata": {
    "colab": {
     "base_uri": "https://localhost:8080/"
    },
    "executionInfo": {
     "elapsed": 313,
     "status": "ok",
     "timestamp": 1715794064986,
     "user": {
      "displayName": "Tanya Seegmiller",
      "userId": "09396795393408040669"
     },
     "user_tz": 360
    },
    "id": "Qijh5l5r20YJ",
    "outputId": "dce1cf2a-f411-46ae-92aa-04af79635cf2"
   },
   "outputs": [
    {
     "name": "stdout",
     "output_type": "stream",
     "text": [
      "New value ratios for age column with target value 5: age\n",
      "5    0.171650\n",
      "7    0.165483\n",
      "9    0.149483\n",
      "8    0.142250\n",
      "6    0.127983\n",
      "3    0.068250\n",
      "2    0.064167\n",
      "1    0.057533\n",
      "4    0.053200\n",
      "Name: proportion, dtype: float64\n"
     ]
    }
   ],
   "source": [
    "adjust_column_ratios(health_attr, 'age', 5, 0.115)"
   ]
  },
  {
   "cell_type": "code",
   "execution_count": null,
   "id": "BhSUDGNC2_Z5",
   "metadata": {
    "colab": {
     "base_uri": "https://localhost:8080/"
    },
    "executionInfo": {
     "elapsed": 716,
     "status": "ok",
     "timestamp": 1715794176102,
     "user": {
      "displayName": "Tanya Seegmiller",
      "userId": "09396795393408040669"
     },
     "user_tz": 360
    },
    "id": "BhSUDGNC2_Z5",
    "outputId": "ee360b16-842c-4b56-f69d-abec15310f29"
   },
   "outputs": [
    {
     "name": "stdout",
     "output_type": "stream",
     "text": [
      "New value ratios for age column with target value 4: age\n",
      "5    0.154633\n",
      "7    0.148817\n",
      "4    0.148100\n",
      "9    0.133900\n",
      "8    0.127717\n",
      "6    0.115883\n",
      "3    0.061383\n",
      "2    0.057700\n",
      "1    0.051867\n",
      "Name: proportion, dtype: float64\n"
     ]
    }
   ],
   "source": [
    "adjust_column_ratios(health_attr, 'age', 4, 0.10)"
   ]
  },
  {
   "cell_type": "code",
   "execution_count": null,
   "id": "NGIQFd4T3E0A",
   "metadata": {
    "colab": {
     "base_uri": "https://localhost:8080/"
    },
    "executionInfo": {
     "elapsed": 423,
     "status": "ok",
     "timestamp": 1715794180855,
     "user": {
      "displayName": "Tanya Seegmiller",
      "userId": "09396795393408040669"
     },
     "user_tz": 360
    },
    "id": "NGIQFd4T3E0A",
    "outputId": "58d6c39f-881d-4059-e5ca-be16de6e6df2"
   },
   "outputs": [
    {
     "name": "stdout",
     "output_type": "stream",
     "text": [
      "New value ratios for age column with target value 3: age\n",
      "3    0.169500\n",
      "5    0.137333\n",
      "7    0.131900\n",
      "4    0.131700\n",
      "9    0.117783\n",
      "8    0.113300\n",
      "6    0.102350\n",
      "2    0.050533\n",
      "1    0.045600\n",
      "Name: proportion, dtype: float64\n"
     ]
    }
   ],
   "source": [
    "adjust_column_ratios(health_attr, 'age', 3, 0.115)"
   ]
  },
  {
   "cell_type": "code",
   "execution_count": null,
   "id": "2SQvtsp_3NES",
   "metadata": {
    "colab": {
     "base_uri": "https://localhost:8080/"
    },
    "executionInfo": {
     "elapsed": 559,
     "status": "ok",
     "timestamp": 1715794203414,
     "user": {
      "displayName": "Tanya Seegmiller",
      "userId": "09396795393408040669"
     },
     "user_tz": 360
    },
    "id": "2SQvtsp_3NES",
    "outputId": "e3087426-fdbf-4f4c-b9c2-6ac2762b759d"
   },
   "outputs": [
    {
     "name": "stdout",
     "output_type": "stream",
     "text": [
      "New value ratios for age column with target value 2: age\n",
      "3    0.151567\n",
      "2    0.145417\n",
      "5    0.123833\n",
      "7    0.118983\n",
      "4    0.118700\n",
      "9    0.106550\n",
      "8    0.101250\n",
      "6    0.092517\n",
      "1    0.041183\n",
      "Name: proportion, dtype: float64\n"
     ]
    }
   ],
   "source": [
    "adjust_column_ratios(health_attr, 'age', 2, 0.10)"
   ]
  },
  {
   "cell_type": "code",
   "execution_count": null,
   "id": "qNz3djcD3KAG",
   "metadata": {
    "colab": {
     "base_uri": "https://localhost:8080/"
    },
    "executionInfo": {
     "elapsed": 293,
     "status": "ok",
     "timestamp": 1715753380752,
     "user": {
      "displayName": "Tanya Seegmiller",
      "userId": "09396795393408040669"
     },
     "user_tz": 360
    },
    "id": "qNz3djcD3KAG",
    "outputId": "318fe4cc-e86f-4a04-b1d9-f35fb16ca29d"
   },
   "outputs": [
    {
     "name": "stdout",
     "output_type": "stream",
     "text": [
      "New value ratios for age column with target value 1: age\n",
      "7    0.128433\n",
      "3    0.126617\n",
      "2    0.122150\n",
      "9    0.116933\n",
      "8    0.114750\n",
      "1    0.107417\n",
      "5    0.104750\n",
      "4    0.099050\n",
      "6    0.079900\n",
      "Name: proportion, dtype: float64\n"
     ]
    }
   ],
   "source": [
    "adjust_column_ratios(health_attr, 'age', 1, 0.08)"
   ]
  },
  {
   "cell_type": "markdown",
   "id": "bR5sgVrh-iq4",
   "metadata": {
    "id": "bR5sgVrh-iq4"
   },
   "source": [
    "#### Environmental Satisfaction"
   ]
  },
  {
   "cell_type": "code",
   "execution_count": null,
   "id": "p1s7JFafDxua",
   "metadata": {
    "colab": {
     "base_uri": "https://localhost:8080/"
    },
    "executionInfo": {
     "elapsed": 169,
     "status": "ok",
     "timestamp": 1715790679537,
     "user": {
      "displayName": "Tanya Seegmiller",
      "userId": "09396795393408040669"
     },
     "user_tz": 360
    },
    "id": "p1s7JFafDxua",
    "outputId": "7f2f627a-761c-4e00-9f1b-d16d35b7b1a5"
   },
   "outputs": [
    {
     "data": {
      "text/plain": [
       "environmentsatisfaction\n",
       "1    15089\n",
       "4    14996\n",
       "2    14978\n",
       "3    14937\n",
       "Name: count, dtype: int64"
      ]
     },
     "execution_count": 24,
     "metadata": {},
     "output_type": "execute_result"
    }
   ],
   "source": [
    "health_attr['environmentsatisfaction'].value_counts()"
   ]
  },
  {
   "cell_type": "code",
   "execution_count": null,
   "id": "4nR0IrTE-usv",
   "metadata": {
    "colab": {
     "base_uri": "https://localhost:8080/"
    },
    "executionInfo": {
     "elapsed": 357,
     "status": "ok",
     "timestamp": 1715790681675,
     "user": {
      "displayName": "Tanya Seegmiller",
      "userId": "09396795393408040669"
     },
     "user_tz": 360
    },
    "id": "4nR0IrTE-usv",
    "outputId": "0bcd18b8-64bd-46cf-e867-8f6b2c7c04eb"
   },
   "outputs": [
    {
     "name": "stdout",
     "output_type": "stream",
     "text": [
      "New value ratios for environmentsatisfaction column with target value 3: environmentsatisfaction\n",
      "3    0.398867\n",
      "1    0.200983\n",
      "4    0.200133\n",
      "2    0.200017\n",
      "Name: proportion, dtype: float64\n"
     ]
    }
   ],
   "source": [
    "adjust_column_ratios(health_attr, 'environmentsatisfaction', 3, 0.20)"
   ]
  },
  {
   "cell_type": "code",
   "execution_count": null,
   "id": "qIh6zJpRE1MV",
   "metadata": {
    "colab": {
     "base_uri": "https://localhost:8080/"
    },
    "executionInfo": {
     "elapsed": 461,
     "status": "ok",
     "timestamp": 1715790696795,
     "user": {
      "displayName": "Tanya Seegmiller",
      "userId": "09396795393408040669"
     },
     "user_tz": 360
    },
    "id": "qIh6zJpRE1MV",
    "outputId": "6af0b9ec-e190-4fd5-fd48-78e54cb9653e"
   },
   "outputs": [
    {
     "name": "stdout",
     "output_type": "stream",
     "text": [
      "New value ratios for environmentsatisfaction column with target value 4: environmentsatisfaction\n",
      "4    0.360000\n",
      "3    0.320033\n",
      "1    0.160183\n",
      "2    0.159783\n",
      "Name: proportion, dtype: float64\n"
     ]
    }
   ],
   "source": [
    "adjust_column_ratios(health_attr, 'environmentsatisfaction', 4, 0.20)"
   ]
  },
  {
   "cell_type": "markdown",
   "id": "82gWwCZTHU4x",
   "metadata": {
    "id": "82gWwCZTHU4x"
   },
   "source": [
    "#### Overtime Section"
   ]
  },
  {
   "cell_type": "code",
   "execution_count": null,
   "id": "gSfy-S_yHT6U",
   "metadata": {
    "colab": {
     "base_uri": "https://localhost:8080/"
    },
    "executionInfo": {
     "elapsed": 3,
     "status": "ok",
     "timestamp": 1715791092225,
     "user": {
      "displayName": "Tanya Seegmiller",
      "userId": "09396795393408040669"
     },
     "user_tz": 360
    },
    "id": "gSfy-S_yHT6U",
    "outputId": "16f0fa20-312e-4d7e-fca7-fb8ff9beca41"
   },
   "outputs": [
    {
     "data": {
      "text/plain": [
       "overtime\n",
       "0    0.502583\n",
       "1    0.497417\n",
       "Name: proportion, dtype: float64"
      ]
     },
     "execution_count": 30,
     "metadata": {},
     "output_type": "execute_result"
    }
   ],
   "source": [
    "health_attr['overtime'].value_counts(normalize= True)"
   ]
  },
  {
   "cell_type": "code",
   "execution_count": null,
   "id": "u1QklanhHmXF",
   "metadata": {
    "colab": {
     "base_uri": "https://localhost:8080/"
    },
    "executionInfo": {
     "elapsed": 556,
     "status": "ok",
     "timestamp": 1715791241070,
     "user": {
      "displayName": "Tanya Seegmiller",
      "userId": "09396795393408040669"
     },
     "user_tz": 360
    },
    "id": "u1QklanhHmXF",
    "outputId": "828d679a-5532-4a8e-c93a-0c4e9740f1b1"
   },
   "outputs": [
    {
     "name": "stdout",
     "output_type": "stream",
     "text": [
      "New value ratios for overtime column with target value 1: overtime\n",
      "0    0.748367\n",
      "1    0.251633\n",
      "Name: proportion, dtype: float64\n"
     ]
    }
   ],
   "source": [
    "adjust_column_ratios(health_attr, 'overtime', 1, 0.15)"
   ]
  },
  {
   "cell_type": "markdown",
   "id": "ShIeO6z8Jthk",
   "metadata": {
    "id": "ShIeO6z8Jthk"
   },
   "source": [
    "#### Performance Rating Section"
   ]
  },
  {
   "cell_type": "code",
   "execution_count": null,
   "id": "vr7boMAoJz8R",
   "metadata": {
    "colab": {
     "base_uri": "https://localhost:8080/"
    },
    "executionInfo": {
     "elapsed": 182,
     "status": "ok",
     "timestamp": 1715792074899,
     "user": {
      "displayName": "Tanya Seegmiller",
      "userId": "09396795393408040669"
     },
     "user_tz": 360
    },
    "id": "vr7boMAoJz8R",
    "outputId": "8614e25e-853a-4dbb-e4ca-9a8d9a4b1fc5"
   },
   "outputs": [
    {
     "data": {
      "text/plain": [
       "performancerating\n",
       "1    0.251850\n",
       "3    0.249617\n",
       "4    0.249550\n",
       "2    0.248983\n",
       "Name: proportion, dtype: float64"
      ]
     },
     "execution_count": 36,
     "metadata": {},
     "output_type": "execute_result"
    }
   ],
   "source": [
    "# get performance distribution\n",
    "health_attr['performancerating'].value_counts(normalize= True)"
   ]
  },
  {
   "cell_type": "code",
   "execution_count": null,
   "id": "H4ST1DPSL1jl",
   "metadata": {
    "colab": {
     "base_uri": "https://localhost:8080/"
    },
    "executionInfo": {
     "elapsed": 1009,
     "status": "ok",
     "timestamp": 1715792221585,
     "user": {
      "displayName": "Tanya Seegmiller",
      "userId": "09396795393408040669"
     },
     "user_tz": 360
    },
    "id": "H4ST1DPSL1jl",
    "outputId": "9c63536b-49ab-493a-a683-c24bfcd61ba6"
   },
   "outputs": [
    {
     "name": "stdout",
     "output_type": "stream",
     "text": [
      "New value ratios for performancerating column with target value 3: performancerating\n",
      "3    0.700317\n",
      "1    0.101117\n",
      "4    0.099817\n",
      "2    0.098750\n",
      "Name: proportion, dtype: float64\n"
     ]
    }
   ],
   "source": [
    "# fix column distributions\n",
    "adjust_column_ratios(health_attr, 'performancerating', 3, 0.60)"
   ]
  },
  {
   "cell_type": "code",
   "execution_count": null,
   "id": "IjFfR3ZQL8ZF",
   "metadata": {
    "colab": {
     "base_uri": "https://localhost:8080/"
    },
    "executionInfo": {
     "elapsed": 193,
     "status": "ok",
     "timestamp": 1715792264570,
     "user": {
      "displayName": "Tanya Seegmiller",
      "userId": "09396795393408040669"
     },
     "user_tz": 360
    },
    "id": "IjFfR3ZQL8ZF",
    "outputId": "616f9263-2e46-4416-e582-b206503895bb"
   },
   "outputs": [
    {
     "name": "stdout",
     "output_type": "stream",
     "text": [
      "New value ratios for performancerating column with target value 4: performancerating\n",
      "3    0.594883\n",
      "4    0.234300\n",
      "1    0.086917\n",
      "2    0.083900\n",
      "Name: proportion, dtype: float64\n"
     ]
    }
   ],
   "source": [
    "adjust_column_ratios(health_attr, 'performancerating', 4, 0.15)"
   ]
  },
  {
   "cell_type": "code",
   "execution_count": null,
   "id": "38fTh8oUMJ7Y",
   "metadata": {
    "colab": {
     "base_uri": "https://localhost:8080/"
    },
    "executionInfo": {
     "elapsed": 161,
     "status": "ok",
     "timestamp": 1715792299273,
     "user": {
      "displayName": "Tanya Seegmiller",
      "userId": "09396795393408040669"
     },
     "user_tz": 360
    },
    "id": "38fTh8oUMJ7Y",
    "outputId": "36ee51c7-dc52-4b59-8c74-03a30757c989"
   },
   "outputs": [
    {
     "name": "stdout",
     "output_type": "stream",
     "text": [
      "New value ratios for performancerating column with target value 2: performancerating\n",
      "3    0.536250\n",
      "4    0.210267\n",
      "2    0.175233\n",
      "1    0.078250\n",
      "Name: proportion, dtype: float64\n"
     ]
    }
   ],
   "source": [
    "adjust_column_ratios(health_attr, 'performancerating', 2, 0.10)"
   ]
  },
  {
   "cell_type": "code",
   "execution_count": null,
   "id": "qbx3n_hWMRsU",
   "metadata": {
    "colab": {
     "base_uri": "https://localhost:8080/"
    },
    "executionInfo": {
     "elapsed": 536,
     "status": "ok",
     "timestamp": 1715792329302,
     "user": {
      "displayName": "Tanya Seegmiller",
      "userId": "09396795393408040669"
     },
     "user_tz": 360
    },
    "id": "qbx3n_hWMRsU",
    "outputId": "c02a15d7-24b3-461c-d683-9cd1cd25a7ad"
   },
   "outputs": [
    {
     "name": "stdout",
     "output_type": "stream",
     "text": [
      "New value ratios for performancerating column with target value 1: performancerating\n",
      "3    0.483783\n",
      "4    0.188183\n",
      "1    0.170817\n",
      "2    0.157217\n",
      "Name: proportion, dtype: float64\n"
     ]
    }
   ],
   "source": [
    "adjust_column_ratios(health_attr, 'performancerating', 1, 0.10)"
   ]
  },
  {
   "cell_type": "markdown",
   "id": "vsKvABgUNfit",
   "metadata": {
    "id": "vsKvABgUNfit"
   },
   "source": [
    "#### Relationship Satisfaction Section"
   ]
  },
  {
   "cell_type": "code",
   "execution_count": null,
   "id": "P1-KFW9KNi3Y",
   "metadata": {
    "colab": {
     "base_uri": "https://localhost:8080/"
    },
    "executionInfo": {
     "elapsed": 172,
     "status": "ok",
     "timestamp": 1715792809557,
     "user": {
      "displayName": "Tanya Seegmiller",
      "userId": "09396795393408040669"
     },
     "user_tz": 360
    },
    "id": "P1-KFW9KNi3Y",
    "outputId": "a72f0ff6-49c3-43fa-e945-6e827b1fe145"
   },
   "outputs": [
    {
     "data": {
      "text/plain": [
       "relationshipsatisfaction\n",
       "4    0.31960\n",
       "2    0.29595\n",
       "3    0.26965\n",
       "1    0.11480\n",
       "Name: proportion, dtype: float64"
      ]
     },
     "execution_count": 46,
     "metadata": {},
     "output_type": "execute_result"
    }
   ],
   "source": [
    "# get relationship satisfaction dist\n",
    "health_attr['relationshipsatisfaction'].value_counts(normalize= True)"
   ]
  },
  {
   "cell_type": "code",
   "execution_count": null,
   "id": "WAt-ASKHNpN9",
   "metadata": {
    "colab": {
     "base_uri": "https://localhost:8080/"
    },
    "executionInfo": {
     "elapsed": 265,
     "status": "ok",
     "timestamp": 1715984462784,
     "user": {
      "displayName": "Tanya Seegmiller",
      "userId": "09396795393408040669"
     },
     "user_tz": 360
    },
    "id": "WAt-ASKHNpN9",
    "outputId": "5448238e-7807-4be1-f53e-f84526fa0d6d"
   },
   "outputs": [
    {
     "name": "stdout",
     "output_type": "stream",
     "text": [
      "New value ratios for relationshipsatisfaction column with target value 3: relationshipsatisfaction\n",
      "4    0.491050\n",
      "3    0.389867\n",
      "2    0.098217\n",
      "1    0.020867\n",
      "Name: proportion, dtype: float64\n"
     ]
    }
   ],
   "source": [
    "# fix column distribution\n",
    "adjust_column_ratios(health_attr, 'relationshipsatisfaction', 3, 0.15)"
   ]
  },
  {
   "cell_type": "code",
   "execution_count": null,
   "id": "LIHg1AvMNumv",
   "metadata": {
    "colab": {
     "base_uri": "https://localhost:8080/"
    },
    "executionInfo": {
     "elapsed": 253,
     "status": "ok",
     "timestamp": 1715984445254,
     "user": {
      "displayName": "Tanya Seegmiller",
      "userId": "09396795393408040669"
     },
     "user_tz": 360
    },
    "id": "LIHg1AvMNumv",
    "outputId": "bbdd59d3-422e-4af0-bb9e-9d7fade5b86c"
   },
   "outputs": [
    {
     "name": "stdout",
     "output_type": "stream",
     "text": [
      "New value ratios for relationshipsatisfaction column with target value 4: relationshipsatisfaction\n",
      "4    0.577483\n",
      "3    0.282900\n",
      "2    0.115417\n",
      "1    0.024200\n",
      "Name: proportion, dtype: float64\n"
     ]
    }
   ],
   "source": [
    "adjust_column_ratios(health_attr, 'relationshipsatisfaction', 4, 0.20)"
   ]
  },
  {
   "cell_type": "code",
   "execution_count": null,
   "id": "Zzmw5R-MN4rF",
   "metadata": {
    "colab": {
     "base_uri": "https://localhost:8080/"
    },
    "executionInfo": {
     "elapsed": 156,
     "status": "ok",
     "timestamp": 1715984512816,
     "user": {
      "displayName": "Tanya Seegmiller",
      "userId": "09396795393408040669"
     },
     "user_tz": 360
    },
    "id": "Zzmw5R-MN4rF",
    "outputId": "cc005237-62ed-4eda-eaa4-7003d3486d08"
   },
   "outputs": [
    {
     "name": "stdout",
     "output_type": "stream",
     "text": [
      "New value ratios for relationshipsatisfaction column with target value 1: relationshipsatisfaction\n",
      "4    0.362400\n",
      "3    0.289100\n",
      "2    0.233167\n",
      "1    0.115333\n",
      "Name: proportion, dtype: float64\n"
     ]
    }
   ],
   "source": [
    "adjust_column_ratios(health_attr, 'relationshipsatisfaction', 1, 0.10)"
   ]
  },
  {
   "cell_type": "markdown",
   "id": "mEs5Hm5ZhqMX",
   "metadata": {
    "id": "mEs5Hm5ZhqMX"
   },
   "source": [
    "#### Job Satsifaction Section"
   ]
  },
  {
   "cell_type": "code",
   "execution_count": null,
   "id": "n93b9kxkco9_",
   "metadata": {
    "colab": {
     "base_uri": "https://localhost:8080/"
    },
    "executionInfo": {
     "elapsed": 132,
     "status": "ok",
     "timestamp": 1715964525129,
     "user": {
      "displayName": "Tanya Seegmiller",
      "userId": "09396795393408040669"
     },
     "user_tz": 360
    },
    "id": "n93b9kxkco9_",
    "outputId": "d5360c4a-a115-42b8-84bc-e60db32eead0"
   },
   "outputs": [
    {
     "data": {
      "text/plain": [
       "jobsatisfaction\n",
       "1    0.252700\n",
       "2    0.251883\n",
       "3    0.249717\n",
       "4    0.245700\n",
       "Name: proportion, dtype: float64"
      ]
     },
     "execution_count": 6,
     "metadata": {},
     "output_type": "execute_result"
    }
   ],
   "source": [
    "# get job satisfaction distribution\n",
    "health_attr['jobsatisfaction'].value_counts(normalize= True)"
   ]
  },
  {
   "cell_type": "code",
   "execution_count": null,
   "id": "lV0fmsXUdMPu",
   "metadata": {
    "colab": {
     "base_uri": "https://localhost:8080/"
    },
    "executionInfo": {
     "elapsed": 914,
     "status": "ok",
     "timestamp": 1715966311637,
     "user": {
      "displayName": "Tanya Seegmiller",
      "userId": "09396795393408040669"
     },
     "user_tz": 360
    },
    "id": "lV0fmsXUdMPu",
    "outputId": "e39b2176-fce2-4b26-dfa7-59c74002a5e3"
   },
   "outputs": [
    {
     "name": "stdout",
     "output_type": "stream",
     "text": [
      "New value ratios for jobsatisfaction column with target value 4: jobsatisfaction\n",
      "4    0.419933\n",
      "3    0.378467\n",
      "2    0.129833\n",
      "1    0.071767\n",
      "Name: proportion, dtype: float64\n"
     ]
    }
   ],
   "source": [
    "# fix job satisfaction distribution\n",
    "adjust_column_ratios(health_attr, 'jobsatisfaction', 4, 0.10)"
   ]
  },
  {
   "cell_type": "code",
   "execution_count": null,
   "id": "Ceu0Vqs5d_dK",
   "metadata": {
    "colab": {
     "base_uri": "https://localhost:8080/"
    },
    "executionInfo": {
     "elapsed": 158,
     "status": "ok",
     "timestamp": 1715966328622,
     "user": {
      "displayName": "Tanya Seegmiller",
      "userId": "09396795393408040669"
     },
     "user_tz": 360
    },
    "id": "Ceu0Vqs5d_dK",
    "outputId": "f7d26cc6-d38b-41a1-f701-1e464db7ae7e"
   },
   "outputs": [
    {
     "name": "stdout",
     "output_type": "stream",
     "text": [
      "New value ratios for jobsatisfaction column with target value 3: jobsatisfaction\n",
      "3    0.439567\n",
      "4    0.378600\n",
      "2    0.117033\n",
      "1    0.064800\n",
      "Name: proportion, dtype: float64\n"
     ]
    }
   ],
   "source": [
    "adjust_column_ratios(health_attr, 'jobsatisfaction', 3, 0.10)"
   ]
  },
  {
   "cell_type": "code",
   "execution_count": null,
   "id": "58aa2ABbeDpC",
   "metadata": {
    "colab": {
     "base_uri": "https://localhost:8080/"
    },
    "executionInfo": {
     "elapsed": 330,
     "status": "ok",
     "timestamp": 1715966258334,
     "user": {
      "displayName": "Tanya Seegmiller",
      "userId": "09396795393408040669"
     },
     "user_tz": 360
    },
    "id": "58aa2ABbeDpC",
    "outputId": "8ac6e834-7693-4e77-8d43-26da86dc576e"
   },
   "outputs": [
    {
     "name": "stdout",
     "output_type": "stream",
     "text": [
      "New value ratios for jobsatisfaction column with target value 2: jobsatisfaction\n",
      "3    0.468450\n",
      "4    0.284067\n",
      "2    0.159117\n",
      "1    0.088367\n",
      "Name: proportion, dtype: float64\n"
     ]
    }
   ],
   "source": [
    "adjust_column_ratios(health_attr, 'jobsatisfaction', 2, 0.08)"
   ]
  },
  {
   "cell_type": "code",
   "execution_count": null,
   "id": "ICgeloDqeI4Q",
   "metadata": {
    "colab": {
     "base_uri": "https://localhost:8080/"
    },
    "executionInfo": {
     "elapsed": 214,
     "status": "ok",
     "timestamp": 1715964786069,
     "user": {
      "displayName": "Tanya Seegmiller",
      "userId": "09396795393408040669"
     },
     "user_tz": 360
    },
    "id": "ICgeloDqeI4Q",
    "outputId": "bb0c8ad9-f479-4978-c901-8fef78fa54d6"
   },
   "outputs": [
    {
     "name": "stdout",
     "output_type": "stream",
     "text": [
      "New value ratios for jobsatisfaction column with target value 1: jobsatisfaction\n",
      "3    0.305567\n",
      "1    0.241417\n",
      "4    0.237583\n",
      "2    0.215433\n",
      "Name: proportion, dtype: float64\n"
     ]
    }
   ],
   "source": [
    "adjust_column_ratios(health_attr, 'jobsatisfaction', 1, 0.15)"
   ]
  },
  {
   "cell_type": "markdown",
   "id": "tE2Zd9UJiGjq",
   "metadata": {
    "id": "tE2Zd9UJiGjq"
   },
   "source": [
    "#### Num Companies Worked Section"
   ]
  },
  {
   "cell_type": "code",
   "execution_count": null,
   "id": "rc5Rug_ViKbJ",
   "metadata": {
    "colab": {
     "base_uri": "https://localhost:8080/"
    },
    "executionInfo": {
     "elapsed": 143,
     "status": "ok",
     "timestamp": 1715965837964,
     "user": {
      "displayName": "Tanya Seegmiller",
      "userId": "09396795393408040669"
     },
     "user_tz": 360
    },
    "id": "rc5Rug_ViKbJ",
    "outputId": "a382c57f-106a-42bc-b326-7a28d045a856"
   },
   "outputs": [
    {
     "data": {
      "text/plain": [
       "numcompaniesworked\n",
       "4    0.112633\n",
       "8    0.112033\n",
       "1    0.111983\n",
       "5    0.111300\n",
       "0    0.111050\n",
       "2    0.110900\n",
       "7    0.110367\n",
       "6    0.110317\n",
       "3    0.109417\n",
       "Name: proportion, dtype: float64"
      ]
     },
     "execution_count": 14,
     "metadata": {},
     "output_type": "execute_result"
    }
   ],
   "source": [
    "health_attr['numcompaniesworked'].value_counts(normalize= True)"
   ]
  },
  {
   "cell_type": "code",
   "execution_count": null,
   "id": "c19Omg92iNk9",
   "metadata": {
    "colab": {
     "base_uri": "https://localhost:8080/"
    },
    "executionInfo": {
     "elapsed": 401,
     "status": "ok",
     "timestamp": 1715965863011,
     "user": {
      "displayName": "Tanya Seegmiller",
      "userId": "09396795393408040669"
     },
     "user_tz": 360
    },
    "id": "c19Omg92iNk9",
    "outputId": "22c8a81e-6df4-4a42-eed1-d62ff009873c"
   },
   "outputs": [
    {
     "name": "stdout",
     "output_type": "stream",
     "text": [
      "New value ratios for numcompaniesworked column with target value 1: numcompaniesworked\n",
      "1    0.467083\n",
      "5    0.067350\n",
      "4    0.067267\n",
      "8    0.066983\n",
      "6    0.066817\n",
      "0    0.066400\n",
      "7    0.066333\n",
      "2    0.066067\n",
      "3    0.065700\n",
      "Name: proportion, dtype: float64\n"
     ]
    }
   ],
   "source": [
    "adjust_column_ratios(health_attr, 'numcompaniesworked', 1, 0.40)"
   ]
  },
  {
   "cell_type": "code",
   "execution_count": null,
   "id": "1fXM-ul5iV2-",
   "metadata": {
    "colab": {
     "base_uri": "https://localhost:8080/"
    },
    "executionInfo": {
     "elapsed": 711,
     "status": "ok",
     "timestamp": 1715971979051,
     "user": {
      "displayName": "Tanya Seegmiller",
      "userId": "09396795393408040669"
     },
     "user_tz": 360
    },
    "id": "1fXM-ul5iV2-",
    "outputId": "40c5d6f0-129e-4c82-93bb-53ee319c8035"
   },
   "outputs": [
    {
     "name": "stdout",
     "output_type": "stream",
     "text": [
      "New value ratios for numcompaniesworked column with target value 0: numcompaniesworked\n",
      "1    0.406000\n",
      "0    0.187867\n",
      "7    0.058717\n",
      "4    0.058617\n",
      "5    0.058500\n",
      "6    0.058433\n",
      "8    0.057817\n",
      "2    0.057117\n",
      "3    0.056933\n",
      "Name: proportion, dtype: float64\n"
     ]
    }
   ],
   "source": [
    "adjust_column_ratios(health_attr, 'numcompaniesworked', 0, 0.13)"
   ]
  },
  {
   "cell_type": "code",
   "execution_count": null,
   "id": "Yn6R3sid5rlP",
   "metadata": {
    "colab": {
     "base_uri": "https://localhost:8080/"
    },
    "executionInfo": {
     "elapsed": 751,
     "status": "ok",
     "timestamp": 1715972464304,
     "user": {
      "displayName": "Tanya Seegmiller",
      "userId": "09396795393408040669"
     },
     "user_tz": 360
    },
    "id": "Yn6R3sid5rlP",
    "outputId": "8e069e4f-ee0a-4834-9fc2-3adf5739de44"
   },
   "outputs": [
    {
     "name": "stdout",
     "output_type": "stream",
     "text": [
      "New value ratios for numcompaniesworked column with target value 3: numcompaniesworked\n",
      "3    0.339733\n",
      "1    0.284167\n",
      "0    0.132550\n",
      "7    0.041067\n",
      "4    0.040900\n",
      "5    0.040733\n",
      "8    0.040550\n",
      "6    0.040300\n",
      "2    0.040000\n",
      "Name: proportion, dtype: float64\n"
     ]
    }
   ],
   "source": [
    "adjust_column_ratios(health_attr, 'numcompaniesworked', 3, 0.30)"
   ]
  },
  {
   "cell_type": "code",
   "execution_count": null,
   "id": "tX8RJNnZ7fO1",
   "metadata": {
    "colab": {
     "base_uri": "https://localhost:8080/"
    },
    "executionInfo": {
     "elapsed": 788,
     "status": "ok",
     "timestamp": 1715972482920,
     "user": {
      "displayName": "Tanya Seegmiller",
      "userId": "09396795393408040669"
     },
     "user_tz": 360
    },
    "id": "tX8RJNnZ7fO1",
    "outputId": "342dee60-76e4-42e1-9b17-d34373516214"
   },
   "outputs": [
    {
     "name": "stdout",
     "output_type": "stream",
     "text": [
      "New value ratios for numcompaniesworked column with target value 4: numcompaniesworked\n",
      "4    0.328567\n",
      "3    0.238517\n",
      "1    0.198400\n",
      "0    0.093350\n",
      "5    0.028633\n",
      "7    0.028483\n",
      "6    0.028433\n",
      "8    0.028000\n",
      "2    0.027617\n",
      "Name: proportion, dtype: float64\n"
     ]
    }
   ],
   "source": [
    "adjust_column_ratios(health_attr, 'numcompaniesworked', 4, 0.30)"
   ]
  },
  {
   "cell_type": "code",
   "execution_count": null,
   "id": "3ptvNBd27lJH",
   "metadata": {
    "colab": {
     "base_uri": "https://localhost:8080/"
    },
    "executionInfo": {
     "elapsed": 189,
     "status": "ok",
     "timestamp": 1715972506038,
     "user": {
      "displayName": "Tanya Seegmiller",
      "userId": "09396795393408040669"
     },
     "user_tz": 360
    },
    "id": "3ptvNBd27lJH",
    "outputId": "d1ca4ac5-fd56-481c-ae0e-c197d45f6a5d"
   },
   "outputs": [
    {
     "name": "stdout",
     "output_type": "stream",
     "text": [
      "New value ratios for numcompaniesworked column with target value 5: numcompaniesworked\n",
      "4    0.295817\n",
      "3    0.215117\n",
      "1    0.178683\n",
      "5    0.125733\n",
      "0    0.083783\n",
      "7    0.025583\n",
      "6    0.025400\n",
      "8    0.025067\n",
      "2    0.024817\n",
      "Name: proportion, dtype: float64\n"
     ]
    }
   ],
   "source": [
    "adjust_column_ratios(health_attr, 'numcompaniesworked', 5, 0.10)"
   ]
  },
  {
   "cell_type": "code",
   "execution_count": null,
   "id": "Tzsc9ZWN7sUx",
   "metadata": {
    "colab": {
     "base_uri": "https://localhost:8080/"
    },
    "executionInfo": {
     "elapsed": 148,
     "status": "ok",
     "timestamp": 1715972531222,
     "user": {
      "displayName": "Tanya Seegmiller",
      "userId": "09396795393408040669"
     },
     "user_tz": 360
    },
    "id": "Tzsc9ZWN7sUx",
    "outputId": "231ea4d3-89a6-4a5e-d12c-cea58a2a471d"
   },
   "outputs": [
    {
     "name": "stdout",
     "output_type": "stream",
     "text": [
      "New value ratios for numcompaniesworked column with target value 2: numcompaniesworked\n",
      "4    0.265900\n",
      "3    0.194633\n",
      "1    0.160967\n",
      "2    0.122267\n",
      "5    0.113183\n",
      "0    0.074533\n",
      "7    0.023167\n",
      "6    0.022867\n",
      "8    0.022483\n",
      "Name: proportion, dtype: float64\n"
     ]
    }
   ],
   "source": [
    "adjust_column_ratios(health_attr, 'numcompaniesworked', 2, 0.10)"
   ]
  },
  {
   "cell_type": "code",
   "execution_count": null,
   "id": "ot7mKYW38BeW",
   "metadata": {
    "colab": {
     "base_uri": "https://localhost:8080/"
    },
    "executionInfo": {
     "elapsed": 194,
     "status": "ok",
     "timestamp": 1715972647312,
     "user": {
      "displayName": "Tanya Seegmiller",
      "userId": "09396795393408040669"
     },
     "user_tz": 360
    },
    "id": "ot7mKYW38BeW",
    "outputId": "c5c59a3f-a776-42ca-df86-dec0045f8edc"
   },
   "outputs": [
    {
     "name": "stdout",
     "output_type": "stream",
     "text": [
      "New value ratios for numcompaniesworked column with target value 6: numcompaniesworked\n",
      "4    0.252733\n",
      "3    0.184833\n",
      "1    0.152800\n",
      "2    0.116133\n",
      "5    0.107467\n",
      "6    0.071667\n",
      "0    0.071017\n",
      "7    0.021933\n",
      "8    0.021417\n",
      "Name: proportion, dtype: float64\n"
     ]
    }
   ],
   "source": [
    "adjust_column_ratios(health_attr, 'numcompaniesworked', 6, 0.05)"
   ]
  },
  {
   "cell_type": "markdown",
   "id": "GPJ6-psL_Gbn",
   "metadata": {
    "id": "GPJ6-psL_Gbn"
   },
   "source": [
    "#### Shift Ratio Section"
   ]
  },
  {
   "cell_type": "code",
   "execution_count": null,
   "id": "FmzcH0yu_KSb",
   "metadata": {
    "colab": {
     "base_uri": "https://localhost:8080/"
    },
    "executionInfo": {
     "elapsed": 139,
     "status": "ok",
     "timestamp": 1715991541627,
     "user": {
      "displayName": "Tanya Seegmiller",
      "userId": "09396795393408040669"
     },
     "user_tz": 360
    },
    "id": "FmzcH0yu_KSb",
    "outputId": "3ed881e7-c05a-43cf-e71b-1482a1478b7d"
   },
   "outputs": [
    {
     "data": {
      "text/plain": [
       "shift\n",
       "2    0.323333\n",
       "1    0.318817\n",
       "3    0.188400\n",
       "4    0.169450\n",
       "Name: proportion, dtype: float64"
      ]
     },
     "execution_count": 145,
     "metadata": {},
     "output_type": "execute_result"
    }
   ],
   "source": [
    "health_attr['shift'].value_counts(normalize= True)"
   ]
  },
  {
   "cell_type": "code",
   "execution_count": null,
   "id": "yrSFpT-B_ah1",
   "metadata": {
    "colab": {
     "base_uri": "https://localhost:8080/"
    },
    "executionInfo": {
     "elapsed": 157,
     "status": "ok",
     "timestamp": 1715973661707,
     "user": {
      "displayName": "Tanya Seegmiller",
      "userId": "09396795393408040669"
     },
     "user_tz": 360
    },
    "id": "yrSFpT-B_ah1",
    "outputId": "ee8fb960-41e6-4ebe-a529-a9b64c14a197"
   },
   "outputs": [
    {
     "name": "stdout",
     "output_type": "stream",
     "text": [
      "New value ratios for shift column with target value 1: shift\n",
      "2    0.365617\n",
      "1    0.361233\n",
      "3    0.146083\n",
      "4    0.127067\n",
      "Name: proportion, dtype: float64\n"
     ]
    }
   ],
   "source": [
    "adjust_column_ratios(health_attr, 'shift', 1, 0.10)"
   ]
  },
  {
   "cell_type": "code",
   "execution_count": null,
   "id": "aOYddkwG_na8",
   "metadata": {
    "colab": {
     "base_uri": "https://localhost:8080/"
    },
    "executionInfo": {
     "elapsed": 515,
     "status": "ok",
     "timestamp": 1715973571636,
     "user": {
      "displayName": "Tanya Seegmiller",
      "userId": "09396795393408040669"
     },
     "user_tz": 360
    },
    "id": "aOYddkwG_na8",
    "outputId": "dbb34d95-9610-482b-f9d2-fb20de076a9a"
   },
   "outputs": [
    {
     "name": "stdout",
     "output_type": "stream",
     "text": [
      "New value ratios for shift column with target value 2: shift\n",
      "2    0.652217\n",
      "1    0.145650\n",
      "4    0.101917\n",
      "3    0.100217\n",
      "Name: proportion, dtype: float64\n"
     ]
    }
   ],
   "source": [
    "adjust_column_ratios(health_attr, 'shift', 2, 0.05)"
   ]
  },
  {
   "cell_type": "code",
   "execution_count": null,
   "id": "QGv5BGpm_yGY",
   "metadata": {
    "colab": {
     "base_uri": "https://localhost:8080/"
    },
    "executionInfo": {
     "elapsed": 340,
     "status": "ok",
     "timestamp": 1715973684521,
     "user": {
      "displayName": "Tanya Seegmiller",
      "userId": "09396795393408040669"
     },
     "user_tz": 360
    },
    "id": "QGv5BGpm_yGY",
    "outputId": "e0441db7-1ebd-48ee-da04-36cf6b763f0e"
   },
   "outputs": [
    {
     "name": "stdout",
     "output_type": "stream",
     "text": [
      "New value ratios for shift column with target value 4: shift\n",
      "2    0.343967\n",
      "1    0.338817\n",
      "4    0.180000\n",
      "3    0.137217\n",
      "Name: proportion, dtype: float64\n"
     ]
    }
   ],
   "source": [
    "adjust_column_ratios(health_attr, 'shift',4 , 0.06)"
   ]
  },
  {
   "cell_type": "code",
   "execution_count": null,
   "id": "7F2gxq3I_7k_",
   "metadata": {
    "colab": {
     "base_uri": "https://localhost:8080/"
    },
    "executionInfo": {
     "elapsed": 162,
     "status": "ok",
     "timestamp": 1715973711277,
     "user": {
      "displayName": "Tanya Seegmiller",
      "userId": "09396795393408040669"
     },
     "user_tz": 360
    },
    "id": "7F2gxq3I_7k_",
    "outputId": "b4e199a2-de50-4ccc-9a91-e861b6eadf8d"
   },
   "outputs": [
    {
     "name": "stdout",
     "output_type": "stream",
     "text": [
      "New value ratios for shift column with target value 3: shift\n",
      "2    0.323333\n",
      "1    0.318817\n",
      "3    0.188400\n",
      "4    0.169450\n",
      "Name: proportion, dtype: float64\n"
     ]
    }
   ],
   "source": [
    "adjust_column_ratios(health_attr, 'shift', 3, 0.06)"
   ]
  },
  {
   "cell_type": "markdown",
   "id": "jTYGj3dz8wjE",
   "metadata": {
    "id": "jTYGj3dz8wjE"
   },
   "source": [
    "#### Work Life Balance Section"
   ]
  },
  {
   "cell_type": "code",
   "execution_count": null,
   "id": "-tUsEbHl8zH1",
   "metadata": {
    "colab": {
     "base_uri": "https://localhost:8080/"
    },
    "executionInfo": {
     "elapsed": 137,
     "status": "ok",
     "timestamp": 1715989599296,
     "user": {
      "displayName": "Tanya Seegmiller",
      "userId": "09396795393408040669"
     },
     "user_tz": 360
    },
    "id": "-tUsEbHl8zH1",
    "outputId": "fcda5bab-f655-4828-9421-5296aa79efce"
   },
   "outputs": [
    {
     "data": {
      "text/plain": [
       "worklifebalance\n",
       "3    0.616117\n",
       "2    0.313733\n",
       "4    0.049950\n",
       "1    0.020200\n",
       "Name: proportion, dtype: float64"
      ]
     },
     "execution_count": 132,
     "metadata": {},
     "output_type": "execute_result"
    }
   ],
   "source": [
    "health_attr['worklifebalance'].value_counts(normalize= True)"
   ]
  },
  {
   "cell_type": "code",
   "execution_count": null,
   "id": "0PT6l3Uq87xb",
   "metadata": {
    "colab": {
     "base_uri": "https://localhost:8080/"
    },
    "executionInfo": {
     "elapsed": 128,
     "status": "ok",
     "timestamp": 1715989829716,
     "user": {
      "displayName": "Tanya Seegmiller",
      "userId": "09396795393408040669"
     },
     "user_tz": 360
    },
    "id": "0PT6l3Uq87xb",
    "outputId": "1a5d2080-8932-4705-9b98-726f2ca91c06"
   },
   "outputs": [
    {
     "name": "stdout",
     "output_type": "stream",
     "text": [
      "New value ratios for worklifebalance column with target value 1: worklifebalance\n",
      "4    0.295033\n",
      "1    0.292183\n",
      "2    0.207900\n",
      "3    0.204883\n",
      "Name: proportion, dtype: float64\n"
     ]
    }
   ],
   "source": [
    "adjust_column_ratios(health_attr, 'worklifebalance', 1, 0.04)"
   ]
  },
  {
   "cell_type": "code",
   "execution_count": null,
   "id": "gn6O4X8i86gV",
   "metadata": {
    "colab": {
     "base_uri": "https://localhost:8080/"
    },
    "executionInfo": {
     "elapsed": 254,
     "status": "ok",
     "timestamp": 1715989802944,
     "user": {
      "displayName": "Tanya Seegmiller",
      "userId": "09396795393408040669"
     },
     "user_tz": 360
    },
    "id": "gn6O4X8i86gV",
    "outputId": "e0dbe431-cf87-4788-c91a-d0edeac96969"
   },
   "outputs": [
    {
     "name": "stdout",
     "output_type": "stream",
     "text": [
      "New value ratios for worklifebalance column with target value 4: worklifebalance\n",
      "4    0.307767\n",
      "1    0.263250\n",
      "2    0.216233\n",
      "3    0.212750\n",
      "Name: proportion, dtype: float64\n"
     ]
    }
   ],
   "source": [
    "adjust_column_ratios(health_attr, 'worklifebalance', 4, 0.05)"
   ]
  },
  {
   "cell_type": "code",
   "execution_count": null,
   "id": "CQuPAZqj9RoP",
   "metadata": {
    "colab": {
     "base_uri": "https://localhost:8080/"
    },
    "executionInfo": {
     "elapsed": 365,
     "status": "ok",
     "timestamp": 1715989782805,
     "user": {
      "displayName": "Tanya Seegmiller",
      "userId": "09396795393408040669"
     },
     "user_tz": 360
    },
    "id": "CQuPAZqj9RoP",
    "outputId": "317ddd78-c6f1-4f46-d267-5e83e91c9f29"
   },
   "outputs": [
    {
     "name": "stdout",
     "output_type": "stream",
     "text": [
      "New value ratios for worklifebalance column with target value 2: worklifebalance\n",
      "1    0.276867\n",
      "4    0.271900\n",
      "2    0.227183\n",
      "3    0.224050\n",
      "Name: proportion, dtype: float64\n"
     ]
    }
   ],
   "source": [
    "adjust_column_ratios(health_attr, 'worklifebalance', 2, 0.06)"
   ]
  },
  {
   "cell_type": "markdown",
   "id": "-NxJ334nEEXf",
   "metadata": {
    "id": "-NxJ334nEEXf"
   },
   "source": [
    "#### Years Since Last Promotion Section"
   ]
  },
  {
   "cell_type": "code",
   "execution_count": null,
   "id": "iW9NXLcqEH8P",
   "metadata": {
    "colab": {
     "base_uri": "https://localhost:8080/"
    },
    "collapsed": true,
    "executionInfo": {
     "elapsed": 150,
     "status": "ok",
     "timestamp": 1715991589923,
     "user": {
      "displayName": "Tanya Seegmiller",
      "userId": "09396795393408040669"
     },
     "user_tz": 360
    },
    "id": "iW9NXLcqEH8P",
    "jupyter": {
     "outputs_hidden": true
    },
    "outputId": "32c86a25-2917-4a20-b23c-b47e1339bb02"
   },
   "outputs": [
    {
     "data": {
      "text/plain": [
       "yearssincelastpromotion\n",
       "1     0.248750\n",
       "2     0.142150\n",
       "3     0.100517\n",
       "4     0.077717\n",
       "5     0.063467\n",
       "6     0.051800\n",
       "7     0.044550\n",
       "8     0.036917\n",
       "9     0.031533\n",
       "10    0.027017\n",
       "11    0.023517\n",
       "12    0.019800\n",
       "13    0.018683\n",
       "14    0.015867\n",
       "15    0.014267\n",
       "16    0.011317\n",
       "17    0.010550\n",
       "18    0.008883\n",
       "19    0.008200\n",
       "20    0.006917\n",
       "21    0.005650\n",
       "22    0.005350\n",
       "23    0.004517\n",
       "24    0.003583\n",
       "25    0.003167\n",
       "26    0.003083\n",
       "27    0.002517\n",
       "28    0.002217\n",
       "29    0.001833\n",
       "30    0.001333\n",
       "31    0.001183\n",
       "32    0.001083\n",
       "33    0.000683\n",
       "34    0.000533\n",
       "35    0.000333\n",
       "36    0.000200\n",
       "37    0.000183\n",
       "38    0.000083\n",
       "39    0.000033\n",
       "40    0.000017\n",
       "Name: proportion, dtype: float64"
      ]
     },
     "execution_count": 146,
     "metadata": {},
     "output_type": "execute_result"
    }
   ],
   "source": [
    "health_attr['yearssincelastpromotion'].value_counts(normalize= True)"
   ]
  },
  {
   "cell_type": "code",
   "execution_count": null,
   "id": "Wlt1FFYfEUMS",
   "metadata": {
    "colab": {
     "base_uri": "https://localhost:8080/",
     "height": 308
    },
    "executionInfo": {
     "elapsed": 136,
     "status": "ok",
     "timestamp": 1715991770266,
     "user": {
      "displayName": "Tanya Seegmiller",
      "userId": "09396795393408040669"
     },
     "user_tz": 360
    },
    "id": "Wlt1FFYfEUMS",
    "outputId": "da943b6b-8e44-49cc-b645-9f4a2e3fa42e"
   },
   "outputs": [
    {
     "data": {
      "application/vnd.google.colaboratory.intrinsic+json": {
       "type": "dataframe",
       "variable_name": "health_attr"
      },
      "text/html": [
       "\n",
       "  <div id=\"df-4074ee8d-f3f3-40d6-8a2d-1a487d295ac0\" class=\"colab-df-container\">\n",
       "    <div>\n",
       "<style scoped>\n",
       "    .dataframe tbody tr th:only-of-type {\n",
       "        vertical-align: middle;\n",
       "    }\n",
       "\n",
       "    .dataframe tbody tr th {\n",
       "        vertical-align: top;\n",
       "    }\n",
       "\n",
       "    .dataframe thead th {\n",
       "        text-align: right;\n",
       "    }\n",
       "</style>\n",
       "<table border=\"1\" class=\"dataframe\">\n",
       "  <thead>\n",
       "    <tr style=\"text-align: right;\">\n",
       "      <th></th>\n",
       "      <th>age</th>\n",
       "      <th>attrition</th>\n",
       "      <th>distancefromhome</th>\n",
       "      <th>education</th>\n",
       "      <th>environmentsatisfaction</th>\n",
       "      <th>gender</th>\n",
       "      <th>hourlyrate</th>\n",
       "      <th>jobinvolvement</th>\n",
       "      <th>jobrole</th>\n",
       "      <th>jobsatisfaction</th>\n",
       "      <th>...</th>\n",
       "      <th>performancerating</th>\n",
       "      <th>relationshipsatisfaction</th>\n",
       "      <th>shift</th>\n",
       "      <th>totalworkingyears</th>\n",
       "      <th>trainingtimeslastyear</th>\n",
       "      <th>worklifebalance</th>\n",
       "      <th>yearsatcompany</th>\n",
       "      <th>yearsincurrentrole</th>\n",
       "      <th>yearssincelastpromotion</th>\n",
       "      <th>yearswithcurrmanager</th>\n",
       "    </tr>\n",
       "  </thead>\n",
       "  <tbody>\n",
       "    <tr>\n",
       "      <th>0</th>\n",
       "      <td>6</td>\n",
       "      <td>0</td>\n",
       "      <td>1</td>\n",
       "      <td>5</td>\n",
       "      <td>3</td>\n",
       "      <td>0</td>\n",
       "      <td>54.22</td>\n",
       "      <td>4</td>\n",
       "      <td>surgery RN</td>\n",
       "      <td>3</td>\n",
       "      <td>...</td>\n",
       "      <td>3</td>\n",
       "      <td>4</td>\n",
       "      <td>2</td>\n",
       "      <td>9</td>\n",
       "      <td>3</td>\n",
       "      <td>2</td>\n",
       "      <td>23</td>\n",
       "      <td>6</td>\n",
       "      <td>11</td>\n",
       "      <td>6</td>\n",
       "    </tr>\n",
       "    <tr>\n",
       "      <th>1</th>\n",
       "      <td>9</td>\n",
       "      <td>0</td>\n",
       "      <td>47</td>\n",
       "      <td>2</td>\n",
       "      <td>4</td>\n",
       "      <td>0</td>\n",
       "      <td>16.15</td>\n",
       "      <td>3</td>\n",
       "      <td>CNA</td>\n",
       "      <td>2</td>\n",
       "      <td>...</td>\n",
       "      <td>1</td>\n",
       "      <td>4</td>\n",
       "      <td>4</td>\n",
       "      <td>5</td>\n",
       "      <td>3</td>\n",
       "      <td>4</td>\n",
       "      <td>1</td>\n",
       "      <td>1</td>\n",
       "      <td>11</td>\n",
       "      <td>1</td>\n",
       "    </tr>\n",
       "    <tr>\n",
       "      <th>2</th>\n",
       "      <td>1</td>\n",
       "      <td>1</td>\n",
       "      <td>45</td>\n",
       "      <td>2</td>\n",
       "      <td>3</td>\n",
       "      <td>1</td>\n",
       "      <td>32.81</td>\n",
       "      <td>1</td>\n",
       "      <td>surgery tech</td>\n",
       "      <td>3</td>\n",
       "      <td>...</td>\n",
       "      <td>3</td>\n",
       "      <td>4</td>\n",
       "      <td>2</td>\n",
       "      <td>10</td>\n",
       "      <td>2</td>\n",
       "      <td>4</td>\n",
       "      <td>4</td>\n",
       "      <td>1</td>\n",
       "      <td>12</td>\n",
       "      <td>2</td>\n",
       "    </tr>\n",
       "    <tr>\n",
       "      <th>3</th>\n",
       "      <td>2</td>\n",
       "      <td>0</td>\n",
       "      <td>2</td>\n",
       "      <td>2</td>\n",
       "      <td>2</td>\n",
       "      <td>0</td>\n",
       "      <td>39.08</td>\n",
       "      <td>3</td>\n",
       "      <td>ICU nurse</td>\n",
       "      <td>3</td>\n",
       "      <td>...</td>\n",
       "      <td>3</td>\n",
       "      <td>2</td>\n",
       "      <td>3</td>\n",
       "      <td>24</td>\n",
       "      <td>2</td>\n",
       "      <td>3</td>\n",
       "      <td>14</td>\n",
       "      <td>6</td>\n",
       "      <td>6</td>\n",
       "      <td>8</td>\n",
       "    </tr>\n",
       "    <tr>\n",
       "      <th>4</th>\n",
       "      <td>9</td>\n",
       "      <td>1</td>\n",
       "      <td>8</td>\n",
       "      <td>2</td>\n",
       "      <td>4</td>\n",
       "      <td>1</td>\n",
       "      <td>67.04</td>\n",
       "      <td>3</td>\n",
       "      <td>ICU tech</td>\n",
       "      <td>3</td>\n",
       "      <td>...</td>\n",
       "      <td>4</td>\n",
       "      <td>3</td>\n",
       "      <td>1</td>\n",
       "      <td>15</td>\n",
       "      <td>3</td>\n",
       "      <td>4</td>\n",
       "      <td>6</td>\n",
       "      <td>3</td>\n",
       "      <td>3</td>\n",
       "      <td>2</td>\n",
       "    </tr>\n",
       "  </tbody>\n",
       "</table>\n",
       "<p>5 rows × 25 columns</p>\n",
       "</div>\n",
       "    <div class=\"colab-df-buttons\">\n",
       "\n",
       "  <div class=\"colab-df-container\">\n",
       "    <button class=\"colab-df-convert\" onclick=\"convertToInteractive('df-4074ee8d-f3f3-40d6-8a2d-1a487d295ac0')\"\n",
       "            title=\"Convert this dataframe to an interactive table.\"\n",
       "            style=\"display:none;\">\n",
       "\n",
       "  <svg xmlns=\"http://www.w3.org/2000/svg\" height=\"24px\" viewBox=\"0 -960 960 960\">\n",
       "    <path d=\"M120-120v-720h720v720H120Zm60-500h600v-160H180v160Zm220 220h160v-160H400v160Zm0 220h160v-160H400v160ZM180-400h160v-160H180v160Zm440 0h160v-160H620v160ZM180-180h160v-160H180v160Zm440 0h160v-160H620v160Z\"/>\n",
       "  </svg>\n",
       "    </button>\n",
       "\n",
       "  <style>\n",
       "    .colab-df-container {\n",
       "      display:flex;\n",
       "      gap: 12px;\n",
       "    }\n",
       "\n",
       "    .colab-df-convert {\n",
       "      background-color: #E8F0FE;\n",
       "      border: none;\n",
       "      border-radius: 50%;\n",
       "      cursor: pointer;\n",
       "      display: none;\n",
       "      fill: #1967D2;\n",
       "      height: 32px;\n",
       "      padding: 0 0 0 0;\n",
       "      width: 32px;\n",
       "    }\n",
       "\n",
       "    .colab-df-convert:hover {\n",
       "      background-color: #E2EBFA;\n",
       "      box-shadow: 0px 1px 2px rgba(60, 64, 67, 0.3), 0px 1px 3px 1px rgba(60, 64, 67, 0.15);\n",
       "      fill: #174EA6;\n",
       "    }\n",
       "\n",
       "    .colab-df-buttons div {\n",
       "      margin-bottom: 4px;\n",
       "    }\n",
       "\n",
       "    [theme=dark] .colab-df-convert {\n",
       "      background-color: #3B4455;\n",
       "      fill: #D2E3FC;\n",
       "    }\n",
       "\n",
       "    [theme=dark] .colab-df-convert:hover {\n",
       "      background-color: #434B5C;\n",
       "      box-shadow: 0px 1px 3px 1px rgba(0, 0, 0, 0.15);\n",
       "      filter: drop-shadow(0px 1px 2px rgba(0, 0, 0, 0.3));\n",
       "      fill: #FFFFFF;\n",
       "    }\n",
       "  </style>\n",
       "\n",
       "    <script>\n",
       "      const buttonEl =\n",
       "        document.querySelector('#df-4074ee8d-f3f3-40d6-8a2d-1a487d295ac0 button.colab-df-convert');\n",
       "      buttonEl.style.display =\n",
       "        google.colab.kernel.accessAllowed ? 'block' : 'none';\n",
       "\n",
       "      async function convertToInteractive(key) {\n",
       "        const element = document.querySelector('#df-4074ee8d-f3f3-40d6-8a2d-1a487d295ac0');\n",
       "        const dataTable =\n",
       "          await google.colab.kernel.invokeFunction('convertToInteractive',\n",
       "                                                    [key], {});\n",
       "        if (!dataTable) return;\n",
       "\n",
       "        const docLinkHtml = 'Like what you see? Visit the ' +\n",
       "          '<a target=\"_blank\" href=https://colab.research.google.com/notebooks/data_table.ipynb>data table notebook</a>'\n",
       "          + ' to learn more about interactive tables.';\n",
       "        element.innerHTML = '';\n",
       "        dataTable['output_type'] = 'display_data';\n",
       "        await google.colab.output.renderOutput(dataTable, element);\n",
       "        const docLink = document.createElement('div');\n",
       "        docLink.innerHTML = docLinkHtml;\n",
       "        element.appendChild(docLink);\n",
       "      }\n",
       "    </script>\n",
       "  </div>\n",
       "\n",
       "\n",
       "<div id=\"df-662c56a9-258e-466f-9db4-16375d92a22b\">\n",
       "  <button class=\"colab-df-quickchart\" onclick=\"quickchart('df-662c56a9-258e-466f-9db4-16375d92a22b')\"\n",
       "            title=\"Suggest charts\"\n",
       "            style=\"display:none;\">\n",
       "\n",
       "<svg xmlns=\"http://www.w3.org/2000/svg\" height=\"24px\"viewBox=\"0 0 24 24\"\n",
       "     width=\"24px\">\n",
       "    <g>\n",
       "        <path d=\"M19 3H5c-1.1 0-2 .9-2 2v14c0 1.1.9 2 2 2h14c1.1 0 2-.9 2-2V5c0-1.1-.9-2-2-2zM9 17H7v-7h2v7zm4 0h-2V7h2v10zm4 0h-2v-4h2v4z\"/>\n",
       "    </g>\n",
       "</svg>\n",
       "  </button>\n",
       "\n",
       "<style>\n",
       "  .colab-df-quickchart {\n",
       "      --bg-color: #E8F0FE;\n",
       "      --fill-color: #1967D2;\n",
       "      --hover-bg-color: #E2EBFA;\n",
       "      --hover-fill-color: #174EA6;\n",
       "      --disabled-fill-color: #AAA;\n",
       "      --disabled-bg-color: #DDD;\n",
       "  }\n",
       "\n",
       "  [theme=dark] .colab-df-quickchart {\n",
       "      --bg-color: #3B4455;\n",
       "      --fill-color: #D2E3FC;\n",
       "      --hover-bg-color: #434B5C;\n",
       "      --hover-fill-color: #FFFFFF;\n",
       "      --disabled-bg-color: #3B4455;\n",
       "      --disabled-fill-color: #666;\n",
       "  }\n",
       "\n",
       "  .colab-df-quickchart {\n",
       "    background-color: var(--bg-color);\n",
       "    border: none;\n",
       "    border-radius: 50%;\n",
       "    cursor: pointer;\n",
       "    display: none;\n",
       "    fill: var(--fill-color);\n",
       "    height: 32px;\n",
       "    padding: 0;\n",
       "    width: 32px;\n",
       "  }\n",
       "\n",
       "  .colab-df-quickchart:hover {\n",
       "    background-color: var(--hover-bg-color);\n",
       "    box-shadow: 0 1px 2px rgba(60, 64, 67, 0.3), 0 1px 3px 1px rgba(60, 64, 67, 0.15);\n",
       "    fill: var(--button-hover-fill-color);\n",
       "  }\n",
       "\n",
       "  .colab-df-quickchart-complete:disabled,\n",
       "  .colab-df-quickchart-complete:disabled:hover {\n",
       "    background-color: var(--disabled-bg-color);\n",
       "    fill: var(--disabled-fill-color);\n",
       "    box-shadow: none;\n",
       "  }\n",
       "\n",
       "  .colab-df-spinner {\n",
       "    border: 2px solid var(--fill-color);\n",
       "    border-color: transparent;\n",
       "    border-bottom-color: var(--fill-color);\n",
       "    animation:\n",
       "      spin 1s steps(1) infinite;\n",
       "  }\n",
       "\n",
       "  @keyframes spin {\n",
       "    0% {\n",
       "      border-color: transparent;\n",
       "      border-bottom-color: var(--fill-color);\n",
       "      border-left-color: var(--fill-color);\n",
       "    }\n",
       "    20% {\n",
       "      border-color: transparent;\n",
       "      border-left-color: var(--fill-color);\n",
       "      border-top-color: var(--fill-color);\n",
       "    }\n",
       "    30% {\n",
       "      border-color: transparent;\n",
       "      border-left-color: var(--fill-color);\n",
       "      border-top-color: var(--fill-color);\n",
       "      border-right-color: var(--fill-color);\n",
       "    }\n",
       "    40% {\n",
       "      border-color: transparent;\n",
       "      border-right-color: var(--fill-color);\n",
       "      border-top-color: var(--fill-color);\n",
       "    }\n",
       "    60% {\n",
       "      border-color: transparent;\n",
       "      border-right-color: var(--fill-color);\n",
       "    }\n",
       "    80% {\n",
       "      border-color: transparent;\n",
       "      border-right-color: var(--fill-color);\n",
       "      border-bottom-color: var(--fill-color);\n",
       "    }\n",
       "    90% {\n",
       "      border-color: transparent;\n",
       "      border-bottom-color: var(--fill-color);\n",
       "    }\n",
       "  }\n",
       "</style>\n",
       "\n",
       "  <script>\n",
       "    async function quickchart(key) {\n",
       "      const quickchartButtonEl =\n",
       "        document.querySelector('#' + key + ' button');\n",
       "      quickchartButtonEl.disabled = true;  // To prevent multiple clicks.\n",
       "      quickchartButtonEl.classList.add('colab-df-spinner');\n",
       "      try {\n",
       "        const charts = await google.colab.kernel.invokeFunction(\n",
       "            'suggestCharts', [key], {});\n",
       "      } catch (error) {\n",
       "        console.error('Error during call to suggestCharts:', error);\n",
       "      }\n",
       "      quickchartButtonEl.classList.remove('colab-df-spinner');\n",
       "      quickchartButtonEl.classList.add('colab-df-quickchart-complete');\n",
       "    }\n",
       "    (() => {\n",
       "      let quickchartButtonEl =\n",
       "        document.querySelector('#df-662c56a9-258e-466f-9db4-16375d92a22b button');\n",
       "      quickchartButtonEl.style.display =\n",
       "        google.colab.kernel.accessAllowed ? 'block' : 'none';\n",
       "    })();\n",
       "  </script>\n",
       "</div>\n",
       "\n",
       "    </div>\n",
       "  </div>\n"
      ],
      "text/plain": [
       "   age  attrition  distancefromhome  education  environmentsatisfaction  \\\n",
       "0    6          0                 1          5                        3   \n",
       "1    9          0                47          2                        4   \n",
       "2    1          1                45          2                        3   \n",
       "3    2          0                 2          2                        2   \n",
       "4    9          1                 8          2                        4   \n",
       "\n",
       "   gender  hourlyrate  jobinvolvement       jobrole  jobsatisfaction  ...  \\\n",
       "0       0       54.22               4    surgery RN                3  ...   \n",
       "1       0       16.15               3           CNA                2  ...   \n",
       "2       1       32.81               1  surgery tech                3  ...   \n",
       "3       0       39.08               3     ICU nurse                3  ...   \n",
       "4       1       67.04               3      ICU tech                3  ...   \n",
       "\n",
       "  performancerating  relationshipsatisfaction  shift  totalworkingyears  \\\n",
       "0                 3                         4      2                  9   \n",
       "1                 1                         4      4                  5   \n",
       "2                 3                         4      2                 10   \n",
       "3                 3                         2      3                 24   \n",
       "4                 4                         3      1                 15   \n",
       "\n",
       "   trainingtimeslastyear  worklifebalance  yearsatcompany  yearsincurrentrole  \\\n",
       "0                      3                2              23                   6   \n",
       "1                      3                4               1                   1   \n",
       "2                      2                4               4                   1   \n",
       "3                      2                3              14                   6   \n",
       "4                      3                4               6                   3   \n",
       "\n",
       "   yearssincelastpromotion  yearswithcurrmanager  \n",
       "0                       11                     6  \n",
       "1                       11                     1  \n",
       "2                       12                     2  \n",
       "3                        6                     8  \n",
       "4                        3                     2  \n",
       "\n",
       "[5 rows x 25 columns]"
      ]
     },
     "execution_count": 150,
     "metadata": {},
     "output_type": "execute_result"
    }
   ],
   "source": [
    "# generating random integers between 1 and 15\n",
    "random_years = np.random.randint(0, 16, size=health_attr.shape[0])\n",
    "\n",
    "# assign the random integers to the column\n",
    "health_attr['yearssincelastpromotion'] = random_years\n",
    "\n",
    "# verify change\n",
    "health_attr.head()"
   ]
  },
  {
   "cell_type": "code",
   "execution_count": null,
   "id": "iRDAw8hpEnGx",
   "metadata": {
    "colab": {
     "base_uri": "https://localhost:8080/"
    },
    "executionInfo": {
     "elapsed": 129,
     "status": "ok",
     "timestamp": 1715991774239,
     "user": {
      "displayName": "Tanya Seegmiller",
      "userId": "09396795393408040669"
     },
     "user_tz": 360
    },
    "id": "iRDAw8hpEnGx",
    "outputId": "d4a4efc8-df75-4703-875d-54f1cafc3330"
   },
   "outputs": [
    {
     "data": {
      "text/plain": [
       "yearssincelastpromotion\n",
       "6     0.063917\n",
       "1     0.063633\n",
       "12    0.063450\n",
       "0     0.063217\n",
       "15    0.063183\n",
       "11    0.062983\n",
       "4     0.062900\n",
       "2     0.062650\n",
       "7     0.062500\n",
       "9     0.062383\n",
       "14    0.062167\n",
       "10    0.062150\n",
       "5     0.061767\n",
       "3     0.061700\n",
       "8     0.061017\n",
       "13    0.060383\n",
       "Name: proportion, dtype: float64"
      ]
     },
     "execution_count": 151,
     "metadata": {},
     "output_type": "execute_result"
    }
   ],
   "source": [
    "health_attr['yearssincelastpromotion'].value_counts(normalize= True)"
   ]
  },
  {
   "cell_type": "code",
   "execution_count": null,
   "id": "_w8JTxugFCbc",
   "metadata": {
    "colab": {
     "base_uri": "https://localhost:8080/"
    },
    "executionInfo": {
     "elapsed": 334,
     "status": "ok",
     "timestamp": 1715991812143,
     "user": {
      "displayName": "Tanya Seegmiller",
      "userId": "09396795393408040669"
     },
     "user_tz": 360
    },
    "id": "_w8JTxugFCbc",
    "outputId": "2f604644-5f10-454c-9c32-e9f796cbc381"
   },
   "outputs": [
    {
     "name": "stdout",
     "output_type": "stream",
     "text": [
      "New value ratios for yearssincelastpromotion column with target value 0: yearssincelastpromotion\n",
      "0     0.403317\n",
      "12    0.041400\n",
      "6     0.041317\n",
      "1     0.041233\n",
      "2     0.040633\n",
      "15    0.040017\n",
      "4     0.039933\n",
      "3     0.039767\n",
      "11    0.039683\n",
      "10    0.039617\n",
      "7     0.039533\n",
      "9     0.039433\n",
      "5     0.039050\n",
      "8     0.038833\n",
      "14    0.038283\n",
      "13    0.037950\n",
      "Name: proportion, dtype: float64\n"
     ]
    }
   ],
   "source": [
    "adjust_column_ratios(health_attr, 'yearssincelastpromotion', 0, .09)"
   ]
  },
  {
   "cell_type": "code",
   "execution_count": null,
   "id": "5sQz1nLPFz8z",
   "metadata": {
    "colab": {
     "base_uri": "https://localhost:8080/"
    },
    "executionInfo": {
     "elapsed": 313,
     "status": "ok",
     "timestamp": 1715992340769,
     "user": {
      "displayName": "Tanya Seegmiller",
      "userId": "09396795393408040669"
     },
     "user_tz": 360
    },
    "id": "5sQz1nLPFz8z",
    "outputId": "f49f41d3-47c6-4b01-ae81-8f933b05f305"
   },
   "outputs": [
    {
     "name": "stdout",
     "output_type": "stream",
     "text": [
      "New value ratios for yearssincelastpromotion column with target value 1: yearssincelastpromotion\n",
      "1     0.312750\n",
      "0     0.239100\n",
      "2     0.082900\n",
      "7     0.049667\n",
      "4     0.041400\n",
      "3     0.032300\n",
      "5     0.031517\n",
      "12    0.024333\n",
      "6     0.024133\n",
      "10    0.023867\n",
      "8     0.023367\n",
      "15    0.023333\n",
      "11    0.023233\n",
      "9     0.022900\n",
      "13    0.022667\n",
      "14    0.022533\n",
      "Name: proportion, dtype: float64\n"
     ]
    }
   ],
   "source": [
    "adjust_column_ratios(health_attr, 'yearssincelastpromotion', 1, .10)"
   ]
  },
  {
   "cell_type": "code",
   "execution_count": null,
   "id": "O94nEuOfF5rE",
   "metadata": {
    "colab": {
     "base_uri": "https://localhost:8080/"
    },
    "executionInfo": {
     "elapsed": 264,
     "status": "ok",
     "timestamp": 1715992000646,
     "user": {
      "displayName": "Tanya Seegmiller",
      "userId": "09396795393408040669"
     },
     "user_tz": 360
    },
    "id": "O94nEuOfF5rE",
    "outputId": "8771f4fc-88c8-4ad6-8adf-91f0067ee212"
   },
   "outputs": [
    {
     "name": "stdout",
     "output_type": "stream",
     "text": [
      "New value ratios for yearssincelastpromotion column with target value 2: yearssincelastpromotion\n",
      "0     0.284700\n",
      "1     0.253367\n",
      "2     0.098700\n",
      "12    0.029183\n",
      "6     0.029117\n",
      "4     0.028283\n",
      "10    0.028200\n",
      "11    0.028000\n",
      "3     0.027967\n",
      "15    0.027950\n",
      "7     0.027917\n",
      "9     0.027767\n",
      "13    0.027450\n",
      "8     0.027167\n",
      "14    0.027150\n",
      "5     0.027083\n",
      "Name: proportion, dtype: float64\n"
     ]
    }
   ],
   "source": [
    "adjust_column_ratios(health_attr, 'yearssincelastpromotion', 2, .07)"
   ]
  },
  {
   "cell_type": "code",
   "execution_count": null,
   "id": "-CVUmbT9GD-l",
   "metadata": {
    "colab": {
     "base_uri": "https://localhost:8080/"
    },
    "executionInfo": {
     "elapsed": 273,
     "status": "ok",
     "timestamp": 1715992041514,
     "user": {
      "displayName": "Tanya Seegmiller",
      "userId": "09396795393408040669"
     },
     "user_tz": 360
    },
    "id": "-CVUmbT9GD-l",
    "outputId": "9822d328-dfb1-4f1b-8e5a-93b249dbe694"
   },
   "outputs": [
    {
     "name": "stdout",
     "output_type": "stream",
     "text": [
      "New value ratios for yearssincelastpromotion column with target value 7: yearssincelastpromotion\n",
      "0     0.276317\n",
      "1     0.245717\n",
      "2     0.095800\n",
      "7     0.057267\n",
      "6     0.028250\n",
      "12    0.028217\n",
      "4     0.027500\n",
      "10    0.027283\n",
      "11    0.027167\n",
      "3     0.027083\n",
      "15    0.026983\n",
      "9     0.026817\n",
      "13    0.026567\n",
      "8     0.026533\n",
      "14    0.026300\n",
      "5     0.026200\n",
      "Name: proportion, dtype: float64\n"
     ]
    }
   ],
   "source": [
    "adjust_column_ratios(health_attr, 'yearssincelastpromotion', 7, .03)"
   ]
  },
  {
   "cell_type": "code",
   "execution_count": null,
   "id": "OO04AG_qG5e5",
   "metadata": {
    "colab": {
     "base_uri": "https://localhost:8080/"
    },
    "executionInfo": {
     "elapsed": 121,
     "status": "ok",
     "timestamp": 1715992306494,
     "user": {
      "displayName": "Tanya Seegmiller",
      "userId": "09396795393408040669"
     },
     "user_tz": 360
    },
    "id": "OO04AG_qG5e5",
    "outputId": "65182f6a-d09b-46b7-8442-694b7a5cecb6"
   },
   "outputs": [
    {
     "name": "stdout",
     "output_type": "stream",
     "text": [
      "New value ratios for yearssincelastpromotion column with target value 5: yearssincelastpromotion\n",
      "0     0.265667\n",
      "1     0.236233\n",
      "2     0.092200\n",
      "7     0.054717\n",
      "4     0.045783\n",
      "3     0.035767\n",
      "5     0.035067\n",
      "6     0.027267\n",
      "12    0.027083\n",
      "10    0.026250\n",
      "11    0.025950\n",
      "15    0.025850\n",
      "9     0.025750\n",
      "8     0.025617\n",
      "13    0.025533\n",
      "14    0.025267\n",
      "Name: proportion, dtype: float64\n"
     ]
    }
   ],
   "source": [
    "adjust_column_ratios(health_attr, 'yearssincelastpromotion', 5, .01)"
   ]
  },
  {
   "cell_type": "markdown",
   "id": "IZJa4b9nmxZ0",
   "metadata": {
    "id": "IZJa4b9nmxZ0"
   },
   "source": [
    "#### Years with Current Manger Section"
   ]
  },
  {
   "cell_type": "code",
   "execution_count": null,
   "id": "-iFq_e5EmxBN",
   "metadata": {
    "colab": {
     "base_uri": "https://localhost:8080/"
    },
    "executionInfo": {
     "elapsed": 222,
     "status": "ok",
     "timestamp": 1716000622825,
     "user": {
      "displayName": "Tanya Seegmiller",
      "userId": "09396795393408040669"
     },
     "user_tz": 360
    },
    "id": "-iFq_e5EmxBN",
    "outputId": "b5bec5ed-d56a-4ec3-ed47-5ec089191326"
   },
   "outputs": [
    {
     "data": {
      "text/plain": [
       "yearswithcurrmanager\n",
       "1     0.251033\n",
       "2     0.140033\n",
       "3     0.099700\n",
       "4     0.077500\n",
       "5     0.063183\n",
       "6     0.052300\n",
       "7     0.044483\n",
       "8     0.037900\n",
       "9     0.031250\n",
       "10    0.027000\n",
       "11    0.023083\n",
       "12    0.021150\n",
       "13    0.018450\n",
       "14    0.015950\n",
       "15    0.013417\n",
       "16    0.012050\n",
       "17    0.010083\n",
       "18    0.009100\n",
       "19    0.008383\n",
       "21    0.006267\n",
       "20    0.006233\n",
       "22    0.005200\n",
       "23    0.004717\n",
       "24    0.003483\n",
       "25    0.003317\n",
       "26    0.002983\n",
       "27    0.002317\n",
       "29    0.001850\n",
       "28    0.001833\n",
       "30    0.001550\n",
       "32    0.001033\n",
       "31    0.000883\n",
       "33    0.000750\n",
       "34    0.000617\n",
       "35    0.000350\n",
       "36    0.000250\n",
       "37    0.000167\n",
       "38    0.000100\n",
       "40    0.000050\n",
       "Name: proportion, dtype: float64"
      ]
     },
     "execution_count": 163,
     "metadata": {},
     "output_type": "execute_result"
    }
   ],
   "source": [
    "health_attr['yearswithcurrmanager'].value_counts(normalize= True)"
   ]
  },
  {
   "cell_type": "code",
   "execution_count": null,
   "id": "zyAT3rEWm5Ru",
   "metadata": {
    "id": "zyAT3rEWm5Ru"
   },
   "outputs": [],
   "source": [
    "# generating random integers between 1 and 15\n",
    "random_years = np.random.randint(0, 16, size=health_attr.shape[0])\n",
    "\n",
    "# assign the random integers to the column\n",
    "health_attr['yearswithcurrmanager'] = random_years"
   ]
  },
  {
   "cell_type": "code",
   "execution_count": null,
   "id": "5tXAt0F1m_Tg",
   "metadata": {
    "colab": {
     "base_uri": "https://localhost:8080/"
    },
    "executionInfo": {
     "elapsed": 195,
     "status": "ok",
     "timestamp": 1716000661694,
     "user": {
      "displayName": "Tanya Seegmiller",
      "userId": "09396795393408040669"
     },
     "user_tz": 360
    },
    "id": "5tXAt0F1m_Tg",
    "outputId": "e6e168ba-303d-4689-a7a7-1a8e73e2d1b2"
   },
   "outputs": [
    {
     "data": {
      "text/plain": [
       "yearswithcurrmanager\n",
       "2     0.064733\n",
       "4     0.063883\n",
       "11    0.063650\n",
       "7     0.063467\n",
       "1     0.063300\n",
       "6     0.062883\n",
       "10    0.062867\n",
       "0     0.062767\n",
       "8     0.062350\n",
       "13    0.062100\n",
       "15    0.062067\n",
       "14    0.061800\n",
       "3     0.061567\n",
       "9     0.061133\n",
       "12    0.060783\n",
       "5     0.060650\n",
       "Name: proportion, dtype: float64"
      ]
     },
     "execution_count": 165,
     "metadata": {},
     "output_type": "execute_result"
    }
   ],
   "source": [
    "health_attr['yearswithcurrmanager'].value_counts(normalize= True)"
   ]
  },
  {
   "cell_type": "code",
   "execution_count": null,
   "id": "34uLZrwonEgU",
   "metadata": {
    "colab": {
     "base_uri": "https://localhost:8080/"
    },
    "executionInfo": {
     "elapsed": 241,
     "status": "ok",
     "timestamp": 1716001095994,
     "user": {
      "displayName": "Tanya Seegmiller",
      "userId": "09396795393408040669"
     },
     "user_tz": 360
    },
    "id": "34uLZrwonEgU",
    "outputId": "998cc136-594c-4fcb-8871-1f831711743f"
   },
   "outputs": [
    {
     "name": "stdout",
     "output_type": "stream",
     "text": [
      "New value ratios for yearswithcurrmanager column with target value 0: yearswithcurrmanager\n",
      "2     0.277250\n",
      "0     0.167933\n",
      "7     0.140750\n",
      "3     0.074117\n",
      "8     0.063583\n",
      "1     0.056217\n",
      "4     0.055267\n",
      "9     0.039817\n",
      "5     0.030117\n",
      "6     0.021850\n",
      "12    0.012483\n",
      "10    0.012433\n",
      "14    0.012383\n",
      "11    0.012167\n",
      "13    0.011950\n",
      "15    0.011683\n",
      "Name: proportion, dtype: float64\n"
     ]
    }
   ],
   "source": [
    "adjust_column_ratios(health_attr, 'yearswithcurrmanager', 0, .01)"
   ]
  },
  {
   "cell_type": "code",
   "execution_count": null,
   "id": "rzipEqK4ndxP",
   "metadata": {
    "colab": {
     "base_uri": "https://localhost:8080/"
    },
    "executionInfo": {
     "elapsed": 215,
     "status": "ok",
     "timestamp": 1716001115902,
     "user": {
      "displayName": "Tanya Seegmiller",
      "userId": "09396795393408040669"
     },
     "user_tz": 360
    },
    "id": "rzipEqK4ndxP",
    "outputId": "8b8b8d41-87da-4a64-9e4f-e5affb761d05"
   },
   "outputs": [
    {
     "name": "stdout",
     "output_type": "stream",
     "text": [
      "New value ratios for yearswithcurrmanager column with target value 3: yearswithcurrmanager\n",
      "2     0.271817\n",
      "0     0.164183\n",
      "7     0.137883\n",
      "3     0.092717\n",
      "8     0.062567\n",
      "1     0.055033\n",
      "4     0.054183\n",
      "9     0.039167\n",
      "5     0.029467\n",
      "6     0.021317\n",
      "12    0.012200\n",
      "14    0.012183\n",
      "10    0.012150\n",
      "11    0.011950\n",
      "13    0.011700\n",
      "15    0.011483\n",
      "Name: proportion, dtype: float64\n"
     ]
    }
   ],
   "source": [
    "adjust_column_ratios(health_attr, 'yearswithcurrmanager', 3, .02)"
   ]
  },
  {
   "cell_type": "markdown",
   "id": "axVsWgskCABn",
   "metadata": {
    "id": "axVsWgskCABn"
   },
   "source": [
    "#### Years at Company Section"
   ]
  },
  {
   "cell_type": "code",
   "execution_count": null,
   "id": "AR1uQnUSB_Ms",
   "metadata": {
    "colab": {
     "base_uri": "https://localhost:8080/"
    },
    "executionInfo": {
     "elapsed": 208,
     "status": "ok",
     "timestamp": 1716158762713,
     "user": {
      "displayName": "Tanya Seegmiller",
      "userId": "09396795393408040669"
     },
     "user_tz": 360
    },
    "id": "AR1uQnUSB_Ms",
    "outputId": "c3d43709-1ea3-40c4-d151-3a1f603c6169"
   },
   "outputs": [
    {
     "data": {
      "text/plain": [
       "yearsatcompany\n",
       "1     0.107767\n",
       "2     0.081033\n",
       "3     0.069800\n",
       "4     0.060850\n",
       "5     0.055000\n",
       "6     0.048567\n",
       "7     0.046633\n",
       "8     0.042683\n",
       "9     0.038683\n",
       "10    0.036183\n",
       "11    0.033367\n",
       "12    0.031733\n",
       "13    0.028117\n",
       "14    0.027483\n",
       "15    0.025767\n",
       "16    0.024583\n",
       "17    0.023633\n",
       "18    0.020667\n",
       "19    0.019850\n",
       "20    0.018183\n",
       "21    0.016867\n",
       "22    0.015500\n",
       "23    0.015367\n",
       "24    0.013517\n",
       "25    0.012033\n",
       "26    0.011900\n",
       "27    0.010083\n",
       "28    0.010017\n",
       "29    0.008167\n",
       "30    0.007817\n",
       "31    0.007033\n",
       "32    0.006383\n",
       "33    0.005700\n",
       "34    0.005217\n",
       "35    0.004217\n",
       "36    0.003600\n",
       "37    0.002650\n",
       "38    0.001617\n",
       "39    0.001150\n",
       "40    0.000583\n",
       "Name: proportion, dtype: float64"
      ]
     },
     "execution_count": 46,
     "metadata": {},
     "output_type": "execute_result"
    }
   ],
   "source": [
    "health_attr['yearsatcompany'].value_counts(normalize= True)"
   ]
  },
  {
   "cell_type": "markdown",
   "id": "_T4TFGCUbwF1",
   "metadata": {
    "id": "_T4TFGCUbwF1"
   },
   "source": [
    "## Save all changes to csv"
   ]
  },
  {
   "cell_type": "code",
   "execution_count": 10,
   "id": "wA8uKxuyHfi4",
   "metadata": {
    "executionInfo": {
     "elapsed": 557,
     "status": "ok",
     "timestamp": 1716249021770,
     "user": {
      "displayName": "Tanya Seegmiller",
      "userId": "09396795393408040669"
     },
     "user_tz": 360
    },
    "id": "wA8uKxuyHfi4"
   },
   "outputs": [],
   "source": [
    "health_attr.to_csv('/content/drive/MyDrive/DSML/GA_DS/Projects/Project-Capstone/medical match option/data/final-healthcare.csv', index=False)"
   ]
  },
  {
   "cell_type": "code",
   "execution_count": null,
   "id": "cIiYmBwPjV0E",
   "metadata": {
    "colab": {
     "base_uri": "https://localhost:8080/",
     "height": 472
    },
    "executionInfo": {
     "elapsed": 375,
     "status": "ok",
     "timestamp": 1714796412813,
     "user": {
      "displayName": "Tanya Seegmiller",
      "userId": "09396795393408040669"
     },
     "user_tz": 360
    },
    "id": "cIiYmBwPjV0E",
    "outputId": "cd79be67-dc12-494c-befe-79a5660f121e"
   },
   "outputs": [
    {
     "data": {
      "image/png": "[encoded data removed]",
      "text/plain": [
       "<Figure size 640x480 with 1 Axes>"
      ]
     },
     "metadata": {},
     "output_type": "display_data"
    }
   ],
   "source": [
    "# plot the distribution of jobrole == 'ICU nurse' , 'monthlyincome\n",
    "# filter for ICU nurses\n",
    "icu_nurses = health_attr[health_attr['jobrole'] == 'ICU nurse']\n",
    "\n",
    "# Plot the distribution of monthly income for ICU nurses\n",
    "plt.hist(icu_nurses['monthlyincome'], bins=10)\n",
    "plt.xlabel('Monthly Income')\n",
    "plt.ylabel('Frequency')\n",
    "plt.title('Distribution of Monthly Income for ICU Nurses')\n",
    "plt.show()\n"
   ]
  },
  {
   "cell_type": "code",
   "execution_count": null,
   "id": "zJzrPm1Uhu6I",
   "metadata": {
    "colab": {
     "base_uri": "https://localhost:8080/",
     "height": 447
    },
    "executionInfo": {
     "elapsed": 635,
     "status": "ok",
     "timestamp": 1714786025168,
     "user": {
      "displayName": "Tanya Seegmiller",
      "userId": "09396795393408040669"
     },
     "user_tz": 360
    },
    "id": "zJzrPm1Uhu6I",
    "outputId": "1a3c6087-58d9-4577-c4d0-fdb6fc45a04b"
   },
   "outputs": [
    {
     "data": {
      "text/plain": [
       "<Axes: ylabel='Frequency'>"
      ]
     },
     "execution_count": 143,
     "metadata": {},
     "output_type": "execute_result"
    },
    {
     "data": {
      "image/png": "[encoded data removed]",
      "text/plain": [
       "<Figure size 640x480 with 1 Axes>"
      ]
     },
     "metadata": {},
     "output_type": "display_data"
    }
   ],
   "source": [
    "# prompt: plot the distribution of the jobrole == pharmacist\n",
    "\n",
    "health_attr[health_attr['jobrole'] == 'pharmacist']['monthlyincome'].plot(kind='hist', bins=100)\n"
   ]
  },
  {
   "cell_type": "code",
   "execution_count": null,
   "id": "u9S9niqoqaQH",
   "metadata": {
    "id": "u9S9niqoqaQH"
   },
   "outputs": [],
   "source": [
    "nurse = health_attr.copy()"
   ]
  },
  {
   "cell_type": "code",
   "execution_count": null,
   "id": "54ee7bd2-8dec-45a7-84d2-b09f85897f12",
   "metadata": {
    "id": "54ee7bd2-8dec-45a7-84d2-b09f85897f12"
   },
   "outputs": [],
   "source": []
  }
 ],
 "metadata": {
  "colab": {
   "collapsed_sections": [
    "-bf3aNocWGS8",
    "wlCEmHih0lWX",
    "wIOP7dzWmDOQ",
    "_hJQyhnnoXCC",
    "aBGlQk5SowLE",
    "k0CYyYkYpPTN",
    "esVdyY0_ta7w",
    "L73626qqtxKR",
    "Z0fAbdS4u5-L",
    "QabpcE2MvH9g",
    "wneZCDEFvcId",
    "OZ56XPsM5819",
    "Tnvj1R7r5hEX",
    "s9w6_EP65qr3",
    "u-IIFnDZ68g8",
    "HaMjVlXJuzsm",
    "yoVPfZKDxxqb",
    "SzC3WnnuyOxD",
    "sRFbhy9ysQRW",
    "vcQysLQ5rOJ5",
    "1FirAWuH0km9",
    "bR5sgVrh-iq4",
    "82gWwCZTHU4x",
    "ShIeO6z8Jthk",
    "vsKvABgUNfit",
    "mEs5Hm5ZhqMX",
    "tE2Zd9UJiGjq",
    "GPJ6-psL_Gbn",
    "jTYGj3dz8wjE",
    "-NxJ334nEEXf"
   ],
   "provenance": [
    {
     "file_id": "1cZ3Hksxcikhggytd-xehHQrMe4GKh2NS",
     "timestamp": 1714704702162
    }
   ]
  },
  "kernelspec": {
   "display_name": "Python 3 (ipykernel)",
   "language": "python",
   "name": "python3"
  },
  "language_info": {
   "codemirror_mode": {
    "name": "ipython",
    "version": 3
   },
   "file_extension": ".py",
   "mimetype": "text/x-python",
   "name": "python",
   "nbconvert_exporter": "python",
   "pygments_lexer": "ipython3",
   "version": "3.11.5"
  }
 },
 "nbformat": 4,
 "nbformat_minor": 5
}
