{
 "cells": [
  {
   "cell_type": "markdown",
   "metadata": {
    "id": "pNmmxzBUO7eJ"
   },
   "source": [
    "# Project 1: World Development Statistics"
   ]
  },
  {
   "cell_type": "markdown",
   "metadata": {},
   "source": [
    "![Crumbl cookie logo](Crumbl.png)"
   ]
  },
  {
   "cell_type": "markdown",
   "metadata": {
    "id": "SOs-H18MO7eK"
   },
   "source": [
    "---\n",
    "# Part 1\n",
    "\n",
    "Part 1 requires knowledge of basic Python.\n",
    "\n",
    "---"
   ]
  },
  {
   "cell_type": "markdown",
   "metadata": {
    "id": "ng4yWuRHO7eK"
   },
   "source": [
    "## Problem Statement"
   ]
  },
  {
   "cell_type": "markdown",
   "metadata": {
    "id": "moc9zXCoO7eL"
   },
   "source": [
    "**Business Context:**\n",
    "\n",
    "Crumbl Cookies is a family owned cookie company that was started by cousins Jason McGowan (CEO) and Sawyer Hemsley (COO). It was started in Logan, Utah, USA in 2017. In the seven years since its inception it has had tremendous success franchising in the US. They recently opened their 1000th location. They have grown so quickly, they've been dubbed the fasted growing dessert company in the United States.\n",
    "\n",
    "They are looking to the future and their goal is to grow internationally. As one of their data scientists, they would like recommendations for viable markets outside the United States with an emphasis on populations that would support growth and expansion, robust economies, daily incomes and, most importantly, sugar intake. They are a cookie company after all. With international growth in mind, we are looking to answer the question of which country will offer the opportunity for continued growth.\n"
   ]
  },
  {
   "cell_type": "markdown",
   "metadata": {
    "id": "lj6n-_hGO7eL"
   },
   "source": [
    "### Contents:\n",
    "- [Background](#Background)\n",
    "- [Data Import & Cleaning](#Data-Import-and-Cleaning)\n",
    "- [Exploratory Data Analysis](#Exploratory-Data-Analysis)\n",
    "- [Data Visualization](#Visualize-the-Data)\n",
    "- [Conclusions and Recommendations](#Conclusions-and-Recommendations)"
   ]
  },
  {
   "cell_type": "markdown",
   "metadata": {
    "id": "hoAygHq2O7eM"
   },
   "source": [
    "### Data Dictionary:\n",
    "\n",
    "|Feature|Type|Dataset|Description|\n",
    "|---|---|---|---|\n",
    "|**gdp**|*float*|Year 2024| Predicted Gross Domestic Product per person adjusted for differences in perchase power in international dollars\n",
    "|**population**|*float*|Year 2024|The population of Australia, Brazil, Canada, Denmark, Ireland, Japan, Mexico, Netherlands, New Zealand, Norway, Singapor, Switzerland, United Kingdom, United Stats (Predicted population expected).|\n",
    "|**income**|*float*|Year 2024|The average daily income per capital|\n",
    "|**sugar**|*float*|Year 2018|The most recent data on quantity of comsumption of sugar and sweetners in grams per person per day.|"
   ]
  },
  {
   "cell_type": "markdown",
   "metadata": {
    "id": "D2uB-qRoO7eM"
   },
   "source": [
    "### Outside Research"
   ]
  },
  {
   "cell_type": "markdown",
   "metadata": {
    "id": "DKapmoF9O7eM"
   },
   "source": [
    "In my slide presentation I reference that Crumbl Cookies is the fastest growing dessert company in the United States. That reference is per the New York Times post found here (https://www.nytimes.com/2023/04/17/dining/crumbl-cookies.html#:~:text=Crumbl%20is%20the%20fastest%2Dgrowing,stores%20from%20coast%20to%20coast.)"
   ]
  },
  {
   "cell_type": "markdown",
   "metadata": {
    "id": "hmSH47nXO7eN"
   },
   "source": [
    "### Coding Challenges\n",
    "\n",
    "1. Manually calculate mean:\n",
    "\n",
    "    Write a function that takes in values and returns the mean of the values. Create a list of numbers that you test on your function to check to make sure your function works!\n",
    "    \n",
    "    *Note*: Do not use any mean methods built-in to any Python libraries to do this! This should be done without importing any additional libraries."
   ]
  },
  {
   "cell_type": "code",
   "execution_count": 113,
   "metadata": {
    "id": "6ur9YbMNO7eN"
   },
   "outputs": [
    {
     "name": "stdout",
     "output_type": "stream",
     "text": [
      "3.0\n"
     ]
    }
   ],
   "source": [
    "# Create a function that calculates the mean of a given list of numbers\n",
    "def mean(num_list): # Parameter\n",
    "    \"\"\"\n",
    "    This function adds each item in the list together & \n",
    "    then divides it by the len of the list\n",
    "    \"\"\"\n",
    "    return sum(num_list)/len(num_list)\n",
    "\n",
    "# list for the function \n",
    "num_list = [1,2,3,4,5] #Argument\n",
    "# Call to function\n",
    "results = mean(num_list)\n",
    "print(results)"
   ]
  },
  {
   "cell_type": "markdown",
   "metadata": {
    "id": "3-Tko83kO7eN"
   },
   "source": [
    "2. Manually calculate standard deviation:\n",
    "\n",
    "    The formula for standard deviation is below:\n",
    "\n",
    "    $$\\sigma = \\sqrt{\\frac{1}{n}\\sum_{i=1}^n(x_i - \\mu)^2}$$\n",
    "\n",
    "    Where $x_i$ represents each value in the dataset, $\\mu$ represents the mean of all values in the dataset and $n$ represents the number of values in the dataset.\n",
    "\n",
    "    Write a function that takes in values and returns the standard deviation of the values using the formula above. Hint: use the function you wrote above to calculate the mean! Use the list of numbers you created above to test on your function.\n",
    "    \n",
    "    *Note*: Do not use any standard deviation methods built-in to any Python libraries to do this! This should be done without importing any additional libraries."
   ]
  },
  {
   "cell_type": "code",
   "execution_count": 114,
   "metadata": {
    "id": "Dxp3wqKcO7eO"
   },
   "outputs": [
    {
     "name": "stdout",
     "output_type": "stream",
     "text": [
      "1.118033988749895\n"
     ]
    }
   ],
   "source": [
    "# create a function that calls to the mean function above to calculate standard deviation\n",
    "\n",
    "def std(num_list): # parameter\n",
    "    \"\"\"\n",
    "    This function calculates the std by calling to the previous mean function, \n",
    "    then iterating over the list of numbers, calculating the squared differences\n",
    "    by taking the num - call to the last function squared, then adding each squared\n",
    "    difference into a variable. Then calculating the std by taking the sum of the\n",
    "    squared differences and dividing it by the length of the num_list. You then multiply\n",
    "    by 0.5\n",
    "    \n",
    "    Argument: num_list\n",
    "    \n",
    "    Returns the standard deviation\n",
    "    \n",
    "    \"\"\"\n",
    "    # calculate mean by calling mean function\n",
    "    mean_list = mean(num_list)\n",
    "    \n",
    "    # create a variable to hold the squared differences\n",
    "    sum_squared_diff = 0\n",
    "    \n",
    "    # Iterate over the num_list\n",
    "    for num in num_list:\n",
    "        # calculate the sqr diff for each value\n",
    "        squared_difference = (num - mean_list)**2\n",
    "        # add the values to sum_sqr_diff\n",
    "        sum_squared_diff += squared_difference\n",
    "        #Calculate std\n",
    "        stand_dev = (sum_squared_diff / len(num_list))**0.5\n",
    "    return stand_dev\n",
    " \n",
    "# accuracy check\n",
    "num_list = [5,6,7,8] # argument\n",
    "# call the function\n",
    "std_of_list = std(num_list)\n",
    "print(std_of_list)"
   ]
  },
  {
   "cell_type": "markdown",
   "metadata": {
    "id": "Zcn8Q7qCO7eO"
   },
   "source": [
    "3. Data cleaning function:\n",
    "    \n",
    "    Write a function that takes in a string consisting a number and an abbreviated place value (ex. '5M', '45K'), and converts that string to an integer. For example, inputting '5M' in your function should return 5000000, '45K' should return 45000, etc. Make sure to test your function to make sure it works!\n",
    "\n",
    "You will use these functions later on in the project!"
   ]
  },
  {
   "cell_type": "code",
   "execution_count": 115,
   "metadata": {
    "id": "WiaUajcVO7eO"
   },
   "outputs": [
    {
     "name": "stdout",
     "output_type": "stream",
     "text": [
      "5000000\n",
      "45000\n",
      "10\n"
     ]
    }
   ],
   "source": [
    "def clean_number(num_str):\n",
    "    if 'M' in num_str:\n",
    "        return int(num_str.replace('M', '')) * 1000000\n",
    "    elif 'K' in num_str:\n",
    "        return int(num_str.replace('K', '')) * 1000\n",
    "    else:\n",
    "        return int(num_str)\n",
    "\n",
    "# Test the function\n",
    "print(clean_number('5M'))\n",
    "print(clean_number('45K'))\n",
    "print(clean_number('10'))"
   ]
  },
  {
   "cell_type": "markdown",
   "metadata": {
    "id": "3C7rLy52O7eO"
   },
   "source": [
    "---\n",
    "# Part 2\n",
    "\n",
    "Part 2 requires knowledge of Pandas, EDA, data cleaning, and data visualization.\n",
    "\n",
    "---"
   ]
  },
  {
   "cell_type": "markdown",
   "metadata": {
    "id": "AYC393K7O7eO"
   },
   "source": [
    "*All libraries used should be added here*"
   ]
  },
  {
   "cell_type": "code",
   "execution_count": 116,
   "metadata": {
    "id": "tnBGUNcmO7eO"
   },
   "outputs": [],
   "source": [
    "# Libraries to help with reading and manipulating data\n",
    "import pandas as pd\n",
    "import numpy as np\n",
    "\n",
    "# Libaries to help with data visualization\n",
    "import matplotlib.pyplot as plt\n",
    "import seaborn as sns\n",
    "\n",
    "# To supress scientific notations for a dataframe\n",
    "pd.set_option(\"display.float_format\", lambda x: \"%.3f\" % x)\n",
    "\n",
    "# To supress warnings\n",
    "import warnings\n",
    "\n",
    "warnings.filterwarnings(\"ignore\")"
   ]
  },
  {
   "cell_type": "markdown",
   "metadata": {
    "id": "H-CUdW0CO7eO"
   },
   "source": [
    "## Data Import and Cleaning"
   ]
  },
  {
   "cell_type": "markdown",
   "metadata": {
    "id": "wjr6yT1WO7eO"
   },
   "source": [
    "### Data Import & Cleaning"
   ]
  },
  {
   "cell_type": "code",
   "execution_count": 117,
   "metadata": {
    "id": "m6CwPPZGO7eP"
   },
   "outputs": [],
   "source": [
    "# Project datasets\n",
    "gdp = pd.read_csv(\"gni_per_cap_atlas_method_con2021.csv\")\n",
    "population = pd.read_csv(\"population.csv\")\n",
    "income = pd.read_csv(\"mincpcap_cppp.csv\")\n",
    "sugar = pd.read_csv(\"sugar_per_person_g_per_day.csv\")"
   ]
  },
  {
   "cell_type": "markdown",
   "metadata": {},
   "source": [
    "### GDP Initial analysis"
   ]
  },
  {
   "cell_type": "code",
   "execution_count": 118,
   "metadata": {},
   "outputs": [],
   "source": [
    "# remove all columns except country and 2024\n",
    "#gdp = gdp.loc[:, (gdp.columns.isin(['country'])) | (gdp.columns == \"2024\")]\n",
    "gdp = gdp.loc[:, ['country', '2024']]"
   ]
  },
  {
   "cell_type": "code",
   "execution_count": 119,
   "metadata": {},
   "outputs": [],
   "source": [
    "# remove all spaces before or after the country names (Canada, United States, I'm looking at you!)\n",
    "for i in range(len(gdp['country'])):\n",
    "    gdp['country'][i] = gdp['country'][i].strip()"
   ]
  },
  {
   "cell_type": "code",
   "execution_count": 120,
   "metadata": {},
   "outputs": [],
   "source": [
    "# eleminate all \"country\" values not equal to Australia, Brazil, Mexico, United Kingdom, Singapore, Ireland, Switzerland, Denmark, Japan, Netherlands, Canada, USA\n",
    "gdp = gdp[gdp['country'].isin(['Australia', 'Brazil', 'Mexico', 'United Kingdom', 'Singapore', 'Ireland', 'Switzerland', 'Denmark', 'Japan', 'Netherlands', 'New Zealand', 'Norway', 'Canada', 'United States'])]"
   ]
  },
  {
   "cell_type": "code",
   "execution_count": 121,
   "metadata": {},
   "outputs": [],
   "source": [
    "# change the value United Kingdom in the country column to UK to match other datasets\n",
    "# change United States to USA to match other datasets\n",
    "gdp['country'].replace('United Kingdom', 'UK', inplace=True)\n",
    "gdp['country'].replace('United States', 'USA', inplace=True)"
   ]
  },
  {
   "cell_type": "code",
   "execution_count": 122,
   "metadata": {},
   "outputs": [],
   "source": [
    "# I know this is ugly**2 , but I spent 3 days trying to get my function to work\n",
    "# and never figured it out\n",
    "# DISCLOSURE: Inspiration to use the lambda and float(str) conversion came from Alex the Analyst on YouTube\n",
    "\n",
    "# # List of columns to convert\n",
    "columns_to_convert = ['2024']\n",
    "# Loop over each column and convert it\n",
    "for column in columns_to_convert:\n",
    "    gdp[column] = gdp[column].apply(lambda x: float(str(x).replace('k', '')) * 1000)"
   ]
  },
  {
   "cell_type": "code",
   "execution_count": 123,
   "metadata": {},
   "outputs": [
    {
     "data": {
      "text/html": [
       "<div>\n",
       "<style scoped>\n",
       "    .dataframe tbody tr th:only-of-type {\n",
       "        vertical-align: middle;\n",
       "    }\n",
       "\n",
       "    .dataframe tbody tr th {\n",
       "        vertical-align: top;\n",
       "    }\n",
       "\n",
       "    .dataframe thead th {\n",
       "        text-align: right;\n",
       "    }\n",
       "</style>\n",
       "<table border=\"1\" class=\"dataframe\">\n",
       "  <thead>\n",
       "    <tr style=\"text-align: right;\">\n",
       "      <th></th>\n",
       "      <th>country</th>\n",
       "      <th>2024</th>\n",
       "    </tr>\n",
       "  </thead>\n",
       "  <tbody>\n",
       "    <tr>\n",
       "      <th>7</th>\n",
       "      <td>Australia</td>\n",
       "      <td>58400.000</td>\n",
       "    </tr>\n",
       "    <tr>\n",
       "      <th>22</th>\n",
       "      <td>Brazil</td>\n",
       "      <td>8490000.000</td>\n",
       "    </tr>\n",
       "    <tr>\n",
       "      <th>28</th>\n",
       "      <td>Canada</td>\n",
       "      <td>47700.000</td>\n",
       "    </tr>\n",
       "    <tr>\n",
       "      <th>29</th>\n",
       "      <td>Switzerland</td>\n",
       "      <td>86500.000</td>\n",
       "    </tr>\n",
       "    <tr>\n",
       "      <th>46</th>\n",
       "      <td>Denmark</td>\n",
       "      <td>68200.000</td>\n",
       "    </tr>\n",
       "  </tbody>\n",
       "</table>\n",
       "</div>"
      ],
      "text/plain": [
       "        country        2024\n",
       "7     Australia   58400.000\n",
       "22       Brazil 8490000.000\n",
       "28       Canada   47700.000\n",
       "29  Switzerland   86500.000\n",
       "46      Denmark   68200.000"
      ]
     },
     "execution_count": 123,
     "metadata": {},
     "output_type": "execute_result"
    }
   ],
   "source": [
    "gdp.head()"
   ]
  },
  {
   "cell_type": "code",
   "execution_count": 124,
   "metadata": {},
   "outputs": [
    {
     "data": {
      "text/plain": [
       "0"
      ]
     },
     "execution_count": 124,
     "metadata": {},
     "output_type": "execute_result"
    }
   ],
   "source": [
    "# checking for duplicate values\n",
    "gdp.duplicated().sum()"
   ]
  },
  {
   "cell_type": "code",
   "execution_count": 125,
   "metadata": {},
   "outputs": [
    {
     "data": {
      "text/plain": [
       "country    0\n",
       "2024       0\n",
       "dtype: int64"
      ]
     },
     "execution_count": 125,
     "metadata": {},
     "output_type": "execute_result"
    }
   ],
   "source": [
    "# checking missing values\n",
    "gdp.isnull().sum()"
   ]
  },
  {
   "cell_type": "code",
   "execution_count": 126,
   "metadata": {},
   "outputs": [
    {
     "name": "stdout",
     "output_type": "stream",
     "text": [
      "<class 'pandas.core.frame.DataFrame'>\n",
      "Index: 14 entries, 7 to 180\n",
      "Data columns (total 2 columns):\n",
      " #   Column   Non-Null Count  Dtype  \n",
      "---  ------   --------------  -----  \n",
      " 0   country  14 non-null     object \n",
      " 1   2024     14 non-null     float64\n",
      "dtypes: float64(1), object(1)\n",
      "memory usage: 336.0+ bytes\n"
     ]
    }
   ],
   "source": [
    "gdp.info()"
   ]
  },
  {
   "cell_type": "code",
   "execution_count": 127,
   "metadata": {},
   "outputs": [
    {
     "name": "stdout",
     "output_type": "stream",
     "text": [
      "The GDP dataset has 14 rows and 2 columns.\n"
     ]
    }
   ],
   "source": [
    "# number of rows & columns\n",
    "print(f\"The GDP dataset has {gdp.shape[0]} rows and {gdp.shape[1]} columns.\")"
   ]
  },
  {
   "cell_type": "code",
   "execution_count": 128,
   "metadata": {},
   "outputs": [
    {
     "data": {
      "text/plain": [
       "array(['Australia', 'Brazil', 'Canada', 'Switzerland', 'Denmark', 'UK',\n",
       "       'Ireland', 'Japan', 'Mexico', 'Netherlands', 'Norway',\n",
       "       'New Zealand', 'Singapore', 'USA'], dtype=object)"
      ]
     },
     "execution_count": 128,
     "metadata": {},
     "output_type": "execute_result"
    }
   ],
   "source": [
    "# country names\n",
    "gdp['country'].unique()"
   ]
  },
  {
   "cell_type": "code",
   "execution_count": 129,
   "metadata": {},
   "outputs": [
    {
     "data": {
      "text/html": [
       "<div>\n",
       "<style scoped>\n",
       "    .dataframe tbody tr th:only-of-type {\n",
       "        vertical-align: middle;\n",
       "    }\n",
       "\n",
       "    .dataframe tbody tr th {\n",
       "        vertical-align: top;\n",
       "    }\n",
       "\n",
       "    .dataframe thead th {\n",
       "        text-align: right;\n",
       "    }\n",
       "</style>\n",
       "<table border=\"1\" class=\"dataframe\">\n",
       "  <thead>\n",
       "    <tr style=\"text-align: right;\">\n",
       "      <th></th>\n",
       "      <th>count</th>\n",
       "      <th>mean</th>\n",
       "      <th>std</th>\n",
       "      <th>min</th>\n",
       "      <th>25%</th>\n",
       "      <th>50%</th>\n",
       "      <th>75%</th>\n",
       "      <th>max</th>\n",
       "    </tr>\n",
       "  </thead>\n",
       "  <tbody>\n",
       "    <tr>\n",
       "      <th>2024</th>\n",
       "      <td>14.000</td>\n",
       "      <td>1318728.571</td>\n",
       "      <td>3198255.701</td>\n",
       "      <td>44300.000</td>\n",
       "      <td>49700.000</td>\n",
       "      <td>64100.000</td>\n",
       "      <td>83275.000</td>\n",
       "      <td>9230000.000</td>\n",
       "    </tr>\n",
       "  </tbody>\n",
       "</table>\n",
       "</div>"
      ],
      "text/plain": [
       "      count        mean         std       min       25%       50%       75%  \\\n",
       "2024 14.000 1318728.571 3198255.701 44300.000 49700.000 64100.000 83275.000   \n",
       "\n",
       "             max  \n",
       "2024 9230000.000  "
      ]
     },
     "execution_count": 129,
     "metadata": {},
     "output_type": "execute_result"
    }
   ],
   "source": [
    "gdp.describe().T"
   ]
  },
  {
   "cell_type": "code",
   "execution_count": 130,
   "metadata": {},
   "outputs": [],
   "source": [
    "# remane 2024 column\n",
    "gdp.rename(columns= {'2024': \"gdp\"}, inplace= True)"
   ]
  },
  {
   "cell_type": "code",
   "execution_count": 131,
   "metadata": {},
   "outputs": [
    {
     "data": {
      "text/html": [
       "<div>\n",
       "<style scoped>\n",
       "    .dataframe tbody tr th:only-of-type {\n",
       "        vertical-align: middle;\n",
       "    }\n",
       "\n",
       "    .dataframe tbody tr th {\n",
       "        vertical-align: top;\n",
       "    }\n",
       "\n",
       "    .dataframe thead th {\n",
       "        text-align: right;\n",
       "    }\n",
       "</style>\n",
       "<table border=\"1\" class=\"dataframe\">\n",
       "  <thead>\n",
       "    <tr style=\"text-align: right;\">\n",
       "      <th></th>\n",
       "      <th>country</th>\n",
       "      <th>gdp</th>\n",
       "    </tr>\n",
       "  </thead>\n",
       "  <tbody>\n",
       "    <tr>\n",
       "      <th>7</th>\n",
       "      <td>Australia</td>\n",
       "      <td>58400.000</td>\n",
       "    </tr>\n",
       "    <tr>\n",
       "      <th>22</th>\n",
       "      <td>Brazil</td>\n",
       "      <td>8490000.000</td>\n",
       "    </tr>\n",
       "    <tr>\n",
       "      <th>28</th>\n",
       "      <td>Canada</td>\n",
       "      <td>47700.000</td>\n",
       "    </tr>\n",
       "    <tr>\n",
       "      <th>29</th>\n",
       "      <td>Switzerland</td>\n",
       "      <td>86500.000</td>\n",
       "    </tr>\n",
       "    <tr>\n",
       "      <th>46</th>\n",
       "      <td>Denmark</td>\n",
       "      <td>68200.000</td>\n",
       "    </tr>\n",
       "  </tbody>\n",
       "</table>\n",
       "</div>"
      ],
      "text/plain": [
       "        country         gdp\n",
       "7     Australia   58400.000\n",
       "22       Brazil 8490000.000\n",
       "28       Canada   47700.000\n",
       "29  Switzerland   86500.000\n",
       "46      Denmark   68200.000"
      ]
     },
     "execution_count": 131,
     "metadata": {},
     "output_type": "execute_result"
    }
   ],
   "source": [
    "gdp.head()"
   ]
  },
  {
   "cell_type": "code",
   "execution_count": 132,
   "metadata": {},
   "outputs": [
    {
     "data": {
      "text/plain": [
       "gdp\n",
       "44800.000      2\n",
       "58400.000      1\n",
       "8490000.000    1\n",
       "47700.000      1\n",
       "86500.000      1\n",
       "68200.000      1\n",
       "73600.000      1\n",
       "44300.000      1\n",
       "9230000.000    1\n",
       "55700.000      1\n",
       "86700.000      1\n",
       "60000.000      1\n",
       "71500.000      1\n",
       "Name: count, dtype: int64"
      ]
     },
     "execution_count": 132,
     "metadata": {},
     "output_type": "execute_result"
    }
   ],
   "source": [
    "# Get the values of the gdp column\n",
    "gdp['gdp'].value_counts()"
   ]
  },
  {
   "cell_type": "code",
   "execution_count": 133,
   "metadata": {},
   "outputs": [
    {
     "data": {
      "text/html": [
       "<div>\n",
       "<style scoped>\n",
       "    .dataframe tbody tr th:only-of-type {\n",
       "        vertical-align: middle;\n",
       "    }\n",
       "\n",
       "    .dataframe tbody tr th {\n",
       "        vertical-align: top;\n",
       "    }\n",
       "\n",
       "    .dataframe thead th {\n",
       "        text-align: right;\n",
       "    }\n",
       "</style>\n",
       "<table border=\"1\" class=\"dataframe\">\n",
       "  <thead>\n",
       "    <tr style=\"text-align: right;\">\n",
       "      <th></th>\n",
       "      <th>gdp</th>\n",
       "      <th>country</th>\n",
       "      <th>count</th>\n",
       "    </tr>\n",
       "  </thead>\n",
       "  <tbody>\n",
       "    <tr>\n",
       "      <th>0</th>\n",
       "      <td>44300.000</td>\n",
       "      <td>Japan</td>\n",
       "      <td>1</td>\n",
       "    </tr>\n",
       "    <tr>\n",
       "      <th>1</th>\n",
       "      <td>44800.000</td>\n",
       "      <td>New Zealand</td>\n",
       "      <td>1</td>\n",
       "    </tr>\n",
       "    <tr>\n",
       "      <th>2</th>\n",
       "      <td>44800.000</td>\n",
       "      <td>UK</td>\n",
       "      <td>1</td>\n",
       "    </tr>\n",
       "    <tr>\n",
       "      <th>3</th>\n",
       "      <td>47700.000</td>\n",
       "      <td>Canada</td>\n",
       "      <td>1</td>\n",
       "    </tr>\n",
       "    <tr>\n",
       "      <th>4</th>\n",
       "      <td>55700.000</td>\n",
       "      <td>Netherlands</td>\n",
       "      <td>1</td>\n",
       "    </tr>\n",
       "    <tr>\n",
       "      <th>5</th>\n",
       "      <td>58400.000</td>\n",
       "      <td>Australia</td>\n",
       "      <td>1</td>\n",
       "    </tr>\n",
       "    <tr>\n",
       "      <th>6</th>\n",
       "      <td>60000.000</td>\n",
       "      <td>Singapore</td>\n",
       "      <td>1</td>\n",
       "    </tr>\n",
       "    <tr>\n",
       "      <th>7</th>\n",
       "      <td>68200.000</td>\n",
       "      <td>Denmark</td>\n",
       "      <td>1</td>\n",
       "    </tr>\n",
       "    <tr>\n",
       "      <th>8</th>\n",
       "      <td>71500.000</td>\n",
       "      <td>USA</td>\n",
       "      <td>1</td>\n",
       "    </tr>\n",
       "    <tr>\n",
       "      <th>9</th>\n",
       "      <td>73600.000</td>\n",
       "      <td>Ireland</td>\n",
       "      <td>1</td>\n",
       "    </tr>\n",
       "    <tr>\n",
       "      <th>10</th>\n",
       "      <td>86500.000</td>\n",
       "      <td>Switzerland</td>\n",
       "      <td>1</td>\n",
       "    </tr>\n",
       "    <tr>\n",
       "      <th>11</th>\n",
       "      <td>86700.000</td>\n",
       "      <td>Norway</td>\n",
       "      <td>1</td>\n",
       "    </tr>\n",
       "    <tr>\n",
       "      <th>12</th>\n",
       "      <td>8490000.000</td>\n",
       "      <td>Brazil</td>\n",
       "      <td>1</td>\n",
       "    </tr>\n",
       "    <tr>\n",
       "      <th>13</th>\n",
       "      <td>9230000.000</td>\n",
       "      <td>Mexico</td>\n",
       "      <td>1</td>\n",
       "    </tr>\n",
       "  </tbody>\n",
       "</table>\n",
       "</div>"
      ],
      "text/plain": [
       "           gdp      country  count\n",
       "0    44300.000        Japan      1\n",
       "1    44800.000  New Zealand      1\n",
       "2    44800.000           UK      1\n",
       "3    47700.000       Canada      1\n",
       "4    55700.000  Netherlands      1\n",
       "5    58400.000    Australia      1\n",
       "6    60000.000    Singapore      1\n",
       "7    68200.000      Denmark      1\n",
       "8    71500.000          USA      1\n",
       "9    73600.000      Ireland      1\n",
       "10   86500.000  Switzerland      1\n",
       "11   86700.000       Norway      1\n",
       "12 8490000.000       Brazil      1\n",
       "13 9230000.000       Mexico      1"
      ]
     },
     "execution_count": 133,
     "metadata": {},
     "output_type": "execute_result"
    }
   ],
   "source": [
    "# group the gdp and country columns and get the value counts\n",
    "gdp.groupby(['gdp', 'country']).size().reset_index(name='count')"
   ]
  },
  {
   "cell_type": "code",
   "execution_count": 134,
   "metadata": {},
   "outputs": [
    {
     "data": {
      "text/plain": [
       "country\n",
       "Australia       58400.000\n",
       "Brazil        8490000.000\n",
       "Canada          47700.000\n",
       "Denmark         68200.000\n",
       "Ireland         73600.000\n",
       "Japan           44300.000\n",
       "Mexico        9230000.000\n",
       "Netherlands     55700.000\n",
       "New Zealand     44800.000\n",
       "Norway          86700.000\n",
       "Singapore       60000.000\n",
       "Switzerland     86500.000\n",
       "UK              44800.000\n",
       "USA             71500.000\n",
       "Name: gdp, dtype: float64"
      ]
     },
     "execution_count": 134,
     "metadata": {},
     "output_type": "execute_result"
    }
   ],
   "source": [
    "# get the mean of gdp an\n",
    "gdp.groupby('country')['gdp'].mean()"
   ]
  },
  {
   "cell_type": "code",
   "execution_count": 135,
   "metadata": {},
   "outputs": [
    {
     "data": {
      "image/png": "[encoded data removed]",
      "text/plain": [
       "<Figure size 640x480 with 1 Axes>"
      ]
     },
     "metadata": {},
     "output_type": "display_data"
    }
   ],
   "source": [
    "# Let's take a peak\n",
    "sns.pointplot(gdp, x= \"country\", y =\"gdp\")\n",
    "plt.xticks(rotation = 45);"
   ]
  },
  {
   "cell_type": "markdown",
   "metadata": {},
   "source": [
    "### Population Initial analysis"
   ]
  },
  {
   "cell_type": "code",
   "execution_count": 136,
   "metadata": {},
   "outputs": [],
   "source": [
    "# remove all columns except country and 2024\n",
    "population = population.loc[:, ['country', '2024']]"
   ]
  },
  {
   "cell_type": "code",
   "execution_count": 137,
   "metadata": {},
   "outputs": [],
   "source": [
    "# eleminate all \"country\" values not equal to Australia, Brazil, Mexico, United Kingdom, Singapore, Ireland, switzerland, denmark, japan and netherlands\n",
    "population = population[population['country'].isin(['Australia', 'Brazil', 'Mexico', 'United Kingdom', 'Singapore', 'Ireland', 'Switzerland', 'Denmark', 'Japan', 'Netherlands', 'New Zealand', 'Norway', 'Canada', 'United States'])]"
   ]
  },
  {
   "cell_type": "code",
   "execution_count": 138,
   "metadata": {},
   "outputs": [],
   "source": [
    "# change the value United Kingdom in the country column to UK to match other datasets\n",
    "# change United States to USA to match other datasets\n",
    "population['country'].replace('United Kingdom', 'UK', inplace=True)\n",
    "population['country'].replace('United States', 'USA', inplace=True)"
   ]
  },
  {
   "cell_type": "code",
   "execution_count": 139,
   "metadata": {},
   "outputs": [],
   "source": [
    "# attempting to strip white space to see if it fixes\n",
    "population['country'] = population['country'].str.strip()"
   ]
  },
  {
   "cell_type": "code",
   "execution_count": 140,
   "metadata": {},
   "outputs": [
    {
     "data": {
      "text/html": [
       "<div>\n",
       "<style scoped>\n",
       "    .dataframe tbody tr th:only-of-type {\n",
       "        vertical-align: middle;\n",
       "    }\n",
       "\n",
       "    .dataframe tbody tr th {\n",
       "        vertical-align: top;\n",
       "    }\n",
       "\n",
       "    .dataframe thead th {\n",
       "        text-align: right;\n",
       "    }\n",
       "</style>\n",
       "<table border=\"1\" class=\"dataframe\">\n",
       "  <thead>\n",
       "    <tr style=\"text-align: right;\">\n",
       "      <th></th>\n",
       "      <th>country</th>\n",
       "      <th>2024</th>\n",
       "    </tr>\n",
       "  </thead>\n",
       "  <tbody>\n",
       "    <tr>\n",
       "      <th>8</th>\n",
       "      <td>Australia</td>\n",
       "      <td>26700000.000</td>\n",
       "    </tr>\n",
       "    <tr>\n",
       "      <th>23</th>\n",
       "      <td>Brazil</td>\n",
       "      <td>218000000.000</td>\n",
       "    </tr>\n",
       "    <tr>\n",
       "      <th>29</th>\n",
       "      <td>Canada</td>\n",
       "      <td>39100000.000</td>\n",
       "    </tr>\n",
       "    <tr>\n",
       "      <th>30</th>\n",
       "      <td>Switzerland</td>\n",
       "      <td>8850000.000</td>\n",
       "    </tr>\n",
       "    <tr>\n",
       "      <th>47</th>\n",
       "      <td>Denmark</td>\n",
       "      <td>5940000.000</td>\n",
       "    </tr>\n",
       "  </tbody>\n",
       "</table>\n",
       "</div>"
      ],
      "text/plain": [
       "        country          2024\n",
       "8     Australia  26700000.000\n",
       "23       Brazil 218000000.000\n",
       "29       Canada  39100000.000\n",
       "30  Switzerland   8850000.000\n",
       "47      Denmark   5940000.000"
      ]
     },
     "execution_count": 140,
     "metadata": {},
     "output_type": "execute_result"
    }
   ],
   "source": [
    "# List of columns to convert\n",
    "columns_to_convert = ['2024']\n",
    "# Loop over each column and convert it\n",
    "for column in columns_to_convert:\n",
    "    #population[column] = population[column].apply(lambda x: float(str(x).replace('k', '').replace('M', '')) * 1000000)\n",
    "    population[column] = [float(str(x).replace('k', '').replace('M', '')) * 1000 if 'k' in str(x) else float(str(x).replace('M', '')) * 1000000 for x in population[column]]\n",
    "\n",
    "population.head()"
   ]
  },
  {
   "cell_type": "code",
   "execution_count": 141,
   "metadata": {},
   "outputs": [
    {
     "name": "stdout",
     "output_type": "stream",
     "text": [
      "<class 'pandas.core.frame.DataFrame'>\n",
      "Index: 14 entries, 8 to 186\n",
      "Data columns (total 2 columns):\n",
      " #   Column   Non-Null Count  Dtype  \n",
      "---  ------   --------------  -----  \n",
      " 0   country  14 non-null     object \n",
      " 1   2024     14 non-null     float64\n",
      "dtypes: float64(1), object(1)\n",
      "memory usage: 336.0+ bytes\n"
     ]
    }
   ],
   "source": [
    "population.info()"
   ]
  },
  {
   "cell_type": "code",
   "execution_count": 142,
   "metadata": {},
   "outputs": [
    {
     "data": {
      "text/plain": [
       "object     1\n",
       "float64    1\n",
       "Name: count, dtype: int64"
      ]
     },
     "execution_count": 142,
     "metadata": {},
     "output_type": "execute_result"
    }
   ],
   "source": [
    "population.dtypes.value_counts()"
   ]
  },
  {
   "cell_type": "code",
   "execution_count": 143,
   "metadata": {},
   "outputs": [
    {
     "name": "stdout",
     "output_type": "stream",
     "text": [
      "The Poplulation dataset has 14 rows and 2 columns.\n"
     ]
    }
   ],
   "source": [
    "# number of rows & columns\n",
    "print(f\"The Poplulation dataset has {population.shape[0]} rows and {population.shape[1]} columns.\")"
   ]
  },
  {
   "cell_type": "code",
   "execution_count": 144,
   "metadata": {},
   "outputs": [
    {
     "data": {
      "text/plain": [
       "0"
      ]
     },
     "execution_count": 144,
     "metadata": {},
     "output_type": "execute_result"
    }
   ],
   "source": [
    "# checking for duplicate values\n",
    "population.duplicated().sum()"
   ]
  },
  {
   "cell_type": "code",
   "execution_count": 145,
   "metadata": {},
   "outputs": [
    {
     "data": {
      "text/plain": [
       "country    0\n",
       "2024       0\n",
       "dtype: int64"
      ]
     },
     "execution_count": 145,
     "metadata": {},
     "output_type": "execute_result"
    }
   ],
   "source": [
    "# checking missing values\n",
    "population.isnull().sum()"
   ]
  },
  {
   "cell_type": "code",
   "execution_count": 146,
   "metadata": {},
   "outputs": [
    {
     "data": {
      "text/html": [
       "<div>\n",
       "<style scoped>\n",
       "    .dataframe tbody tr th:only-of-type {\n",
       "        vertical-align: middle;\n",
       "    }\n",
       "\n",
       "    .dataframe tbody tr th {\n",
       "        vertical-align: top;\n",
       "    }\n",
       "\n",
       "    .dataframe thead th {\n",
       "        text-align: right;\n",
       "    }\n",
       "</style>\n",
       "<table border=\"1\" class=\"dataframe\">\n",
       "  <thead>\n",
       "    <tr style=\"text-align: right;\">\n",
       "      <th></th>\n",
       "      <th>country</th>\n",
       "      <th>population</th>\n",
       "    </tr>\n",
       "  </thead>\n",
       "  <tbody>\n",
       "    <tr>\n",
       "      <th>8</th>\n",
       "      <td>Australia</td>\n",
       "      <td>26700000.000</td>\n",
       "    </tr>\n",
       "    <tr>\n",
       "      <th>23</th>\n",
       "      <td>Brazil</td>\n",
       "      <td>218000000.000</td>\n",
       "    </tr>\n",
       "    <tr>\n",
       "      <th>29</th>\n",
       "      <td>Canada</td>\n",
       "      <td>39100000.000</td>\n",
       "    </tr>\n",
       "    <tr>\n",
       "      <th>30</th>\n",
       "      <td>Switzerland</td>\n",
       "      <td>8850000.000</td>\n",
       "    </tr>\n",
       "    <tr>\n",
       "      <th>47</th>\n",
       "      <td>Denmark</td>\n",
       "      <td>5940000.000</td>\n",
       "    </tr>\n",
       "  </tbody>\n",
       "</table>\n",
       "</div>"
      ],
      "text/plain": [
       "        country    population\n",
       "8     Australia  26700000.000\n",
       "23       Brazil 218000000.000\n",
       "29       Canada  39100000.000\n",
       "30  Switzerland   8850000.000\n",
       "47      Denmark   5940000.000"
      ]
     },
     "execution_count": 146,
     "metadata": {},
     "output_type": "execute_result"
    }
   ],
   "source": [
    "# remane 2024 column\n",
    "population.rename(columns= {'2024': \"population\"}, inplace= True)\n",
    "population.head()"
   ]
  },
  {
   "cell_type": "code",
   "execution_count": 147,
   "metadata": {},
   "outputs": [
    {
     "data": {
      "image/png": "[encoded data removed]",
      "text/plain": [
       "<Figure size 800x400 with 1 Axes>"
      ]
     },
     "metadata": {},
     "output_type": "display_data"
    }
   ],
   "source": [
    "# Let's take a peak at population\n",
    "population['population'].plot(kind='bar', figsize=(8, 4), title='Population')\n",
    "plt.gca().spines[['top', 'right']].set_visible(False)"
   ]
  },
  {
   "cell_type": "markdown",
   "metadata": {},
   "source": [
    "### Average daily income initial analysis"
   ]
  },
  {
   "cell_type": "code",
   "execution_count": 148,
   "metadata": {},
   "outputs": [],
   "source": [
    "# remove all columns except country and 2024\n",
    "income = income.loc[:, ['country', '2024']]"
   ]
  },
  {
   "cell_type": "code",
   "execution_count": 149,
   "metadata": {},
   "outputs": [],
   "source": [
    "# remove all spaces before or after the country names (Canada, United States, I'm looking at you!)\n",
    "# attempting to strip white space to see if it fixes\n",
    "income['country'] = income['country'].str.strip()"
   ]
  },
  {
   "cell_type": "code",
   "execution_count": 150,
   "metadata": {},
   "outputs": [],
   "source": [
    "# eleminate all \"country\" values not equal to Australia, Brazil, Mexico, United Kingdom, Singapore, Ireland, switzerland, denmark, japan and netherlands\n",
    "income = income[income['country'].isin(['Australia', 'Brazil', 'Mexico', 'UK', 'Singapore', 'Ireland', 'Switzerland', 'Denmark', 'Japan', 'Netherlands', 'New Zealand', 'Norway', 'Canada', 'USA'])]"
   ]
  },
  {
   "cell_type": "code",
   "execution_count": 151,
   "metadata": {},
   "outputs": [
    {
     "data": {
      "text/html": [
       "<div>\n",
       "<style scoped>\n",
       "    .dataframe tbody tr th:only-of-type {\n",
       "        vertical-align: middle;\n",
       "    }\n",
       "\n",
       "    .dataframe tbody tr th {\n",
       "        vertical-align: top;\n",
       "    }\n",
       "\n",
       "    .dataframe thead th {\n",
       "        text-align: right;\n",
       "    }\n",
       "</style>\n",
       "<table border=\"1\" class=\"dataframe\">\n",
       "  <thead>\n",
       "    <tr style=\"text-align: right;\">\n",
       "      <th></th>\n",
       "      <th>country</th>\n",
       "      <th>2024</th>\n",
       "    </tr>\n",
       "  </thead>\n",
       "  <tbody>\n",
       "    <tr>\n",
       "      <th>8</th>\n",
       "      <td>Australia</td>\n",
       "      <td>67.500</td>\n",
       "    </tr>\n",
       "    <tr>\n",
       "      <th>23</th>\n",
       "      <td>Brazil</td>\n",
       "      <td>20.300</td>\n",
       "    </tr>\n",
       "    <tr>\n",
       "      <th>29</th>\n",
       "      <td>Canada</td>\n",
       "      <td>64.900</td>\n",
       "    </tr>\n",
       "    <tr>\n",
       "      <th>30</th>\n",
       "      <td>Switzerland</td>\n",
       "      <td>79.500</td>\n",
       "    </tr>\n",
       "    <tr>\n",
       "      <th>47</th>\n",
       "      <td>Denmark</td>\n",
       "      <td>71.100</td>\n",
       "    </tr>\n",
       "  </tbody>\n",
       "</table>\n",
       "</div>"
      ],
      "text/plain": [
       "        country   2024\n",
       "8     Australia 67.500\n",
       "23       Brazil 20.300\n",
       "29       Canada 64.900\n",
       "30  Switzerland 79.500\n",
       "47      Denmark 71.100"
      ]
     },
     "execution_count": 151,
     "metadata": {},
     "output_type": "execute_result"
    }
   ],
   "source": [
    "income.head()"
   ]
  },
  {
   "cell_type": "code",
   "execution_count": 152,
   "metadata": {},
   "outputs": [
    {
     "name": "stdout",
     "output_type": "stream",
     "text": [
      "<class 'pandas.core.frame.DataFrame'>\n",
      "Index: 14 entries, 8 to 184\n",
      "Data columns (total 2 columns):\n",
      " #   Column   Non-Null Count  Dtype  \n",
      "---  ------   --------------  -----  \n",
      " 0   country  14 non-null     object \n",
      " 1   2024     14 non-null     float64\n",
      "dtypes: float64(1), object(1)\n",
      "memory usage: 336.0+ bytes\n"
     ]
    }
   ],
   "source": [
    "income.info()"
   ]
  },
  {
   "cell_type": "code",
   "execution_count": 153,
   "metadata": {},
   "outputs": [
    {
     "data": {
      "text/plain": [
       "object     1\n",
       "float64    1\n",
       "Name: count, dtype: int64"
      ]
     },
     "execution_count": 153,
     "metadata": {},
     "output_type": "execute_result"
    }
   ],
   "source": [
    "income.dtypes.value_counts()"
   ]
  },
  {
   "cell_type": "code",
   "execution_count": 154,
   "metadata": {},
   "outputs": [
    {
     "name": "stdout",
     "output_type": "stream",
     "text": [
      "The Average Daily Income dataset has 14 rows and 2 columns.\n"
     ]
    }
   ],
   "source": [
    "# number of rows & columns\n",
    "print(f\"The Average Daily Income dataset has {income.shape[0]} rows and {income.shape[1]} columns.\")"
   ]
  },
  {
   "cell_type": "code",
   "execution_count": 155,
   "metadata": {},
   "outputs": [
    {
     "data": {
      "text/html": [
       "<div>\n",
       "<style scoped>\n",
       "    .dataframe tbody tr th:only-of-type {\n",
       "        vertical-align: middle;\n",
       "    }\n",
       "\n",
       "    .dataframe tbody tr th {\n",
       "        vertical-align: top;\n",
       "    }\n",
       "\n",
       "    .dataframe thead th {\n",
       "        text-align: right;\n",
       "    }\n",
       "</style>\n",
       "<table border=\"1\" class=\"dataframe\">\n",
       "  <thead>\n",
       "    <tr style=\"text-align: right;\">\n",
       "      <th></th>\n",
       "      <th>count</th>\n",
       "      <th>mean</th>\n",
       "      <th>std</th>\n",
       "      <th>min</th>\n",
       "      <th>25%</th>\n",
       "      <th>50%</th>\n",
       "      <th>75%</th>\n",
       "      <th>max</th>\n",
       "    </tr>\n",
       "  </thead>\n",
       "  <tbody>\n",
       "    <tr>\n",
       "      <th>2024</th>\n",
       "      <td>14.000</td>\n",
       "      <td>66.064</td>\n",
       "      <td>28.498</td>\n",
       "      <td>15.400</td>\n",
       "      <td>56.225</td>\n",
       "      <td>68.650</td>\n",
       "      <td>77.625</td>\n",
       "      <td>131.000</td>\n",
       "    </tr>\n",
       "  </tbody>\n",
       "</table>\n",
       "</div>"
      ],
      "text/plain": [
       "      count   mean    std    min    25%    50%    75%     max\n",
       "2024 14.000 66.064 28.498 15.400 56.225 68.650 77.625 131.000"
      ]
     },
     "execution_count": 155,
     "metadata": {},
     "output_type": "execute_result"
    }
   ],
   "source": [
    "income.describe().T"
   ]
  },
  {
   "cell_type": "code",
   "execution_count": 156,
   "metadata": {},
   "outputs": [
    {
     "data": {
      "text/plain": [
       "country    0\n",
       "2024       0\n",
       "dtype: int64"
      ]
     },
     "execution_count": 156,
     "metadata": {},
     "output_type": "execute_result"
    }
   ],
   "source": [
    "# checking missing values\n",
    "income.isnull().sum()"
   ]
  },
  {
   "cell_type": "code",
   "execution_count": 157,
   "metadata": {},
   "outputs": [
    {
     "data": {
      "text/plain": [
       "0"
      ]
     },
     "execution_count": 157,
     "metadata": {},
     "output_type": "execute_result"
    }
   ],
   "source": [
    "income.duplicated().sum()"
   ]
  },
  {
   "cell_type": "code",
   "execution_count": 158,
   "metadata": {},
   "outputs": [
    {
     "data": {
      "text/html": [
       "<div>\n",
       "<style scoped>\n",
       "    .dataframe tbody tr th:only-of-type {\n",
       "        vertical-align: middle;\n",
       "    }\n",
       "\n",
       "    .dataframe tbody tr th {\n",
       "        vertical-align: top;\n",
       "    }\n",
       "\n",
       "    .dataframe thead th {\n",
       "        text-align: right;\n",
       "    }\n",
       "</style>\n",
       "<table border=\"1\" class=\"dataframe\">\n",
       "  <thead>\n",
       "    <tr style=\"text-align: right;\">\n",
       "      <th></th>\n",
       "      <th>country</th>\n",
       "      <th>income</th>\n",
       "    </tr>\n",
       "  </thead>\n",
       "  <tbody>\n",
       "    <tr>\n",
       "      <th>8</th>\n",
       "      <td>Australia</td>\n",
       "      <td>67.500</td>\n",
       "    </tr>\n",
       "    <tr>\n",
       "      <th>23</th>\n",
       "      <td>Brazil</td>\n",
       "      <td>20.300</td>\n",
       "    </tr>\n",
       "    <tr>\n",
       "      <th>29</th>\n",
       "      <td>Canada</td>\n",
       "      <td>64.900</td>\n",
       "    </tr>\n",
       "    <tr>\n",
       "      <th>30</th>\n",
       "      <td>Switzerland</td>\n",
       "      <td>79.500</td>\n",
       "    </tr>\n",
       "    <tr>\n",
       "      <th>47</th>\n",
       "      <td>Denmark</td>\n",
       "      <td>71.100</td>\n",
       "    </tr>\n",
       "  </tbody>\n",
       "</table>\n",
       "</div>"
      ],
      "text/plain": [
       "        country  income\n",
       "8     Australia  67.500\n",
       "23       Brazil  20.300\n",
       "29       Canada  64.900\n",
       "30  Switzerland  79.500\n",
       "47      Denmark  71.100"
      ]
     },
     "execution_count": 158,
     "metadata": {},
     "output_type": "execute_result"
    }
   ],
   "source": [
    "# remane 2024 column\n",
    "income.rename(columns= {'2024': \"income\"}, inplace= True)\n",
    "income.head()"
   ]
  },
  {
   "cell_type": "markdown",
   "metadata": {},
   "source": [
    "### Daily sugar consumption initial analysis"
   ]
  },
  {
   "cell_type": "code",
   "execution_count": 159,
   "metadata": {},
   "outputs": [],
   "source": [
    "# eleminate all \"country\" values not equal to Australia, Brazil, Mexico, United Kingdom, Singapore, Ireland, switzerland, denmark, japan and netherlands\n",
    "sugar = sugar[sugar['country'].isin(['Australia', 'Brazil', 'Mexico', 'United Kingdom', 'Singapore', 'Ireland', 'Switzerland', 'Denmark', 'Japan', 'Netherlands', 'New Zealand', 'Norway', 'Canada', 'USA'])]"
   ]
  },
  {
   "cell_type": "code",
   "execution_count": 160,
   "metadata": {},
   "outputs": [],
   "source": [
    "sugar['country'].replace('United Kingdom', 'UK', inplace=True)"
   ]
  },
  {
   "cell_type": "code",
   "execution_count": 161,
   "metadata": {},
   "outputs": [
    {
     "data": {
      "text/html": [
       "<div>\n",
       "<style scoped>\n",
       "    .dataframe tbody tr th:only-of-type {\n",
       "        vertical-align: middle;\n",
       "    }\n",
       "\n",
       "    .dataframe tbody tr th {\n",
       "        vertical-align: top;\n",
       "    }\n",
       "\n",
       "    .dataframe thead th {\n",
       "        text-align: right;\n",
       "    }\n",
       "</style>\n",
       "<table border=\"1\" class=\"dataframe\">\n",
       "  <thead>\n",
       "    <tr style=\"text-align: right;\">\n",
       "      <th></th>\n",
       "      <th>country</th>\n",
       "      <th>2018</th>\n",
       "    </tr>\n",
       "  </thead>\n",
       "  <tbody>\n",
       "    <tr>\n",
       "      <th>8</th>\n",
       "      <td>Australia</td>\n",
       "      <td>158.000</td>\n",
       "    </tr>\n",
       "    <tr>\n",
       "      <th>22</th>\n",
       "      <td>Brazil</td>\n",
       "      <td>117.000</td>\n",
       "    </tr>\n",
       "    <tr>\n",
       "      <th>27</th>\n",
       "      <td>Canada</td>\n",
       "      <td>250.000</td>\n",
       "    </tr>\n",
       "    <tr>\n",
       "      <th>28</th>\n",
       "      <td>Switzerland</td>\n",
       "      <td>133.000</td>\n",
       "    </tr>\n",
       "    <tr>\n",
       "      <th>44</th>\n",
       "      <td>Denmark</td>\n",
       "      <td>154.000</td>\n",
       "    </tr>\n",
       "    <tr>\n",
       "      <th>73</th>\n",
       "      <td>Ireland</td>\n",
       "      <td>228.000</td>\n",
       "    </tr>\n",
       "    <tr>\n",
       "      <th>81</th>\n",
       "      <td>Japan</td>\n",
       "      <td>71.200</td>\n",
       "    </tr>\n",
       "    <tr>\n",
       "      <th>104</th>\n",
       "      <td>Mexico</td>\n",
       "      <td>128.000</td>\n",
       "    </tr>\n",
       "    <tr>\n",
       "      <th>121</th>\n",
       "      <td>Netherlands</td>\n",
       "      <td>99.700</td>\n",
       "    </tr>\n",
       "    <tr>\n",
       "      <th>122</th>\n",
       "      <td>Norway</td>\n",
       "      <td>115.000</td>\n",
       "    </tr>\n",
       "    <tr>\n",
       "      <th>124</th>\n",
       "      <td>New Zealand</td>\n",
       "      <td>157.000</td>\n",
       "    </tr>\n",
       "    <tr>\n",
       "      <th>166</th>\n",
       "      <td>USA</td>\n",
       "      <td>176.000</td>\n",
       "    </tr>\n",
       "  </tbody>\n",
       "</table>\n",
       "</div>"
      ],
      "text/plain": [
       "         country    2018\n",
       "8      Australia 158.000\n",
       "22        Brazil 117.000\n",
       "27        Canada 250.000\n",
       "28   Switzerland 133.000\n",
       "44       Denmark 154.000\n",
       "73       Ireland 228.000\n",
       "81         Japan  71.200\n",
       "104       Mexico 128.000\n",
       "121  Netherlands  99.700\n",
       "122       Norway 115.000\n",
       "124  New Zealand 157.000\n",
       "166          USA 176.000"
      ]
     },
     "execution_count": 161,
     "metadata": {},
     "output_type": "execute_result"
    }
   ],
   "source": [
    "# remove all columns except country and the last\n",
    "sugar = sugar.loc[:, ['country', '2018']]\n",
    "sugar.head(14)"
   ]
  },
  {
   "cell_type": "code",
   "execution_count": 162,
   "metadata": {},
   "outputs": [
    {
     "data": {
      "text/html": [
       "<div>\n",
       "<style scoped>\n",
       "    .dataframe tbody tr th:only-of-type {\n",
       "        vertical-align: middle;\n",
       "    }\n",
       "\n",
       "    .dataframe tbody tr th {\n",
       "        vertical-align: top;\n",
       "    }\n",
       "\n",
       "    .dataframe thead th {\n",
       "        text-align: right;\n",
       "    }\n",
       "</style>\n",
       "<table border=\"1\" class=\"dataframe\">\n",
       "  <thead>\n",
       "    <tr style=\"text-align: right;\">\n",
       "      <th></th>\n",
       "      <th>country</th>\n",
       "      <th>sugar</th>\n",
       "    </tr>\n",
       "  </thead>\n",
       "  <tbody>\n",
       "    <tr>\n",
       "      <th>8</th>\n",
       "      <td>Australia</td>\n",
       "      <td>158.000</td>\n",
       "    </tr>\n",
       "    <tr>\n",
       "      <th>22</th>\n",
       "      <td>Brazil</td>\n",
       "      <td>117.000</td>\n",
       "    </tr>\n",
       "    <tr>\n",
       "      <th>27</th>\n",
       "      <td>Canada</td>\n",
       "      <td>250.000</td>\n",
       "    </tr>\n",
       "    <tr>\n",
       "      <th>28</th>\n",
       "      <td>Switzerland</td>\n",
       "      <td>133.000</td>\n",
       "    </tr>\n",
       "    <tr>\n",
       "      <th>44</th>\n",
       "      <td>Denmark</td>\n",
       "      <td>154.000</td>\n",
       "    </tr>\n",
       "  </tbody>\n",
       "</table>\n",
       "</div>"
      ],
      "text/plain": [
       "        country   sugar\n",
       "8     Australia 158.000\n",
       "22       Brazil 117.000\n",
       "27       Canada 250.000\n",
       "28  Switzerland 133.000\n",
       "44      Denmark 154.000"
      ]
     },
     "execution_count": 162,
     "metadata": {},
     "output_type": "execute_result"
    }
   ],
   "source": [
    "# remane 2024 column\n",
    "sugar.rename(columns= {'2018': \"sugar\"}, inplace= True)\n",
    "sugar.head()"
   ]
  },
  {
   "cell_type": "code",
   "execution_count": 163,
   "metadata": {},
   "outputs": [
    {
     "data": {
      "text/html": [
       "<div>\n",
       "<style scoped>\n",
       "    .dataframe tbody tr th:only-of-type {\n",
       "        vertical-align: middle;\n",
       "    }\n",
       "\n",
       "    .dataframe tbody tr th {\n",
       "        vertical-align: top;\n",
       "    }\n",
       "\n",
       "    .dataframe thead th {\n",
       "        text-align: right;\n",
       "    }\n",
       "</style>\n",
       "<table border=\"1\" class=\"dataframe\">\n",
       "  <thead>\n",
       "    <tr style=\"text-align: right;\">\n",
       "      <th></th>\n",
       "      <th>count</th>\n",
       "      <th>mean</th>\n",
       "      <th>std</th>\n",
       "      <th>min</th>\n",
       "      <th>25%</th>\n",
       "      <th>50%</th>\n",
       "      <th>75%</th>\n",
       "      <th>max</th>\n",
       "    </tr>\n",
       "  </thead>\n",
       "  <tbody>\n",
       "    <tr>\n",
       "      <th>sugar</th>\n",
       "      <td>12.000</td>\n",
       "      <td>148.908</td>\n",
       "      <td>51.080</td>\n",
       "      <td>71.200</td>\n",
       "      <td>116.500</td>\n",
       "      <td>143.500</td>\n",
       "      <td>162.500</td>\n",
       "      <td>250.000</td>\n",
       "    </tr>\n",
       "  </tbody>\n",
       "</table>\n",
       "</div>"
      ],
      "text/plain": [
       "       count    mean    std    min     25%     50%     75%     max\n",
       "sugar 12.000 148.908 51.080 71.200 116.500 143.500 162.500 250.000"
      ]
     },
     "execution_count": 163,
     "metadata": {},
     "output_type": "execute_result"
    }
   ],
   "source": [
    "sugar.describe().T"
   ]
  },
  {
   "cell_type": "code",
   "execution_count": 164,
   "metadata": {},
   "outputs": [
    {
     "data": {
      "text/plain": [
       "country    0\n",
       "sugar      0\n",
       "dtype: int64"
      ]
     },
     "execution_count": 164,
     "metadata": {},
     "output_type": "execute_result"
    }
   ],
   "source": [
    "# checking missing values\n",
    "sugar.isnull().sum()"
   ]
  },
  {
   "cell_type": "code",
   "execution_count": 165,
   "metadata": {},
   "outputs": [
    {
     "name": "stdout",
     "output_type": "stream",
     "text": [
      "<class 'pandas.core.frame.DataFrame'>\n",
      "Index: 12 entries, 8 to 166\n",
      "Data columns (total 2 columns):\n",
      " #   Column   Non-Null Count  Dtype  \n",
      "---  ------   --------------  -----  \n",
      " 0   country  12 non-null     object \n",
      " 1   sugar    12 non-null     float64\n",
      "dtypes: float64(1), object(1)\n",
      "memory usage: 288.0+ bytes\n"
     ]
    }
   ],
   "source": [
    "sugar.info()"
   ]
  },
  {
   "cell_type": "code",
   "execution_count": 166,
   "metadata": {},
   "outputs": [
    {
     "data": {
      "text/plain": [
       "0"
      ]
     },
     "execution_count": 166,
     "metadata": {},
     "output_type": "execute_result"
    }
   ],
   "source": [
    "# checking for duplicate values\n",
    "sugar.duplicated().sum()"
   ]
  },
  {
   "cell_type": "code",
   "execution_count": 167,
   "metadata": {},
   "outputs": [
    {
     "data": {
      "text/plain": [
       "array(['Australia', 'Brazil', 'Canada', 'Switzerland', 'Denmark',\n",
       "       'Ireland', 'Japan', 'Mexico', 'Netherlands', 'Norway',\n",
       "       'New Zealand', 'USA'], dtype=object)"
      ]
     },
     "execution_count": 167,
     "metadata": {},
     "output_type": "execute_result"
    }
   ],
   "source": [
    "# country names\n",
    "sugar['country'].unique()"
   ]
  },
  {
   "cell_type": "code",
   "execution_count": 168,
   "metadata": {},
   "outputs": [
    {
     "name": "stdout",
     "output_type": "stream",
     "text": [
      "The Daily Sugar dataset has 12 rows and 2 columns.\n"
     ]
    }
   ],
   "source": [
    "# number of rows & columns\n",
    "print(f\"The Daily Sugar dataset has {sugar.shape[0]} rows and {sugar.shape[1]} columns.\")"
   ]
  },
  {
   "cell_type": "code",
   "execution_count": 169,
   "metadata": {},
   "outputs": [
    {
     "data": {
      "text/plain": [
       "object     1\n",
       "float64    1\n",
       "Name: count, dtype: int64"
      ]
     },
     "execution_count": 169,
     "metadata": {},
     "output_type": "execute_result"
    }
   ],
   "source": [
    "# total count of each datatype\n",
    "sugar.dtypes.value_counts()"
   ]
  },
  {
   "cell_type": "markdown",
   "metadata": {
    "id": "QqdbfalmO7eP"
   },
   "source": [
    "### Data Dictionary\n",
    "\n",
    "Data Dictionary:\n",
    "\n",
    "|Feature|Type|Dataset|Description|\n",
    "|---|---|---|---|\n",
    "|**gdp**|*float*|Year 2024| Predicted Gross Domestic Product per person adjusted for differences in perchase power in international dollars\n",
    "|**population**|*float*|Year 2024|The population of Australia, Brazil, Canada, Denmark, Ireland, Japan, Mexico, Netherlands, New Zealand, Norway, Singapor, Switzerland, United Kingdom, United Stats (Predicted population expected).|\n",
    "|**income**|*float*|Year 2024|The average daily income per capital|\n",
    "|**sugar**|*float*|Year 2018|The most recent data on quantity of comsumption of sugar and sweetners in grams per person per day.|"
   ]
  },
  {
   "cell_type": "markdown",
   "metadata": {
    "id": "bVckGr2QO7eP"
   },
   "source": [
    "## Exploratory Data Analysis"
   ]
  },
  {
   "cell_type": "markdown",
   "metadata": {
    "id": "Ycm8pwSmO7eP"
   },
   "source": [
    "### Merged Data Inital Analysis"
   ]
  },
  {
   "cell_type": "code",
   "execution_count": 170,
   "metadata": {},
   "outputs": [
    {
     "data": {
      "text/html": [
       "<div>\n",
       "<style scoped>\n",
       "    .dataframe tbody tr th:only-of-type {\n",
       "        vertical-align: middle;\n",
       "    }\n",
       "\n",
       "    .dataframe tbody tr th {\n",
       "        vertical-align: top;\n",
       "    }\n",
       "\n",
       "    .dataframe thead th {\n",
       "        text-align: right;\n",
       "    }\n",
       "</style>\n",
       "<table border=\"1\" class=\"dataframe\">\n",
       "  <thead>\n",
       "    <tr style=\"text-align: right;\">\n",
       "      <th></th>\n",
       "      <th>country</th>\n",
       "      <th>gdp</th>\n",
       "      <th>population</th>\n",
       "      <th>income</th>\n",
       "      <th>sugar</th>\n",
       "    </tr>\n",
       "  </thead>\n",
       "  <tbody>\n",
       "    <tr>\n",
       "      <th>0</th>\n",
       "      <td>Australia</td>\n",
       "      <td>58400.000</td>\n",
       "      <td>26700000.000</td>\n",
       "      <td>67.500</td>\n",
       "      <td>158.000</td>\n",
       "    </tr>\n",
       "    <tr>\n",
       "      <th>1</th>\n",
       "      <td>Brazil</td>\n",
       "      <td>8490000.000</td>\n",
       "      <td>218000000.000</td>\n",
       "      <td>20.300</td>\n",
       "      <td>117.000</td>\n",
       "    </tr>\n",
       "    <tr>\n",
       "      <th>2</th>\n",
       "      <td>Canada</td>\n",
       "      <td>47700.000</td>\n",
       "      <td>39100000.000</td>\n",
       "      <td>64.900</td>\n",
       "      <td>250.000</td>\n",
       "    </tr>\n",
       "    <tr>\n",
       "      <th>3</th>\n",
       "      <td>Switzerland</td>\n",
       "      <td>86500.000</td>\n",
       "      <td>8850000.000</td>\n",
       "      <td>79.500</td>\n",
       "      <td>133.000</td>\n",
       "    </tr>\n",
       "    <tr>\n",
       "      <th>4</th>\n",
       "      <td>Denmark</td>\n",
       "      <td>68200.000</td>\n",
       "      <td>5940000.000</td>\n",
       "      <td>71.100</td>\n",
       "      <td>154.000</td>\n",
       "    </tr>\n",
       "    <tr>\n",
       "      <th>5</th>\n",
       "      <td>Ireland</td>\n",
       "      <td>73600.000</td>\n",
       "      <td>5090000.000</td>\n",
       "      <td>73.800</td>\n",
       "      <td>228.000</td>\n",
       "    </tr>\n",
       "    <tr>\n",
       "      <th>6</th>\n",
       "      <td>Japan</td>\n",
       "      <td>44300.000</td>\n",
       "      <td>123000000.000</td>\n",
       "      <td>54.400</td>\n",
       "      <td>71.200</td>\n",
       "    </tr>\n",
       "    <tr>\n",
       "      <th>7</th>\n",
       "      <td>Mexico</td>\n",
       "      <td>9230000.000</td>\n",
       "      <td>129000000.000</td>\n",
       "      <td>15.400</td>\n",
       "      <td>128.000</td>\n",
       "    </tr>\n",
       "    <tr>\n",
       "      <th>8</th>\n",
       "      <td>Netherlands</td>\n",
       "      <td>55700.000</td>\n",
       "      <td>17700000.000</td>\n",
       "      <td>69.800</td>\n",
       "      <td>99.700</td>\n",
       "    </tr>\n",
       "    <tr>\n",
       "      <th>9</th>\n",
       "      <td>Norway</td>\n",
       "      <td>86700.000</td>\n",
       "      <td>5510000.000</td>\n",
       "      <td>78.900</td>\n",
       "      <td>115.000</td>\n",
       "    </tr>\n",
       "    <tr>\n",
       "      <th>10</th>\n",
       "      <td>New Zealand</td>\n",
       "      <td>44800.000</td>\n",
       "      <td>5270000.000</td>\n",
       "      <td>45.200</td>\n",
       "      <td>157.000</td>\n",
       "    </tr>\n",
       "    <tr>\n",
       "      <th>11</th>\n",
       "      <td>USA</td>\n",
       "      <td>71500.000</td>\n",
       "      <td>342000000.000</td>\n",
       "      <td>91.400</td>\n",
       "      <td>176.000</td>\n",
       "    </tr>\n",
       "  </tbody>\n",
       "</table>\n",
       "</div>"
      ],
      "text/plain": [
       "        country         gdp    population  income   sugar\n",
       "0     Australia   58400.000  26700000.000  67.500 158.000\n",
       "1        Brazil 8490000.000 218000000.000  20.300 117.000\n",
       "2        Canada   47700.000  39100000.000  64.900 250.000\n",
       "3   Switzerland   86500.000   8850000.000  79.500 133.000\n",
       "4       Denmark   68200.000   5940000.000  71.100 154.000\n",
       "5       Ireland   73600.000   5090000.000  73.800 228.000\n",
       "6         Japan   44300.000 123000000.000  54.400  71.200\n",
       "7        Mexico 9230000.000 129000000.000  15.400 128.000\n",
       "8   Netherlands   55700.000  17700000.000  69.800  99.700\n",
       "9        Norway   86700.000   5510000.000  78.900 115.000\n",
       "10  New Zealand   44800.000   5270000.000  45.200 157.000\n",
       "11          USA   71500.000 342000000.000  91.400 176.000"
      ]
     },
     "execution_count": 170,
     "metadata": {},
     "output_type": "execute_result"
    }
   ],
   "source": [
    "# Merge gdp, pop, income, sugar on country column \n",
    "merged = pd.merge(gdp, population, on='country', how= \"inner\")\n",
    "merged = pd.merge(merged, income, on = 'country', how= \"inner\")\n",
    "merged = pd.merge(merged, sugar, on= 'country', how= 'inner')\n",
    "merged.head(14)"
   ]
  },
  {
   "cell_type": "code",
   "execution_count": 171,
   "metadata": {},
   "outputs": [
    {
     "name": "stdout",
     "output_type": "stream",
     "text": [
      "<class 'pandas.core.frame.DataFrame'>\n",
      "RangeIndex: 12 entries, 0 to 11\n",
      "Data columns (total 5 columns):\n",
      " #   Column      Non-Null Count  Dtype  \n",
      "---  ------      --------------  -----  \n",
      " 0   country     12 non-null     object \n",
      " 1   gdp         12 non-null     float64\n",
      " 2   population  12 non-null     float64\n",
      " 3   income      12 non-null     float64\n",
      " 4   sugar       12 non-null     float64\n",
      "dtypes: float64(4), object(1)\n",
      "memory usage: 612.0+ bytes\n"
     ]
    }
   ],
   "source": [
    "merged.info()"
   ]
  },
  {
   "cell_type": "markdown",
   "metadata": {},
   "source": [
    "### Dictionary comprehension function"
   ]
  },
  {
   "cell_type": "code",
   "execution_count": 172,
   "metadata": {},
   "outputs": [
    {
     "data": {
      "text/plain": [
       "{'gdp': 3281680.119703253,\n",
       " 'population': 3281680.119703253,\n",
       " 'income': 3281680.119703253,\n",
       " 'sugar': 3281680.119703253}"
      ]
     },
     "execution_count": 172,
     "metadata": {},
     "output_type": "execute_result"
    }
   ],
   "source": [
    "# Requirement 2 Dictionary comprehension using the function I made\n",
    "sd = {column: std(merged['gdp']) for column in merged.select_dtypes(include=[\"int64\", \"float64\"]).columns}\n",
    "sd"
   ]
  },
  {
   "cell_type": "markdown",
   "metadata": {},
   "source": [
    "## Investigate Trends in the Data"
   ]
  },
  {
   "cell_type": "markdown",
   "metadata": {},
   "source": [
    "### Population and GDP"
   ]
  },
  {
   "cell_type": "code",
   "execution_count": 173,
   "metadata": {},
   "outputs": [
    {
     "name": "stdout",
     "output_type": "stream",
     "text": [
      "Highest Population:\n",
      "        country    population\n",
      "11          USA 342000000.000\n",
      "1        Brazil 218000000.000\n",
      "7        Mexico 129000000.000\n",
      "6         Japan 123000000.000\n",
      "2        Canada  39100000.000\n",
      "0     Australia  26700000.000\n",
      "8   Netherlands  17700000.000\n",
      "3   Switzerland   8850000.000\n",
      "4       Denmark   5940000.000\n",
      "9        Norway   5510000.000\n"
     ]
    }
   ],
   "source": [
    "# Use of .sorting_values from highest to lowest \n",
    "# Countries with the highest & lowest populations?\n",
    "highest_pop = merged.sort_values(by=\"population\", ascending=False).head(10)\n",
    "lowest_pop = merged.sort_values(by=\"population\", ascending=True).head(10)\n",
    "\n",
    "print(\"Highest Population:\")\n",
    "print(highest_pop[[\"country\", \"population\"]])"
   ]
  },
  {
   "cell_type": "code",
   "execution_count": 174,
   "metadata": {},
   "outputs": [
    {
     "data": {
      "image/png": "[encoded data removed]",
      "text/plain": [
       "<Figure size 800x500 with 2 Axes>"
      ]
     },
     "metadata": {},
     "output_type": "display_data"
    }
   ],
   "source": [
    "# Set up the figure and axes\n",
    "fig, (ax1, ax2) = plt.subplots(2, 1, figsize=(8, 5))\n",
    "\n",
    "# Plot the highest population countries\n",
    "ax1.barh(highest_pop['country'], highest_pop['population'], color='#FCA3B7')\n",
    "ax1.set_title('Countries with Highest Population')\n",
    "ax1.set_xlabel('Population')\n",
    "ax1.set_ylabel('Country')\n",
    "\n",
    "# Plot the lowest population countries\n",
    "ax2.barh(lowest_pop['country'], lowest_pop['population'], color='skyblue')\n",
    "ax2.set_title('Countries with Lowest Population')\n",
    "ax2.set_xlabel('Population')\n",
    "ax2.set_ylabel('Country')\n",
    "\n",
    "# If you don't do this then your charts overlap!\n",
    "plt.tight_layout()\n",
    "\n",
    "# Show plot\n",
    "plt.show()"
   ]
  },
  {
   "cell_type": "markdown",
   "metadata": {},
   "source": [
    "**Observations:**\n",
    "\n",
    "Of the countries under consideration for expansion, the top 5 countries by population in comparison to the United states are:\n",
    "\n",
    "- Brazil\n",
    "- Mexico\n",
    "- Japan \n",
    "- Canada\n",
    "- Australia"
   ]
  },
  {
   "cell_type": "code",
   "execution_count": 175,
   "metadata": {},
   "outputs": [
    {
     "name": "stdout",
     "output_type": "stream",
     "text": [
      "\n",
      "Highest GDP:\n",
      "       country         gdp\n",
      "7       Mexico 9230000.000\n",
      "1       Brazil 8490000.000\n",
      "9       Norway   86700.000\n",
      "3  Switzerland   86500.000\n",
      "5      Ireland   73600.000\n"
     ]
    }
   ],
   "source": [
    "# top 5 countries with highest & lowest gdp\n",
    "# Only printing highest. I don't need lowest but will use it for graphs\n",
    "top_5_gdp = merged.sort_values(by=\"gdp\", ascending=False).head(5)\n",
    "lowest_gdp = merged.sort_values(by=\"gdp\", ascending=True).head(5)\n",
    "\n",
    "print(\"\\nHighest GDP:\")\n",
    "print(top_5_gdp[[\"country\", \"gdp\"]])"
   ]
  },
  {
   "cell_type": "code",
   "execution_count": 176,
   "metadata": {},
   "outputs": [
    {
     "data": {
      "image/png": "[encoded data removed]",
      "text/plain": [
       "<Figure size 1000x800 with 2 Axes>"
      ]
     },
     "metadata": {},
     "output_type": "display_data"
    }
   ],
   "source": [
    "# Define the top 5 countries with the highest and lowest GDP\n",
    "# assign them to top_countries and bottom_countries\n",
    "top_countries = top_5_gdp.head(5)\n",
    "bottom_countries = lowest_gdp.head(5)\n",
    "\n",
    "# Set up the figure and axes\n",
    "fig, (ax1, ax2) = plt.subplots(2, 1, figsize=(10, 8))\n",
    "\n",
    "# Plot the top 5 countries with highest GDP\n",
    "ax1.bar(top_countries['country'], top_countries['gdp'], color='black')\n",
    "ax1.set_title('Top 5 Countries with Highest GDP')\n",
    "ax1.set_xlabel('Country')\n",
    "ax1.set_ylabel('GDP')\n",
    "\n",
    "# Plot the top 3 countries with lowest GDP\n",
    "ax2.bar(bottom_countries['country'], bottom_countries['gdp'], color='pink')\n",
    "ax2.set_title('Top 5 Countries with Lowest GDP')\n",
    "ax2.set_xlabel('Country')\n",
    "ax2.set_ylabel('GDP')\n",
    "\n",
    "# Rotate the x-axis labels to keep country names from overlapping\n",
    "plt.xticks(rotation=45)\n",
    "\n",
    "# Adjust layout\n",
    "# You have to use this to keep the graphs from overlapping\n",
    "plt.tight_layout()\n",
    "\n",
    "# Show plot\n",
    "plt.show()"
   ]
  },
  {
   "cell_type": "code",
   "execution_count": 177,
   "metadata": {},
   "outputs": [
    {
     "name": "stdout",
     "output_type": "stream",
     "text": [
      "country\n",
      "Australia     0.002\n",
      "Brazil        0.039\n",
      "Canada        0.001\n",
      "Denmark       0.011\n",
      "Ireland       0.014\n",
      "Japan         0.000\n",
      "Mexico        0.072\n",
      "Netherlands   0.003\n",
      "New Zealand   0.009\n",
      "Norway        0.016\n",
      "Switzerland   0.010\n",
      "USA           0.000\n",
      "Name: gdp_per_capita, dtype: float64\n"
     ]
    }
   ],
   "source": [
    "# GDP with respect to the country population size\n",
    "# Create a new column that divides GDP by population\n",
    "merged['gdp_per_capita'] = merged['gdp'] / merged['population']\n",
    "\n",
    "# Group the data by country and calculate the mean GDP per capita\n",
    "avg_gdp_per_capita = merged.groupby('country')['gdp_per_capita'].mean()\n",
    "\n",
    "# Print the results\n",
    "print(avg_gdp_per_capita)"
   ]
  },
  {
   "cell_type": "code",
   "execution_count": 178,
   "metadata": {},
   "outputs": [
    {
     "data": {
      "image/png": "[encoded data removed]",
      "text/plain": [
       "<Figure size 640x480 with 1 Axes>"
      ]
     },
     "metadata": {},
     "output_type": "display_data"
    }
   ],
   "source": [
    "# Average GDP per country population size\n",
    "# Sort the data by average GDP per capita in descending order\n",
    "sorted_gdp_per_capita = avg_gdp_per_capita.sort_values(ascending=False)\n",
    "\n",
    "# Create a bar chart\n",
    "plt.bar(sorted_gdp_per_capita.index, sorted_gdp_per_capita.values, color = '#FCA3B7')\n",
    "\n",
    "# Add labels and title\n",
    "plt.xlabel('Country')\n",
    "plt.ylabel('Average GDP per Capita')\n",
    "plt.title('Average GDP per Capita by Country')\n",
    "\n",
    "# Rotate the x-axis labels to keep country names from overlapping\n",
    "plt.xticks(rotation=45)\n",
    "\n",
    "# Show the plot\n",
    "plt.show()"
   ]
  },
  {
   "cell_type": "markdown",
   "metadata": {},
   "source": [
    "**Observations:**\n",
    "\n",
    "Of the countries under consideration for expansion, the top 5 countries by GDP in comparison to the United states are:\n",
    "\n",
    "- Mexico\n",
    "- Brazil\n",
    "- Norway \n",
    "- Switzerland\n",
    "- Ireland"
   ]
  },
  {
   "cell_type": "code",
   "execution_count": 179,
   "metadata": {},
   "outputs": [
    {
     "name": "stdout",
     "output_type": "stream",
     "text": [
      "\n",
      "Countries with the highest population growth:\n",
      "   country    population\n",
      "11     USA 342000000.000\n",
      "1   Brazil 218000000.000\n",
      "7   Mexico 129000000.000\n",
      "6    Japan 123000000.000\n",
      "2   Canada  39100000.000\n",
      "\n",
      "Countries with the lowest population growth:\n",
      "        country  population\n",
      "5       Ireland 5090000.000\n",
      "10  New Zealand 5270000.000\n",
      "9        Norway 5510000.000\n",
      "4       Denmark 5940000.000\n",
      "3   Switzerland 8850000.000\n"
     ]
    }
   ],
   "source": [
    "# Which countries have had the highest population growth?\n",
    "highest_pop_growth = merged.sort_values(by=\"population\", ascending=False).head(5)\n",
    "\n",
    "print(\"\\nCountries with the highest population growth:\")\n",
    "print(highest_pop_growth[[\"country\", \"population\"]])\n",
    "\n",
    "# Which countries have had the lowest population growth?\n",
    "lowest_pop_growth = merged.sort_values(by=\"population\", ascending=True).head(5)\n",
    "\n",
    "print(\"\\nCountries with the lowest population growth:\")\n",
    "print(lowest_pop_growth[[\"country\", \"population\"]])"
   ]
  },
  {
   "cell_type": "markdown",
   "metadata": {},
   "source": [
    "### Sugar comparative analysis"
   ]
  },
  {
   "cell_type": "code",
   "execution_count": 180,
   "metadata": {},
   "outputs": [
    {
     "data": {
      "text/html": [
       "<div>\n",
       "<style scoped>\n",
       "    .dataframe tbody tr th:only-of-type {\n",
       "        vertical-align: middle;\n",
       "    }\n",
       "\n",
       "    .dataframe tbody tr th {\n",
       "        vertical-align: top;\n",
       "    }\n",
       "\n",
       "    .dataframe thead th {\n",
       "        text-align: right;\n",
       "    }\n",
       "</style>\n",
       "<table border=\"1\" class=\"dataframe\">\n",
       "  <thead>\n",
       "    <tr style=\"text-align: right;\">\n",
       "      <th></th>\n",
       "      <th>country</th>\n",
       "      <th>sugar</th>\n",
       "      <th>count</th>\n",
       "    </tr>\n",
       "  </thead>\n",
       "  <tbody>\n",
       "    <tr>\n",
       "      <th>2</th>\n",
       "      <td>Canada</td>\n",
       "      <td>250.000</td>\n",
       "      <td>1</td>\n",
       "    </tr>\n",
       "    <tr>\n",
       "      <th>4</th>\n",
       "      <td>Ireland</td>\n",
       "      <td>228.000</td>\n",
       "      <td>1</td>\n",
       "    </tr>\n",
       "    <tr>\n",
       "      <th>11</th>\n",
       "      <td>USA</td>\n",
       "      <td>176.000</td>\n",
       "      <td>1</td>\n",
       "    </tr>\n",
       "    <tr>\n",
       "      <th>0</th>\n",
       "      <td>Australia</td>\n",
       "      <td>158.000</td>\n",
       "      <td>1</td>\n",
       "    </tr>\n",
       "    <tr>\n",
       "      <th>8</th>\n",
       "      <td>New Zealand</td>\n",
       "      <td>157.000</td>\n",
       "      <td>1</td>\n",
       "    </tr>\n",
       "    <tr>\n",
       "      <th>3</th>\n",
       "      <td>Denmark</td>\n",
       "      <td>154.000</td>\n",
       "      <td>1</td>\n",
       "    </tr>\n",
       "    <tr>\n",
       "      <th>10</th>\n",
       "      <td>Switzerland</td>\n",
       "      <td>133.000</td>\n",
       "      <td>1</td>\n",
       "    </tr>\n",
       "    <tr>\n",
       "      <th>6</th>\n",
       "      <td>Mexico</td>\n",
       "      <td>128.000</td>\n",
       "      <td>1</td>\n",
       "    </tr>\n",
       "    <tr>\n",
       "      <th>1</th>\n",
       "      <td>Brazil</td>\n",
       "      <td>117.000</td>\n",
       "      <td>1</td>\n",
       "    </tr>\n",
       "    <tr>\n",
       "      <th>9</th>\n",
       "      <td>Norway</td>\n",
       "      <td>115.000</td>\n",
       "      <td>1</td>\n",
       "    </tr>\n",
       "    <tr>\n",
       "      <th>7</th>\n",
       "      <td>Netherlands</td>\n",
       "      <td>99.700</td>\n",
       "      <td>1</td>\n",
       "    </tr>\n",
       "    <tr>\n",
       "      <th>5</th>\n",
       "      <td>Japan</td>\n",
       "      <td>71.200</td>\n",
       "      <td>1</td>\n",
       "    </tr>\n",
       "  </tbody>\n",
       "</table>\n",
       "</div>"
      ],
      "text/plain": [
       "        country   sugar  count\n",
       "2        Canada 250.000      1\n",
       "4       Ireland 228.000      1\n",
       "11          USA 176.000      1\n",
       "0     Australia 158.000      1\n",
       "8   New Zealand 157.000      1\n",
       "3       Denmark 154.000      1\n",
       "10  Switzerland 133.000      1\n",
       "6        Mexico 128.000      1\n",
       "1        Brazil 117.000      1\n",
       "9        Norway 115.000      1\n",
       "7   Netherlands  99.700      1\n",
       "5         Japan  71.200      1"
      ]
     },
     "execution_count": 180,
     "metadata": {},
     "output_type": "execute_result"
    }
   ],
   "source": [
    "# Compare countries to their daily sugar intake\n",
    "merged.groupby(['country', 'sugar']).size().reset_index(name='count').sort_values('sugar', ascending=False)"
   ]
  },
  {
   "cell_type": "code",
   "execution_count": 181,
   "metadata": {},
   "outputs": [
    {
     "data": {
      "image/png": "[encoded data removed]",
      "text/plain": [
       "<Figure size 1000x600 with 1 Axes>"
      ]
     },
     "metadata": {},
     "output_type": "display_data"
    }
   ],
   "source": [
    "# Show sugar intake and daily income\n",
    "\n",
    "# Sort the DataFrame by daily income\n",
    "merged_sorted = merged.sort_values(by='income', ascending=False)\n",
    "\n",
    "# Select the top 5 countries\n",
    "top_10_countries = merged_sorted.head(10)\n",
    "\n",
    "# Plotting\n",
    "plt.figure(figsize=(10, 6))\n",
    "\n",
    "# Scatter plot\n",
    "plt.scatter(top_10_countries['income'], top_10_countries['sugar'], alpha=0.5)\n",
    "\n",
    "# Add labels and title\n",
    "plt.xlabel('Daily Income')\n",
    "plt.ylabel('Sugar Intake')\n",
    "plt.title('Comparison of Daily Income to Sugar Intake for Top 10 Countries')\n",
    "\n",
    "# Add grid\n",
    "plt.grid(True)\n",
    "\n",
    "# Add country labels\n",
    "for i, txt in enumerate(top_10_countries['country']):\n",
    "    plt.annotate(txt, (top_10_countries['income'].iloc[i], top_10_countries['sugar'].iloc[i]))\n",
    "\n",
    "plt.show()"
   ]
  },
  {
   "cell_type": "code",
   "execution_count": 182,
   "metadata": {},
   "outputs": [
    {
     "data": {
      "image/png": "[encoded data removed]",
      "text/plain": [
       "<Figure size 1000x600 with 1 Axes>"
      ]
     },
     "metadata": {},
     "output_type": "display_data"
    }
   ],
   "source": [
    "# Another better to visualize sugar intake and daily income\n",
    "# Sort the DataFrame by daily income\n",
    "merged_sorted = merged.sort_values(by='income', ascending=False)\n",
    "\n",
    "# Select the top 10 countries\n",
    "top_10_countries = merged_sorted.head(10)\n",
    "\n",
    "# Sort the DataFrame by sugar intake\n",
    "top_10_countries_sorted = top_10_countries.sort_values(by='sugar', ascending=False)\n",
    "\n",
    "# Plotting\n",
    "plt.figure(figsize=(10, 6))\n",
    "\n",
    "# Bar plot\n",
    "plt.bar(top_10_countries_sorted['country'], top_10_countries_sorted['income'], label='Income', color='black')\n",
    "plt.bar(top_10_countries_sorted['country'], top_10_countries_sorted['sugar'], label='Sugar Intake', color='#FCA3B7')\n",
    "\n",
    "# Add labels and title\n",
    "plt.xlabel('Country')\n",
    "plt.ylabel('Value')\n",
    "plt.title('Comparison of Daily Income to Sugar Intake for Top 5 Countries')\n",
    "\n",
    "# Add grid\n",
    "plt.grid(True)\n",
    "\n",
    "# Better readability as the names don't overlap\n",
    "plt.xticks(rotation=45)\n",
    "\n",
    "# Add legend\n",
    "# Not sure why the legend shows income blue\n",
    "plt.legend()\n",
    "\n",
    "plt.show()"
   ]
  },
  {
   "cell_type": "code",
   "execution_count": 183,
   "metadata": {},
   "outputs": [
    {
     "name": "stdout",
     "output_type": "stream",
     "text": [
      "+----+-------------+-------+\n",
      "|    |   country   | sugar |\n",
      "+----+-------------+-------+\n",
      "| 0  |  Australia  | 158.0 |\n",
      "| 1  |   Brazil    | 117.0 |\n",
      "| 2  |   Canada    | 250.0 |\n",
      "| 3  |   Denmark   | 154.0 |\n",
      "| 4  |   Ireland   | 228.0 |\n",
      "| 5  |    Japan    | 71.2  |\n",
      "| 6  |   Mexico    | 128.0 |\n",
      "| 7  | Netherlands | 99.7  |\n",
      "| 8  | New Zealand | 157.0 |\n",
      "| 9  |   Norway    | 115.0 |\n",
      "| 10 | Switzerland | 133.0 |\n",
      "| 11 |     USA     | 176.0 |\n",
      "+----+-------------+-------+\n"
     ]
    }
   ],
   "source": [
    "from tabulate import tabulate\n",
    "# My previous output was boring. I got this prettier chart from Chat gpt\n",
    "# Assuming you have 'merged' DataFrame containing 'country' and 'sugar' columns\n",
    "\n",
    "# Group by country and calculate the mean sugar intake\n",
    "sugar_intake2 = merged.groupby('country')['sugar'].mean().reset_index()\n",
    "\n",
    "# Print the formatted DataFrame using tabulate\n",
    "print(tabulate(sugar_intake2, headers='keys', tablefmt='pretty'))"
   ]
  },
  {
   "cell_type": "code",
   "execution_count": 184,
   "metadata": {},
   "outputs": [
    {
     "data": {
      "image/png": "[encoded data removed]",
      "text/plain": [
       "<Figure size 1200x600 with 1 Axes>"
      ]
     },
     "metadata": {},
     "output_type": "display_data"
    }
   ],
   "source": [
    "# Sort the data by sugar intake to make it look better\n",
    "sugar_intake = sugar_intake2.sort_values(by='sugar', ascending=True)\n",
    "\n",
    "# Plotting\n",
    "plt.figure(figsize=(12, 6))\n",
    "sns.barplot(x='sugar', y='country', data=sugar_intake, palette='RdPu')\n",
    "plt.xlabel('Average Sugar Intake')\n",
    "plt.ylabel('Country')\n",
    "plt.title('Average Sugar Intake per Country')\n",
    "plt.show()"
   ]
  },
  {
   "cell_type": "markdown",
   "metadata": {
    "id": "yr-s14KIO7eQ"
   },
   "source": [
    "## Conclusions and Recommendations"
   ]
  },
  {
   "cell_type": "markdown",
   "metadata": {
    "id": "z0TAt5ISO7eQ"
   },
   "source": [
    "**Observations:**\n",
    "\n",
    "Of the countries under consideration for expansion, the top 5 countries by Sugar Intake in comparison to the United states are:\n",
    "\n",
    "- Canada\n",
    "- Ireland\n",
    "- Australia\n",
    "- New Zealand\n",
    "- Denmark\n",
    "\n",
    "These countries are also the top 5 for daily income values. Interestingly enough, the daily sugar intake per person didn't increase as the population increased."
   ]
  },
  {
   "cell_type": "markdown",
   "metadata": {
    "id": "2Rw1FNbJO7eQ"
   },
   "source": [
    "### Executive Summary\n",
    "My process in approaching this project was to find data relevant to a global expansion. Crumbl Cookies is a family owned business in the US. In this hypothetical project they need suggestions as to which countries offer the best likelihood for success. I chose to limit the scope of the project to 14 countries and use 2024 data from the Gapminder website.\n",
    "\n",
    " I individually analyzed each dataset, them merged them for more comprehensive analysis. Initially, my hypothesis was that GDP and population would be the strongest indicators for country selection. Though, they ended up being relatively poor predictors. The top countries with respect to Gross Domestic Product and population were Brazil and Mexico. However, they both fell into the 8th and 9th place spots out of the 14 countries for daily income and daily sugar intake. As a dessert company, both of those indicators are critical for success.\n",
    "\n",
    " My conclusion is the top three countries most likely to yield success are Canada, Ireland and Australia with Canada as the clear winner.\n",
    "\n",
    " My recommendation is to chose Canada as the first country for expansion and do further analysis to determine which metropolitan area would be best.\n"
   ]
  }
 ],
 "metadata": {
  "anaconda-cloud": {},
  "colab": {
   "provenance": []
  },
  "kernelspec": {
   "display_name": "Python 3 (ipykernel)",
   "language": "python",
   "name": "python3"
  },
  "language_info": {
   "codemirror_mode": {
    "name": "ipython",
    "version": 3
   },
   "file_extension": ".py",
   "mimetype": "text/x-python",
   "name": "python",
   "nbconvert_exporter": "python",
   "pygments_lexer": "ipython3",
   "version": "3.11.5"
  }
 },
 "nbformat": 4,
 "nbformat_minor": 4
}
