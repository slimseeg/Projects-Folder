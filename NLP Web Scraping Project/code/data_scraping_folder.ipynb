{
 "cells": [
  {
   "cell_type": "markdown",
   "id": "45d14253-0b64-48f4-b5f6-946f1fc051be",
   "metadata": {},
   "source": [
    "![Image of a house made of books](bookhouse.jpg)"
   ]
  },
  {
   "cell_type": "markdown",
   "id": "0797d8ad-138f-460e-bfd9-558220dd0559",
   "metadata": {},
   "source": [
    "### Data Scraping Notebook"
   ]
  },
  {
   "cell_type": "code",
   "execution_count": 3,
   "id": "b2d6c2e8-1044-4e89-a8ec-c2985b27b8f1",
   "metadata": {
    "tags": []
   },
   "outputs": [],
   "source": [
    "# !pip install praw"
   ]
  },
  {
   "cell_type": "code",
   "execution_count": 4,
   "id": "dd7a9da0-e322-430a-adcf-9cb7784e632e",
   "metadata": {
    "tags": []
   },
   "outputs": [],
   "source": [
    "import praw\n",
    "import pandas as pd\n",
    "\n",
    "import warnings\n",
    "warnings.simplefilter(action='ignore')"
   ]
  },
  {
   "cell_type": "markdown",
   "id": "23a18dce-b6d5-4a10-846b-96fddf11a850",
   "metadata": {},
   "source": [
    "Reddit creds"
   ]
  },
  {
   "cell_type": "code",
   "execution_count": 5,
   "id": "31fd8b60-10d1-43ab-8080-f0624f4fe7d1",
   "metadata": {
    "tags": []
   },
   "outputs": [],
   "source": [
    "reddit = praw.Reddit(\n",
    "    client_id='secret client id',\n",
    "    client_secret='super secret secret',\n",
    "    user_agent='secret user agent',\n",
    "    username='something cool',\n",
    "    password='definitely not easy'\n",
    ")"
   ]
  },
  {
   "cell_type": "markdown",
   "id": "732cb040-3bfe-4f5d-adf5-5295c4330baf",
   "metadata": {},
   "source": [
    "Fantasy grab"
   ]
  },
  {
   "cell_type": "code",
   "execution_count": 20,
   "id": "e754f459-a9f0-40eb-b78a-98128b6eecfa",
   "metadata": {
    "tags": []
   },
   "outputs": [],
   "source": [
    "# Choose your subreddit\n",
    "fantasy = reddit.subreddit('Fantasy')\n",
    "\n",
    "# get 1000 comments\n",
    "fposts_new = fantasy.new(limit=1000)"
   ]
  },
  {
   "cell_type": "code",
   "execution_count": 21,
   "id": "a2c6ac46-98be-4734-bb07-4f6ae7d50344",
   "metadata": {
    "tags": []
   },
   "outputs": [
    {
     "data": {
      "text/plain": [
       "<praw.models.listing.generator.ListingGenerator at 0x149dc0d50>"
      ]
     },
     "execution_count": 21,
     "metadata": {},
     "output_type": "execute_result"
    }
   ],
   "source": [
    "# what type of object is this\n",
    "fposts_new"
   ]
  },
  {
   "cell_type": "code",
   "execution_count": 22,
   "id": "e5bd2fe4-70e2-4329-8897-b75c91e233c7",
   "metadata": {
    "tags": []
   },
   "outputs": [
    {
     "data": {
      "text/html": [
       "<div>\n",
       "<style scoped>\n",
       "    .dataframe tbody tr th:only-of-type {\n",
       "        vertical-align: middle;\n",
       "    }\n",
       "\n",
       "    .dataframe tbody tr th {\n",
       "        vertical-align: top;\n",
       "    }\n",
       "\n",
       "    .dataframe thead th {\n",
       "        text-align: right;\n",
       "    }\n",
       "</style>\n",
       "<table border=\"1\" class=\"dataframe\">\n",
       "  <thead>\n",
       "    <tr style=\"text-align: right;\">\n",
       "      <th></th>\n",
       "      <th>created_utc</th>\n",
       "      <th>title</th>\n",
       "      <th>self_text</th>\n",
       "      <th>subreddit</th>\n",
       "    </tr>\n",
       "  </thead>\n",
       "  <tbody>\n",
       "    <tr>\n",
       "      <th>0</th>\n",
       "      <td>1.712701e+09</td>\n",
       "      <td>Films/books about a society where there are mo...</td>\n",
       "      <td>I have a thought project: a world/country wher...</td>\n",
       "      <td>Fantasy</td>\n",
       "    </tr>\n",
       "    <tr>\n",
       "      <th>1</th>\n",
       "      <td>1.712695e+09</td>\n",
       "      <td>Books where a character is immortal but doesnt...</td>\n",
       "      <td>Something I found a bit plain  is when an inmo...</td>\n",
       "      <td>Fantasy</td>\n",
       "    </tr>\n",
       "    <tr>\n",
       "      <th>2</th>\n",
       "      <td>1.712690e+09</td>\n",
       "      <td>Looking for Old Recommendations</td>\n",
       "      <td>I read a lot, and while I'm excited for my nor...</td>\n",
       "      <td>Fantasy</td>\n",
       "    </tr>\n",
       "    <tr>\n",
       "      <th>3</th>\n",
       "      <td>1.712689e+09</td>\n",
       "      <td>Book series about a wizard that talks to ordin...</td>\n",
       "      <td>I read a book some years ago about a wizard th...</td>\n",
       "      <td>Fantasy</td>\n",
       "    </tr>\n",
       "    <tr>\n",
       "      <th>4</th>\n",
       "      <td>1.712687e+09</td>\n",
       "      <td>Need some recs for Fantasy romance books with ...</td>\n",
       "      <td>I am fine with both male and female leads but ...</td>\n",
       "      <td>Fantasy</td>\n",
       "    </tr>\n",
       "  </tbody>\n",
       "</table>\n",
       "</div>"
      ],
      "text/plain": [
       "    created_utc                                              title  \\\n",
       "0  1.712701e+09  Films/books about a society where there are mo...   \n",
       "1  1.712695e+09  Books where a character is immortal but doesnt...   \n",
       "2  1.712690e+09                    Looking for Old Recommendations   \n",
       "3  1.712689e+09  Book series about a wizard that talks to ordin...   \n",
       "4  1.712687e+09  Need some recs for Fantasy romance books with ...   \n",
       "\n",
       "                                           self_text subreddit  \n",
       "0  I have a thought project: a world/country wher...   Fantasy  \n",
       "1  Something I found a bit plain  is when an inmo...   Fantasy  \n",
       "2  I read a lot, and while I'm excited for my nor...   Fantasy  \n",
       "3  I read a book some years ago about a wizard th...   Fantasy  \n",
       "4  I am fine with both male and female leads but ...   Fantasy  "
      ]
     },
     "execution_count": 22,
     "metadata": {},
     "output_type": "execute_result"
    }
   ],
   "source": [
    "# get the fantasy data\n",
    "data = []\n",
    "for post in fposts_new:\n",
    "    data.append([post.created_utc, post.title, post.selftext, post.subreddit])\n",
    "\n",
    "# Turn into a dataframe\n",
    "fan2 = pd.DataFrame(data, columns = ['created_utc', 'title', 'self_text', 'subreddit'])\n",
    "fan2.head()"
   ]
  },
  {
   "cell_type": "code",
   "execution_count": 23,
   "id": "e457ac3e-1d66-4093-855f-a76eb07e9277",
   "metadata": {
    "tags": []
   },
   "outputs": [
    {
     "name": "stdout",
     "output_type": "stream",
     "text": [
      "<class 'pandas.core.frame.DataFrame'>\n",
      "RangeIndex: 977 entries, 0 to 976\n",
      "Data columns (total 4 columns):\n",
      " #   Column       Non-Null Count  Dtype  \n",
      "---  ------       --------------  -----  \n",
      " 0   created_utc  977 non-null    float64\n",
      " 1   title        977 non-null    object \n",
      " 2   self_text    977 non-null    object \n",
      " 3   subreddit    977 non-null    object \n",
      "dtypes: float64(1), object(3)\n",
      "memory usage: 30.7+ KB\n"
     ]
    }
   ],
   "source": [
    "fan2.info()"
   ]
  },
  {
   "cell_type": "code",
   "execution_count": 24,
   "id": "1edd6a41-7b06-4284-87dd-c172a045cafe",
   "metadata": {
    "tags": []
   },
   "outputs": [],
   "source": [
    "fan2.to_csv('data/fantasy2_data.csv', index=False)"
   ]
  },
  {
   "cell_type": "code",
   "execution_count": null,
   "id": "d0b0cc52-0bbd-4013-8cdb-914ea030cede",
   "metadata": {},
   "outputs": [],
   "source": []
  },
  {
   "cell_type": "markdown",
   "id": "24f38a74-e082-4662-88bf-de1b04087d54",
   "metadata": {},
   "source": [
    "Horror grab"
   ]
  },
  {
   "cell_type": "code",
   "execution_count": 25,
   "id": "3d176758-badb-4dc6-8363-405a84ed4d1a",
   "metadata": {
    "tags": []
   },
   "outputs": [],
   "source": [
    "# Choose your subreddit\n",
    "horror = reddit.subreddit('horrorlit')\n",
    "\n",
    "# get 1000 comments\n",
    "hposts_new = horror.new(limit=1000)"
   ]
  },
  {
   "cell_type": "code",
   "execution_count": 26,
   "id": "57ee96f0-df54-4cb5-bac7-5acadde261eb",
   "metadata": {
    "tags": []
   },
   "outputs": [
    {
     "data": {
      "text/html": [
       "<div>\n",
       "<style scoped>\n",
       "    .dataframe tbody tr th:only-of-type {\n",
       "        vertical-align: middle;\n",
       "    }\n",
       "\n",
       "    .dataframe tbody tr th {\n",
       "        vertical-align: top;\n",
       "    }\n",
       "\n",
       "    .dataframe thead th {\n",
       "        text-align: right;\n",
       "    }\n",
       "</style>\n",
       "<table border=\"1\" class=\"dataframe\">\n",
       "  <thead>\n",
       "    <tr style=\"text-align: right;\">\n",
       "      <th></th>\n",
       "      <th>created_utc</th>\n",
       "      <th>title</th>\n",
       "      <th>self_text</th>\n",
       "      <th>subreddit</th>\n",
       "    </tr>\n",
       "  </thead>\n",
       "  <tbody>\n",
       "    <tr>\n",
       "      <th>0</th>\n",
       "      <td>1.712701e+09</td>\n",
       "      <td>The Chalk Man by C. J. Tudor.</td>\n",
       "      <td>Just finished this. I'm surprised I've never h...</td>\n",
       "      <td>horrorlit</td>\n",
       "    </tr>\n",
       "    <tr>\n",
       "      <th>1</th>\n",
       "      <td>1.712692e+09</td>\n",
       "      <td>WOOM: why?</td>\n",
       "      <td>All of the people who have recommended the ‘ho...</td>\n",
       "      <td>horrorlit</td>\n",
       "    </tr>\n",
       "    <tr>\n",
       "      <th>2</th>\n",
       "      <td>1.712691e+09</td>\n",
       "      <td>trans characters in horror lit: good, bad, ugly?</td>\n",
       "      <td>i am attempting to put together a history of t...</td>\n",
       "      <td>horrorlit</td>\n",
       "    </tr>\n",
       "    <tr>\n",
       "      <th>3</th>\n",
       "      <td>1.712690e+09</td>\n",
       "      <td>amish horror?</td>\n",
       "      <td>this is a funny question i know, my spouse and...</td>\n",
       "      <td>horrorlit</td>\n",
       "    </tr>\n",
       "    <tr>\n",
       "      <th>4</th>\n",
       "      <td>1.712689e+09</td>\n",
       "      <td>A villain to love</td>\n",
       "      <td>My new favorite actor is Andrew Robinson; I fi...</td>\n",
       "      <td>horrorlit</td>\n",
       "    </tr>\n",
       "  </tbody>\n",
       "</table>\n",
       "</div>"
      ],
      "text/plain": [
       "    created_utc                                             title  \\\n",
       "0  1.712701e+09                     The Chalk Man by C. J. Tudor.   \n",
       "1  1.712692e+09                                        WOOM: why?   \n",
       "2  1.712691e+09  trans characters in horror lit: good, bad, ugly?   \n",
       "3  1.712690e+09                                     amish horror?   \n",
       "4  1.712689e+09                                 A villain to love   \n",
       "\n",
       "                                           self_text  subreddit  \n",
       "0  Just finished this. I'm surprised I've never h...  horrorlit  \n",
       "1  All of the people who have recommended the ‘ho...  horrorlit  \n",
       "2  i am attempting to put together a history of t...  horrorlit  \n",
       "3  this is a funny question i know, my spouse and...  horrorlit  \n",
       "4  My new favorite actor is Andrew Robinson; I fi...  horrorlit  "
      ]
     },
     "execution_count": 26,
     "metadata": {},
     "output_type": "execute_result"
    }
   ],
   "source": [
    "# get the horror data\n",
    "data = []\n",
    "for post in hposts_new:\n",
    "    data.append([post.created_utc, post.title, post.selftext, post.subreddit])\n",
    "\n",
    "# Turn into a dataframe\n",
    "scare = pd.DataFrame(data, columns = ['created_utc', 'title', 'self_text', 'subreddit'])\n",
    "scare.head()"
   ]
  },
  {
   "cell_type": "code",
   "execution_count": 27,
   "id": "e54d8ab3-2d82-41f7-ba34-a782100fa9f6",
   "metadata": {
    "tags": []
   },
   "outputs": [
    {
     "name": "stdout",
     "output_type": "stream",
     "text": [
      "<class 'pandas.core.frame.DataFrame'>\n",
      "RangeIndex: 1000 entries, 0 to 999\n",
      "Data columns (total 4 columns):\n",
      " #   Column       Non-Null Count  Dtype  \n",
      "---  ------       --------------  -----  \n",
      " 0   created_utc  1000 non-null   float64\n",
      " 1   title        1000 non-null   object \n",
      " 2   self_text    1000 non-null   object \n",
      " 3   subreddit    1000 non-null   object \n",
      "dtypes: float64(1), object(3)\n",
      "memory usage: 31.4+ KB\n"
     ]
    }
   ],
   "source": [
    "scare.info()"
   ]
  },
  {
   "cell_type": "code",
   "execution_count": 28,
   "id": "3c5e394e-509d-4bad-b745-89a356402e08",
   "metadata": {},
   "outputs": [],
   "source": [
    "scare.to_csv('data/horror_data2.csv', index=False)"
   ]
  },
  {
   "cell_type": "code",
   "execution_count": 32,
   "id": "65a7aae9-65ba-47bb-a6f0-e18c44f7fc1c",
   "metadata": {},
   "outputs": [],
   "source": [
    "# merging the 2 new fantasy csv's\n",
    "# Read the CSV files into pandas DataFrames\n",
    "fantasy_data = pd.read_csv('data/fantasy_data.csv')\n",
    "fantasy2_data = pd.read_csv('data/fantasy2_data.csv')\n",
    "\n",
    "# Concatenate the two DataFrames\n",
    "merged_data = pd.concat([fantasy_data, fantasy2_data])\n",
    "\n",
    "# Write the merged DataFrame to a new CSV file\n",
    "merged_data.to_csv('final-fantasy-data.csv', index=False)"
   ]
  },
  {
   "cell_type": "code",
   "execution_count": 33,
   "id": "d9f1e013-4b86-481b-8d6a-552507d8a6fe",
   "metadata": {
    "tags": []
   },
   "outputs": [],
   "source": [
    "# merging the 2 new horror csv's\n",
    "# Read the CSV files into pandas DataFrames\n",
    "horror_data = pd.read_csv('data/horror_data.csv')\n",
    "horror2_data = pd.read_csv('data/horror2_data.csv')\n",
    "\n",
    "# Concatenate the two DataFrames\n",
    "merged_data = pd.concat([horror_data, horror2_data])\n",
    "\n",
    "# Write the merged DataFrame to a new CSV file\n",
    "merged_data.to_csv('final-horror-data.csv', index=False)"
   ]
  }
 ],
 "metadata": {
  "kernelspec": {
   "display_name": "Python 3 (ipykernel)",
   "language": "python",
   "name": "python3"
  },
  "language_info": {
   "codemirror_mode": {
    "name": "ipython",
    "version": 3
   },
   "file_extension": ".py",
   "mimetype": "text/x-python",
   "name": "python",
   "nbconvert_exporter": "python",
   "pygments_lexer": "ipython3",
   "version": "3.11.5"
  }
 },
 "nbformat": 4,
 "nbformat_minor": 5
}
