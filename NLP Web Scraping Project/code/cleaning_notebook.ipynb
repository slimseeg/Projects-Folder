{
 "cells": [
  {
   "cell_type": "markdown",
   "metadata": {
    "tags": []
   },
   "source": [
    "![Image of a house made of books](bookhouse.jpg)"
   ]
  },
  {
   "cell_type": "markdown",
   "metadata": {},
   "source": [
    "## Data Cleaning Notebook"
   ]
  },
  {
   "cell_type": "markdown",
   "metadata": {
    "id": "T6ofKZBvLVFC"
   },
   "source": [
    "### Import Libraries"
   ]
  },
  {
   "cell_type": "code",
   "execution_count": 3,
   "metadata": {
    "executionInfo": {
     "elapsed": 231,
     "status": "ok",
     "timestamp": 1712712206482,
     "user": {
      "displayName": "Tanya Seegmiller",
      "userId": "09396795393408040669"
     },
     "user_tz": 360
    },
    "id": "znuHumgwGS9M",
    "tags": []
   },
   "outputs": [],
   "source": [
    "# imports\n",
    "import matplotlib.pyplot as plt\n",
    "import numpy as np\n",
    "import pandas as pd\n",
    "\n",
    "import warnings\n",
    "# Suppress all warnings\n",
    "warnings.filterwarnings(\"ignore\")"
   ]
  },
  {
   "cell_type": "markdown",
   "metadata": {
    "id": "hpdqRa6-LZsh"
   },
   "source": [
    "### Read in Datasets"
   ]
  },
  {
   "cell_type": "code",
   "execution_count": 4,
   "metadata": {
    "executionInfo": {
     "elapsed": 3,
     "status": "ok",
     "timestamp": 1712712208390,
     "user": {
      "displayName": "Tanya Seegmiller",
      "userId": "09396795393408040669"
     },
     "user_tz": 360
    },
    "id": "8aqXnXRgHBDW",
    "tags": []
   },
   "outputs": [],
   "source": [
    "# load datasets\n",
    "fantasy = pd.read_csv('../data/final-fantasy-data.csv')\n",
    "horror = pd.read_csv('../data/final-horror-data.csv')"
   ]
  },
  {
   "cell_type": "markdown",
   "metadata": {
    "id": "bbiODlZ3Le_H"
   },
   "source": [
    "### Data Overview, Cleaning and Concatenation"
   ]
  },
  {
   "cell_type": "markdown",
   "metadata": {
    "id": "3xHsVGUgP_QQ"
   },
   "source": [
    "#### Fantasy Data Analysis"
   ]
  },
  {
   "cell_type": "code",
   "execution_count": 5,
   "metadata": {
    "colab": {
     "base_uri": "https://localhost:8080/",
     "height": 206
    },
    "executionInfo": {
     "elapsed": 329,
     "status": "ok",
     "timestamp": 1712712208717,
     "user": {
      "displayName": "Tanya Seegmiller",
      "userId": "09396795393408040669"
     },
     "user_tz": 360
    },
    "id": "Gb8LhicLHBGa",
    "outputId": "69c8f7eb-02bb-41ea-bb80-3d2b28bcc37f",
    "tags": []
   },
   "outputs": [
    {
     "data": {
      "text/html": [
       "<div>\n",
       "<style scoped>\n",
       "    .dataframe tbody tr th:only-of-type {\n",
       "        vertical-align: middle;\n",
       "    }\n",
       "\n",
       "    .dataframe tbody tr th {\n",
       "        vertical-align: top;\n",
       "    }\n",
       "\n",
       "    .dataframe thead th {\n",
       "        text-align: right;\n",
       "    }\n",
       "</style>\n",
       "<table border=\"1\" class=\"dataframe\">\n",
       "  <thead>\n",
       "    <tr style=\"text-align: right;\">\n",
       "      <th></th>\n",
       "      <th>created_utc</th>\n",
       "      <th>title</th>\n",
       "      <th>self_text</th>\n",
       "      <th>subreddit</th>\n",
       "    </tr>\n",
       "  </thead>\n",
       "  <tbody>\n",
       "    <tr>\n",
       "      <th>0</th>\n",
       "      <td>1.511335e+09</td>\n",
       "      <td>Help the fight for net neutrality!</td>\n",
       "      <td>NaN</td>\n",
       "      <td>Fantasy</td>\n",
       "    </tr>\n",
       "    <tr>\n",
       "      <th>1</th>\n",
       "      <td>1.519578e+09</td>\n",
       "      <td>Author Terry Goodkind shames his own cover, ar...</td>\n",
       "      <td>NaN</td>\n",
       "      <td>Fantasy</td>\n",
       "    </tr>\n",
       "    <tr>\n",
       "      <th>2</th>\n",
       "      <td>1.606914e+09</td>\n",
       "      <td>Elliot Page Will Continue to Star in 'Umbrella...</td>\n",
       "      <td>NaN</td>\n",
       "      <td>Fantasy</td>\n",
       "    </tr>\n",
       "    <tr>\n",
       "      <th>3</th>\n",
       "      <td>1.630597e+09</td>\n",
       "      <td>The Wheel of Time - Official Teaser Trailer</td>\n",
       "      <td>NaN</td>\n",
       "      <td>Fantasy</td>\n",
       "    </tr>\n",
       "    <tr>\n",
       "      <th>4</th>\n",
       "      <td>1.612284e+09</td>\n",
       "      <td>GRRM latest update: \"I wrote hundreds and hund...</td>\n",
       "      <td>NaN</td>\n",
       "      <td>Fantasy</td>\n",
       "    </tr>\n",
       "  </tbody>\n",
       "</table>\n",
       "</div>"
      ],
      "text/plain": [
       "    created_utc                                              title self_text  \\\n",
       "0  1.511335e+09                 Help the fight for net neutrality!       NaN   \n",
       "1  1.519578e+09  Author Terry Goodkind shames his own cover, ar...       NaN   \n",
       "2  1.606914e+09  Elliot Page Will Continue to Star in 'Umbrella...       NaN   \n",
       "3  1.630597e+09        The Wheel of Time - Official Teaser Trailer       NaN   \n",
       "4  1.612284e+09  GRRM latest update: \"I wrote hundreds and hund...       NaN   \n",
       "\n",
       "  subreddit  \n",
       "0   Fantasy  \n",
       "1   Fantasy  \n",
       "2   Fantasy  \n",
       "3   Fantasy  \n",
       "4   Fantasy  "
      ]
     },
     "execution_count": 5,
     "metadata": {},
     "output_type": "execute_result"
    }
   ],
   "source": [
    "# fantasy head\n",
    "fantasy.head()"
   ]
  },
  {
   "cell_type": "code",
   "execution_count": 46,
   "metadata": {
    "colab": {
     "base_uri": "https://localhost:8080/",
     "height": 363
    },
    "executionInfo": {
     "elapsed": 20,
     "status": "ok",
     "timestamp": 1712712208718,
     "user": {
      "displayName": "Tanya Seegmiller",
      "userId": "09396795393408040669"
     },
     "user_tz": 360
    },
    "id": "293ENMh4O-cP",
    "outputId": "4dd7ef49-2076-4dc5-c604-bf6f8e40d404"
   },
   "outputs": [
    {
     "data": {
      "application/vnd.google.colaboratory.intrinsic+json": {
       "summary": "{\n  \"name\": \"fantasy\",\n  \"rows\": 10,\n  \"fields\": [\n    {\n      \"column\": \"created_utc\",\n      \"properties\": {\n        \"dtype\": \"number\",\n        \"std\": 84113592.87991168,\n        \"min\": 1479301213.0,\n        \"max\": 1712387846.0,\n        \"num_unique_values\": 10,\n        \"samples\": [\n          1711910261.0,\n          1479301213.0,\n          1675596842.0\n        ],\n        \"semantic_type\": \"\",\n        \"description\": \"\"\n      }\n    },\n    {\n      \"column\": \"title\",\n      \"properties\": {\n        \"dtype\": \"string\",\n        \"num_unique_values\": 10,\n        \"samples\": [\n          \"Must watch 70s to 99s Fantasy/SciFi Movie suggestions?\",\n          \"Hey r/Fantasy! I'm novelist and DOCTOR STRANGE screenwriter C. Robert Cargill. AMA!\",\n          \"I just want to say, there is grimdark, and there is whatever the fuck Robin Hobb does\"\n        ],\n        \"semantic_type\": \"\",\n        \"description\": \"\"\n      }\n    },\n    {\n      \"column\": \"self_text\",\n      \"properties\": {\n        \"dtype\": \"string\",\n        \"num_unique_values\": 9,\n        \"samples\": [\n          \"I was reading Dragonoak: The Complete History of Kastelir by Sam Farren when in one part of the book a character described herself as a lesbian. And since the book does not take place on Earth it is a word that shouldn't exist, since Lesbos does not exist in that world.\\n\\nIn this case it didn't really bother me since it was more used as a descriptive word that the reader can understand.\\n\\nBut it got me thinking what other words and phrases that has an origin from something specifically on Earth has been used in Fantasy. Do you guys have any examples of some that you have noticed? \",\n          \"Hola all. C. Robert Cargill here. You might know me from my decade as a film critic at Ain\\u2019t it Cool News or Spill.com; or perhaps you might know my urban fantasy novels DREAMS AND SHADOWS and its sequel QUEEN OF THE DARK THINGS; or you might have heard about the urban fantasy short film I wrote for a fellow redditor called [AS THEY CONTINUE TO FALL]( https://www.youtube.com/watch?v=hhLJKCPpj28); or you might know me from my weekly cult and exploitation film podcast [JUNKFOOD CINEMA]( https://filmschoolrejects.com/tagged/junkfood-cinema); or you might even have heard of some films I co-wrote, like [SINISTER]( https://www.youtube.com/watch?v=pgYxydrVlDk) or [DOCTOR STRANGE]( https://www.youtube.com/watch?v=HSzx-zryEgM). Or maybe you\\u2019ve never even heard of me at all and simply misclicked and stumbled in here while trying to find your way into one of those civil, well-mannered political threads we\\u2019ve had on the site lately, or while trying to message one of those sweet, shy girls over in GW. One never knows.\\n\\nWhat I do know is that I\\u2019m here to answer your questions on any manner of thing \\u2013 novels, screenwriting, podcasting, what Joe Abercrombie smells like, the best places to eat in Austin, why scotch and waffles is the best meal pairing you\\u2019ve never had, a F.M.K. between Sam Sykes, Wes Chu, and Max Gladstone, etc \\u2013 that you\\u2019d like to know. Whatever is scratching at the back of your mind at the moment.\\n\\nMany thanks to r/Fantasy for having me back. I\\u2019ll be back around 5pm EST to answer your questions, and will hang around for a while to answer them LIVE. So leave a question for me and come back to hang with me later!\\n\\n\\n**EDIT:** Here early, coffeed up and ready to tackle some....HOLY CHRIST ON A CRACKER MY POOR INBOX!\\n\\n*Begins guzzling more coffee*\\n\\n**Edit 2: Thanks for the great AMA everyone! I'm off to dinner, but I'm like you guys - I'll be back later. So keep upvoting your favorite unanswered questions and I'll hit up a few more later this evening!**\",\n          \"I'm on the last book of the Liveships and I'm determined to finish the elderlings series but Fucking Hell it is hard to read. Why must she torture everyone? Fuck. That's all.\"\n        ],\n        \"semantic_type\": \"\",\n        \"description\": \"\"\n      }\n    },\n    {\n      \"column\": \"subreddit\",\n      \"properties\": {\n        \"dtype\": \"category\",\n        \"num_unique_values\": 1,\n        \"samples\": [\n          \"Fantasy\"\n        ],\n        \"semantic_type\": \"\",\n        \"description\": \"\"\n      }\n    }\n  ]\n}",
       "type": "dataframe"
      },
      "text/html": [
       "\n",
       "  <div id=\"df-e5257fd5-8946-4c3c-b26e-6afe042d0263\" class=\"colab-df-container\">\n",
       "    <div>\n",
       "<style scoped>\n",
       "    .dataframe tbody tr th:only-of-type {\n",
       "        vertical-align: middle;\n",
       "    }\n",
       "\n",
       "    .dataframe tbody tr th {\n",
       "        vertical-align: top;\n",
       "    }\n",
       "\n",
       "    .dataframe thead th {\n",
       "        text-align: right;\n",
       "    }\n",
       "</style>\n",
       "<table border=\"1\" class=\"dataframe\">\n",
       "  <thead>\n",
       "    <tr style=\"text-align: right;\">\n",
       "      <th></th>\n",
       "      <th>created_utc</th>\n",
       "      <th>title</th>\n",
       "      <th>self_text</th>\n",
       "      <th>subreddit</th>\n",
       "    </tr>\n",
       "  </thead>\n",
       "  <tbody>\n",
       "    <tr>\n",
       "      <th>1161</th>\n",
       "      <td>1.712370e+09</td>\n",
       "      <td>Looking for recommendations for fantasy books ...</td>\n",
       "      <td>I have noticed that I always enjoy parts of bo...</td>\n",
       "      <td>Fantasy</td>\n",
       "    </tr>\n",
       "    <tr>\n",
       "      <th>565</th>\n",
       "      <td>1.479301e+09</td>\n",
       "      <td>Hey r/Fantasy! I'm novelist and DOCTOR STRANGE...</td>\n",
       "      <td>Hola all. C. Robert Cargill here. You might kn...</td>\n",
       "      <td>Fantasy</td>\n",
       "    </tr>\n",
       "    <tr>\n",
       "      <th>1513</th>\n",
       "      <td>1.711749e+09</td>\n",
       "      <td>Animal Companions</td>\n",
       "      <td>What are some recs where the MC has an animal ...</td>\n",
       "      <td>Fantasy</td>\n",
       "    </tr>\n",
       "    <tr>\n",
       "      <th>1283</th>\n",
       "      <td>1.712123e+09</td>\n",
       "      <td>Okay, let's see if this works. Seeking gay MAL...</td>\n",
       "      <td>I'm going to drop some preface to this one bef...</td>\n",
       "      <td>Fantasy</td>\n",
       "    </tr>\n",
       "    <tr>\n",
       "      <th>576</th>\n",
       "      <td>1.602660e+09</td>\n",
       "      <td>I completed The Wheel of Time</td>\n",
       "      <td>I am at a loss for words. I mourn now for the ...</td>\n",
       "      <td>Fantasy</td>\n",
       "    </tr>\n",
       "    <tr>\n",
       "      <th>860</th>\n",
       "      <td>1.675597e+09</td>\n",
       "      <td>I just want to say, there is grimdark, and the...</td>\n",
       "      <td>I'm on the last book of the Liveships and I'm ...</td>\n",
       "      <td>Fantasy</td>\n",
       "    </tr>\n",
       "    <tr>\n",
       "      <th>1155</th>\n",
       "      <td>1.712388e+09</td>\n",
       "      <td>Vampire Chronicles Recommended Stopping Point?</td>\n",
       "      <td>Was curious if anyone had recommendations on g...</td>\n",
       "      <td>Fantasy</td>\n",
       "    </tr>\n",
       "    <tr>\n",
       "      <th>1596</th>\n",
       "      <td>1.711585e+09</td>\n",
       "      <td>Words and concepts with an origin on Earth in ...</td>\n",
       "      <td>I was reading Dragonoak: The Complete History ...</td>\n",
       "      <td>Fantasy</td>\n",
       "    </tr>\n",
       "    <tr>\n",
       "      <th>1428</th>\n",
       "      <td>1.711910e+09</td>\n",
       "      <td>Must watch 70s to 99s Fantasy/SciFi Movie sugg...</td>\n",
       "      <td>Hello Everybody! Me and a couple of buddies wa...</td>\n",
       "      <td>Fantasy</td>\n",
       "    </tr>\n",
       "    <tr>\n",
       "      <th>794</th>\n",
       "      <td>1.553781e+09</td>\n",
       "      <td>\"So You Want To Write A Medieval Europe-based ...</td>\n",
       "      <td>NaN</td>\n",
       "      <td>Fantasy</td>\n",
       "    </tr>\n",
       "  </tbody>\n",
       "</table>\n",
       "</div>\n",
       "    <div class=\"colab-df-buttons\">\n",
       "\n",
       "  <div class=\"colab-df-container\">\n",
       "    <button class=\"colab-df-convert\" onclick=\"convertToInteractive('df-e5257fd5-8946-4c3c-b26e-6afe042d0263')\"\n",
       "            title=\"Convert this dataframe to an interactive table.\"\n",
       "            style=\"display:none;\">\n",
       "\n",
       "  <svg xmlns=\"http://www.w3.org/2000/svg\" height=\"24px\" viewBox=\"0 -960 960 960\">\n",
       "    <path d=\"M120-120v-720h720v720H120Zm60-500h600v-160H180v160Zm220 220h160v-160H400v160Zm0 220h160v-160H400v160ZM180-400h160v-160H180v160Zm440 0h160v-160H620v160ZM180-180h160v-160H180v160Zm440 0h160v-160H620v160Z\"/>\n",
       "  </svg>\n",
       "    </button>\n",
       "\n",
       "  <style>\n",
       "    .colab-df-container {\n",
       "      display:flex;\n",
       "      gap: 12px;\n",
       "    }\n",
       "\n",
       "    .colab-df-convert {\n",
       "      background-color: #E8F0FE;\n",
       "      border: none;\n",
       "      border-radius: 50%;\n",
       "      cursor: pointer;\n",
       "      display: none;\n",
       "      fill: #1967D2;\n",
       "      height: 32px;\n",
       "      padding: 0 0 0 0;\n",
       "      width: 32px;\n",
       "    }\n",
       "\n",
       "    .colab-df-convert:hover {\n",
       "      background-color: #E2EBFA;\n",
       "      box-shadow: 0px 1px 2px rgba(60, 64, 67, 0.3), 0px 1px 3px 1px rgba(60, 64, 67, 0.15);\n",
       "      fill: #174EA6;\n",
       "    }\n",
       "\n",
       "    .colab-df-buttons div {\n",
       "      margin-bottom: 4px;\n",
       "    }\n",
       "\n",
       "    [theme=dark] .colab-df-convert {\n",
       "      background-color: #3B4455;\n",
       "      fill: #D2E3FC;\n",
       "    }\n",
       "\n",
       "    [theme=dark] .colab-df-convert:hover {\n",
       "      background-color: #434B5C;\n",
       "      box-shadow: 0px 1px 3px 1px rgba(0, 0, 0, 0.15);\n",
       "      filter: drop-shadow(0px 1px 2px rgba(0, 0, 0, 0.3));\n",
       "      fill: #FFFFFF;\n",
       "    }\n",
       "  </style>\n",
       "\n",
       "    <script>\n",
       "      const buttonEl =\n",
       "        document.querySelector('#df-e5257fd5-8946-4c3c-b26e-6afe042d0263 button.colab-df-convert');\n",
       "      buttonEl.style.display =\n",
       "        google.colab.kernel.accessAllowed ? 'block' : 'none';\n",
       "\n",
       "      async function convertToInteractive(key) {\n",
       "        const element = document.querySelector('#df-e5257fd5-8946-4c3c-b26e-6afe042d0263');\n",
       "        const dataTable =\n",
       "          await google.colab.kernel.invokeFunction('convertToInteractive',\n",
       "                                                    [key], {});\n",
       "        if (!dataTable) return;\n",
       "\n",
       "        const docLinkHtml = 'Like what you see? Visit the ' +\n",
       "          '<a target=\"_blank\" href=https://colab.research.google.com/notebooks/data_table.ipynb>data table notebook</a>'\n",
       "          + ' to learn more about interactive tables.';\n",
       "        element.innerHTML = '';\n",
       "        dataTable['output_type'] = 'display_data';\n",
       "        await google.colab.output.renderOutput(dataTable, element);\n",
       "        const docLink = document.createElement('div');\n",
       "        docLink.innerHTML = docLinkHtml;\n",
       "        element.appendChild(docLink);\n",
       "      }\n",
       "    </script>\n",
       "  </div>\n",
       "\n",
       "\n",
       "<div id=\"df-718cecc6-c098-4bea-82cd-d01dfab5d3f8\">\n",
       "  <button class=\"colab-df-quickchart\" onclick=\"quickchart('df-718cecc6-c098-4bea-82cd-d01dfab5d3f8')\"\n",
       "            title=\"Suggest charts\"\n",
       "            style=\"display:none;\">\n",
       "\n",
       "<svg xmlns=\"http://www.w3.org/2000/svg\" height=\"24px\"viewBox=\"0 0 24 24\"\n",
       "     width=\"24px\">\n",
       "    <g>\n",
       "        <path d=\"M19 3H5c-1.1 0-2 .9-2 2v14c0 1.1.9 2 2 2h14c1.1 0 2-.9 2-2V5c0-1.1-.9-2-2-2zM9 17H7v-7h2v7zm4 0h-2V7h2v10zm4 0h-2v-4h2v4z\"/>\n",
       "    </g>\n",
       "</svg>\n",
       "  </button>\n",
       "\n",
       "<style>\n",
       "  .colab-df-quickchart {\n",
       "      --bg-color: #E8F0FE;\n",
       "      --fill-color: #1967D2;\n",
       "      --hover-bg-color: #E2EBFA;\n",
       "      --hover-fill-color: #174EA6;\n",
       "      --disabled-fill-color: #AAA;\n",
       "      --disabled-bg-color: #DDD;\n",
       "  }\n",
       "\n",
       "  [theme=dark] .colab-df-quickchart {\n",
       "      --bg-color: #3B4455;\n",
       "      --fill-color: #D2E3FC;\n",
       "      --hover-bg-color: #434B5C;\n",
       "      --hover-fill-color: #FFFFFF;\n",
       "      --disabled-bg-color: #3B4455;\n",
       "      --disabled-fill-color: #666;\n",
       "  }\n",
       "\n",
       "  .colab-df-quickchart {\n",
       "    background-color: var(--bg-color);\n",
       "    border: none;\n",
       "    border-radius: 50%;\n",
       "    cursor: pointer;\n",
       "    display: none;\n",
       "    fill: var(--fill-color);\n",
       "    height: 32px;\n",
       "    padding: 0;\n",
       "    width: 32px;\n",
       "  }\n",
       "\n",
       "  .colab-df-quickchart:hover {\n",
       "    background-color: var(--hover-bg-color);\n",
       "    box-shadow: 0 1px 2px rgba(60, 64, 67, 0.3), 0 1px 3px 1px rgba(60, 64, 67, 0.15);\n",
       "    fill: var(--button-hover-fill-color);\n",
       "  }\n",
       "\n",
       "  .colab-df-quickchart-complete:disabled,\n",
       "  .colab-df-quickchart-complete:disabled:hover {\n",
       "    background-color: var(--disabled-bg-color);\n",
       "    fill: var(--disabled-fill-color);\n",
       "    box-shadow: none;\n",
       "  }\n",
       "\n",
       "  .colab-df-spinner {\n",
       "    border: 2px solid var(--fill-color);\n",
       "    border-color: transparent;\n",
       "    border-bottom-color: var(--fill-color);\n",
       "    animation:\n",
       "      spin 1s steps(1) infinite;\n",
       "  }\n",
       "\n",
       "  @keyframes spin {\n",
       "    0% {\n",
       "      border-color: transparent;\n",
       "      border-bottom-color: var(--fill-color);\n",
       "      border-left-color: var(--fill-color);\n",
       "    }\n",
       "    20% {\n",
       "      border-color: transparent;\n",
       "      border-left-color: var(--fill-color);\n",
       "      border-top-color: var(--fill-color);\n",
       "    }\n",
       "    30% {\n",
       "      border-color: transparent;\n",
       "      border-left-color: var(--fill-color);\n",
       "      border-top-color: var(--fill-color);\n",
       "      border-right-color: var(--fill-color);\n",
       "    }\n",
       "    40% {\n",
       "      border-color: transparent;\n",
       "      border-right-color: var(--fill-color);\n",
       "      border-top-color: var(--fill-color);\n",
       "    }\n",
       "    60% {\n",
       "      border-color: transparent;\n",
       "      border-right-color: var(--fill-color);\n",
       "    }\n",
       "    80% {\n",
       "      border-color: transparent;\n",
       "      border-right-color: var(--fill-color);\n",
       "      border-bottom-color: var(--fill-color);\n",
       "    }\n",
       "    90% {\n",
       "      border-color: transparent;\n",
       "      border-bottom-color: var(--fill-color);\n",
       "    }\n",
       "  }\n",
       "</style>\n",
       "\n",
       "  <script>\n",
       "    async function quickchart(key) {\n",
       "      const quickchartButtonEl =\n",
       "        document.querySelector('#' + key + ' button');\n",
       "      quickchartButtonEl.disabled = true;  // To prevent multiple clicks.\n",
       "      quickchartButtonEl.classList.add('colab-df-spinner');\n",
       "      try {\n",
       "        const charts = await google.colab.kernel.invokeFunction(\n",
       "            'suggestCharts', [key], {});\n",
       "      } catch (error) {\n",
       "        console.error('Error during call to suggestCharts:', error);\n",
       "      }\n",
       "      quickchartButtonEl.classList.remove('colab-df-spinner');\n",
       "      quickchartButtonEl.classList.add('colab-df-quickchart-complete');\n",
       "    }\n",
       "    (() => {\n",
       "      let quickchartButtonEl =\n",
       "        document.querySelector('#df-718cecc6-c098-4bea-82cd-d01dfab5d3f8 button');\n",
       "      quickchartButtonEl.style.display =\n",
       "        google.colab.kernel.accessAllowed ? 'block' : 'none';\n",
       "    })();\n",
       "  </script>\n",
       "</div>\n",
       "\n",
       "    </div>\n",
       "  </div>\n"
      ],
      "text/plain": [
       "       created_utc                                              title  \\\n",
       "1161  1.712370e+09  Looking for recommendations for fantasy books ...   \n",
       "565   1.479301e+09  Hey r/Fantasy! I'm novelist and DOCTOR STRANGE...   \n",
       "1513  1.711749e+09                                 Animal Companions    \n",
       "1283  1.712123e+09  Okay, let's see if this works. Seeking gay MAL...   \n",
       "576   1.602660e+09                      I completed The Wheel of Time   \n",
       "860   1.675597e+09  I just want to say, there is grimdark, and the...   \n",
       "1155  1.712388e+09    Vampire Chronicles Recommended Stopping Point?    \n",
       "1596  1.711585e+09  Words and concepts with an origin on Earth in ...   \n",
       "1428  1.711910e+09  Must watch 70s to 99s Fantasy/SciFi Movie sugg...   \n",
       "794   1.553781e+09  \"So You Want To Write A Medieval Europe-based ...   \n",
       "\n",
       "                                              self_text subreddit  \n",
       "1161  I have noticed that I always enjoy parts of bo...   Fantasy  \n",
       "565   Hola all. C. Robert Cargill here. You might kn...   Fantasy  \n",
       "1513  What are some recs where the MC has an animal ...   Fantasy  \n",
       "1283  I'm going to drop some preface to this one bef...   Fantasy  \n",
       "576   I am at a loss for words. I mourn now for the ...   Fantasy  \n",
       "860   I'm on the last book of the Liveships and I'm ...   Fantasy  \n",
       "1155  Was curious if anyone had recommendations on g...   Fantasy  \n",
       "1596  I was reading Dragonoak: The Complete History ...   Fantasy  \n",
       "1428  Hello Everybody! Me and a couple of buddies wa...   Fantasy  \n",
       "794                                                 NaN   Fantasy  "
      ]
     },
     "execution_count": 46,
     "metadata": {},
     "output_type": "execute_result"
    }
   ],
   "source": [
    "fantasy.sample(10)"
   ]
  },
  {
   "cell_type": "code",
   "execution_count": 47,
   "metadata": {
    "executionInfo": {
     "elapsed": 19,
     "status": "ok",
     "timestamp": 1712712208718,
     "user": {
      "displayName": "Tanya Seegmiller",
      "userId": "09396795393408040669"
     },
     "user_tz": 360
    },
    "id": "r4K-KvSAJMPh"
   },
   "outputs": [],
   "source": [
    "# drop fantasy duplicates\n",
    "fantasy.drop_duplicates(inplace=True)"
   ]
  },
  {
   "cell_type": "code",
   "execution_count": 48,
   "metadata": {
    "colab": {
     "base_uri": "https://localhost:8080/"
    },
    "executionInfo": {
     "elapsed": 19,
     "status": "ok",
     "timestamp": 1712712208718,
     "user": {
      "displayName": "Tanya Seegmiller",
      "userId": "09396795393408040669"
     },
     "user_tz": 360
    },
    "id": "DbgQahkxKWtA",
    "outputId": "2043343a-7527-4883-a23a-67c53cdac622"
   },
   "outputs": [
    {
     "data": {
      "text/plain": [
       "0"
      ]
     },
     "execution_count": 48,
     "metadata": {},
     "output_type": "execute_result"
    }
   ],
   "source": [
    "# check duplicates were dropped\n",
    "fantasy.duplicated().sum()"
   ]
  },
  {
   "cell_type": "code",
   "execution_count": 49,
   "metadata": {
    "colab": {
     "base_uri": "https://localhost:8080/"
    },
    "executionInfo": {
     "elapsed": 17,
     "status": "ok",
     "timestamp": 1712712208718,
     "user": {
      "displayName": "Tanya Seegmiller",
      "userId": "09396795393408040669"
     },
     "user_tz": 360
    },
    "id": "Y3KOd-XeKnRM",
    "outputId": "aa15f56f-58c9-48bd-a12e-7927212b8ef5"
   },
   "outputs": [
    {
     "name": "stdout",
     "output_type": "stream",
     "text": [
      "<class 'pandas.core.frame.DataFrame'>\n",
      "Index: 1973 entries, 0 to 1974\n",
      "Data columns (total 4 columns):\n",
      " #   Column       Non-Null Count  Dtype  \n",
      "---  ------       --------------  -----  \n",
      " 0   created_utc  1973 non-null   float64\n",
      " 1   title        1973 non-null   object \n",
      " 2   self_text    1243 non-null   object \n",
      " 3   subreddit    1973 non-null   object \n",
      "dtypes: float64(1), object(3)\n",
      "memory usage: 77.1+ KB\n"
     ]
    }
   ],
   "source": [
    "fantasy.info()"
   ]
  },
  {
   "cell_type": "code",
   "execution_count": 50,
   "metadata": {
    "colab": {
     "base_uri": "https://localhost:8080/"
    },
    "executionInfo": {
     "elapsed": 16,
     "status": "ok",
     "timestamp": 1712712208718,
     "user": {
      "displayName": "Tanya Seegmiller",
      "userId": "09396795393408040669"
     },
     "user_tz": 360
    },
    "id": "jm810il-O1al",
    "outputId": "3cedc0dd-4b07-4c56-8a2c-6bb475c05ed9"
   },
   "outputs": [
    {
     "data": {
      "text/plain": [
       "created_utc      0\n",
       "title            0\n",
       "self_text      730\n",
       "subreddit        0\n",
       "dtype: int64"
      ]
     },
     "execution_count": 50,
     "metadata": {},
     "output_type": "execute_result"
    }
   ],
   "source": [
    "# how many nan values in fantasy\n",
    "fantasy.isnull().sum()"
   ]
  },
  {
   "cell_type": "code",
   "execution_count": 51,
   "metadata": {
    "executionInfo": {
     "elapsed": 14,
     "status": "ok",
     "timestamp": 1712712208718,
     "user": {
      "displayName": "Tanya Seegmiller",
      "userId": "09396795393408040669"
     },
     "user_tz": 360
    },
    "id": "eQOX0EzDPGkB"
   },
   "outputs": [],
   "source": [
    "# replace all nan values in self_text with \"no_text\"\n",
    "fantasy['self_text'].fillna(\"no_text\", inplace=True)"
   ]
  },
  {
   "cell_type": "code",
   "execution_count": 52,
   "metadata": {
    "colab": {
     "base_uri": "https://localhost:8080/"
    },
    "executionInfo": {
     "elapsed": 14,
     "status": "ok",
     "timestamp": 1712712208718,
     "user": {
      "displayName": "Tanya Seegmiller",
      "userId": "09396795393408040669"
     },
     "user_tz": 360
    },
    "id": "fEImjJ86QJnT",
    "outputId": "65a9bee5-a6ed-4e06-beb5-34911a42a75f"
   },
   "outputs": [
    {
     "data": {
      "text/plain": [
       "created_utc    0\n",
       "title          0\n",
       "self_text      0\n",
       "subreddit      0\n",
       "dtype: int64"
      ]
     },
     "execution_count": 52,
     "metadata": {},
     "output_type": "execute_result"
    }
   ],
   "source": [
    "fantasy.isna().sum()"
   ]
  },
  {
   "cell_type": "markdown",
   "metadata": {
    "id": "N_CQKqHMQE2f"
   },
   "source": [
    "#### Horror Data Analysis"
   ]
  },
  {
   "cell_type": "code",
   "execution_count": 6,
   "metadata": {
    "colab": {
     "base_uri": "https://localhost:8080/",
     "height": 206
    },
    "executionInfo": {
     "elapsed": 14,
     "status": "ok",
     "timestamp": 1712712208719,
     "user": {
      "displayName": "Tanya Seegmiller",
      "userId": "09396795393408040669"
     },
     "user_tz": 360
    },
    "id": "5skYOzj2KnIi",
    "outputId": "45ff4a73-70b7-40a5-d9de-e6a513165374",
    "tags": []
   },
   "outputs": [
    {
     "data": {
      "text/html": [
       "<div>\n",
       "<style scoped>\n",
       "    .dataframe tbody tr th:only-of-type {\n",
       "        vertical-align: middle;\n",
       "    }\n",
       "\n",
       "    .dataframe tbody tr th {\n",
       "        vertical-align: top;\n",
       "    }\n",
       "\n",
       "    .dataframe thead th {\n",
       "        text-align: right;\n",
       "    }\n",
       "</style>\n",
       "<table border=\"1\" class=\"dataframe\">\n",
       "  <thead>\n",
       "    <tr style=\"text-align: right;\">\n",
       "      <th></th>\n",
       "      <th>created_utc</th>\n",
       "      <th>title</th>\n",
       "      <th>self_text</th>\n",
       "      <th>subreddit</th>\n",
       "    </tr>\n",
       "  </thead>\n",
       "  <tbody>\n",
       "    <tr>\n",
       "      <th>0</th>\n",
       "      <td>1.615921e+09</td>\n",
       "      <td>Hello fellow Horror readers, I've compiled a s...</td>\n",
       "      <td>A lot of people get their first introduction i...</td>\n",
       "      <td>horrorlit</td>\n",
       "    </tr>\n",
       "    <tr>\n",
       "      <th>1</th>\n",
       "      <td>1.614796e+09</td>\n",
       "      <td>Who else is using the “too disturbing, never a...</td>\n",
       "      <td>Show of hands? Both please, I’d like you to ke...</td>\n",
       "      <td>horrorlit</td>\n",
       "    </tr>\n",
       "    <tr>\n",
       "      <th>2</th>\n",
       "      <td>1.588627e+09</td>\n",
       "      <td>The Horror Section is coming back to Barnes &amp; ...</td>\n",
       "      <td>Some of you may remember my recent post regard...</td>\n",
       "      <td>horrorlit</td>\n",
       "    </tr>\n",
       "    <tr>\n",
       "      <th>3</th>\n",
       "      <td>1.614701e+09</td>\n",
       "      <td>What book is so disturbing, you would never re...</td>\n",
       "      <td>Saw a variation of this post on r/AskReddit an...</td>\n",
       "      <td>horrorlit</td>\n",
       "    </tr>\n",
       "    <tr>\n",
       "      <th>4</th>\n",
       "      <td>1.598800e+09</td>\n",
       "      <td>Can I just say... This is the most welcoming l...</td>\n",
       "      <td>I've spent this Summer (successfully, I'm plea...</td>\n",
       "      <td>horrorlit</td>\n",
       "    </tr>\n",
       "  </tbody>\n",
       "</table>\n",
       "</div>"
      ],
      "text/plain": [
       "    created_utc                                              title  \\\n",
       "0  1.615921e+09  Hello fellow Horror readers, I've compiled a s...   \n",
       "1  1.614796e+09  Who else is using the “too disturbing, never a...   \n",
       "2  1.588627e+09  The Horror Section is coming back to Barnes & ...   \n",
       "3  1.614701e+09  What book is so disturbing, you would never re...   \n",
       "4  1.598800e+09  Can I just say... This is the most welcoming l...   \n",
       "\n",
       "                                           self_text  subreddit  \n",
       "0  A lot of people get their first introduction i...  horrorlit  \n",
       "1  Show of hands? Both please, I’d like you to ke...  horrorlit  \n",
       "2  Some of you may remember my recent post regard...  horrorlit  \n",
       "3  Saw a variation of this post on r/AskReddit an...  horrorlit  \n",
       "4  I've spent this Summer (successfully, I'm plea...  horrorlit  "
      ]
     },
     "execution_count": 6,
     "metadata": {},
     "output_type": "execute_result"
    }
   ],
   "source": [
    "# horror head\n",
    "horror.head()"
   ]
  },
  {
   "cell_type": "code",
   "execution_count": 54,
   "metadata": {
    "colab": {
     "base_uri": "https://localhost:8080/",
     "height": 363
    },
    "executionInfo": {
     "elapsed": 13,
     "status": "ok",
     "timestamp": 1712712208719,
     "user": {
      "displayName": "Tanya Seegmiller",
      "userId": "09396795393408040669"
     },
     "user_tz": 360
    },
    "id": "Sek9wxXLQzPg",
    "outputId": "29eb36d1-6203-493c-ecd1-eae6706fc42e"
   },
   "outputs": [
    {
     "data": {
      "application/vnd.google.colaboratory.intrinsic+json": {
       "summary": "{\n  \"name\": \"horror\",\n  \"rows\": 10,\n  \"fields\": [\n    {\n      \"column\": \"created_utc\",\n      \"properties\": {\n        \"dtype\": \"number\",\n        \"std\": 46693551.58016436,\n        \"min\": 1602164188.0,\n        \"max\": 1711661270.0,\n        \"num_unique_values\": 10,\n        \"samples\": [\n          1711112892.0,\n          1676043787.0,\n          1622250238.0\n        ],\n        \"semantic_type\": \"\",\n        \"description\": \"\"\n      }\n    },\n    {\n      \"column\": \"title\",\n      \"properties\": {\n        \"dtype\": \"string\",\n        \"num_unique_values\": 10,\n        \"samples\": [\n          \"Exploring the Nature of Fear\",\n          \"Books that hide their supernatural premises until well into the story? (as in, marketing and presentation doesn't give it away)\",\n          \"Am I alone in preferring short stories over novels?\"\n        ],\n        \"semantic_type\": \"\",\n        \"description\": \"\"\n      }\n    },\n    {\n      \"column\": \"self_text\",\n      \"properties\": {\n        \"dtype\": \"string\",\n        \"num_unique_values\": 10,\n        \"samples\": [\n          \"I really love horror books and movies, and I would be interested in reading non-fiction books that explore either the nature of fear or how horror is created. What should I read?\",\n          \"Without being too spoilery, of course, what are some books with supernatural threats that don't give themselves away entirely in the book's marketing?\\n\\nFor instance, Those Across the River used to be a common example. The book's blurb and old book cover (the newer book cover gives it all away, just about) didn't really tell you what the threat actually was.\\n\\nOr Mexican Gothic is another one, where readers go into it expecting ghostly stuff and get a lot more than they anticipated. \\n\\nWhat are others like this? Without giving it away explicitly, of course.\",\n          \"I love reading novels and I've read a lot of the classics of literature, so it's not that I don't enjoy longer texts.\\nBut when it comes to horror I've always felt short stories generally work so much better and my favourite horror reads have almost always been short stories.\\nDon't get me wrong, there are a lot of novels that I've really enjoyed (The Haunting of Hill House, Dracula, Salem's Lot, etc) but a lot of other times I feel the more extensive format doesn't work quite well with horror.\\nI've always thought horror is the genre that better suits the short story genre because it relies on your most basic instincts in order to generate fear, shock, repulsion, etc.\\n\\nArgentine writer Julio Cort\\u00e1zar once said referring to the difference between writing a novel and a short story that the novel has to win by points and the short story by knockout.\\nFollowing this analogy, I've always felt horror has to win you by knockout and that the short story format has always suited it better.\"\n        ],\n        \"semantic_type\": \"\",\n        \"description\": \"\"\n      }\n    },\n    {\n      \"column\": \"subreddit\",\n      \"properties\": {\n        \"dtype\": \"category\",\n        \"num_unique_values\": 1,\n        \"samples\": [\n          \"horrorlit\"\n        ],\n        \"semantic_type\": \"\",\n        \"description\": \"\"\n      }\n    }\n  ]\n}",
       "type": "dataframe"
      },
      "text/html": [
       "\n",
       "  <div id=\"df-70e1f151-8871-4df1-a1c8-34b280dea164\" class=\"colab-df-container\">\n",
       "    <div>\n",
       "<style scoped>\n",
       "    .dataframe tbody tr th:only-of-type {\n",
       "        vertical-align: middle;\n",
       "    }\n",
       "\n",
       "    .dataframe tbody tr th {\n",
       "        vertical-align: top;\n",
       "    }\n",
       "\n",
       "    .dataframe thead th {\n",
       "        text-align: right;\n",
       "    }\n",
       "</style>\n",
       "<table border=\"1\" class=\"dataframe\">\n",
       "  <thead>\n",
       "    <tr style=\"text-align: right;\">\n",
       "      <th></th>\n",
       "      <th>created_utc</th>\n",
       "      <th>title</th>\n",
       "      <th>self_text</th>\n",
       "      <th>subreddit</th>\n",
       "    </tr>\n",
       "  </thead>\n",
       "  <tbody>\n",
       "    <tr>\n",
       "      <th>18</th>\n",
       "      <td>1.711661e+09</td>\n",
       "      <td>Male horror authors and sexually assaulting fe...</td>\n",
       "      <td>Recently I have reignited my passion for readi...</td>\n",
       "      <td>horrorlit</td>\n",
       "    </tr>\n",
       "    <tr>\n",
       "      <th>393</th>\n",
       "      <td>1.676044e+09</td>\n",
       "      <td>Books that hide their supernatural premises un...</td>\n",
       "      <td>Without being too spoilery, of course, what ar...</td>\n",
       "      <td>horrorlit</td>\n",
       "    </tr>\n",
       "    <tr>\n",
       "      <th>188</th>\n",
       "      <td>1.602164e+09</td>\n",
       "      <td>Just read Clown in a Cornfield and it's exactl...</td>\n",
       "      <td>There was a clown in a cornfield trying to kil...</td>\n",
       "      <td>horrorlit</td>\n",
       "    </tr>\n",
       "    <tr>\n",
       "      <th>431</th>\n",
       "      <td>1.610917e+09</td>\n",
       "      <td>Just finished \"The Fisherman\" by John Langan</td>\n",
       "      <td>I absolutely devoured this novel in one weeken...</td>\n",
       "      <td>horrorlit</td>\n",
       "    </tr>\n",
       "    <tr>\n",
       "      <th>1876</th>\n",
       "      <td>1.709820e+09</td>\n",
       "      <td>I've been translating the 800s AD Chinese stor...</td>\n",
       "      <td>I'm a big fan of Kwaidan, and as a professiona...</td>\n",
       "      <td>horrorlit</td>\n",
       "    </tr>\n",
       "    <tr>\n",
       "      <th>215</th>\n",
       "      <td>1.622250e+09</td>\n",
       "      <td>Am I alone in preferring short stories over no...</td>\n",
       "      <td>I love reading novels and I've read a lot of t...</td>\n",
       "      <td>horrorlit</td>\n",
       "    </tr>\n",
       "    <tr>\n",
       "      <th>65</th>\n",
       "      <td>1.629237e+09</td>\n",
       "      <td>Sensor by Junji Ito Is Out Today!</td>\n",
       "      <td>I know I'm not the only Junji Ito fan around h...</td>\n",
       "      <td>horrorlit</td>\n",
       "    </tr>\n",
       "    <tr>\n",
       "      <th>182</th>\n",
       "      <td>1.699648e+09</td>\n",
       "      <td>What's the creepiest cold open in a book you'v...</td>\n",
       "      <td>I'm reading through Echo by Thomas Olde Heuvel...</td>\n",
       "      <td>horrorlit</td>\n",
       "    </tr>\n",
       "    <tr>\n",
       "      <th>1501</th>\n",
       "      <td>1.711113e+09</td>\n",
       "      <td>Exploring the Nature of Fear</td>\n",
       "      <td>I really love horror books and movies, and I w...</td>\n",
       "      <td>horrorlit</td>\n",
       "    </tr>\n",
       "    <tr>\n",
       "      <th>1510</th>\n",
       "      <td>1.711076e+09</td>\n",
       "      <td>Anyone else read Cuckoo by Gretchen Felker-Mar...</td>\n",
       "      <td>I got my hands on an ARC copy and I'm dying to...</td>\n",
       "      <td>horrorlit</td>\n",
       "    </tr>\n",
       "  </tbody>\n",
       "</table>\n",
       "</div>\n",
       "    <div class=\"colab-df-buttons\">\n",
       "\n",
       "  <div class=\"colab-df-container\">\n",
       "    <button class=\"colab-df-convert\" onclick=\"convertToInteractive('df-70e1f151-8871-4df1-a1c8-34b280dea164')\"\n",
       "            title=\"Convert this dataframe to an interactive table.\"\n",
       "            style=\"display:none;\">\n",
       "\n",
       "  <svg xmlns=\"http://www.w3.org/2000/svg\" height=\"24px\" viewBox=\"0 -960 960 960\">\n",
       "    <path d=\"M120-120v-720h720v720H120Zm60-500h600v-160H180v160Zm220 220h160v-160H400v160Zm0 220h160v-160H400v160ZM180-400h160v-160H180v160Zm440 0h160v-160H620v160ZM180-180h160v-160H180v160Zm440 0h160v-160H620v160Z\"/>\n",
       "  </svg>\n",
       "    </button>\n",
       "\n",
       "  <style>\n",
       "    .colab-df-container {\n",
       "      display:flex;\n",
       "      gap: 12px;\n",
       "    }\n",
       "\n",
       "    .colab-df-convert {\n",
       "      background-color: #E8F0FE;\n",
       "      border: none;\n",
       "      border-radius: 50%;\n",
       "      cursor: pointer;\n",
       "      display: none;\n",
       "      fill: #1967D2;\n",
       "      height: 32px;\n",
       "      padding: 0 0 0 0;\n",
       "      width: 32px;\n",
       "    }\n",
       "\n",
       "    .colab-df-convert:hover {\n",
       "      background-color: #E2EBFA;\n",
       "      box-shadow: 0px 1px 2px rgba(60, 64, 67, 0.3), 0px 1px 3px 1px rgba(60, 64, 67, 0.15);\n",
       "      fill: #174EA6;\n",
       "    }\n",
       "\n",
       "    .colab-df-buttons div {\n",
       "      margin-bottom: 4px;\n",
       "    }\n",
       "\n",
       "    [theme=dark] .colab-df-convert {\n",
       "      background-color: #3B4455;\n",
       "      fill: #D2E3FC;\n",
       "    }\n",
       "\n",
       "    [theme=dark] .colab-df-convert:hover {\n",
       "      background-color: #434B5C;\n",
       "      box-shadow: 0px 1px 3px 1px rgba(0, 0, 0, 0.15);\n",
       "      filter: drop-shadow(0px 1px 2px rgba(0, 0, 0, 0.3));\n",
       "      fill: #FFFFFF;\n",
       "    }\n",
       "  </style>\n",
       "\n",
       "    <script>\n",
       "      const buttonEl =\n",
       "        document.querySelector('#df-70e1f151-8871-4df1-a1c8-34b280dea164 button.colab-df-convert');\n",
       "      buttonEl.style.display =\n",
       "        google.colab.kernel.accessAllowed ? 'block' : 'none';\n",
       "\n",
       "      async function convertToInteractive(key) {\n",
       "        const element = document.querySelector('#df-70e1f151-8871-4df1-a1c8-34b280dea164');\n",
       "        const dataTable =\n",
       "          await google.colab.kernel.invokeFunction('convertToInteractive',\n",
       "                                                    [key], {});\n",
       "        if (!dataTable) return;\n",
       "\n",
       "        const docLinkHtml = 'Like what you see? Visit the ' +\n",
       "          '<a target=\"_blank\" href=https://colab.research.google.com/notebooks/data_table.ipynb>data table notebook</a>'\n",
       "          + ' to learn more about interactive tables.';\n",
       "        element.innerHTML = '';\n",
       "        dataTable['output_type'] = 'display_data';\n",
       "        await google.colab.output.renderOutput(dataTable, element);\n",
       "        const docLink = document.createElement('div');\n",
       "        docLink.innerHTML = docLinkHtml;\n",
       "        element.appendChild(docLink);\n",
       "      }\n",
       "    </script>\n",
       "  </div>\n",
       "\n",
       "\n",
       "<div id=\"df-d3d29312-1984-40dc-89b6-1529f09baf25\">\n",
       "  <button class=\"colab-df-quickchart\" onclick=\"quickchart('df-d3d29312-1984-40dc-89b6-1529f09baf25')\"\n",
       "            title=\"Suggest charts\"\n",
       "            style=\"display:none;\">\n",
       "\n",
       "<svg xmlns=\"http://www.w3.org/2000/svg\" height=\"24px\"viewBox=\"0 0 24 24\"\n",
       "     width=\"24px\">\n",
       "    <g>\n",
       "        <path d=\"M19 3H5c-1.1 0-2 .9-2 2v14c0 1.1.9 2 2 2h14c1.1 0 2-.9 2-2V5c0-1.1-.9-2-2-2zM9 17H7v-7h2v7zm4 0h-2V7h2v10zm4 0h-2v-4h2v4z\"/>\n",
       "    </g>\n",
       "</svg>\n",
       "  </button>\n",
       "\n",
       "<style>\n",
       "  .colab-df-quickchart {\n",
       "      --bg-color: #E8F0FE;\n",
       "      --fill-color: #1967D2;\n",
       "      --hover-bg-color: #E2EBFA;\n",
       "      --hover-fill-color: #174EA6;\n",
       "      --disabled-fill-color: #AAA;\n",
       "      --disabled-bg-color: #DDD;\n",
       "  }\n",
       "\n",
       "  [theme=dark] .colab-df-quickchart {\n",
       "      --bg-color: #3B4455;\n",
       "      --fill-color: #D2E3FC;\n",
       "      --hover-bg-color: #434B5C;\n",
       "      --hover-fill-color: #FFFFFF;\n",
       "      --disabled-bg-color: #3B4455;\n",
       "      --disabled-fill-color: #666;\n",
       "  }\n",
       "\n",
       "  .colab-df-quickchart {\n",
       "    background-color: var(--bg-color);\n",
       "    border: none;\n",
       "    border-radius: 50%;\n",
       "    cursor: pointer;\n",
       "    display: none;\n",
       "    fill: var(--fill-color);\n",
       "    height: 32px;\n",
       "    padding: 0;\n",
       "    width: 32px;\n",
       "  }\n",
       "\n",
       "  .colab-df-quickchart:hover {\n",
       "    background-color: var(--hover-bg-color);\n",
       "    box-shadow: 0 1px 2px rgba(60, 64, 67, 0.3), 0 1px 3px 1px rgba(60, 64, 67, 0.15);\n",
       "    fill: var(--button-hover-fill-color);\n",
       "  }\n",
       "\n",
       "  .colab-df-quickchart-complete:disabled,\n",
       "  .colab-df-quickchart-complete:disabled:hover {\n",
       "    background-color: var(--disabled-bg-color);\n",
       "    fill: var(--disabled-fill-color);\n",
       "    box-shadow: none;\n",
       "  }\n",
       "\n",
       "  .colab-df-spinner {\n",
       "    border: 2px solid var(--fill-color);\n",
       "    border-color: transparent;\n",
       "    border-bottom-color: var(--fill-color);\n",
       "    animation:\n",
       "      spin 1s steps(1) infinite;\n",
       "  }\n",
       "\n",
       "  @keyframes spin {\n",
       "    0% {\n",
       "      border-color: transparent;\n",
       "      border-bottom-color: var(--fill-color);\n",
       "      border-left-color: var(--fill-color);\n",
       "    }\n",
       "    20% {\n",
       "      border-color: transparent;\n",
       "      border-left-color: var(--fill-color);\n",
       "      border-top-color: var(--fill-color);\n",
       "    }\n",
       "    30% {\n",
       "      border-color: transparent;\n",
       "      border-left-color: var(--fill-color);\n",
       "      border-top-color: var(--fill-color);\n",
       "      border-right-color: var(--fill-color);\n",
       "    }\n",
       "    40% {\n",
       "      border-color: transparent;\n",
       "      border-right-color: var(--fill-color);\n",
       "      border-top-color: var(--fill-color);\n",
       "    }\n",
       "    60% {\n",
       "      border-color: transparent;\n",
       "      border-right-color: var(--fill-color);\n",
       "    }\n",
       "    80% {\n",
       "      border-color: transparent;\n",
       "      border-right-color: var(--fill-color);\n",
       "      border-bottom-color: var(--fill-color);\n",
       "    }\n",
       "    90% {\n",
       "      border-color: transparent;\n",
       "      border-bottom-color: var(--fill-color);\n",
       "    }\n",
       "  }\n",
       "</style>\n",
       "\n",
       "  <script>\n",
       "    async function quickchart(key) {\n",
       "      const quickchartButtonEl =\n",
       "        document.querySelector('#' + key + ' button');\n",
       "      quickchartButtonEl.disabled = true;  // To prevent multiple clicks.\n",
       "      quickchartButtonEl.classList.add('colab-df-spinner');\n",
       "      try {\n",
       "        const charts = await google.colab.kernel.invokeFunction(\n",
       "            'suggestCharts', [key], {});\n",
       "      } catch (error) {\n",
       "        console.error('Error during call to suggestCharts:', error);\n",
       "      }\n",
       "      quickchartButtonEl.classList.remove('colab-df-spinner');\n",
       "      quickchartButtonEl.classList.add('colab-df-quickchart-complete');\n",
       "    }\n",
       "    (() => {\n",
       "      let quickchartButtonEl =\n",
       "        document.querySelector('#df-d3d29312-1984-40dc-89b6-1529f09baf25 button');\n",
       "      quickchartButtonEl.style.display =\n",
       "        google.colab.kernel.accessAllowed ? 'block' : 'none';\n",
       "    })();\n",
       "  </script>\n",
       "</div>\n",
       "\n",
       "    </div>\n",
       "  </div>\n"
      ],
      "text/plain": [
       "       created_utc                                              title  \\\n",
       "18    1.711661e+09  Male horror authors and sexually assaulting fe...   \n",
       "393   1.676044e+09  Books that hide their supernatural premises un...   \n",
       "188   1.602164e+09  Just read Clown in a Cornfield and it's exactl...   \n",
       "431   1.610917e+09       Just finished \"The Fisherman\" by John Langan   \n",
       "1876  1.709820e+09  I've been translating the 800s AD Chinese stor...   \n",
       "215   1.622250e+09  Am I alone in preferring short stories over no...   \n",
       "65    1.629237e+09                  Sensor by Junji Ito Is Out Today!   \n",
       "182   1.699648e+09  What's the creepiest cold open in a book you'v...   \n",
       "1501  1.711113e+09                       Exploring the Nature of Fear   \n",
       "1510  1.711076e+09  Anyone else read Cuckoo by Gretchen Felker-Mar...   \n",
       "\n",
       "                                              self_text  subreddit  \n",
       "18    Recently I have reignited my passion for readi...  horrorlit  \n",
       "393   Without being too spoilery, of course, what ar...  horrorlit  \n",
       "188   There was a clown in a cornfield trying to kil...  horrorlit  \n",
       "431   I absolutely devoured this novel in one weeken...  horrorlit  \n",
       "1876  I'm a big fan of Kwaidan, and as a professiona...  horrorlit  \n",
       "215   I love reading novels and I've read a lot of t...  horrorlit  \n",
       "65    I know I'm not the only Junji Ito fan around h...  horrorlit  \n",
       "182   I'm reading through Echo by Thomas Olde Heuvel...  horrorlit  \n",
       "1501  I really love horror books and movies, and I w...  horrorlit  \n",
       "1510  I got my hands on an ARC copy and I'm dying to...  horrorlit  "
      ]
     },
     "execution_count": 54,
     "metadata": {},
     "output_type": "execute_result"
    }
   ],
   "source": [
    "horror.sample(10)"
   ]
  },
  {
   "cell_type": "code",
   "execution_count": 7,
   "metadata": {
    "tags": []
   },
   "outputs": [
    {
     "name": "stdout",
     "output_type": "stream",
     "text": [
      "<class 'pandas.core.frame.DataFrame'>\n",
      "RangeIndex: 1978 entries, 0 to 1977\n",
      "Data columns (total 4 columns):\n",
      " #   Column       Non-Null Count  Dtype  \n",
      "---  ------       --------------  -----  \n",
      " 0   created_utc  1978 non-null   float64\n",
      " 1   title        1978 non-null   object \n",
      " 2   self_text    1868 non-null   object \n",
      " 3   subreddit    1978 non-null   object \n",
      "dtypes: float64(1), object(3)\n",
      "memory usage: 61.9+ KB\n"
     ]
    }
   ],
   "source": [
    "horror.info()"
   ]
  },
  {
   "cell_type": "code",
   "execution_count": 8,
   "metadata": {
    "colab": {
     "base_uri": "https://localhost:8080/"
    },
    "executionInfo": {
     "elapsed": 12,
     "status": "ok",
     "timestamp": 1712712208719,
     "user": {
      "displayName": "Tanya Seegmiller",
      "userId": "09396795393408040669"
     },
     "user_tz": 360
    },
    "id": "OkbpHGecJyOX",
    "outputId": "47703c77-5b3a-487a-ef29-e144e9a5c8f9",
    "tags": []
   },
   "outputs": [
    {
     "data": {
      "text/plain": [
       "23"
      ]
     },
     "execution_count": 8,
     "metadata": {},
     "output_type": "execute_result"
    }
   ],
   "source": [
    "# are there duplicate values\n",
    "horror.duplicated().sum()"
   ]
  },
  {
   "cell_type": "code",
   "execution_count": 9,
   "metadata": {
    "executionInfo": {
     "elapsed": 10,
     "status": "ok",
     "timestamp": 1712712208719,
     "user": {
      "displayName": "Tanya Seegmiller",
      "userId": "09396795393408040669"
     },
     "user_tz": 360
    },
    "id": "IBN2FujNKQ1X",
    "tags": []
   },
   "outputs": [],
   "source": [
    "# drop all duplicates\n",
    "horror.drop_duplicates(inplace=True)"
   ]
  },
  {
   "cell_type": "code",
   "execution_count": 10,
   "metadata": {
    "colab": {
     "base_uri": "https://localhost:8080/"
    },
    "executionInfo": {
     "elapsed": 390,
     "status": "ok",
     "timestamp": 1712712209099,
     "user": {
      "displayName": "Tanya Seegmiller",
      "userId": "09396795393408040669"
     },
     "user_tz": 360
    },
    "id": "WF60RbtFKVkc",
    "outputId": "07e1e443-4172-4176-f32e-eda890f1f614",
    "tags": []
   },
   "outputs": [
    {
     "data": {
      "text/plain": [
       "0"
      ]
     },
     "execution_count": 10,
     "metadata": {},
     "output_type": "execute_result"
    }
   ],
   "source": [
    "# double check duplicates were dropped\n",
    "horror.duplicated().sum()"
   ]
  },
  {
   "cell_type": "code",
   "execution_count": 11,
   "metadata": {
    "tags": []
   },
   "outputs": [
    {
     "name": "stdout",
     "output_type": "stream",
     "text": [
      "<class 'pandas.core.frame.DataFrame'>\n",
      "Index: 1955 entries, 0 to 1977\n",
      "Data columns (total 4 columns):\n",
      " #   Column       Non-Null Count  Dtype  \n",
      "---  ------       --------------  -----  \n",
      " 0   created_utc  1955 non-null   float64\n",
      " 1   title        1955 non-null   object \n",
      " 2   self_text    1845 non-null   object \n",
      " 3   subreddit    1955 non-null   object \n",
      "dtypes: float64(1), object(3)\n",
      "memory usage: 76.4+ KB\n"
     ]
    }
   ],
   "source": [
    "horror.info()"
   ]
  },
  {
   "cell_type": "code",
   "execution_count": 58,
   "metadata": {
    "colab": {
     "base_uri": "https://localhost:8080/"
    },
    "executionInfo": {
     "elapsed": 15,
     "status": "ok",
     "timestamp": 1712712209100,
     "user": {
      "displayName": "Tanya Seegmiller",
      "userId": "09396795393408040669"
     },
     "user_tz": 360
    },
    "id": "41WrE1rIKcVu",
    "outputId": "d1aadd85-2c10-4e69-8729-640ad45f1c6e"
   },
   "outputs": [
    {
     "data": {
      "text/plain": [
       "created_utc      0\n",
       "title            0\n",
       "self_text      110\n",
       "subreddit        0\n",
       "dtype: int64"
      ]
     },
     "execution_count": 58,
     "metadata": {},
     "output_type": "execute_result"
    }
   ],
   "source": [
    "# how many nan values in fantasy\n",
    "horror.isnull().sum()"
   ]
  },
  {
   "cell_type": "code",
   "execution_count": 59,
   "metadata": {
    "executionInfo": {
     "elapsed": 13,
     "status": "ok",
     "timestamp": 1712712209100,
     "user": {
      "displayName": "Tanya Seegmiller",
      "userId": "09396795393408040669"
     },
     "user_tz": 360
    },
    "id": "7z9N5sA-Q6In"
   },
   "outputs": [],
   "source": [
    "# replace all nan values in self_text with \"no_text\"\n",
    "horror['self_text'].fillna(\"no_text\", inplace=True)"
   ]
  },
  {
   "cell_type": "code",
   "execution_count": 60,
   "metadata": {
    "colab": {
     "base_uri": "https://localhost:8080/"
    },
    "executionInfo": {
     "elapsed": 12,
     "status": "ok",
     "timestamp": 1712712209100,
     "user": {
      "displayName": "Tanya Seegmiller",
      "userId": "09396795393408040669"
     },
     "user_tz": 360
    },
    "id": "vowzPp_bRLOF",
    "outputId": "67578053-9eb9-4184-8afa-3fc9eea940cd"
   },
   "outputs": [
    {
     "data": {
      "text/plain": [
       "created_utc    0\n",
       "title          0\n",
       "self_text      0\n",
       "subreddit      0\n",
       "dtype: int64"
      ]
     },
     "execution_count": 60,
     "metadata": {},
     "output_type": "execute_result"
    }
   ],
   "source": [
    "# double check all nans are replaced\n",
    "horror.isna().sum()"
   ]
  },
  {
   "cell_type": "markdown",
   "metadata": {
    "id": "esgsSTZpihOR"
   },
   "source": [
    "#### File Concatenation"
   ]
  },
  {
   "cell_type": "code",
   "execution_count": 61,
   "metadata": {
    "executionInfo": {
     "elapsed": 11,
     "status": "ok",
     "timestamp": 1712712209100,
     "user": {
      "displayName": "Tanya Seegmiller",
      "userId": "09396795393408040669"
     },
     "user_tz": 360
    },
    "id": "dNxLeD4jRUp6"
   },
   "outputs": [],
   "source": [
    "# combine both files into 1\n",
    "reddits = pd.concat([fantasy, horror], axis= 0)"
   ]
  },
  {
   "cell_type": "code",
   "execution_count": 62,
   "metadata": {
    "colab": {
     "base_uri": "https://localhost:8080/",
     "height": 363
    },
    "executionInfo": {
     "elapsed": 10,
     "status": "ok",
     "timestamp": 1712712209100,
     "user": {
      "displayName": "Tanya Seegmiller",
      "userId": "09396795393408040669"
     },
     "user_tz": 360
    },
    "id": "AUFoKO41j6Pi",
    "outputId": "340eff0e-dc45-4ece-90d5-11434316fb48"
   },
   "outputs": [
    {
     "data": {
      "application/vnd.google.colaboratory.intrinsic+json": {
       "summary": "{\n  \"name\": \"reddits\",\n  \"rows\": 10,\n  \"fields\": [\n    {\n      \"column\": \"created_utc\",\n      \"properties\": {\n        \"dtype\": \"number\",\n        \"std\": 58958660.173186794,\n        \"min\": 1523207987.0,\n        \"max\": 1712557540.0,\n        \"num_unique_values\": 10,\n        \"samples\": [\n          1523207987.0,\n          1688314468.0,\n          1710888580.0\n        ],\n        \"semantic_type\": \"\",\n        \"description\": \"\"\n      }\n    },\n    {\n      \"column\": \"title\",\n      \"properties\": {\n        \"dtype\": \"string\",\n        \"num_unique_values\": 10,\n        \"samples\": [\n          \"Raven Altar by Sandara\",\n          \"Turns off the Carrie audiobook with two and a half hours left so I can pretend Carrie White is happy forever and ever\",\n          \"Animated Adaptions\"\n        ],\n        \"semantic_type\": \"\",\n        \"description\": \"\"\n      }\n    },\n    {\n      \"column\": \"self_text\",\n      \"properties\": {\n        \"dtype\": \"string\",\n        \"num_unique_values\": 10,\n        \"samples\": [\n          \"no_text\",\n          \"Not really, but it would be nice\",\n          \"I have been watching a lot of Animated shows recently,, Cyberpunk: Edgerunners, Blue Eyed Samurai, Arcane, DOTA, Vox Machina & Delicious in Dungeon to name a few, and absolutely loving them. \\n\\nI don't know if there has been a recent (ish) surge in popularity for shows like this or I'm late to the party but it got me thinking about how much I would love to see some of my favorite books adapted in this format. I feel like it would lend itself to a more achievable and accurate adaptation and avoid the disappointment often felt with live adaptions.\\n\\nJust wondering if anyone happens to know any that have happened, or planned, or just a bit more about this side of things in general?\"\n        ],\n        \"semantic_type\": \"\",\n        \"description\": \"\"\n      }\n    },\n    {\n      \"column\": \"subreddit\",\n      \"properties\": {\n        \"dtype\": \"category\",\n        \"num_unique_values\": 2,\n        \"samples\": [\n          \"horrorlit\",\n          \"Fantasy\"\n        ],\n        \"semantic_type\": \"\",\n        \"description\": \"\"\n      }\n    }\n  ]\n}",
       "type": "dataframe"
      },
      "text/html": [
       "\n",
       "  <div id=\"df-3bd07d33-e110-4d73-9c63-e4b8e05eb287\" class=\"colab-df-container\">\n",
       "    <div>\n",
       "<style scoped>\n",
       "    .dataframe tbody tr th:only-of-type {\n",
       "        vertical-align: middle;\n",
       "    }\n",
       "\n",
       "    .dataframe tbody tr th {\n",
       "        vertical-align: top;\n",
       "    }\n",
       "\n",
       "    .dataframe thead th {\n",
       "        text-align: right;\n",
       "    }\n",
       "</style>\n",
       "<table border=\"1\" class=\"dataframe\">\n",
       "  <thead>\n",
       "    <tr style=\"text-align: right;\">\n",
       "      <th></th>\n",
       "      <th>created_utc</th>\n",
       "      <th>title</th>\n",
       "      <th>self_text</th>\n",
       "      <th>subreddit</th>\n",
       "    </tr>\n",
       "  </thead>\n",
       "  <tbody>\n",
       "    <tr>\n",
       "      <th>1958</th>\n",
       "      <td>1.710894e+09</td>\n",
       "      <td>I'm loving Shogun on Disney. Any fantasy equiv...</td>\n",
       "      <td>Specifically thinking of series where the hero...</td>\n",
       "      <td>Fantasy</td>\n",
       "    </tr>\n",
       "    <tr>\n",
       "      <th>636</th>\n",
       "      <td>1.688314e+09</td>\n",
       "      <td>Turns off the Carrie audiobook with two and a ...</td>\n",
       "      <td>Not really, but it would be nice</td>\n",
       "      <td>horrorlit</td>\n",
       "    </tr>\n",
       "    <tr>\n",
       "      <th>1403</th>\n",
       "      <td>1.711939e+09</td>\n",
       "      <td>2023 Bingo Card - My first fully filled card!</td>\n",
       "      <td>It's my third year participating, and I'm happ...</td>\n",
       "      <td>Fantasy</td>\n",
       "    </tr>\n",
       "    <tr>\n",
       "      <th>1755</th>\n",
       "      <td>1.710257e+09</td>\n",
       "      <td>Cannibal books</td>\n",
       "      <td>Hi all, I need some cannibal book recommend. p...</td>\n",
       "      <td>horrorlit</td>\n",
       "    </tr>\n",
       "    <tr>\n",
       "      <th>684</th>\n",
       "      <td>1.670264e+09</td>\n",
       "      <td>What is the dumbest/most ridiculous horror nov...</td>\n",
       "      <td>I saw a thread about the dumbest haunted house...</td>\n",
       "      <td>horrorlit</td>\n",
       "    </tr>\n",
       "    <tr>\n",
       "      <th>1960</th>\n",
       "      <td>1.710889e+09</td>\n",
       "      <td>Animated Adaptions</td>\n",
       "      <td>I have been watching a lot of Animated shows r...</td>\n",
       "      <td>Fantasy</td>\n",
       "    </tr>\n",
       "    <tr>\n",
       "      <th>1450</th>\n",
       "      <td>1.711323e+09</td>\n",
       "      <td>Books where the characters are stuck in one place</td>\n",
       "      <td>Any horror novel that has the characters trapp...</td>\n",
       "      <td>horrorlit</td>\n",
       "    </tr>\n",
       "    <tr>\n",
       "      <th>1081</th>\n",
       "      <td>1.712558e+09</td>\n",
       "      <td>Japanese Fantasy Recommendations!!</td>\n",
       "      <td>I have been really meaning to read more fantas...</td>\n",
       "      <td>Fantasy</td>\n",
       "    </tr>\n",
       "    <tr>\n",
       "      <th>788</th>\n",
       "      <td>1.523208e+09</td>\n",
       "      <td>Raven Altar by Sandara</td>\n",
       "      <td>no_text</td>\n",
       "      <td>Fantasy</td>\n",
       "    </tr>\n",
       "    <tr>\n",
       "      <th>1170</th>\n",
       "      <td>1.712159e+09</td>\n",
       "      <td>The 'something is crawling under my skin' trope</td>\n",
       "      <td>Please recommend me books like The troop, or T...</td>\n",
       "      <td>horrorlit</td>\n",
       "    </tr>\n",
       "  </tbody>\n",
       "</table>\n",
       "</div>\n",
       "    <div class=\"colab-df-buttons\">\n",
       "\n",
       "  <div class=\"colab-df-container\">\n",
       "    <button class=\"colab-df-convert\" onclick=\"convertToInteractive('df-3bd07d33-e110-4d73-9c63-e4b8e05eb287')\"\n",
       "            title=\"Convert this dataframe to an interactive table.\"\n",
       "            style=\"display:none;\">\n",
       "\n",
       "  <svg xmlns=\"http://www.w3.org/2000/svg\" height=\"24px\" viewBox=\"0 -960 960 960\">\n",
       "    <path d=\"M120-120v-720h720v720H120Zm60-500h600v-160H180v160Zm220 220h160v-160H400v160Zm0 220h160v-160H400v160ZM180-400h160v-160H180v160Zm440 0h160v-160H620v160ZM180-180h160v-160H180v160Zm440 0h160v-160H620v160Z\"/>\n",
       "  </svg>\n",
       "    </button>\n",
       "\n",
       "  <style>\n",
       "    .colab-df-container {\n",
       "      display:flex;\n",
       "      gap: 12px;\n",
       "    }\n",
       "\n",
       "    .colab-df-convert {\n",
       "      background-color: #E8F0FE;\n",
       "      border: none;\n",
       "      border-radius: 50%;\n",
       "      cursor: pointer;\n",
       "      display: none;\n",
       "      fill: #1967D2;\n",
       "      height: 32px;\n",
       "      padding: 0 0 0 0;\n",
       "      width: 32px;\n",
       "    }\n",
       "\n",
       "    .colab-df-convert:hover {\n",
       "      background-color: #E2EBFA;\n",
       "      box-shadow: 0px 1px 2px rgba(60, 64, 67, 0.3), 0px 1px 3px 1px rgba(60, 64, 67, 0.15);\n",
       "      fill: #174EA6;\n",
       "    }\n",
       "\n",
       "    .colab-df-buttons div {\n",
       "      margin-bottom: 4px;\n",
       "    }\n",
       "\n",
       "    [theme=dark] .colab-df-convert {\n",
       "      background-color: #3B4455;\n",
       "      fill: #D2E3FC;\n",
       "    }\n",
       "\n",
       "    [theme=dark] .colab-df-convert:hover {\n",
       "      background-color: #434B5C;\n",
       "      box-shadow: 0px 1px 3px 1px rgba(0, 0, 0, 0.15);\n",
       "      filter: drop-shadow(0px 1px 2px rgba(0, 0, 0, 0.3));\n",
       "      fill: #FFFFFF;\n",
       "    }\n",
       "  </style>\n",
       "\n",
       "    <script>\n",
       "      const buttonEl =\n",
       "        document.querySelector('#df-3bd07d33-e110-4d73-9c63-e4b8e05eb287 button.colab-df-convert');\n",
       "      buttonEl.style.display =\n",
       "        google.colab.kernel.accessAllowed ? 'block' : 'none';\n",
       "\n",
       "      async function convertToInteractive(key) {\n",
       "        const element = document.querySelector('#df-3bd07d33-e110-4d73-9c63-e4b8e05eb287');\n",
       "        const dataTable =\n",
       "          await google.colab.kernel.invokeFunction('convertToInteractive',\n",
       "                                                    [key], {});\n",
       "        if (!dataTable) return;\n",
       "\n",
       "        const docLinkHtml = 'Like what you see? Visit the ' +\n",
       "          '<a target=\"_blank\" href=https://colab.research.google.com/notebooks/data_table.ipynb>data table notebook</a>'\n",
       "          + ' to learn more about interactive tables.';\n",
       "        element.innerHTML = '';\n",
       "        dataTable['output_type'] = 'display_data';\n",
       "        await google.colab.output.renderOutput(dataTable, element);\n",
       "        const docLink = document.createElement('div');\n",
       "        docLink.innerHTML = docLinkHtml;\n",
       "        element.appendChild(docLink);\n",
       "      }\n",
       "    </script>\n",
       "  </div>\n",
       "\n",
       "\n",
       "<div id=\"df-70a94c32-47c6-491f-93f7-e29dee2c6697\">\n",
       "  <button class=\"colab-df-quickchart\" onclick=\"quickchart('df-70a94c32-47c6-491f-93f7-e29dee2c6697')\"\n",
       "            title=\"Suggest charts\"\n",
       "            style=\"display:none;\">\n",
       "\n",
       "<svg xmlns=\"http://www.w3.org/2000/svg\" height=\"24px\"viewBox=\"0 0 24 24\"\n",
       "     width=\"24px\">\n",
       "    <g>\n",
       "        <path d=\"M19 3H5c-1.1 0-2 .9-2 2v14c0 1.1.9 2 2 2h14c1.1 0 2-.9 2-2V5c0-1.1-.9-2-2-2zM9 17H7v-7h2v7zm4 0h-2V7h2v10zm4 0h-2v-4h2v4z\"/>\n",
       "    </g>\n",
       "</svg>\n",
       "  </button>\n",
       "\n",
       "<style>\n",
       "  .colab-df-quickchart {\n",
       "      --bg-color: #E8F0FE;\n",
       "      --fill-color: #1967D2;\n",
       "      --hover-bg-color: #E2EBFA;\n",
       "      --hover-fill-color: #174EA6;\n",
       "      --disabled-fill-color: #AAA;\n",
       "      --disabled-bg-color: #DDD;\n",
       "  }\n",
       "\n",
       "  [theme=dark] .colab-df-quickchart {\n",
       "      --bg-color: #3B4455;\n",
       "      --fill-color: #D2E3FC;\n",
       "      --hover-bg-color: #434B5C;\n",
       "      --hover-fill-color: #FFFFFF;\n",
       "      --disabled-bg-color: #3B4455;\n",
       "      --disabled-fill-color: #666;\n",
       "  }\n",
       "\n",
       "  .colab-df-quickchart {\n",
       "    background-color: var(--bg-color);\n",
       "    border: none;\n",
       "    border-radius: 50%;\n",
       "    cursor: pointer;\n",
       "    display: none;\n",
       "    fill: var(--fill-color);\n",
       "    height: 32px;\n",
       "    padding: 0;\n",
       "    width: 32px;\n",
       "  }\n",
       "\n",
       "  .colab-df-quickchart:hover {\n",
       "    background-color: var(--hover-bg-color);\n",
       "    box-shadow: 0 1px 2px rgba(60, 64, 67, 0.3), 0 1px 3px 1px rgba(60, 64, 67, 0.15);\n",
       "    fill: var(--button-hover-fill-color);\n",
       "  }\n",
       "\n",
       "  .colab-df-quickchart-complete:disabled,\n",
       "  .colab-df-quickchart-complete:disabled:hover {\n",
       "    background-color: var(--disabled-bg-color);\n",
       "    fill: var(--disabled-fill-color);\n",
       "    box-shadow: none;\n",
       "  }\n",
       "\n",
       "  .colab-df-spinner {\n",
       "    border: 2px solid var(--fill-color);\n",
       "    border-color: transparent;\n",
       "    border-bottom-color: var(--fill-color);\n",
       "    animation:\n",
       "      spin 1s steps(1) infinite;\n",
       "  }\n",
       "\n",
       "  @keyframes spin {\n",
       "    0% {\n",
       "      border-color: transparent;\n",
       "      border-bottom-color: var(--fill-color);\n",
       "      border-left-color: var(--fill-color);\n",
       "    }\n",
       "    20% {\n",
       "      border-color: transparent;\n",
       "      border-left-color: var(--fill-color);\n",
       "      border-top-color: var(--fill-color);\n",
       "    }\n",
       "    30% {\n",
       "      border-color: transparent;\n",
       "      border-left-color: var(--fill-color);\n",
       "      border-top-color: var(--fill-color);\n",
       "      border-right-color: var(--fill-color);\n",
       "    }\n",
       "    40% {\n",
       "      border-color: transparent;\n",
       "      border-right-color: var(--fill-color);\n",
       "      border-top-color: var(--fill-color);\n",
       "    }\n",
       "    60% {\n",
       "      border-color: transparent;\n",
       "      border-right-color: var(--fill-color);\n",
       "    }\n",
       "    80% {\n",
       "      border-color: transparent;\n",
       "      border-right-color: var(--fill-color);\n",
       "      border-bottom-color: var(--fill-color);\n",
       "    }\n",
       "    90% {\n",
       "      border-color: transparent;\n",
       "      border-bottom-color: var(--fill-color);\n",
       "    }\n",
       "  }\n",
       "</style>\n",
       "\n",
       "  <script>\n",
       "    async function quickchart(key) {\n",
       "      const quickchartButtonEl =\n",
       "        document.querySelector('#' + key + ' button');\n",
       "      quickchartButtonEl.disabled = true;  // To prevent multiple clicks.\n",
       "      quickchartButtonEl.classList.add('colab-df-spinner');\n",
       "      try {\n",
       "        const charts = await google.colab.kernel.invokeFunction(\n",
       "            'suggestCharts', [key], {});\n",
       "      } catch (error) {\n",
       "        console.error('Error during call to suggestCharts:', error);\n",
       "      }\n",
       "      quickchartButtonEl.classList.remove('colab-df-spinner');\n",
       "      quickchartButtonEl.classList.add('colab-df-quickchart-complete');\n",
       "    }\n",
       "    (() => {\n",
       "      let quickchartButtonEl =\n",
       "        document.querySelector('#df-70a94c32-47c6-491f-93f7-e29dee2c6697 button');\n",
       "      quickchartButtonEl.style.display =\n",
       "        google.colab.kernel.accessAllowed ? 'block' : 'none';\n",
       "    })();\n",
       "  </script>\n",
       "</div>\n",
       "\n",
       "    </div>\n",
       "  </div>\n"
      ],
      "text/plain": [
       "       created_utc                                              title  \\\n",
       "1958  1.710894e+09  I'm loving Shogun on Disney. Any fantasy equiv...   \n",
       "636   1.688314e+09  Turns off the Carrie audiobook with two and a ...   \n",
       "1403  1.711939e+09      2023 Bingo Card - My first fully filled card!   \n",
       "1755  1.710257e+09                                    Cannibal books    \n",
       "684   1.670264e+09  What is the dumbest/most ridiculous horror nov...   \n",
       "1960  1.710889e+09                                 Animated Adaptions   \n",
       "1450  1.711323e+09  Books where the characters are stuck in one place   \n",
       "1081  1.712558e+09                Japanese Fantasy Recommendations!!    \n",
       "788   1.523208e+09                             Raven Altar by Sandara   \n",
       "1170  1.712159e+09    The 'something is crawling under my skin' trope   \n",
       "\n",
       "                                              self_text  subreddit  \n",
       "1958  Specifically thinking of series where the hero...    Fantasy  \n",
       "636                    Not really, but it would be nice  horrorlit  \n",
       "1403  It's my third year participating, and I'm happ...    Fantasy  \n",
       "1755  Hi all, I need some cannibal book recommend. p...  horrorlit  \n",
       "684   I saw a thread about the dumbest haunted house...  horrorlit  \n",
       "1960  I have been watching a lot of Animated shows r...    Fantasy  \n",
       "1450  Any horror novel that has the characters trapp...  horrorlit  \n",
       "1081  I have been really meaning to read more fantas...    Fantasy  \n",
       "788                                             no_text    Fantasy  \n",
       "1170  Please recommend me books like The troop, or T...  horrorlit  "
      ]
     },
     "execution_count": 62,
     "metadata": {},
     "output_type": "execute_result"
    }
   ],
   "source": [
    "# inspect the new merged file\n",
    "reddits.sample(10)"
   ]
  },
  {
   "cell_type": "code",
   "execution_count": 63,
   "metadata": {
    "colab": {
     "base_uri": "https://localhost:8080/"
    },
    "executionInfo": {
     "elapsed": 9,
     "status": "ok",
     "timestamp": 1712712209100,
     "user": {
      "displayName": "Tanya Seegmiller",
      "userId": "09396795393408040669"
     },
     "user_tz": 360
    },
    "id": "hCmFqQ2okJhI",
    "outputId": "b2202902-dbf8-4072-a488-1bec174a5349"
   },
   "outputs": [
    {
     "name": "stdout",
     "output_type": "stream",
     "text": [
      "<class 'pandas.core.frame.DataFrame'>\n",
      "Index: 3928 entries, 0 to 1977\n",
      "Data columns (total 4 columns):\n",
      " #   Column       Non-Null Count  Dtype  \n",
      "---  ------       --------------  -----  \n",
      " 0   created_utc  3928 non-null   float64\n",
      " 1   title        3928 non-null   object \n",
      " 2   self_text    3928 non-null   object \n",
      " 3   subreddit    3928 non-null   object \n",
      "dtypes: float64(1), object(3)\n",
      "memory usage: 153.4+ KB\n"
     ]
    }
   ],
   "source": [
    "reddits.info()"
   ]
  },
  {
   "cell_type": "code",
   "execution_count": 64,
   "metadata": {
    "colab": {
     "base_uri": "https://localhost:8080/"
    },
    "executionInfo": {
     "elapsed": 8,
     "status": "ok",
     "timestamp": 1712712209100,
     "user": {
      "displayName": "Tanya Seegmiller",
      "userId": "09396795393408040669"
     },
     "user_tz": 360
    },
    "id": "fe0dVejxkS-d",
    "outputId": "b6cad9d5-1345-48cb-f66c-085a49d03333"
   },
   "outputs": [
    {
     "data": {
      "text/plain": [
       "(3928, 4)"
      ]
     },
     "execution_count": 64,
     "metadata": {},
     "output_type": "execute_result"
    }
   ],
   "source": [
    "reddits.shape"
   ]
  },
  {
   "cell_type": "code",
   "execution_count": 65,
   "metadata": {
    "colab": {
     "base_uri": "https://localhost:8080/"
    },
    "executionInfo": {
     "elapsed": 7,
     "status": "ok",
     "timestamp": 1712712209101,
     "user": {
      "displayName": "Tanya Seegmiller",
      "userId": "09396795393408040669"
     },
     "user_tz": 360
    },
    "id": "3ZQ3AOz7kchl",
    "outputId": "a5659bbc-7ded-4f10-ee06-7bb9f5f4c9f5"
   },
   "outputs": [
    {
     "data": {
      "text/plain": [
       "created_utc    0\n",
       "title          0\n",
       "self_text      0\n",
       "subreddit      0\n",
       "dtype: int64"
      ]
     },
     "execution_count": 65,
     "metadata": {},
     "output_type": "execute_result"
    }
   ],
   "source": [
    "reddits.isna().sum()"
   ]
  },
  {
   "cell_type": "code",
   "execution_count": 66,
   "metadata": {
    "executionInfo": {
     "elapsed": 327,
     "status": "ok",
     "timestamp": 1712712404941,
     "user": {
      "displayName": "Tanya Seegmiller",
      "userId": "09396795393408040669"
     },
     "user_tz": 360
    },
    "id": "o9onWw58l8IV"
   },
   "outputs": [],
   "source": [
    "# dictionary to map subreddit column\n",
    "# Fantasy = 0, horrorlit = 1\n",
    "subreddit_mapping = {'Fantasy': 0, 'horrorlit': 1}\n",
    "reddits['subreddit'] = reddits['subreddit'].map(subreddit_mapping)"
   ]
  },
  {
   "cell_type": "code",
   "execution_count": 67,
   "metadata": {
    "colab": {
     "base_uri": "https://localhost:8080/"
    },
    "executionInfo": {
     "elapsed": 176,
     "status": "ok",
     "timestamp": 1712712442163,
     "user": {
      "displayName": "Tanya Seegmiller",
      "userId": "09396795393408040669"
     },
     "user_tz": 360
    },
    "id": "X3tKMU1OnU2o",
    "outputId": "e5b706a8-d3c6-4d48-93fb-b4a9cef588bb"
   },
   "outputs": [
    {
     "data": {
      "text/plain": [
       "subreddit\n",
       "0    1973\n",
       "1    1955\n",
       "Name: count, dtype: int64"
      ]
     },
     "execution_count": 67,
     "metadata": {},
     "output_type": "execute_result"
    }
   ],
   "source": [
    "# verify mapping\n",
    "reddits['subreddit'].value_counts()"
   ]
  },
  {
   "cell_type": "markdown",
   "metadata": {
    "id": "NpdhaR9BnxP-"
   },
   "source": [
    "**Create a new csv of the combine and cleaned data**"
   ]
  },
  {
   "cell_type": "code",
   "execution_count": 68,
   "metadata": {
    "executionInfo": {
     "elapsed": 394,
     "status": "ok",
     "timestamp": 1712712955666,
     "user": {
      "displayName": "Tanya Seegmiller",
      "userId": "09396795393408040669"
     },
     "user_tz": 360
    },
    "id": "a_S6JZPMnd95"
   },
   "outputs": [],
   "source": [
    "reddits.to_csv('/content/drive/MyDrive/DSML/GA_DS/Projects/project_3/data/subreddits.csv')"
   ]
  },
  {
   "cell_type": "code",
   "execution_count": 69,
   "metadata": {
    "executionInfo": {
     "elapsed": 206,
     "status": "ok",
     "timestamp": 1712713083783,
     "user": {
      "displayName": "Tanya Seegmiller",
      "userId": "09396795393408040669"
     },
     "user_tz": 360
    },
    "id": "9b415h2SpbSO"
   },
   "outputs": [],
   "source": [
    "sub = pd.read_csv('/content/drive/MyDrive/DSML/GA_DS/Projects/project_3/data/subreddits.csv')"
   ]
  },
  {
   "cell_type": "code",
   "execution_count": 70,
   "metadata": {
    "colab": {
     "base_uri": "https://localhost:8080/",
     "height": 206
    },
    "executionInfo": {
     "elapsed": 343,
     "status": "ok",
     "timestamp": 1712713092851,
     "user": {
      "displayName": "Tanya Seegmiller",
      "userId": "09396795393408040669"
     },
     "user_tz": 360
    },
    "id": "LqBR0aW4p7TR",
    "outputId": "1d8b627e-5e2c-4156-99b8-12386121f8a5"
   },
   "outputs": [
    {
     "data": {
      "application/vnd.google.colaboratory.intrinsic+json": {
       "summary": "{\n  \"name\": \"sub\",\n  \"rows\": 3928,\n  \"fields\": [\n    {\n      \"column\": \"Unnamed: 0\",\n      \"properties\": {\n        \"dtype\": \"number\",\n        \"std\": 570,\n        \"min\": 0,\n        \"max\": 1977,\n        \"num_unique_values\": 1978,\n        \"samples\": [\n          567,\n          99,\n          1053\n        ],\n        \"semantic_type\": \"\",\n        \"description\": \"\"\n      }\n    },\n    {\n      \"column\": \"created_utc\",\n      \"properties\": {\n        \"dtype\": \"number\",\n        \"std\": 61374475.41534888,\n        \"min\": 1357751993.0,\n        \"max\": 1712701000.0,\n        \"num_unique_values\": 3928,\n        \"samples\": [\n          1711732816.0,\n          1638397608.0,\n          1652091792.0\n        ],\n        \"semantic_type\": \"\",\n        \"description\": \"\"\n      }\n    },\n    {\n      \"column\": \"title\",\n      \"properties\": {\n        \"dtype\": \"string\",\n        \"num_unique_values\": 3909,\n        \"samples\": [\n          \"A bemused author\",\n          \"The Long Walk is so good\",\n          \"What's the best haunted house novel you have ever read and what makes it stand out to you?\"\n        ],\n        \"semantic_type\": \"\",\n        \"description\": \"\"\n      }\n    },\n    {\n      \"column\": \"self_text\",\n      \"properties\": {\n        \"dtype\": \"string\",\n        \"num_unique_values\": 3054,\n        \"samples\": [\n          \"I've loved magic, horror, and the supernatural for a long time (big fan of Tolkein, Lovecraft, etc) and so I've been struggling lately to try and figure out why so much current fantasy (Sanderson, Hobb, for example) bores the hell out of me. Its been very frustrating, especially when fantasy seems on the cusp of a renaissance, to find yourself bored out of your mind. It wasn't until I started reading magical realism that I figured it out, that as the title says, a lot of modern fantasy has taken the magic out of magic.\\n\\nI'll explain using Mistborn. In Mistborn, magic is has very rigid rules. Everyone knows it exists. Government programs use it for suppression. It's even powered by minerals that need to be mined. An extremely industrialized magic. It is, for all intents and purposes, just an alternative science. And so Mistborn is really just a matter of watching people use the science of their world to solve problems in a straightforward, very materialist and pragmatic way. Reading the book, I felt bored.\\n\\nJust this week, I turned to magical realism and started reading A Murmur of Bees. It's set in our world, during the Spanish Flu epidemic. When it become clear that little Simonopio >!can speak to the bees that kept him company while he was abandoned as an infant, and that he can see the future,!< I felt that familiar rush of wonder. It was exciting and it drew me in! the reason is: his magic takes place in a world where it is not part of the natural order; it is a strange, mysterious intrusion, inexplicable and also wonderful! It bears that mark of total otherness from the quotidian world, something truly supernatural.\\n\\nI get it, of course, different strokes for different folks. Some people love magic that is just actually alternative science, that's a mundane, well known part of the fantasy world inhabited by the protagonists. And you are not wrong to like what you like.\\n\\nBut I think there is room for more fantasy that treats magic as something truly outside of the natural order: that still confronts us with what is not understood (and maybe can't be), that upsets our materialistic understanding of the universe rather than supporting it. \\n\\nJust thought I would submit this for discussion. Has anyone else felt this way? Does anyone have book suggestions where magic is still magic\\n\\nEdit: Oh my God, thank you guys! This has been such an interesting conversation and I appreciate all the book suggestions so much. I'm a big reader, but it's been really hard to find books I can get her into lately, and this is great for me.\\n\\nAnd thank you for the awards!\",\n          \"Bonjour r/fantasy\\n\\nI like to use bingo as an opportunity to read more in my native French alongside the usual English books. What French recommndations do you have? Here are my recommendations. They are a mix of books I've read and books I plan to read for this year's bingo:\\n\\n**First in Series**\\n\\n**Alliterative Title**\\n\\n**Under the Surface**\\n\\nVingt Mille Lieues sous les mers by Jules Verne HM\\n\\n**Criminals**\\n\\n**Dreams**\\n\\n**Entitled Animals**\\n\\n**Bards**\\n\\n**Prologues and Epilogues**\\n\\n**Self Published or Indie Publisher**\\n\\n**Romantasy**\\n\\n**Dark Academia**\\n\\n**Multi POV**\\n\\nRoyaume de vent et de col\\u00e8res by Jean-Laurent Del Socorro\\n\\n\\n**Published in 2024**\\n\\n**Character with a Disability**\\n\\n**Published in the 90s**\\n\\nPatrick Sen\\u00e9cal   HM\\n\\nLes Fourmis by Bernard Werber (HM if read before September 2024 if I understand the rules correctly)\\n\\n**Orcs, Trolls, & Goblins, Oh My!**\\n\\n**Space Opera**\\n\\n**Author of Color**\\n\\nLa respiration du ciel by M\\u00e9lodie Joseph HM\\n\\n**Survival**\\n\\nWidjigo by Estelle Faye HM\\n\\n**Judge a Book by its Cover**\\n\\nLe r\\u00e9veil by Johanne Dallaire\\n\\n**Set in a Small Town**\\n\\nCelui qui reste by Jonathan Brassard HM\\n\\n**Five Short Stories**\\n\\nThere are multiple collections from publiser Six Brumes. I plan to read \\u00c0 l'Est de l'Apocalypse\\n\\n**Eldritch Creatures**\\n\\n**Reference Materials**\",\n          \"serious question. This is maybe the only subreddit with this many people that still somehow manages to be nice and not overrun with trolls and jerks and bots. It\\u2019s the safest place on the website, and one of the safest places on the internet for me.\\n\\nWhat do you think that\\u2019s all about? Why is it horror literature specifically that attracts really nice people? Horror movies have mostly nice fans too but not as many as the book fans.\"\n        ],\n        \"semantic_type\": \"\",\n        \"description\": \"\"\n      }\n    },\n    {\n      \"column\": \"subreddit\",\n      \"properties\": {\n        \"dtype\": \"number\",\n        \"std\": 0,\n        \"min\": 0,\n        \"max\": 1,\n        \"num_unique_values\": 2,\n        \"samples\": [\n          1,\n          0\n        ],\n        \"semantic_type\": \"\",\n        \"description\": \"\"\n      }\n    }\n  ]\n}",
       "type": "dataframe",
       "variable_name": "sub"
      },
      "text/html": [
       "\n",
       "  <div id=\"df-b2ad3d3b-f46d-41d1-adde-168db3c4645b\" class=\"colab-df-container\">\n",
       "    <div>\n",
       "<style scoped>\n",
       "    .dataframe tbody tr th:only-of-type {\n",
       "        vertical-align: middle;\n",
       "    }\n",
       "\n",
       "    .dataframe tbody tr th {\n",
       "        vertical-align: top;\n",
       "    }\n",
       "\n",
       "    .dataframe thead th {\n",
       "        text-align: right;\n",
       "    }\n",
       "</style>\n",
       "<table border=\"1\" class=\"dataframe\">\n",
       "  <thead>\n",
       "    <tr style=\"text-align: right;\">\n",
       "      <th></th>\n",
       "      <th>Unnamed: 0</th>\n",
       "      <th>created_utc</th>\n",
       "      <th>title</th>\n",
       "      <th>self_text</th>\n",
       "      <th>subreddit</th>\n",
       "    </tr>\n",
       "  </thead>\n",
       "  <tbody>\n",
       "    <tr>\n",
       "      <th>0</th>\n",
       "      <td>0</td>\n",
       "      <td>1.511335e+09</td>\n",
       "      <td>Help the fight for net neutrality!</td>\n",
       "      <td>no_text</td>\n",
       "      <td>0</td>\n",
       "    </tr>\n",
       "    <tr>\n",
       "      <th>1</th>\n",
       "      <td>1</td>\n",
       "      <td>1.519578e+09</td>\n",
       "      <td>Author Terry Goodkind shames his own cover, ar...</td>\n",
       "      <td>no_text</td>\n",
       "      <td>0</td>\n",
       "    </tr>\n",
       "    <tr>\n",
       "      <th>2</th>\n",
       "      <td>2</td>\n",
       "      <td>1.606914e+09</td>\n",
       "      <td>Elliot Page Will Continue to Star in 'Umbrella...</td>\n",
       "      <td>no_text</td>\n",
       "      <td>0</td>\n",
       "    </tr>\n",
       "    <tr>\n",
       "      <th>3</th>\n",
       "      <td>3</td>\n",
       "      <td>1.630597e+09</td>\n",
       "      <td>The Wheel of Time - Official Teaser Trailer</td>\n",
       "      <td>no_text</td>\n",
       "      <td>0</td>\n",
       "    </tr>\n",
       "    <tr>\n",
       "      <th>4</th>\n",
       "      <td>4</td>\n",
       "      <td>1.612284e+09</td>\n",
       "      <td>GRRM latest update: \"I wrote hundreds and hund...</td>\n",
       "      <td>no_text</td>\n",
       "      <td>0</td>\n",
       "    </tr>\n",
       "  </tbody>\n",
       "</table>\n",
       "</div>\n",
       "    <div class=\"colab-df-buttons\">\n",
       "\n",
       "  <div class=\"colab-df-container\">\n",
       "    <button class=\"colab-df-convert\" onclick=\"convertToInteractive('df-b2ad3d3b-f46d-41d1-adde-168db3c4645b')\"\n",
       "            title=\"Convert this dataframe to an interactive table.\"\n",
       "            style=\"display:none;\">\n",
       "\n",
       "  <svg xmlns=\"http://www.w3.org/2000/svg\" height=\"24px\" viewBox=\"0 -960 960 960\">\n",
       "    <path d=\"M120-120v-720h720v720H120Zm60-500h600v-160H180v160Zm220 220h160v-160H400v160Zm0 220h160v-160H400v160ZM180-400h160v-160H180v160Zm440 0h160v-160H620v160ZM180-180h160v-160H180v160Zm440 0h160v-160H620v160Z\"/>\n",
       "  </svg>\n",
       "    </button>\n",
       "\n",
       "  <style>\n",
       "    .colab-df-container {\n",
       "      display:flex;\n",
       "      gap: 12px;\n",
       "    }\n",
       "\n",
       "    .colab-df-convert {\n",
       "      background-color: #E8F0FE;\n",
       "      border: none;\n",
       "      border-radius: 50%;\n",
       "      cursor: pointer;\n",
       "      display: none;\n",
       "      fill: #1967D2;\n",
       "      height: 32px;\n",
       "      padding: 0 0 0 0;\n",
       "      width: 32px;\n",
       "    }\n",
       "\n",
       "    .colab-df-convert:hover {\n",
       "      background-color: #E2EBFA;\n",
       "      box-shadow: 0px 1px 2px rgba(60, 64, 67, 0.3), 0px 1px 3px 1px rgba(60, 64, 67, 0.15);\n",
       "      fill: #174EA6;\n",
       "    }\n",
       "\n",
       "    .colab-df-buttons div {\n",
       "      margin-bottom: 4px;\n",
       "    }\n",
       "\n",
       "    [theme=dark] .colab-df-convert {\n",
       "      background-color: #3B4455;\n",
       "      fill: #D2E3FC;\n",
       "    }\n",
       "\n",
       "    [theme=dark] .colab-df-convert:hover {\n",
       "      background-color: #434B5C;\n",
       "      box-shadow: 0px 1px 3px 1px rgba(0, 0, 0, 0.15);\n",
       "      filter: drop-shadow(0px 1px 2px rgba(0, 0, 0, 0.3));\n",
       "      fill: #FFFFFF;\n",
       "    }\n",
       "  </style>\n",
       "\n",
       "    <script>\n",
       "      const buttonEl =\n",
       "        document.querySelector('#df-b2ad3d3b-f46d-41d1-adde-168db3c4645b button.colab-df-convert');\n",
       "      buttonEl.style.display =\n",
       "        google.colab.kernel.accessAllowed ? 'block' : 'none';\n",
       "\n",
       "      async function convertToInteractive(key) {\n",
       "        const element = document.querySelector('#df-b2ad3d3b-f46d-41d1-adde-168db3c4645b');\n",
       "        const dataTable =\n",
       "          await google.colab.kernel.invokeFunction('convertToInteractive',\n",
       "                                                    [key], {});\n",
       "        if (!dataTable) return;\n",
       "\n",
       "        const docLinkHtml = 'Like what you see? Visit the ' +\n",
       "          '<a target=\"_blank\" href=https://colab.research.google.com/notebooks/data_table.ipynb>data table notebook</a>'\n",
       "          + ' to learn more about interactive tables.';\n",
       "        element.innerHTML = '';\n",
       "        dataTable['output_type'] = 'display_data';\n",
       "        await google.colab.output.renderOutput(dataTable, element);\n",
       "        const docLink = document.createElement('div');\n",
       "        docLink.innerHTML = docLinkHtml;\n",
       "        element.appendChild(docLink);\n",
       "      }\n",
       "    </script>\n",
       "  </div>\n",
       "\n",
       "\n",
       "<div id=\"df-830082b3-5320-49c0-8592-612a90c1311f\">\n",
       "  <button class=\"colab-df-quickchart\" onclick=\"quickchart('df-830082b3-5320-49c0-8592-612a90c1311f')\"\n",
       "            title=\"Suggest charts\"\n",
       "            style=\"display:none;\">\n",
       "\n",
       "<svg xmlns=\"http://www.w3.org/2000/svg\" height=\"24px\"viewBox=\"0 0 24 24\"\n",
       "     width=\"24px\">\n",
       "    <g>\n",
       "        <path d=\"M19 3H5c-1.1 0-2 .9-2 2v14c0 1.1.9 2 2 2h14c1.1 0 2-.9 2-2V5c0-1.1-.9-2-2-2zM9 17H7v-7h2v7zm4 0h-2V7h2v10zm4 0h-2v-4h2v4z\"/>\n",
       "    </g>\n",
       "</svg>\n",
       "  </button>\n",
       "\n",
       "<style>\n",
       "  .colab-df-quickchart {\n",
       "      --bg-color: #E8F0FE;\n",
       "      --fill-color: #1967D2;\n",
       "      --hover-bg-color: #E2EBFA;\n",
       "      --hover-fill-color: #174EA6;\n",
       "      --disabled-fill-color: #AAA;\n",
       "      --disabled-bg-color: #DDD;\n",
       "  }\n",
       "\n",
       "  [theme=dark] .colab-df-quickchart {\n",
       "      --bg-color: #3B4455;\n",
       "      --fill-color: #D2E3FC;\n",
       "      --hover-bg-color: #434B5C;\n",
       "      --hover-fill-color: #FFFFFF;\n",
       "      --disabled-bg-color: #3B4455;\n",
       "      --disabled-fill-color: #666;\n",
       "  }\n",
       "\n",
       "  .colab-df-quickchart {\n",
       "    background-color: var(--bg-color);\n",
       "    border: none;\n",
       "    border-radius: 50%;\n",
       "    cursor: pointer;\n",
       "    display: none;\n",
       "    fill: var(--fill-color);\n",
       "    height: 32px;\n",
       "    padding: 0;\n",
       "    width: 32px;\n",
       "  }\n",
       "\n",
       "  .colab-df-quickchart:hover {\n",
       "    background-color: var(--hover-bg-color);\n",
       "    box-shadow: 0 1px 2px rgba(60, 64, 67, 0.3), 0 1px 3px 1px rgba(60, 64, 67, 0.15);\n",
       "    fill: var(--button-hover-fill-color);\n",
       "  }\n",
       "\n",
       "  .colab-df-quickchart-complete:disabled,\n",
       "  .colab-df-quickchart-complete:disabled:hover {\n",
       "    background-color: var(--disabled-bg-color);\n",
       "    fill: var(--disabled-fill-color);\n",
       "    box-shadow: none;\n",
       "  }\n",
       "\n",
       "  .colab-df-spinner {\n",
       "    border: 2px solid var(--fill-color);\n",
       "    border-color: transparent;\n",
       "    border-bottom-color: var(--fill-color);\n",
       "    animation:\n",
       "      spin 1s steps(1) infinite;\n",
       "  }\n",
       "\n",
       "  @keyframes spin {\n",
       "    0% {\n",
       "      border-color: transparent;\n",
       "      border-bottom-color: var(--fill-color);\n",
       "      border-left-color: var(--fill-color);\n",
       "    }\n",
       "    20% {\n",
       "      border-color: transparent;\n",
       "      border-left-color: var(--fill-color);\n",
       "      border-top-color: var(--fill-color);\n",
       "    }\n",
       "    30% {\n",
       "      border-color: transparent;\n",
       "      border-left-color: var(--fill-color);\n",
       "      border-top-color: var(--fill-color);\n",
       "      border-right-color: var(--fill-color);\n",
       "    }\n",
       "    40% {\n",
       "      border-color: transparent;\n",
       "      border-right-color: var(--fill-color);\n",
       "      border-top-color: var(--fill-color);\n",
       "    }\n",
       "    60% {\n",
       "      border-color: transparent;\n",
       "      border-right-color: var(--fill-color);\n",
       "    }\n",
       "    80% {\n",
       "      border-color: transparent;\n",
       "      border-right-color: var(--fill-color);\n",
       "      border-bottom-color: var(--fill-color);\n",
       "    }\n",
       "    90% {\n",
       "      border-color: transparent;\n",
       "      border-bottom-color: var(--fill-color);\n",
       "    }\n",
       "  }\n",
       "</style>\n",
       "\n",
       "  <script>\n",
       "    async function quickchart(key) {\n",
       "      const quickchartButtonEl =\n",
       "        document.querySelector('#' + key + ' button');\n",
       "      quickchartButtonEl.disabled = true;  // To prevent multiple clicks.\n",
       "      quickchartButtonEl.classList.add('colab-df-spinner');\n",
       "      try {\n",
       "        const charts = await google.colab.kernel.invokeFunction(\n",
       "            'suggestCharts', [key], {});\n",
       "      } catch (error) {\n",
       "        console.error('Error during call to suggestCharts:', error);\n",
       "      }\n",
       "      quickchartButtonEl.classList.remove('colab-df-spinner');\n",
       "      quickchartButtonEl.classList.add('colab-df-quickchart-complete');\n",
       "    }\n",
       "    (() => {\n",
       "      let quickchartButtonEl =\n",
       "        document.querySelector('#df-830082b3-5320-49c0-8592-612a90c1311f button');\n",
       "      quickchartButtonEl.style.display =\n",
       "        google.colab.kernel.accessAllowed ? 'block' : 'none';\n",
       "    })();\n",
       "  </script>\n",
       "</div>\n",
       "\n",
       "    </div>\n",
       "  </div>\n"
      ],
      "text/plain": [
       "   Unnamed: 0   created_utc  \\\n",
       "0           0  1.511335e+09   \n",
       "1           1  1.519578e+09   \n",
       "2           2  1.606914e+09   \n",
       "3           3  1.630597e+09   \n",
       "4           4  1.612284e+09   \n",
       "\n",
       "                                               title self_text  subreddit  \n",
       "0                 Help the fight for net neutrality!   no_text          0  \n",
       "1  Author Terry Goodkind shames his own cover, ar...   no_text          0  \n",
       "2  Elliot Page Will Continue to Star in 'Umbrella...   no_text          0  \n",
       "3        The Wheel of Time - Official Teaser Trailer   no_text          0  \n",
       "4  GRRM latest update: \"I wrote hundreds and hund...   no_text          0  "
      ]
     },
     "execution_count": 70,
     "metadata": {},
     "output_type": "execute_result"
    }
   ],
   "source": [
    "sub.head()"
   ]
  }
 ],
 "metadata": {
  "colab": {
   "authorship_tag": "ABX9TyNN3HMZiYmIaqw1RQB9KFRK",
   "provenance": []
  },
  "kernelspec": {
   "display_name": "Python 3 (ipykernel)",
   "language": "python",
   "name": "python3"
  },
  "language_info": {
   "codemirror_mode": {
    "name": "ipython",
    "version": 3
   },
   "file_extension": ".py",
   "mimetype": "text/x-python",
   "name": "python",
   "nbconvert_exporter": "python",
   "pygments_lexer": "ipython3",
   "version": "3.11.5"
  }
 },
 "nbformat": 4,
 "nbformat_minor": 4
}
